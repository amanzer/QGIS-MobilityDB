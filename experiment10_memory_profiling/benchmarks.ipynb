{
 "cells": [
  {
   "cell_type": "markdown",
   "metadata": {},
   "source": [
    "# Current solution uses multiprocessing in Python to create the matrix\n",
    "\n",
    "Here is the list of things to benchmark:\n",
    "\n",
    "- shapely vs wkt \n",
    "- matrix containing qgisGeometry ==> update vlayer using enumerate rather than dict \n"
   ]
  },
  {
   "cell_type": "markdown",
   "metadata": {},
   "source": [
    "# Wkt vs Shapely point \n",
    "To measure : \n",
    ". size in memory of matrix\n",
    ". Time to build matrix \n",
    ". Time for ONF to create the new geometry\n",
    "\n",
    "\n",
    "### Wkt vs Shapely point\n",
    "\n",
    "Does the wkt transformation takes longer than the if checks to see if Point is empty in ONF ? \n",
    "\n",
    "\n",
    "### Matrix with  QgsGeometry\n",
    "\n",
    "This is somewhat cumbersome to implement : requires passing the Pyqgis path to the worker nodes to create the QgsGeometries"
   ]
  },
  {
   "cell_type": "markdown",
   "metadata": {},
   "source": [
    "\n",
    "\n",
    "# ONF Shapely Point and QgsPointXY\n",
    "\n",
    "```python\n",
    "from shapely.geometry import Point\n",
    "import time\n",
    "\n",
    "Timer = 0\n",
    "n = 20000\n",
    "item = Point(0,0)\n",
    "for i in range(n) :        \n",
    "    now = time.time()\n",
    "    x,y = item.x, item.y\n",
    "    geom = QgsGeometry.fromPointXY(QgsPointXY(x,y))\n",
    "    Timer += time.time() - now \n",
    "    \n",
    "print(f\"time over {n} : {Timer} s, average {Timer/n}\")\n",
    "```\n",
    "\n",
    "\n",
    "Using WKT code :\n",
    "\n",
    "```python\n",
    "from shapely.geometry import Point\n",
    "import time\n",
    "\n",
    "Timer = 0\n",
    "n = 20000\n",
    "item = Point(0,0).wkt\n",
    "for i in range(n) :        \n",
    "    now = time.time()\n",
    "    geom = QgsGeometry().fromWkt(item)\n",
    "    Timer += time.time() - now \n",
    "    \n",
    "print(f\"time over {n} : {Timer} s, average {Timer/n}\")\n",
    "\n",
    "```\n",
    "\n",
    "Results \n",
    "\n",
    "QgsPointXY:\n",
    "exec(Path('/tmp/tmp5m0u71g5').read_text())\n",
    "time over 20000 : 0.6315727233886719 s, average 3.1578636169433594e-05\n",
    "\n",
    "Wkt: \n",
    "\n",
    "exec(Path('/tmp/tmp300ld8yj').read_text())\n",
    "time over 20000 : 0.06986188888549805 s, average 3.4930944442749022e-06\n",
    "\n",
    "\n",
    "Advantage for WKT "
   ]
  },
  {
   "cell_type": "markdown",
   "metadata": {},
   "source": [
    "# Matrix Shapely point vs WKT\n",
    "\n",
    "\n",
    "TODO"
   ]
  },
  {
   "cell_type": "markdown",
   "metadata": {},
   "source": [
    "# Removing datetime object update in ONF\n",
    "\n",
    "\n",
    "Using these parameters :\n",
    "\n",
    ". 0.2 % of boats\n",
    ". tdelta size : 60 frames\n",
    ". 150 frames animation\n",
    "\n",
    "\n",
    "\n",
    "Before with single datetime attribute, requiring the update of the datetime at each frame of the temporal controller\n",
    "\n",
    "tt.get_average_fps()\n",
    "60.72075001983026\n",
    "\n",
    "After adding a start-end datetime attribute field removing the attribute update at each ONF call\n",
    "\n",
    "tt.get_average_fps()\n",
    "71.28473220962775\n",
    "\n",
    "\n",
    "TLDR :\n",
    "\n",
    "-A noticeable improvement in ONF time "
   ]
  },
  {
   "cell_type": "markdown",
   "metadata": {},
   "source": [
    "# Time to update geometries for N objects\n",
    "\n",
    "Limit on ONF FPS optimization, how much time would it take to update geometries for x objects with x = [100, 1000, 5000, 10000, 15000, 20000]\n",
    "\n",
    "\n",
    "### Method\n",
    "\n",
    "\n",
    "\n",
    "\n"
   ]
  },
  {
   "cell_type": "markdown",
   "metadata": {},
   "source": []
  },
  {
   "cell_type": "code",
   "execution_count": null,
   "metadata": {},
   "outputs": [],
   "source": []
  },
  {
   "cell_type": "code",
   "execution_count": 7,
   "metadata": {},
   "outputs": [
    {
     "data": {
      "text/plain": [
       "array([   1,    2,    3, ..., 4997, 4998, 4999])"
      ]
     },
     "execution_count": 7,
     "metadata": {},
     "output_type": "execute_result"
    }
   ],
   "source": [
    "import numpy as np\n",
    "\n",
    "array = np.arange(1, 5000)\n",
    "array "
   ]
  },
  {
   "cell_type": "code",
   "execution_count": 11,
   "metadata": {},
   "outputs": [
    {
     "name": "stdout",
     "output_type": "stream",
     "text": [
      "1.57 ms ± 93.1 µs per loop (mean ± std. dev. of 7 runs, 1,000 loops each)\n"
     ]
    }
   ],
   "source": [
    "%%timeit\n",
    "a = [{i : j} for i,j  in enumerate(array)]"
   ]
  },
  {
   "cell_type": "code",
   "execution_count": 12,
   "metadata": {},
   "outputs": [
    {
     "name": "stdout",
     "output_type": "stream",
     "text": [
      "893 µs ± 8.05 µs per loop (mean ± std. dev. of 7 runs, 1,000 loops each)\n"
     ]
    }
   ],
   "source": [
    "%%timeit\n",
    "b = {}\n",
    "for i, j in enumerate(array):\n",
    "    b[i] = j"
   ]
  }
 ],
 "metadata": {
  "kernelspec": {
   "display_name": ".venv",
   "language": "python",
   "name": "python3"
  },
  "language_info": {
   "codemirror_mode": {
    "name": "ipython",
    "version": 3
   },
   "file_extension": ".py",
   "mimetype": "text/x-python",
   "name": "python",
   "nbconvert_exporter": "python",
   "pygments_lexer": "ipython3",
   "version": "3.11.6"
  }
 },
 "nbformat": 4,
 "nbformat_minor": 2
}
