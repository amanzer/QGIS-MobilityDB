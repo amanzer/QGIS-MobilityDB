{
 "cells": [
  {
   "cell_type": "markdown",
   "metadata": {},
   "source": [
    "# Current solution uses multiprocessing in Python to create the matrix\n",
    "\n",
    "Here is the list of things to benchmark:\n",
    "\n",
    "- shapely vs wkt \n",
    "- matrix containing qgisGeometry ==> update vlayer using enumerate rather than dict \n"
   ]
  },
  {
   "cell_type": "markdown",
   "metadata": {},
   "source": [
    "# Wkt vs Shapely point \n",
    "To measure : \n",
    ". size in memory of matrix\n",
    ". Time to build matrix \n",
    ". Time for ONF to create the new geometry\n",
    "\n",
    "\n",
    "### Wkt vs Shapely point\n",
    "\n",
    "Does the wkt transformation takes longer than the if checks to see if Point is empty in ONF ? \n",
    "\n",
    "\n",
    "### Matrix with  QgsGeometry\n",
    "\n",
    "This is somewhat cumbersome to implement : requires passing the Pyqgis path to the worker nodes to create the QgsGeometries"
   ]
  },
  {
   "cell_type": "markdown",
   "metadata": {},
   "source": [
    "\n",
    "\n",
    "# ONF Shapely Point and QgsPointXY\n",
    "\n",
    "```python\n",
    "from shapely.geometry import Point\n",
    "import time\n",
    "\n",
    "Timer = 0\n",
    "n = 20000\n",
    "item = Point(0,0)\n",
    "for i in range(n) :        \n",
    "    now = time.time()\n",
    "    x,y = item.x, item.y\n",
    "    geom = QgsGeometry.fromPointXY(QgsPointXY(x,y))\n",
    "    Timer += time.time() - now \n",
    "    \n",
    "print(f\"time over {n} : {Timer} s, average {Timer/n}\")\n",
    "```\n",
    "\n",
    "\n",
    "Using WKT code :\n",
    "\n",
    "```python\n",
    "from shapely.geometry import Point\n",
    "import time\n",
    "\n",
    "Timer = 0\n",
    "n = 20000\n",
    "item = Point(0,0).wkt\n",
    "for i in range(n) :        \n",
    "    now = time.time()\n",
    "    geom = QgsGeometry().fromWkt(item)\n",
    "    Timer += time.time() - now \n",
    "    \n",
    "print(f\"time over {n} : {Timer} s, average {Timer/n}\")\n",
    "\n",
    "```\n",
    "\n",
    "Results \n",
    "\n",
    "QgsPointXY:\n",
    "exec(Path('/tmp/tmp5m0u71g5').read_text())\n",
    "time over 20000 : 0.6315727233886719 s, average 3.1578636169433594e-05\n",
    "\n",
    "Wkt: \n",
    "\n",
    "exec(Path('/tmp/tmp300ld8yj').read_text())\n",
    "time over 20000 : 0.06986188888549805 s, average 3.4930944442749022e-06\n",
    "\n",
    "\n",
    "Advantage for WKT "
   ]
  },
  {
   "cell_type": "markdown",
   "metadata": {},
   "source": [
    "# Matrix Shapely point vs WKT\n",
    "\n",
    "\n",
    "TODO"
   ]
  },
  {
   "cell_type": "markdown",
   "metadata": {},
   "source": [
    "# Removing datetime object update in ONF\n",
    "\n",
    "\n",
    "Using these parameters :\n",
    "\n",
    ". 0.2 % of boats\n",
    ". tdelta size : 60 frames\n",
    ". 150 frames animation\n",
    "\n",
    "\n",
    "\n",
    "Before with single datetime attribute, requiring the update of the datetime at each frame of the temporal controller\n",
    "\n",
    "tt.get_average_fps()\n",
    "60.72075001983026\n",
    "\n",
    "After adding a start-end datetime attribute field removing the attribute update at each ONF call\n",
    "\n",
    "tt.get_average_fps()\n",
    "71.28473220962775\n",
    "\n",
    "\n",
    "TLDR :\n",
    "\n",
    "-A noticeable improvement in ONF time "
   ]
  },
  {
   "cell_type": "markdown",
   "metadata": {},
   "source": [
    "# ONF FPS for N objects\n",
    "\n",
    "Limit on ONF FPS optimization, how much time would it take to update geometries for x objects with x = [100, 1000, 5000, 10000, 15000, 20000]\n",
    "\n",
    "\n",
    "### Method\n",
    "\n",
    "\n",
    "\n",
    "\n"
   ]
  },
  {
   "cell_type": "markdown",
   "metadata": {},
   "source": []
  },
  {
   "cell_type": "code",
   "execution_count": null,
   "metadata": {},
   "outputs": [],
   "source": [
    "from datetime import datetime\n",
    "import matplotlib.pyplot as plt\n",
    "import time\n",
    "\n",
    "canvas = iface.mapCanvas()\n",
    "temporalController = canvas.temporalController()\n",
    "\n",
    "\n",
    "\n",
    "def create_vlayer(name, num_fields, frames):\n",
    "    task_manager = QgsApplication.taskManager()\n",
    "    vlayer = QgsVectorLayer(\"Point\", name, \"memory\")\n",
    "    pr = vlayer.dataProvider()\n",
    "    pr.addAttributes([QgsField(\"start_time\", QVariant.DateTime), QgsField(\"end_time\", QVariant.DateTime)])\n",
    "    vlayer.updateFields()\n",
    "    tp = vlayer.temporalProperties()\n",
    "    tp.setIsActive(True)\n",
    "    tp.setMode(qgis.core.QgsVectorLayerTemporalProperties.ModeFeatureDateTimeStartAndEndFromFields)\n",
    "    tp.setStartField(\"start_time\")\n",
    "    tp.setEndField(\"end_time\")\n",
    "\n",
    "    now = time.time()\n",
    "    start_datetime_obj = QDateTime(datetime(2023,6,1,0,0,0))\n",
    "    end_datetime_obj = QDateTime(datetime(2023,6,1,23,0,0))\n",
    "    geom = QgsGeometry.fromPointXY(QgsPointXY(1, 1))\n",
    "    fields = vlayer.fields()\n",
    "\n",
    "    # features_list =[]\n",
    "    # for i in range(num_fields):\n",
    "    #     feat = QgsFeature(vlayer.fields())\n",
    "    #     feat.setAttributes([start_datetime_obj, end_datetime_obj])\n",
    "\n",
    "    #     feat.setGeometry(geom)\n",
    "    #     features_list.append(feat)\n",
    "\n",
    "    # Create features list\n",
    "    features_list = [ QgsFeature(fields).setAttributes([start_datetime_obj, end_datetime_obj]).setGeometry(geom) for _ in range(num_fields) ]\n",
    "\n",
    "    QgsProject.instance().addMapLayer(vlayer)\n",
    "    \n",
    "    \n",
    "    vlayer.startEditing()\n",
    "    vlayer.addFeatures(features_list)\n",
    "    vlayer.commitChanges()\n",
    "    iface.vectorLayerTools().stopEditing(vlayer)\n",
    "\n",
    "    TIME_create_features = time.time() - now\n",
    "\n",
    "    current_time_stamp_column = [\"POINT (1 1)\"]*num_fields\n",
    "\n",
    "    fps_record = []\n",
    "    for i in range(frames):\n",
    "        start_time = time.time()    \n",
    "\n",
    "        new_geometries = {}  # Dictionary {feature_id: QgsGeometry}\n",
    "        for j in range(num_fields): #TODO : compare vs Nditer\n",
    "            new_geometries[j] = QgsGeometry.fromWkt(current_time_stamp_column[j])\n",
    "\n",
    "\n",
    "        vlayer.startEditing()\n",
    "        # self.qviz.vlayer.dataProvider().changeAttributeValues(attribute_changes) # Updating attribute values for all features\n",
    "        vlayer.dataProvider().changeGeometryValues(new_geometries) # Updating geometries for all features\n",
    "        vlayer.commitChanges()\n",
    "        iface.vectorLayerTools().stopEditing(vlayer)\n",
    "\n",
    "\n",
    "        end_time = time.time()\n",
    "        fps_record.append(1/(end_time-start_time))\n",
    "\n",
    "    average_fps = sum(fps_record)/len(fps_record)\n",
    "    \n",
    "    return average_fps, TIME_create_features\n",
    "\n",
    "\n",
    "x = [1, 5, 10, 15, 20, 25, 30, 35, 40, 45, 50, 55, 60, 65, 70, 75, 80, 85, 90, 95, 100, 200, 300, 400, 500, 600, 700, 800, 900, 1000, 5000, 10000, 15000, 20000, 25000, 30000, 35000, 40000, 45000, 50000, 100000]\n",
    "\n",
    "\n",
    "frames = 100\n",
    "results = {}\n",
    "for i, x in enumerate(x):\n",
    "    print(f\"Average fps for {x} features over {frames} frames : \")\n",
    "    avg_fps, create_time = create_vlayer(f\"vlayer_{x}\", x, frames)\n",
    "    results[x] = (avg_fps, create_time)\n",
    "    print(f\"{avg_fps} fps\")\n",
    "    print(\"\")\n",
    "\n",
    "print(results)\n",
    "\n",
    "\n",
    "\n",
    "num_objects = list(results.keys())\n",
    "fps_values = [v[0] for v in results.values()]\n",
    "generation_times = [v[1] for v in results.values()]\n",
    "\n",
    "# Plotting\n",
    "plt.figure(figsize=(10, 6))\n",
    "\n",
    "plt.plot(num_objects, fps_values, label='FPS', marker='o')\n",
    "plt.plot(num_objects, generation_times, label='Generation Time (s)', marker='o')\n",
    "\n",
    "plt.xlabel('Number of Objects')\n",
    "plt.ylabel('Values')\n",
    "plt.title('FPS and Generation Time vs Number of Objects')\n",
    "plt.legend()\n",
    "plt.grid(True)\n",
    "\n",
    "plt.show()"
   ]
  },
  {
   "cell_type": "code",
   "execution_count": 16,
   "metadata": {},
   "outputs": [
    {
     "data": {
      "image/png": "[encoded data removed]",
      "text/plain": [
       "<Figure size 1000x600 with 1 Axes>"
      ]
     },
     "metadata": {},
     "output_type": "display_data"
    }
   ],
   "source": [
    "import matplotlib.pyplot as plt\n",
    "\n",
    "num_objects = list(results.keys())\n",
    "fps_values = [v[0] for v in results.values()]\n",
    "generation_times = [v[1] for v in results.values()]\n",
    "\n",
    "# Plotting\n",
    "plt.figure(figsize=(10, 6))\n",
    "\n",
    "plt.plot(num_objects, fps_values, label='FPS', marker='o')\n",
    "plt.plot(num_objects, generation_times, label='Generation Time (s)', marker='o')\n",
    "\n",
    "plt.xlabel('Number of Objects')\n",
    "plt.ylabel('Values')\n",
    "plt.title('FPS and Generation Time vs Number of Objects')\n",
    "plt.legend()\n",
    "plt.grid(True)\n",
    "\n",
    "plt.show()\n"
   ]
  },
  {
   "cell_type": "code",
   "execution_count": 2,
   "metadata": {},
   "outputs": [
    {
     "data": {
      "image/png": "[encoded data removed]",
      "text/plain": [
       "<Figure size 1000x600 with 2 Axes>"
      ]
     },
     "metadata": {},
     "output_type": "display_data"
    }
   ],
   "source": [
    "import matplotlib.pyplot as plt\n",
    "\n",
    "# results1 = {1: (895.5832458699174, 0.008231401443481445), 5: (874.8947350169816, 0.008946418762207031), 10: (861.9517510324698, 0.0067234039306640625), 15: (803.4033510619589, 0.008788347244262695), 20: (826.4461108372362, 0.011795282363891602), 25: (892.2949024381811, 0.012117624282836914), 30: (880.817766568021, 0.010245561599731445), 35: (870.7990479559708, 0.011226654052734375), 40: (856.2405411467754, 0.009530782699584961), 45: (852.171281943518, 0.01001596450805664), 50: (852.4271657097851, 0.01156163215637207), 55: (838.039967717471, 0.012759923934936523), 60: (831.595780199258, 0.0122222900390625), 65: (820.7425999354139, 0.014039039611816406), 70: (813.8101676970061, 0.013093709945678711), 75: (811.8249181952104, 0.012933969497680664), 80: (799.3792770682517, 0.01446986198425293), 85: (788.8950743434195, 0.014393091201782227), 90: (783.6711882756115, 0.017041683197021484), 95: (771.6661333180548, 0.01423501968383789), 100: (761.0693111304771, 0.01479196548461914)}\n",
    "# results2 ={100: (441.6851926149922, 0.02807760238647461), 200: (419.65448893830427, 0.028905630111694336), 300: (408.06818540429015, 0.042719364166259766), 400: (401.04018964273985, 0.05560708045959473), 500: (387.80391563178296, 0.07719802856445312), 600: (362.5535223776417, 0.10336446762084961), 700: (344.51494390683365, 0.13973140716552734), 800: (336.1252336785607, 0.15714693069458008), 900: (319.16115668374533, 0.1921098232269287), 1000: (303.07042293646634, 0.22408413887023926)}\n",
    "# results3 = {5000: (173.79310336775754, 4.458710432052612), 10000: (97.34369737469942, 16.613506317138672), 15000: (71.63895361199617, 37.4998984336853), 20000: (52.126252868439764, 65.75739455223083), 25000: (41.32996647957075, 106.81102228164673), 30000: (32.796557206527396, 149.94286131858826), 35000: (26.769924945136474, 206.16963148117065), 40000: (20.769881932148966, 271.9198348522186)}\n",
    "# results4 = {45000: (21.152451350178843, 333.5160973072052), 50000: (15.779823653917148, 419.4396266937256)}\n",
    "\n",
    "# results = {**results1, **results2, **results3, **results4}\n",
    "\n",
    "\n",
    "results = {1: (756.7142636953172, 6.818771362304688e-05), 5: (752.0861097157176, 3.5762786865234375e-05), 10: (734.9132354218076, 4.696846008300781e-05), 15: (727.8781218207665, 5.364418029785156e-05), 20: (780.570630921476, 6.699562072753906e-05), 25: (780.5667570325951, 7.843971252441406e-05), 30: (771.5408195393601, 8.7738037109375e-05), 35: (757.1901638574137, 8.559226989746094e-05), 40: (754.9551209939114, 0.00013756752014160156), 45: (746.5028062910591, 0.00010895729064941406), 50: (737.5422747017209, 0.00016498565673828125), 55: (723.0280682815153, 0.00011491775512695312), 60: (712.6428130626836, 0.00012969970703125), 65: (693.5795308717555, 0.00014162063598632812), 70: (695.8144345215716, 0.0001437664031982422), 75: (678.8263487015299, 0.00015616416931152344), 80: (660.3990626740696, 0.0002639293670654297), 85: (681.6050077356548, 0.00017642974853515625), 90: (662.8293364225015, 0.000232696533203125), 95: (639.2256790139359, 0.0001838207244873047), 100: (663.5511344044796, 0.0002162456512451172), 200: (636.7081478977428, 0.0003974437713623047), 300: (612.541197654669, 0.0005514621734619141), 400: (539.2367743158001, 0.0007376670837402344), 500: (543.0569581405757, 0.0009522438049316406), 600: (524.5067919926378, 0.0011074542999267578), 700: (501.52365841236576, 0.0014069080352783203), 800: (492.03959829569465, 0.0014514923095703125), 900: (450.6870372011422, 0.002003192901611328), 1000: (451.33616314847063, 0.0021398067474365234), 5000: (206.555131859612, 0.009563922882080078), 10000: (111.96632611732639, 0.020222902297973633), 15000: (74.30399053385449, 0.0458979606628418), 20000: (56.07695762063882, 0.058228254318237305), 25000: (41.67863349244524, 0.06564736366271973), 30000: (35.57793295180229, 0.08289575576782227), 35000: (27.791367130998825, 0.09359288215637207), 40000: (23.40653567488394, 0.12318563461303711), 45000: (19.905702272348964, 0.12233591079711914), 50000: (17.73415509242768, 0.1566476821899414), 100000: (8.120455127727444, 0.3336620330810547)}\n",
    "\n",
    "num_objects = list(results.keys())\n",
    "fps_values = [v[0] for v in results.values()]\n",
    "generation_times = [v[1] for v in results.values()]\n",
    "\n",
    "fig, ax1 = plt.subplots(figsize=(10, 6))\n",
    "\n",
    "# Plotting FPS\n",
    "color = 'tab:blue'\n",
    "ax1.set_xlabel('Number of Objects')\n",
    "ax1.set_ylabel('FPS', color=color)\n",
    "ax1.plot(num_objects, fps_values, label='FPS', color=color, marker='o')\n",
    "ax1.tick_params(axis='y', labelcolor=color)\n",
    "\n",
    "# Creating a second y-axis for the generation time\n",
    "ax2 = ax1.twinx()\n",
    "color = 'tab:red'\n",
    "ax2.set_ylabel('Generation Time (s)', color=color)\n",
    "ax2.plot(num_objects, generation_times, label='Generation Time (s)', color=color, marker='o')\n",
    "ax2.tick_params(axis='y', labelcolor=color)\n",
    "\n",
    "\n",
    "plt.title('FPS and Generation Time vs Number of Objects')\n",
    "fig.tight_layout()\n",
    "plt.legend()\n",
    "plt.grid(True)\n",
    "\n",
    "plt.show()\n",
    "\n",
    "\n",
    "\n",
    "\n"
   ]
  },
  {
   "cell_type": "code",
   "execution_count": 12,
   "metadata": {},
   "outputs": [],
   "source": [
    "# results 1 to 100\n",
    "\n",
    "results1 = {1: (895.5832458699174, 0.008231401443481445), 5: (874.8947350169816, 0.008946418762207031), 10: (861.9517510324698, 0.0067234039306640625), 15: (803.4033510619589, 0.008788347244262695), 20: (826.4461108372362, 0.011795282363891602), 25: (892.2949024381811, 0.012117624282836914), 30: (880.817766568021, 0.010245561599731445), 35: (870.7990479559708, 0.011226654052734375), 40: (856.2405411467754, 0.009530782699584961), 45: (852.171281943518, 0.01001596450805664), 50: (852.4271657097851, 0.01156163215637207), 55: (838.039967717471, 0.012759923934936523), 60: (831.595780199258, 0.0122222900390625), 65: (820.7425999354139, 0.014039039611816406), 70: (813.8101676970061, 0.013093709945678711), 75: (811.8249181952104, 0.012933969497680664), 80: (799.3792770682517, 0.01446986198425293), 85: (788.8950743434195, 0.014393091201782227), 90: (783.6711882756115, 0.017041683197021484), 95: (771.6661333180548, 0.01423501968383789), 100: (761.0693111304771, 0.01479196548461914)}\n",
    "\n"
   ]
  },
  {
   "cell_type": "code",
   "execution_count": 13,
   "metadata": {},
   "outputs": [],
   "source": [
    "# results 100 to 1000\n",
    "results1 = {1: (895.5832458699174, 0.008231401443481445), 5: (874.8947350169816, 0.008946418762207031), 10: (861.9517510324698, 0.0067234039306640625), 15: (803.4033510619589, 0.008788347244262695), 20: (826.4461108372362, 0.011795282363891602), 25: (892.2949024381811, 0.012117624282836914), 30: (880.817766568021, 0.010245561599731445), 35: (870.7990479559708, 0.011226654052734375), 40: (856.2405411467754, 0.009530782699584961), 45: (852.171281943518, 0.01001596450805664), 50: (852.4271657097851, 0.01156163215637207), 55: (838.039967717471, 0.012759923934936523), 60: (831.595780199258, 0.0122222900390625), 65: (820.7425999354139, 0.014039039611816406), 70: (813.8101676970061, 0.013093709945678711), 75: (811.8249181952104, 0.012933969497680664), 80: (799.3792770682517, 0.01446986198425293), 85: (788.8950743434195, 0.014393091201782227), 90: (783.6711882756115, 0.017041683197021484), 95: (771.6661333180548, 0.01423501968383789), 100: (761.0693111304771, 0.01479196548461914)}\n",
    "\n",
    "\n",
    "results2 ={100: (441.6851926149922, 0.02807760238647461), 200: (419.65448893830427, 0.028905630111694336), 300: (408.06818540429015, 0.042719364166259766), 400: (401.04018964273985, 0.05560708045959473), 500: (387.80391563178296, 0.07719802856445312), 600: (362.5535223776417, 0.10336446762084961), 700: (344.51494390683365, 0.13973140716552734), 800: (336.1252336785607, 0.15714693069458008), 900: (319.16115668374533, 0.1921098232269287), 1000: (303.07042293646634, 0.22408413887023926)}\n",
    "results3 = {5000: (173.79310336775754, 4.458710432052612), 10000: (97.34369737469942, 16.613506317138672), 15000: (71.63895361199617, 37.4998984336853), 20000: (52.126252868439764, 65.75739455223083), 25000: (41.32996647957075, 106.81102228164673), 30000: (32.796557206527396, 149.94286131858826), 35000: (26.769924945136474, 206.16963148117065), 40000: (20.769881932148966, 271.9198348522186)}\n",
    "\n",
    "results4 = {45000: (21.152451350178843, 333.5160973072052), 50000: (15.779823653917148, 419.4396266937256), 100000: (7.910946864734796, 1765.4237129688263)}"
   ]
  },
  {
   "cell_type": "code",
   "execution_count": 20,
   "metadata": {},
   "outputs": [],
   "source": [
    "# results for 5000 to 40000\n",
    "results3 = {5000: (173.79310336775754, 4.458710432052612), 10000: (97.34369737469942, 16.613506317138672), 15000: (71.63895361199617, 37.4998984336853), 20000: (52.126252868439764, 65.75739455223083), 25000: (41.32996647957075, 106.81102228164673), 30000: (32.796557206527396, 149.94286131858826), 35000: (26.769924945136474, 206.16963148117065), 40000: (20.769881932148966, 271.9198348522186)}\n",
    "\n",
    "results4 = {45000: (21.152451350178843, 333.5160973072052), 50000: (15.779823653917148, 419.4396266937256), 100000: (7.910946864734796, 1765.4237129688263)}\n",
    "\n",
    "# combine all 3 results dict\n",
    "results = {**results1, **results2}\n",
    "results_high = {**results3, **results4}"
   ]
  },
  {
   "cell_type": "code",
   "execution_count": 7,
   "metadata": {},
   "outputs": [
    {
     "data": {
      "text/plain": [
       "array([   1,    2,    3, ..., 4997, 4998, 4999])"
      ]
     },
     "execution_count": 7,
     "metadata": {},
     "output_type": "execute_result"
    }
   ],
   "source": [
    "import numpy as np\n",
    "\n",
    "array = np.arange(1, 5000)\n",
    "array "
   ]
  },
  {
   "cell_type": "code",
   "execution_count": 11,
   "metadata": {},
   "outputs": [
    {
     "name": "stdout",
     "output_type": "stream",
     "text": [
      "1.57 ms ± 93.1 µs per loop (mean ± std. dev. of 7 runs, 1,000 loops each)\n"
     ]
    }
   ],
   "source": [
    "%%timeit\n",
    "a = [{i : j} for i,j  in enumerate(array)]"
   ]
  },
  {
   "cell_type": "code",
   "execution_count": 12,
   "metadata": {},
   "outputs": [
    {
     "name": "stdout",
     "output_type": "stream",
     "text": [
      "893 µs ± 8.05 µs per loop (mean ± std. dev. of 7 runs, 1,000 loops each)\n"
     ]
    }
   ],
   "source": [
    "%%timeit\n",
    "b = {}\n",
    "for i, j in enumerate(array):\n",
    "    b[i] = j"
   ]
  },
  {
   "cell_type": "code",
   "execution_count": null,
   "metadata": {},
   "outputs": [],
   "source": [
    "# create a class that extends qgsgeometry\n",
    "\n",
    "class MyQgsGeometry(QgsGeometry):\n",
    "    def __init__(self, *args, **kwargs):\n",
    "        super(MyQgsGeometry, self).__init__(*args, **kwargs)\n",
    "        self._timestamp = None\n",
    "\n",
    "    @property\n",
    "    def timestamp(self):\n",
    "        return self._timestamp\n",
    "\n",
    "    @timestamp.setter\n",
    "    def timestamp(self, value):\n",
    "        self._timestamp = value\n",
    "\n",
    "    def __str__(self):\n",
    "        return f\"{self.asWkt()} - {self.timestamp}\""
   ]
  },
  {
   "cell_type": "code",
   "execution_count": null,
   "metadata": {},
   "outputs": [],
   "source": [
    "import pickle\n",
    "a = QgsGeometry()\n",
    "\n",
    "\n",
    "# dump a in a pickle file\n",
    "with open('a.pkl', 'wb') as f:\n",
    "    pickle.dump(a, f)"
   ]
  },
  {
   "cell_type": "code",
   "execution_count": null,
   "metadata": {},
   "outputs": [],
   "source": [
    "vlayer = QgsVectorLayer(\"Point\", \"name\", \"memory\")\n",
    "pr = vlayer.dataProvider()\n",
    "#pr.addAttributes([QgsField(\"start_time\", QVariant.DateTime), QgsField(\"end_time\", QVariant.DateTime)])\n",
    "vlayer.updateFields()\n",
    "tp = vlayer.temporalProperties()\n",
    "tp.setIsActive(True)\n",
    "tp.setMode(qgis.core.QgsVectorLayerTemporalProperties.ModeFeatureDateTimeStartAndEndFromFields)\n",
    "tp.setStartField(\"start_time\")\n",
    "tp.setEndField(\"end_time\")\n",
    "\n",
    "QgsProject.instance().addMapLayer(vlayer)\n",
    "\n",
    "vfields = vlayer.fields()\n",
    "now = time.time()\n",
    "features_list =[ QgsFeature(vfields) for _ in range(num_fields)]\n",
    "\n",
    "vlayer.startEditing()\n",
    "vlayer.addFeatures(features_list)\n",
    "vlayer.commitChanges()\n",
    "iface.vectorLayerTools().stopEditing(vlayer)\n",
    "\n",
    "# start_datetime_obj = QDateTime(datetime(2023,6,1,0,0,0))\n",
    "# end_datetime_obj = QDateTime(datetime(2023,6,1,23,0,0))\n",
    "\n",
    "\n",
    "# for i in range(num_fields):\n",
    "#     feat = QgsFeature().setAttributes([start_datetime_obj, end_datetime_obj])\n",
    "#     # geom = QgsGeometry()\n",
    "#     # feat.setGeometry(geom)\n",
    "#     features_list.append(feat)\n",
    "\n",
    "\n",
    "\n",
    "\n",
    "\n",
    "\n",
    "TIME_create_features = time.time() - now\n",
    "\n",
    "\n"
   ]
  },
  {
   "cell_type": "code",
   "execution_count": null,
   "metadata": {},
   "outputs": [],
   "source": [
    "num_features = 30000\n",
    "\n",
    "now=time.time()\n",
    "\n",
    "feats = [QgsFeature(vlayer.fields()) for _ in range(num_features)]\n",
    "\n",
    "feats = [feat.setAttributes([start_datetime_obj, end_datetime_obj]) for feat in feats]\n",
    "\n",
    "createtime = time.time() - now\n",
    "print(createtime)\n",
    "\n",
    "now2 = time.time()\n",
    "\n",
    "vlayer.startEditing()\n",
    "vlayer.addFeatures(feats)\n",
    "vlayer.commitChanges()\n",
    "iface.vectorLayerTools().stopEditing(vlayer)\n",
    "addtime= time.time() - now2\n",
    "print(f\"add part: {addtime}, total : {createtime + addtime}\")"
   ]
  },
  {
   "cell_type": "code",
   "execution_count": null,
   "metadata": {},
   "outputs": [],
   "source": [
    "from datetime import datetime\n",
    "num_fields = 50000\n",
    "vlayer = QgsVectorLayer(\"Point\", \"name\", \"memory\")\n",
    "pr = vlayer.dataProvider()\n",
    "pr.addAttributes([QgsField(\"start_time\", QVariant.DateTime), QgsField(\"end_time\", QVariant.DateTime)])\n",
    "vlayer.updateFields()\n",
    "tp = vlayer.temporalProperties()\n",
    "tp.setIsActive(True)\n",
    "tp.setMode(qgis.core.QgsVectorLayerTemporalProperties.ModeFeatureDateTimeStartAndEndFromFields)\n",
    "tp.setStartField(\"start_time\")\n",
    "tp.setEndField(\"end_time\")\n",
    "QgsProject.instance().addMapLayer(vlayer)\n",
    "\n",
    "start_datetime_obj = QDateTime(datetime(2023,6,1,0,0,0))\n",
    "end_datetime_obj = QDateTime(datetime(2023,6,1,23,0,0))\n",
    "vfields = vlayer.fields()\n",
    "\n",
    "num_fields = 50000\n",
    "import time\n",
    "times = []\n",
    "rec = []\n",
    "for i in range(num_fields):\n",
    "    now = time.time()\n",
    "    feat = QgsFeature(vfields)\n",
    "    feat.setAttributes([start_datetime_obj, end_datetime_obj])\n",
    "    rec.append(feat)\n",
    "    times.append(time.time() - now)\n",
    "\n",
    "now = time.time()\n",
    "\n",
    "pr.addFeatures(rec)\n",
    "\n",
    "print(time.time() - now)\n"
   ]
  },
  {
   "cell_type": "code",
   "execution_count": null,
   "metadata": {},
   "outputs": [],
   "source": [
    "TIME_create_features = time.time() - now\n",
    "\n",
    "current_time_stamp_column = [\"POINT (1 1)\"]*num_fields\n",
    "\n",
    "fps_record = []\n",
    "for i in range(frames):\n",
    "    start_time = time.time()    \n",
    "    current_time_stamp_column = [\"POINT (1 1)\"]*num_fields\n",
    "    new_geometries = {}  # Dictionary {feature_id: QgsGeometry}\n",
    "    for j in range(num_fields): #TODO : compare vs Nditer\n",
    "        new_geometries[j] = QgsGeometry.fromWkt(current_time_stamp_column[j])\n",
    "\n",
    "\n",
    "    vlayer.startEditing()\n",
    "    # self.qviz.vlayer.dataProvider().changeAttributeValues(attribute_changes) # Updating attribute values for all features\n",
    "    vlayer.dataProvider().changeGeometryValues(new_geometries) # Updating geometries for all features\n",
    "    vlayer.commitChanges()\n",
    "    iface.vectorLayerTools().stopEditing(vlayer)\n",
    "\n",
    "\n",
    "    end_time = time.time()\n",
    "    fps_record.append(1/(end_time-start_time))\n",
    "\n",
    "    average_fps = sum(fps_record)/len(fps_record)"
   ]
  },
  {
   "cell_type": "markdown",
   "metadata": {},
   "source": [
    "# Upper bound for matrix time"
   ]
  },
  {
   "cell_type": "code",
   "execution_count": 1,
   "metadata": {},
   "outputs": [],
   "source": [
    "from pymeos import *\n",
    "pymeos_initialize()"
   ]
  },
  {
   "cell_type": "code",
   "execution_count": null,
   "metadata": {},
   "outputs": [],
   "source": []
  },
  {
   "cell_type": "code",
   "execution_count": 1,
   "metadata": {},
   "outputs": [
    {
     "data": {
      "image/svg+xml": [
       "<svg xmlns=\"http://www.w3.org/2000/svg\" xmlns:xlink=\"http://www.w3.org/1999/xlink\" width=\"100.0\" height=\"100.0\" viewBox=\"-0.08 -0.08 1.1600000000000001 2.16\" preserveAspectRatio=\"xMinYMin meet\"><g transform=\"matrix(1,0,0,-1,0,2.0)\"><polyline fill=\"none\" stroke=\"#66cc99\" stroke-width=\"0.0432\" points=\"0.0,0.0 1.0,1.0 1.0,2.0\" opacity=\"0.8\" /></g></svg>"
      ],
      "text/plain": [
       "<LINESTRING (0 0, 1 1, 1 2)>"
      ]
     },
     "execution_count": 1,
     "metadata": {},
     "output_type": "execute_result"
    }
   ],
   "source": [
    "from shapely.geometry import Point, LineString, Polygon\n",
    "\n",
    "line = LineString([(0, 0), (1, 1), (1, 2)])\n",
    "line"
   ]
  },
  {
   "cell_type": "code",
   "execution_count": 4,
   "metadata": {},
   "outputs": [
    {
     "ename": "AttributeError",
     "evalue": "'LineString' object has no attribute 'encode'",
     "output_type": "error",
     "traceback": [
      "\u001b[0;31m---------------------------------------------------------------------------\u001b[0m",
      "\u001b[0;31mAttributeError\u001b[0m                            Traceback (most recent call last)",
      "\u001b[0;32m/tmp/ipykernel_4822/2235532283.py\u001b[0m in \u001b[0;36m?\u001b[0;34m()\u001b[0m\n\u001b[0;32m----> 1\u001b[0;31m \u001b[0mstart_line\u001b[0m \u001b[0;34m=\u001b[0m \u001b[0mTGeomPointInst\u001b[0m\u001b[0;34m(\u001b[0m\u001b[0mline\u001b[0m\u001b[0;34m,\u001b[0m \u001b[0mtimestamp\u001b[0m\u001b[0;34m=\u001b[0m\u001b[0;34m\"2023-06-01\"\u001b[0m\u001b[0;34m)\u001b[0m\u001b[0;34m\u001b[0m\u001b[0;34m\u001b[0m\u001b[0m\n\u001b[0m",
      "\u001b[0;32m~/.venv/lib/python3.12/site-packages/pymeos/main/tpoint.py\u001b[0m in \u001b[0;36m?\u001b[0;34m(self, string, point, timestamp, srid, _inner)\u001b[0m\n\u001b[1;32m   2058\u001b[0m         \u001b[0mtimestamp\u001b[0m\u001b[0;34m:\u001b[0m \u001b[0mOptional\u001b[0m\u001b[0;34m[\u001b[0m\u001b[0mUnion\u001b[0m\u001b[0;34m[\u001b[0m\u001b[0mstr\u001b[0m\u001b[0;34m,\u001b[0m \u001b[0mdatetime\u001b[0m\u001b[0;34m]\u001b[0m\u001b[0;34m]\u001b[0m \u001b[0;34m=\u001b[0m \u001b[0;32mNone\u001b[0m\u001b[0;34m,\u001b[0m\u001b[0;34m\u001b[0m\u001b[0;34m\u001b[0m\u001b[0m\n\u001b[1;32m   2059\u001b[0m         \u001b[0msrid\u001b[0m\u001b[0;34m:\u001b[0m \u001b[0mOptional\u001b[0m\u001b[0;34m[\u001b[0m\u001b[0mint\u001b[0m\u001b[0;34m]\u001b[0m \u001b[0;34m=\u001b[0m \u001b[0;36m0\u001b[0m\u001b[0;34m,\u001b[0m\u001b[0;34m\u001b[0m\u001b[0;34m\u001b[0m\u001b[0m\n\u001b[1;32m   2060\u001b[0m         \u001b[0m_inner\u001b[0m\u001b[0;34m=\u001b[0m\u001b[0;32mNone\u001b[0m\u001b[0;34m,\u001b[0m\u001b[0;34m\u001b[0m\u001b[0;34m\u001b[0m\u001b[0m\n\u001b[1;32m   2061\u001b[0m     \u001b[0;34m)\u001b[0m \u001b[0;34m->\u001b[0m \u001b[0;32mNone\u001b[0m\u001b[0;34m:\u001b[0m\u001b[0;34m\u001b[0m\u001b[0;34m\u001b[0m\u001b[0m\n\u001b[0;32m-> 2062\u001b[0;31m         \u001b[0msuper\u001b[0m\u001b[0;34m(\u001b[0m\u001b[0;34m)\u001b[0m\u001b[0;34m.\u001b[0m\u001b[0m__init__\u001b[0m\u001b[0;34m(\u001b[0m\u001b[0mstring\u001b[0m\u001b[0;34m=\u001b[0m\u001b[0mstring\u001b[0m\u001b[0;34m,\u001b[0m \u001b[0mvalue\u001b[0m\u001b[0;34m=\u001b[0m\u001b[0mpoint\u001b[0m\u001b[0;34m,\u001b[0m \u001b[0mtimestamp\u001b[0m\u001b[0;34m=\u001b[0m\u001b[0mtimestamp\u001b[0m\u001b[0;34m,\u001b[0m \u001b[0m_inner\u001b[0m\u001b[0;34m=\u001b[0m\u001b[0m_inner\u001b[0m\u001b[0;34m)\u001b[0m\u001b[0;34m\u001b[0m\u001b[0;34m\u001b[0m\u001b[0m\n\u001b[0m\u001b[1;32m   2063\u001b[0m         \u001b[0;32mif\u001b[0m \u001b[0mself\u001b[0m\u001b[0;34m.\u001b[0m\u001b[0m_inner\u001b[0m \u001b[0;32mis\u001b[0m \u001b[0;32mNone\u001b[0m\u001b[0;34m:\u001b[0m\u001b[0;34m\u001b[0m\u001b[0;34m\u001b[0m\u001b[0m\n\u001b[1;32m   2064\u001b[0m             \u001b[0;32mif\u001b[0m \u001b[0misinstance\u001b[0m\u001b[0;34m(\u001b[0m\u001b[0mpoint\u001b[0m\u001b[0;34m,\u001b[0m \u001b[0mtuple\u001b[0m\u001b[0;34m)\u001b[0m\u001b[0;34m:\u001b[0m\u001b[0;34m\u001b[0m\u001b[0;34m\u001b[0m\u001b[0m\n\u001b[1;32m   2065\u001b[0m                 \u001b[0mp\u001b[0m \u001b[0;34m=\u001b[0m \u001b[0;34mf'\u001b[0m\u001b[0;34mPOINT(\u001b[0m\u001b[0;34m{\u001b[0m\u001b[0;34m\" \"\u001b[0m\u001b[0;34m.\u001b[0m\u001b[0mjoin\u001b[0m\u001b[0;34m(\u001b[0m\u001b[0mstr\u001b[0m\u001b[0;34m(\u001b[0m\u001b[0mx\u001b[0m\u001b[0;34m)\u001b[0m \u001b[0;32mfor\u001b[0m \u001b[0mx\u001b[0m \u001b[0;32min\u001b[0m \u001b[0mpoint\u001b[0m\u001b[0;34m)\u001b[0m\u001b[0;34m}\u001b[0m\u001b[0;34m)\u001b[0m\u001b[0;34m'\u001b[0m\u001b[0;34m\u001b[0m\u001b[0;34m\u001b[0m\u001b[0m\n",
      "\u001b[0;32m~/.venv/lib/python3.12/site-packages/pymeos/temporal/tinstant.py\u001b[0m in \u001b[0;36m?\u001b[0;34m(self, string, value, timestamp, _inner)\u001b[0m\n\u001b[1;32m     40\u001b[0m         \u001b[0;34m)\u001b[0m\u001b[0;34m,\u001b[0m \u001b[0;34m\"Either string must be not None or both point and timestamp must be not\"\u001b[0m\u001b[0;34m\u001b[0m\u001b[0;34m\u001b[0m\u001b[0m\n\u001b[1;32m     41\u001b[0m         \u001b[0;32mif\u001b[0m \u001b[0m_inner\u001b[0m \u001b[0;32mis\u001b[0m \u001b[0;32mnot\u001b[0m \u001b[0;32mNone\u001b[0m\u001b[0;34m:\u001b[0m\u001b[0;34m\u001b[0m\u001b[0;34m\u001b[0m\u001b[0m\n\u001b[1;32m     42\u001b[0m             \u001b[0mself\u001b[0m\u001b[0;34m.\u001b[0m\u001b[0m_inner\u001b[0m \u001b[0;34m=\u001b[0m \u001b[0mas_tinstant\u001b[0m\u001b[0;34m(\u001b[0m\u001b[0m_inner\u001b[0m\u001b[0;34m)\u001b[0m\u001b[0;34m\u001b[0m\u001b[0;34m\u001b[0m\u001b[0m\n\u001b[1;32m     43\u001b[0m         \u001b[0;32melif\u001b[0m \u001b[0mstring\u001b[0m \u001b[0;32mis\u001b[0m \u001b[0;32mnot\u001b[0m \u001b[0;32mNone\u001b[0m\u001b[0;34m:\u001b[0m\u001b[0;34m\u001b[0m\u001b[0;34m\u001b[0m\u001b[0m\n\u001b[0;32m---> 44\u001b[0;31m             \u001b[0mself\u001b[0m\u001b[0;34m.\u001b[0m\u001b[0m_inner\u001b[0m \u001b[0;34m=\u001b[0m \u001b[0mas_tinstant\u001b[0m\u001b[0;34m(\u001b[0m\u001b[0mself\u001b[0m\u001b[0;34m.\u001b[0m\u001b[0m__class__\u001b[0m\u001b[0;34m.\u001b[0m\u001b[0m_parse_function\u001b[0m\u001b[0;34m(\u001b[0m\u001b[0mstring\u001b[0m\u001b[0;34m)\u001b[0m\u001b[0;34m)\u001b[0m\u001b[0;34m\u001b[0m\u001b[0;34m\u001b[0m\u001b[0m\n\u001b[0m\u001b[1;32m     45\u001b[0m         \u001b[0;32melse\u001b[0m\u001b[0;34m:\u001b[0m\u001b[0;34m\u001b[0m\u001b[0;34m\u001b[0m\u001b[0m\n\u001b[1;32m     46\u001b[0m             ts = (\n\u001b[1;32m     47\u001b[0m                 \u001b[0mdatetime_to_timestamptz\u001b[0m\u001b[0;34m(\u001b[0m\u001b[0mtimestamp\u001b[0m\u001b[0;34m)\u001b[0m\u001b[0;34m\u001b[0m\u001b[0;34m\u001b[0m\u001b[0m\n",
      "\u001b[0;32m~/.venv/lib/python3.12/site-packages/pymeos_cffi/functions.py\u001b[0m in \u001b[0;36m?\u001b[0;34m(string)\u001b[0m\n\u001b[1;32m   6589\u001b[0m \u001b[0;32mdef\u001b[0m \u001b[0mtgeompoint_in\u001b[0m\u001b[0;34m(\u001b[0m\u001b[0mstring\u001b[0m\u001b[0;34m:\u001b[0m \u001b[0mstr\u001b[0m\u001b[0;34m)\u001b[0m \u001b[0;34m->\u001b[0m \u001b[0;34m\"Temporal *\"\u001b[0m\u001b[0;34m:\u001b[0m\u001b[0;34m\u001b[0m\u001b[0;34m\u001b[0m\u001b[0m\n\u001b[0;32m-> 6590\u001b[0;31m     \u001b[0mstring_converted\u001b[0m \u001b[0;34m=\u001b[0m \u001b[0mstring\u001b[0m\u001b[0;34m.\u001b[0m\u001b[0mencode\u001b[0m\u001b[0;34m(\u001b[0m\u001b[0;34m\"utf-8\"\u001b[0m\u001b[0;34m)\u001b[0m\u001b[0;34m\u001b[0m\u001b[0;34m\u001b[0m\u001b[0m\n\u001b[0m\u001b[1;32m   6591\u001b[0m     \u001b[0mresult\u001b[0m \u001b[0;34m=\u001b[0m \u001b[0m_lib\u001b[0m\u001b[0;34m.\u001b[0m\u001b[0mtgeompoint_in\u001b[0m\u001b[0;34m(\u001b[0m\u001b[0mstring_converted\u001b[0m\u001b[0;34m)\u001b[0m\u001b[0;34m\u001b[0m\u001b[0;34m\u001b[0m\u001b[0m\n\u001b[1;32m   6592\u001b[0m     \u001b[0m_check_error\u001b[0m\u001b[0;34m(\u001b[0m\u001b[0;34m)\u001b[0m\u001b[0;34m\u001b[0m\u001b[0;34m\u001b[0m\u001b[0m\n\u001b[1;32m   6593\u001b[0m     \u001b[0;32mreturn\u001b[0m \u001b[0mresult\u001b[0m \u001b[0;32mif\u001b[0m \u001b[0mresult\u001b[0m \u001b[0;34m!=\u001b[0m \u001b[0m_ffi\u001b[0m\u001b[0;34m.\u001b[0m\u001b[0mNULL\u001b[0m \u001b[0;32melse\u001b[0m \u001b[0;32mNone\u001b[0m\u001b[0;34m\u001b[0m\u001b[0;34m\u001b[0m\u001b[0m\n",
      "\u001b[0;31mAttributeError\u001b[0m: 'LineString' object has no attribute 'encode'"
     ]
    }
   ],
   "source": [
    "start_line = TGeomPointInst(line, timestamp=\"2023-06-01\")"
   ]
  },
  {
   "cell_type": "code",
   "execution_count": 2,
   "metadata": {},
   "outputs": [
    {
     "data": {
      "text/plain": [
       "TGeomPointInst(POINT(0 0)@2023-06-01 00:00:00+02)"
      ]
     },
     "execution_count": 2,
     "metadata": {},
     "output_type": "execute_result"
    }
   ],
   "source": [
    "start_point = TGeomPointInst(point=(0,0), timestamp=\"2023-06-01\")\n",
    "start_point"
   ]
  },
  {
   "cell_type": "code",
   "execution_count": 3,
   "metadata": {},
   "outputs": [
    {
     "data": {
      "text/plain": [
       "TGeomPointInst(POINT(1 1)@2023-06-01 00:59:00+02)"
      ]
     },
     "execution_count": 3,
     "metadata": {},
     "output_type": "execute_result"
    }
   ],
   "source": [
    "end_point = TGeomPointInst(point=(1,1), timestamp=\"2023-06-01 0:59:00\")\n",
    "end_point"
   ]
  },
  {
   "cell_type": "code",
   "execution_count": 6,
   "metadata": {},
   "outputs": [
    {
     "data": {
      "text/plain": [
       "'LINESTRING (0 0, 1 1)'"
      ]
     },
     "execution_count": 6,
     "metadata": {},
     "output_type": "execute_result"
    }
   ],
   "source": [
    "from shapely.geometry import Point, LineString, Polygon\n"
   ]
  },
  {
   "cell_type": "code",
   "execution_count": 25,
   "metadata": {},
   "outputs": [
    {
     "name": "stdout",
     "output_type": "stream",
     "text": [
      "26.5 µs ± 181 ns per loop (mean ± std. dev. of 7 runs, 10,000 loops each)\n"
     ]
    }
   ],
   "source": [
    "%%timeit\n",
    "line = LineString([start_point.values()[0], end_point.values()[0]])\n",
    "line.wkt"
   ]
  },
  {
   "cell_type": "code",
   "execution_count": 22,
   "metadata": {},
   "outputs": [
    {
     "data": {
      "text/plain": [
       "0.0"
      ]
     },
     "execution_count": 22,
     "metadata": {},
     "output_type": "execute_result"
    }
   ],
   "source": [
    "start_point.values()[0].y"
   ]
  },
  {
   "cell_type": "code",
   "execution_count": 26,
   "metadata": {},
   "outputs": [
    {
     "name": "stdout",
     "output_type": "stream",
     "text": [
      "29.3 µs ± 380 ns per loop (mean ± std. dev. of 7 runs, 10,000 loops each)\n"
     ]
    }
   ],
   "source": [
    "%%timeit\n",
    "val = f\"LINESTRING ( {start_point.values()[0].x} {start_point.values()[0].y} , {end_point.values()[0].x} {end_point.values()[0].y} )\"\n",
    "val"
   ]
  },
  {
   "cell_type": "code",
   "execution_count": 23,
   "metadata": {},
   "outputs": [
    {
     "data": {
      "text/plain": [
       "TGeomPointSeq([POINT(0 0)@2023-06-01 00:00:00+02, POINT(1 1)@2023-06-01 00:59:00+02])"
      ]
     },
     "execution_count": 23,
     "metadata": {},
     "output_type": "execute_result"
    }
   ],
   "source": [
    "traj = TGeomPointSeq.from_instants([start_point, end_point], upper_inc=True)\n",
    "traj"
   ]
  },
  {
   "cell_type": "code",
   "execution_count": 1,
   "metadata": {},
   "outputs": [
    {
     "data": {
      "text/plain": [
       "datetime.datetime(2023, 6, 1, 0, 0)"
      ]
     },
     "execution_count": 1,
     "metadata": {},
     "output_type": "execute_result"
    }
   ],
   "source": [
    "from datetime import datetime, timedelta\n",
    "start = datetime(2023,6,1,0,0,0)\n",
    "end = datetime(2023,6,1,23,59,59)\n",
    "start"
   ]
  },
  {
   "cell_type": "code",
   "execution_count": 25,
   "metadata": {},
   "outputs": [
    {
     "data": {
      "text/plain": [
       "TGeomPointSeq({POINT(0 0)@2023-06-01 00:00:00+02, POINT(0.016949152542373 0.016949152542373)@2023-06-01 00:01:00+02, POINT(0.033898305084746 0.033898305084746)@2023-06-01 00:02:00+02, POINT(0.050847457627119 0.050847457627119)@2023-06-01 00:03:00+02, POINT(0.067796610169492 0.067796610169492)@2023-06-01 00:04:00+02, POINT(0.084745762711864 0.084745762711864)@2023-06-01 00:05:00+02, POINT(0.101694915254237 0.101694915254237)@2023-06-01 00:06:00+02, POINT(0.11864406779661 0.11864406779661)@2023-06-01 00:07:00+02, POINT(0.135593220338983 0.135593220338983)@2023-06-01 00:08:00+02, POINT(0.152542372881356 0.152542372881356)@2023-06-01 00:09:00+02, POINT(0.169491525423729 0.169491525423729)@2023-06-01 00:10:00+02, POINT(0.186440677966102 0.186440677966102)@2023-06-01 00:11:00+02, POINT(0.203389830508475 0.203389830508475)@2023-06-01 00:12:00+02, POINT(0.220338983050847 0.220338983050847)@2023-06-01 00:13:00+02, POINT(0.23728813559322 0.23728813559322)@2023-06-01 00:14:00+02, POINT(0.254237288135593 0.254237288135593)@2023-06-01 00:15:00+02, POINT(0.271186440677966 0.271186440677966)@2023-06-01 00:16:00+02, POINT(0.288135593220339 0.288135593220339)@2023-06-01 00:17:00+02, POINT(0.305084745762712 0.305084745762712)@2023-06-01 00:18:00+02, POINT(0.322033898305085 0.322033898305085)@2023-06-01 00:19:00+02, POINT(0.338983050847458 0.338983050847458)@2023-06-01 00:20:00+02, POINT(0.35593220338983 0.35593220338983)@2023-06-01 00:21:00+02, POINT(0.372881355932203 0.372881355932203)@2023-06-01 00:22:00+02, POINT(0.389830508474576 0.389830508474576)@2023-06-01 00:23:00+02, POINT(0.406779661016949 0.406779661016949)@2023-06-01 00:24:00+02, POINT(0.423728813559322 0.423728813559322)@2023-06-01 00:25:00+02, POINT(0.440677966101695 0.440677966101695)@2023-06-01 00:26:00+02, POINT(0.457627118644068 0.457627118644068)@2023-06-01 00:27:00+02, POINT(0.474576271186441 0.474576271186441)@2023-06-01 00:28:00+02, POINT(0.491525423728814 0.491525423728814)@2023-06-01 00:29:00+02, POINT(0.508474576271186 0.508474576271186)@2023-06-01 00:30:00+02, POINT(0.525423728813559 0.525423728813559)@2023-06-01 00:31:00+02, POINT(0.542372881355932 0.542372881355932)@2023-06-01 00:32:00+02, POINT(0.559322033898305 0.559322033898305)@2023-06-01 00:33:00+02, POINT(0.576271186440678 0.576271186440678)@2023-06-01 00:34:00+02, POINT(0.593220338983051 0.593220338983051)@2023-06-01 00:35:00+02, POINT(0.610169491525424 0.610169491525424)@2023-06-01 00:36:00+02, POINT(0.627118644067797 0.627118644067797)@2023-06-01 00:37:00+02, POINT(0.644067796610169 0.644067796610169)@2023-06-01 00:38:00+02, POINT(0.661016949152542 0.661016949152542)@2023-06-01 00:39:00+02, POINT(0.677966101694915 0.677966101694915)@2023-06-01 00:40:00+02, POINT(0.694915254237288 0.694915254237288)@2023-06-01 00:41:00+02, POINT(0.711864406779661 0.711864406779661)@2023-06-01 00:42:00+02, POINT(0.728813559322034 0.728813559322034)@2023-06-01 00:43:00+02, POINT(0.745762711864407 0.745762711864407)@2023-06-01 00:44:00+02, POINT(0.76271186440678 0.76271186440678)@2023-06-01 00:45:00+02, POINT(0.779661016949153 0.779661016949153)@2023-06-01 00:46:00+02, POINT(0.796610169491525 0.796610169491525)@2023-06-01 00:47:00+02, POINT(0.813559322033898 0.813559322033898)@2023-06-01 00:48:00+02, POINT(0.830508474576271 0.830508474576271)@2023-06-01 00:49:00+02, POINT(0.847457627118644 0.847457627118644)@2023-06-01 00:50:00+02, POINT(0.864406779661017 0.864406779661017)@2023-06-01 00:51:00+02, POINT(0.88135593220339 0.88135593220339)@2023-06-01 00:52:00+02, POINT(0.898305084745763 0.898305084745763)@2023-06-01 00:53:00+02, POINT(0.915254237288136 0.915254237288136)@2023-06-01 00:54:00+02, POINT(0.932203389830508 0.932203389830508)@2023-06-01 00:55:00+02, POINT(0.949152542372881 0.949152542372881)@2023-06-01 00:56:00+02, POINT(0.966101694915254 0.966101694915254)@2023-06-01 00:57:00+02, POINT(0.983050847457627 0.983050847457627)@2023-06-01 00:58:00+02, POINT(1 1)@2023-06-01 00:59:00+02})"
      ]
     },
     "execution_count": 25,
     "metadata": {},
     "output_type": "execute_result"
    }
   ],
   "source": [
    "traj_resampled = traj.temporal_sample(start=start,duration= timedelta(minutes=1))\n",
    "traj_resampled                    "
   ]
  },
  {
   "cell_type": "code",
   "execution_count": 26,
   "metadata": {},
   "outputs": [
    {
     "data": {
      "text/plain": [
       "60"
      ]
     },
     "execution_count": 26,
     "metadata": {},
     "output_type": "execute_result"
    }
   ],
   "source": [
    "len(traj_resampled.values())"
   ]
  },
  {
   "cell_type": "code",
   "execution_count": 2,
   "metadata": {},
   "outputs": [
    {
     "data": {
      "text/plain": [
       "array([['POINT EMPTY', 'POINT EMPTY', 'POINT EMPTY', ..., 'POINT EMPTY',\n",
       "        'POINT EMPTY', 'POINT EMPTY'],\n",
       "       ['POINT EMPTY', 'POINT EMPTY', 'POINT EMPTY', ..., 'POINT EMPTY',\n",
       "        'POINT EMPTY', 'POINT EMPTY'],\n",
       "       ['POINT EMPTY', 'POINT EMPTY', 'POINT EMPTY', ..., 'POINT EMPTY',\n",
       "        'POINT EMPTY', 'POINT EMPTY'],\n",
       "       ...,\n",
       "       ['POINT EMPTY', 'POINT EMPTY', 'POINT EMPTY', ..., 'POINT EMPTY',\n",
       "        'POINT EMPTY', 'POINT EMPTY'],\n",
       "       ['POINT EMPTY', 'POINT EMPTY', 'POINT EMPTY', ..., 'POINT EMPTY',\n",
       "        'POINT EMPTY', 'POINT EMPTY'],\n",
       "       ['POINT EMPTY', 'POINT EMPTY', 'POINT EMPTY', ..., 'POINT EMPTY',\n",
       "        'POINT EMPTY', 'POINT EMPTY']], dtype=object)"
      ]
     },
     "execution_count": 2,
     "metadata": {},
     "output_type": "execute_result"
    }
   ],
   "source": [
    "import numpy as np\n",
    "\n",
    "empty_point_wkt = \"POINT EMPTY\"\n",
    "\n",
    "matrix = np.full((100, 100), empty_point_wkt, dtype=object)\n",
    "matrix"
   ]
  },
  {
   "cell_type": "code",
   "execution_count": 3,
   "metadata": {},
   "outputs": [],
   "source": [
    "index = 4 \n",
    "remainder = 5 - index\n",
    "\n",
    "\n",
    "b = matrix[:, 0:index]"
   ]
  },
  {
   "cell_type": "code",
   "execution_count": 4,
   "metadata": {},
   "outputs": [
    {
     "data": {
      "text/plain": [
       "array([['POINT EMPTY', 'POINT EMPTY', 'POINT EMPTY', ..., 'POINT EMPTY',\n",
       "        'POINT EMPTY', 'POINT EMPTY'],\n",
       "       ['POINT EMPTY', 'POINT EMPTY', 'POINT EMPTY', ..., 'POINT EMPTY',\n",
       "        'POINT EMPTY', 'POINT EMPTY'],\n",
       "       ['POINT EMPTY', 'POINT EMPTY', 'POINT EMPTY', ..., 'POINT EMPTY',\n",
       "        'POINT EMPTY', 'POINT EMPTY'],\n",
       "       ...,\n",
       "       ['POINT EMPTY', 'POINT EMPTY', 'POINT EMPTY', ..., 'POINT EMPTY',\n",
       "        'POINT EMPTY', 'POINT EMPTY'],\n",
       "       ['POINT EMPTY', 'POINT EMPTY', 'POINT EMPTY', ..., 'POINT EMPTY',\n",
       "        'POINT EMPTY', 'POINT EMPTY'],\n",
       "       ['POINT EMPTY', 'POINT EMPTY', 'POINT EMPTY', ..., 'POINT EMPTY',\n",
       "        'POINT EMPTY', 'POINT EMPTY']], dtype=object)"
      ]
     },
     "execution_count": 4,
     "metadata": {},
     "output_type": "execute_result"
    }
   ],
   "source": [
    "matrix2 = np.full((100, 100), empty_point_wkt, dtype=object)\n",
    "matrix2"
   ]
  },
  {
   "cell_type": "code",
   "execution_count": 5,
   "metadata": {},
   "outputs": [],
   "source": [
    "a = matrix2[:, (100-remainder):100] "
   ]
  },
  {
   "cell_type": "code",
   "execution_count": 9,
   "metadata": {},
   "outputs": [
    {
     "data": {
      "text/plain": [
       "array([['POINT EMPTY', 'POINT EMPTY', 'POINT EMPTY', 'POINT EMPTY',\n",
       "        'POINT EMPTY'],\n",
       "       ['POINT EMPTY', 'POINT EMPTY', 'POINT EMPTY', 'POINT EMPTY',\n",
       "        'POINT EMPTY'],\n",
       "       ['POINT EMPTY', 'POINT EMPTY', 'POINT EMPTY', 'POINT EMPTY',\n",
       "        'POINT EMPTY'],\n",
       "       ['POINT EMPTY', 'POINT EMPTY', 'POINT EMPTY', 'POINT EMPTY',\n",
       "        'POINT EMPTY'],\n",
       "       ['POINT EMPTY', 'POINT EMPTY', 'POINT EMPTY', 'POINT EMPTY',\n",
       "        'POINT EMPTY'],\n",
       "       ['POINT EMPTY', 'POINT EMPTY', 'POINT EMPTY', 'POINT EMPTY',\n",
       "        'POINT EMPTY'],\n",
       "       ['POINT EMPTY', 'POINT EMPTY', 'POINT EMPTY', 'POINT EMPTY',\n",
       "        'POINT EMPTY'],\n",
       "       ['POINT EMPTY', 'POINT EMPTY', 'POINT EMPTY', 'POINT EMPTY',\n",
       "        'POINT EMPTY'],\n",
       "       ['POINT EMPTY', 'POINT EMPTY', 'POINT EMPTY', 'POINT EMPTY',\n",
       "        'POINT EMPTY'],\n",
       "       ['POINT EMPTY', 'POINT EMPTY', 'POINT EMPTY', 'POINT EMPTY',\n",
       "        'POINT EMPTY'],\n",
       "       ['POINT EMPTY', 'POINT EMPTY', 'POINT EMPTY', 'POINT EMPTY',\n",
       "        'POINT EMPTY'],\n",
       "       ['POINT EMPTY', 'POINT EMPTY', 'POINT EMPTY', 'POINT EMPTY',\n",
       "        'POINT EMPTY'],\n",
       "       ['POINT EMPTY', 'POINT EMPTY', 'POINT EMPTY', 'POINT EMPTY',\n",
       "        'POINT EMPTY'],\n",
       "       ['POINT EMPTY', 'POINT EMPTY', 'POINT EMPTY', 'POINT EMPTY',\n",
       "        'POINT EMPTY'],\n",
       "       ['POINT EMPTY', 'POINT EMPTY', 'POINT EMPTY', 'POINT EMPTY',\n",
       "        'POINT EMPTY'],\n",
       "       ['POINT EMPTY', 'POINT EMPTY', 'POINT EMPTY', 'POINT EMPTY',\n",
       "        'POINT EMPTY'],\n",
       "       ['POINT EMPTY', 'POINT EMPTY', 'POINT EMPTY', 'POINT EMPTY',\n",
       "        'POINT EMPTY'],\n",
       "       ['POINT EMPTY', 'POINT EMPTY', 'POINT EMPTY', 'POINT EMPTY',\n",
       "        'POINT EMPTY'],\n",
       "       ['POINT EMPTY', 'POINT EMPTY', 'POINT EMPTY', 'POINT EMPTY',\n",
       "        'POINT EMPTY'],\n",
       "       ['POINT EMPTY', 'POINT EMPTY', 'POINT EMPTY', 'POINT EMPTY',\n",
       "        'POINT EMPTY'],\n",
       "       ['POINT EMPTY', 'POINT EMPTY', 'POINT EMPTY', 'POINT EMPTY',\n",
       "        'POINT EMPTY'],\n",
       "       ['POINT EMPTY', 'POINT EMPTY', 'POINT EMPTY', 'POINT EMPTY',\n",
       "        'POINT EMPTY'],\n",
       "       ['POINT EMPTY', 'POINT EMPTY', 'POINT EMPTY', 'POINT EMPTY',\n",
       "        'POINT EMPTY'],\n",
       "       ['POINT EMPTY', 'POINT EMPTY', 'POINT EMPTY', 'POINT EMPTY',\n",
       "        'POINT EMPTY'],\n",
       "       ['POINT EMPTY', 'POINT EMPTY', 'POINT EMPTY', 'POINT EMPTY',\n",
       "        'POINT EMPTY'],\n",
       "       ['POINT EMPTY', 'POINT EMPTY', 'POINT EMPTY', 'POINT EMPTY',\n",
       "        'POINT EMPTY'],\n",
       "       ['POINT EMPTY', 'POINT EMPTY', 'POINT EMPTY', 'POINT EMPTY',\n",
       "        'POINT EMPTY'],\n",
       "       ['POINT EMPTY', 'POINT EMPTY', 'POINT EMPTY', 'POINT EMPTY',\n",
       "        'POINT EMPTY'],\n",
       "       ['POINT EMPTY', 'POINT EMPTY', 'POINT EMPTY', 'POINT EMPTY',\n",
       "        'POINT EMPTY'],\n",
       "       ['POINT EMPTY', 'POINT EMPTY', 'POINT EMPTY', 'POINT EMPTY',\n",
       "        'POINT EMPTY'],\n",
       "       ['POINT EMPTY', 'POINT EMPTY', 'POINT EMPTY', 'POINT EMPTY',\n",
       "        'POINT EMPTY'],\n",
       "       ['POINT EMPTY', 'POINT EMPTY', 'POINT EMPTY', 'POINT EMPTY',\n",
       "        'POINT EMPTY'],\n",
       "       ['POINT EMPTY', 'POINT EMPTY', 'POINT EMPTY', 'POINT EMPTY',\n",
       "        'POINT EMPTY'],\n",
       "       ['POINT EMPTY', 'POINT EMPTY', 'POINT EMPTY', 'POINT EMPTY',\n",
       "        'POINT EMPTY'],\n",
       "       ['POINT EMPTY', 'POINT EMPTY', 'POINT EMPTY', 'POINT EMPTY',\n",
       "        'POINT EMPTY'],\n",
       "       ['POINT EMPTY', 'POINT EMPTY', 'POINT EMPTY', 'POINT EMPTY',\n",
       "        'POINT EMPTY'],\n",
       "       ['POINT EMPTY', 'POINT EMPTY', 'POINT EMPTY', 'POINT EMPTY',\n",
       "        'POINT EMPTY'],\n",
       "       ['POINT EMPTY', 'POINT EMPTY', 'POINT EMPTY', 'POINT EMPTY',\n",
       "        'POINT EMPTY'],\n",
       "       ['POINT EMPTY', 'POINT EMPTY', 'POINT EMPTY', 'POINT EMPTY',\n",
       "        'POINT EMPTY'],\n",
       "       ['POINT EMPTY', 'POINT EMPTY', 'POINT EMPTY', 'POINT EMPTY',\n",
       "        'POINT EMPTY'],\n",
       "       ['POINT EMPTY', 'POINT EMPTY', 'POINT EMPTY', 'POINT EMPTY',\n",
       "        'POINT EMPTY'],\n",
       "       ['POINT EMPTY', 'POINT EMPTY', 'POINT EMPTY', 'POINT EMPTY',\n",
       "        'POINT EMPTY'],\n",
       "       ['POINT EMPTY', 'POINT EMPTY', 'POINT EMPTY', 'POINT EMPTY',\n",
       "        'POINT EMPTY'],\n",
       "       ['POINT EMPTY', 'POINT EMPTY', 'POINT EMPTY', 'POINT EMPTY',\n",
       "        'POINT EMPTY'],\n",
       "       ['POINT EMPTY', 'POINT EMPTY', 'POINT EMPTY', 'POINT EMPTY',\n",
       "        'POINT EMPTY'],\n",
       "       ['POINT EMPTY', 'POINT EMPTY', 'POINT EMPTY', 'POINT EMPTY',\n",
       "        'POINT EMPTY'],\n",
       "       ['POINT EMPTY', 'POINT EMPTY', 'POINT EMPTY', 'POINT EMPTY',\n",
       "        'POINT EMPTY'],\n",
       "       ['POINT EMPTY', 'POINT EMPTY', 'POINT EMPTY', 'POINT EMPTY',\n",
       "        'POINT EMPTY'],\n",
       "       ['POINT EMPTY', 'POINT EMPTY', 'POINT EMPTY', 'POINT EMPTY',\n",
       "        'POINT EMPTY'],\n",
       "       ['POINT EMPTY', 'POINT EMPTY', 'POINT EMPTY', 'POINT EMPTY',\n",
       "        'POINT EMPTY'],\n",
       "       ['POINT EMPTY', 'POINT EMPTY', 'POINT EMPTY', 'POINT EMPTY',\n",
       "        'POINT EMPTY'],\n",
       "       ['POINT EMPTY', 'POINT EMPTY', 'POINT EMPTY', 'POINT EMPTY',\n",
       "        'POINT EMPTY'],\n",
       "       ['POINT EMPTY', 'POINT EMPTY', 'POINT EMPTY', 'POINT EMPTY',\n",
       "        'POINT EMPTY'],\n",
       "       ['POINT EMPTY', 'POINT EMPTY', 'POINT EMPTY', 'POINT EMPTY',\n",
       "        'POINT EMPTY'],\n",
       "       ['POINT EMPTY', 'POINT EMPTY', 'POINT EMPTY', 'POINT EMPTY',\n",
       "        'POINT EMPTY'],\n",
       "       ['POINT EMPTY', 'POINT EMPTY', 'POINT EMPTY', 'POINT EMPTY',\n",
       "        'POINT EMPTY'],\n",
       "       ['POINT EMPTY', 'POINT EMPTY', 'POINT EMPTY', 'POINT EMPTY',\n",
       "        'POINT EMPTY'],\n",
       "       ['POINT EMPTY', 'POINT EMPTY', 'POINT EMPTY', 'POINT EMPTY',\n",
       "        'POINT EMPTY'],\n",
       "       ['POINT EMPTY', 'POINT EMPTY', 'POINT EMPTY', 'POINT EMPTY',\n",
       "        'POINT EMPTY'],\n",
       "       ['POINT EMPTY', 'POINT EMPTY', 'POINT EMPTY', 'POINT EMPTY',\n",
       "        'POINT EMPTY'],\n",
       "       ['POINT EMPTY', 'POINT EMPTY', 'POINT EMPTY', 'POINT EMPTY',\n",
       "        'POINT EMPTY'],\n",
       "       ['POINT EMPTY', 'POINT EMPTY', 'POINT EMPTY', 'POINT EMPTY',\n",
       "        'POINT EMPTY'],\n",
       "       ['POINT EMPTY', 'POINT EMPTY', 'POINT EMPTY', 'POINT EMPTY',\n",
       "        'POINT EMPTY'],\n",
       "       ['POINT EMPTY', 'POINT EMPTY', 'POINT EMPTY', 'POINT EMPTY',\n",
       "        'POINT EMPTY'],\n",
       "       ['POINT EMPTY', 'POINT EMPTY', 'POINT EMPTY', 'POINT EMPTY',\n",
       "        'POINT EMPTY'],\n",
       "       ['POINT EMPTY', 'POINT EMPTY', 'POINT EMPTY', 'POINT EMPTY',\n",
       "        'POINT EMPTY'],\n",
       "       ['POINT EMPTY', 'POINT EMPTY', 'POINT EMPTY', 'POINT EMPTY',\n",
       "        'POINT EMPTY'],\n",
       "       ['POINT EMPTY', 'POINT EMPTY', 'POINT EMPTY', 'POINT EMPTY',\n",
       "        'POINT EMPTY'],\n",
       "       ['POINT EMPTY', 'POINT EMPTY', 'POINT EMPTY', 'POINT EMPTY',\n",
       "        'POINT EMPTY'],\n",
       "       ['POINT EMPTY', 'POINT EMPTY', 'POINT EMPTY', 'POINT EMPTY',\n",
       "        'POINT EMPTY'],\n",
       "       ['POINT EMPTY', 'POINT EMPTY', 'POINT EMPTY', 'POINT EMPTY',\n",
       "        'POINT EMPTY'],\n",
       "       ['POINT EMPTY', 'POINT EMPTY', 'POINT EMPTY', 'POINT EMPTY',\n",
       "        'POINT EMPTY'],\n",
       "       ['POINT EMPTY', 'POINT EMPTY', 'POINT EMPTY', 'POINT EMPTY',\n",
       "        'POINT EMPTY'],\n",
       "       ['POINT EMPTY', 'POINT EMPTY', 'POINT EMPTY', 'POINT EMPTY',\n",
       "        'POINT EMPTY'],\n",
       "       ['POINT EMPTY', 'POINT EMPTY', 'POINT EMPTY', 'POINT EMPTY',\n",
       "        'POINT EMPTY'],\n",
       "       ['POINT EMPTY', 'POINT EMPTY', 'POINT EMPTY', 'POINT EMPTY',\n",
       "        'POINT EMPTY'],\n",
       "       ['POINT EMPTY', 'POINT EMPTY', 'POINT EMPTY', 'POINT EMPTY',\n",
       "        'POINT EMPTY'],\n",
       "       ['POINT EMPTY', 'POINT EMPTY', 'POINT EMPTY', 'POINT EMPTY',\n",
       "        'POINT EMPTY'],\n",
       "       ['POINT EMPTY', 'POINT EMPTY', 'POINT EMPTY', 'POINT EMPTY',\n",
       "        'POINT EMPTY'],\n",
       "       ['POINT EMPTY', 'POINT EMPTY', 'POINT EMPTY', 'POINT EMPTY',\n",
       "        'POINT EMPTY'],\n",
       "       ['POINT EMPTY', 'POINT EMPTY', 'POINT EMPTY', 'POINT EMPTY',\n",
       "        'POINT EMPTY'],\n",
       "       ['POINT EMPTY', 'POINT EMPTY', 'POINT EMPTY', 'POINT EMPTY',\n",
       "        'POINT EMPTY'],\n",
       "       ['POINT EMPTY', 'POINT EMPTY', 'POINT EMPTY', 'POINT EMPTY',\n",
       "        'POINT EMPTY'],\n",
       "       ['POINT EMPTY', 'POINT EMPTY', 'POINT EMPTY', 'POINT EMPTY',\n",
       "        'POINT EMPTY'],\n",
       "       ['POINT EMPTY', 'POINT EMPTY', 'POINT EMPTY', 'POINT EMPTY',\n",
       "        'POINT EMPTY'],\n",
       "       ['POINT EMPTY', 'POINT EMPTY', 'POINT EMPTY', 'POINT EMPTY',\n",
       "        'POINT EMPTY'],\n",
       "       ['POINT EMPTY', 'POINT EMPTY', 'POINT EMPTY', 'POINT EMPTY',\n",
       "        'POINT EMPTY'],\n",
       "       ['POINT EMPTY', 'POINT EMPTY', 'POINT EMPTY', 'POINT EMPTY',\n",
       "        'POINT EMPTY'],\n",
       "       ['POINT EMPTY', 'POINT EMPTY', 'POINT EMPTY', 'POINT EMPTY',\n",
       "        'POINT EMPTY'],\n",
       "       ['POINT EMPTY', 'POINT EMPTY', 'POINT EMPTY', 'POINT EMPTY',\n",
       "        'POINT EMPTY'],\n",
       "       ['POINT EMPTY', 'POINT EMPTY', 'POINT EMPTY', 'POINT EMPTY',\n",
       "        'POINT EMPTY'],\n",
       "       ['POINT EMPTY', 'POINT EMPTY', 'POINT EMPTY', 'POINT EMPTY',\n",
       "        'POINT EMPTY'],\n",
       "       ['POINT EMPTY', 'POINT EMPTY', 'POINT EMPTY', 'POINT EMPTY',\n",
       "        'POINT EMPTY'],\n",
       "       ['POINT EMPTY', 'POINT EMPTY', 'POINT EMPTY', 'POINT EMPTY',\n",
       "        'POINT EMPTY'],\n",
       "       ['POINT EMPTY', 'POINT EMPTY', 'POINT EMPTY', 'POINT EMPTY',\n",
       "        'POINT EMPTY'],\n",
       "       ['POINT EMPTY', 'POINT EMPTY', 'POINT EMPTY', 'POINT EMPTY',\n",
       "        'POINT EMPTY'],\n",
       "       ['POINT EMPTY', 'POINT EMPTY', 'POINT EMPTY', 'POINT EMPTY',\n",
       "        'POINT EMPTY'],\n",
       "       ['POINT EMPTY', 'POINT EMPTY', 'POINT EMPTY', 'POINT EMPTY',\n",
       "        'POINT EMPTY'],\n",
       "       ['POINT EMPTY', 'POINT EMPTY', 'POINT EMPTY', 'POINT EMPTY',\n",
       "        'POINT EMPTY'],\n",
       "       ['POINT EMPTY', 'POINT EMPTY', 'POINT EMPTY', 'POINT EMPTY',\n",
       "        'POINT EMPTY']], dtype=object)"
      ]
     },
     "execution_count": 9,
     "metadata": {},
     "output_type": "execute_result"
    }
   ],
   "source": [
    "\n",
    "combined_matrix = np.concatenate((a, b), axis=1)\n",
    "combined_matrix"
   ]
  },
  {
   "cell_type": "code",
   "execution_count": 17,
   "metadata": {},
   "outputs": [
    {
     "data": {
      "text/plain": [
       "['POINT EMPTY', 'POINT EMPTY', 'POINT EMPTY', 'POINT EMPTY', 'POINT EMPTY']"
      ]
     },
     "execution_count": 17,
     "metadata": {},
     "output_type": "execute_result"
    }
   ],
   "source": [
    "list(combined_matrix[0])"
   ]
  },
  {
   "cell_type": "code",
   "execution_count": 18,
   "metadata": {},
   "outputs": [
    {
     "ename": "ValueError",
     "evalue": "could not convert string to float: 'P'",
     "output_type": "error",
     "traceback": [
      "\u001b[0;31m---------------------------------------------------------------------------\u001b[0m",
      "\u001b[0;31mValueError\u001b[0m                                Traceback (most recent call last)",
      "Cell \u001b[0;32mIn[18], line 1\u001b[0m\n\u001b[0;32m----> 1\u001b[0m \u001b[43mLineString\u001b[49m\u001b[43m(\u001b[49m\u001b[43m[\u001b[49m\u001b[38;5;124;43m'\u001b[39;49m\u001b[38;5;124;43mPOINT EMPTY\u001b[39;49m\u001b[38;5;124;43m'\u001b[39;49m\u001b[43m,\u001b[49m\u001b[43m \u001b[49m\u001b[38;5;124;43m'\u001b[39;49m\u001b[38;5;124;43mPOINT EMPTY\u001b[39;49m\u001b[38;5;124;43m'\u001b[39;49m\u001b[43m,\u001b[49m\u001b[43m \u001b[49m\u001b[38;5;124;43m'\u001b[39;49m\u001b[38;5;124;43mPOINT EMPTY\u001b[39;49m\u001b[38;5;124;43m'\u001b[39;49m\u001b[43m,\u001b[49m\u001b[43m \u001b[49m\u001b[38;5;124;43m'\u001b[39;49m\u001b[38;5;124;43mPOINT EMPTY\u001b[39;49m\u001b[38;5;124;43m'\u001b[39;49m\u001b[43m,\u001b[49m\u001b[43m \u001b[49m\u001b[38;5;124;43m'\u001b[39;49m\u001b[38;5;124;43mPOINT EMPTY\u001b[39;49m\u001b[38;5;124;43m'\u001b[39;49m\u001b[43m]\u001b[49m\u001b[43m)\u001b[49m\n",
      "File \u001b[0;32m~/.venv/lib/python3.12/site-packages/shapely/geometry/linestring.py:66\u001b[0m, in \u001b[0;36mLineString.__new__\u001b[0;34m(self, coordinates)\u001b[0m\n\u001b[1;32m     63\u001b[0m             \u001b[38;5;28;01melse\u001b[39;00m:\n\u001b[1;32m     64\u001b[0m                 \u001b[38;5;28;01mreturn\u001b[39;00m [\u001b[38;5;28mfloat\u001b[39m(c) \u001b[38;5;28;01mfor\u001b[39;00m c \u001b[38;5;129;01min\u001b[39;00m o]\n\u001b[0;32m---> 66\u001b[0m         coordinates \u001b[38;5;241m=\u001b[39m [\u001b[43m_coords\u001b[49m\u001b[43m(\u001b[49m\u001b[43mo\u001b[49m\u001b[43m)\u001b[49m \u001b[38;5;28;01mfor\u001b[39;00m o \u001b[38;5;129;01min\u001b[39;00m coordinates]\n\u001b[1;32m     68\u001b[0m \u001b[38;5;28;01mif\u001b[39;00m \u001b[38;5;28mlen\u001b[39m(coordinates) \u001b[38;5;241m==\u001b[39m \u001b[38;5;241m0\u001b[39m:\n\u001b[1;32m     69\u001b[0m     \u001b[38;5;66;03m# empty geometry\u001b[39;00m\n\u001b[1;32m     70\u001b[0m     \u001b[38;5;66;03m# TODO better constructor + should shapely.linestrings handle this?\u001b[39;00m\n\u001b[1;32m     71\u001b[0m     \u001b[38;5;28;01mreturn\u001b[39;00m shapely\u001b[38;5;241m.\u001b[39mfrom_wkt(\u001b[38;5;124m\"\u001b[39m\u001b[38;5;124mLINESTRING EMPTY\u001b[39m\u001b[38;5;124m\"\u001b[39m)\n",
      "File \u001b[0;32m~/.venv/lib/python3.12/site-packages/shapely/geometry/linestring.py:64\u001b[0m, in \u001b[0;36mLineString.__new__.<locals>._coords\u001b[0;34m(o)\u001b[0m\n\u001b[1;32m     62\u001b[0m     \u001b[38;5;28;01mreturn\u001b[39;00m o\u001b[38;5;241m.\u001b[39mcoords[\u001b[38;5;241m0\u001b[39m]\n\u001b[1;32m     63\u001b[0m \u001b[38;5;28;01melse\u001b[39;00m:\n\u001b[0;32m---> 64\u001b[0m     \u001b[38;5;28;01mreturn\u001b[39;00m [\u001b[38;5;28;43mfloat\u001b[39;49m\u001b[43m(\u001b[49m\u001b[43mc\u001b[49m\u001b[43m)\u001b[49m \u001b[38;5;28;01mfor\u001b[39;00m c \u001b[38;5;129;01min\u001b[39;00m o]\n",
      "\u001b[0;31mValueError\u001b[0m: could not convert string to float: 'P'"
     ]
    }
   ],
   "source": [
    "LineString(['POINT EMPTY', 'POINT EMPTY', 'POINT EMPTY', 'POINT EMPTY', 'POINT EMPTY'])"
   ]
  }
 ],
 "metadata": {
  "kernelspec": {
   "display_name": ".venv",
   "language": "python",
   "name": "python3"
  },
  "language_info": {
   "codemirror_mode": {
    "name": "ipython",
    "version": 3
   },
   "file_extension": ".py",
   "mimetype": "text/x-python",
   "name": "python",
   "nbconvert_exporter": "python",
   "pygments_lexer": "ipython3",
   "version": "3.12.2"
  }
 },
 "nbformat": 4,
 "nbformat_minor": 2
}
