{
 "cells": [
  {
   "cell_type": "markdown",
   "metadata": {},
   "source": [
    "# Debugging for external process run by Subprocess"
   ]
  },
  {
   "cell_type": "code",
   "execution_count": 2,
   "metadata": {},
   "outputs": [],
   "source": [
    "from pymeos.db.psycopg import MobilityDB\n",
    "from pymeos import *\n",
    "from datetime import datetime, timedelta\n",
    "import time\n",
    "from collections import deque\n",
    "from pympler import asizeof\n",
    "import gc\n",
    "from enum import Enum\n",
    "import numpy as np\n",
    "from shapely.geometry import Point\n",
    "import math\n",
    "import subprocess\n",
    "import shutil\n",
    "import os\n",
    "import sys\n",
    "\n",
    "DIRECTORY_PATH = os.getcwd()\n",
    "MATRIX_DIRECTORY_PATH = f'{DIRECTORY_PATH}/matrices'\n",
    "\n",
    "# AIS Danish maritime dataset\n",
    "DATABASE_NAME = \"mobilitydb\"\n",
    "TPOINT_TABLE_NAME = \"processed_data\"\n",
    "TPOINT_ID_COLUMN_NAME = \"MMSI\"\n",
    "TPOINT_COLUMN_NAME = \"traj\"\n",
    "\n",
    "\n",
    "class Database_connector:\n",
    "    \"\"\"\n",
    "    Singleton class used to connect to the MobilityDB database.\n",
    "    \"\"\"\n",
    "    \n",
    "    def __init__(self):\n",
    "        try: \n",
    "            connection_params = {\n",
    "            \"host\": \"localhost\",\n",
    "            \"port\": 5432,\n",
    "            \"dbname\": DATABASE_NAME,\n",
    "            \"user\": \"postgres\",\n",
    "            \"password\": \"postgres\"\n",
    "            }\n",
    "            self.table_name = TPOINT_TABLE_NAME\n",
    "            self.id_column_name = TPOINT_ID_COLUMN_NAME\n",
    "            self.tpoint_column_name = TPOINT_COLUMN_NAME                  \n",
    "            self.connection = MobilityDB.connect(**connection_params)\n",
    "\n",
    "            self.cursor = self.connection.cursor()\n",
    "\n",
    "            self.cursor.execute(f\"SELECT {self.id_column_name} FROM public.{self.table_name};\")\n",
    "            self.ids_list = self.cursor.fetchall()\n",
    "            self.ids_list = self.ids_list[:int(len(self.ids_list)*PERCENTAGE_OF_OBJECTS)]\n",
    "        except Exception as e:\n",
    "            pass\n",
    "\n",
    "  \n",
    "    def get_subset_of_tpoints(self, pstart, pend, xmin, ymin, xmax, ymax):\n",
    "        \"\"\"\n",
    "        For each object in the ids_list :\n",
    "            Fetch the subset of the associated Tpoints between the start and end timestamps\n",
    "            contained in the STBOX defined by the xmin, ymin, xmax, ymax.\n",
    "        \"\"\"\n",
    "        try:\n",
    "           \n",
    "            ids_list = [ f\"'{id[0]}'\"  for id in self.ids_list]\n",
    "            ids_str = ', '.join(map(str, ids_list))\n",
    "          \n",
    "            query = f\"\"\"\n",
    "                    SELECT \n",
    "                        atStbox(\n",
    "                            a.{self.tpoint_column_name}::tgeompoint,\n",
    "                            stbox(\n",
    "                                ST_MakeEnvelope(\n",
    "                                    {xmin}, {ymin}, -- xmin, ymin\n",
    "                                    {xmax}, {ymax}, -- xmax, ymax\n",
    "                                    4326 -- SRID\n",
    "                                ),\n",
    "                                tstzspan('[{pstart}, {pend}]')\n",
    "                            )\n",
    "                        )\n",
    "                    FROM public.{self.table_name} as a \n",
    "                    WHERE a.{self.id_column_name} in ({ids_str})\n",
    "                        AND a.{self.tpoint_column_name} IS NOT NULL;\n",
    "                    \"\"\"\n",
    "            self.cursor.execute(query)\n",
    "            rows = self.cursor.fetchall()\n",
    "            return rows\n",
    "        except Exception as e:\n",
    "            self.log(e)\n",
    "\n",
    "\n",
    "    def get_min_timestamp(self):\n",
    "        \"\"\"\n",
    "        Returns the min timestamp of the tpoints columns.\n",
    "\n",
    "        \"\"\"\n",
    "        try:\n",
    "            \n",
    "            self.cursor.execute(f\"SELECT MIN(startTimestamp({self.tpoint_column_name})) AS earliest_timestamp FROM public.{self.table_name};\")\n",
    "            return self.cursor.fetchone()[0]\n",
    "        except Exception as e:\n",
    "            pass\n",
    "\n",
    "    def get_max_timestamp(self):\n",
    "        \"\"\"\n",
    "        Returns the max timestamp of the tpoints columns.\n",
    "\n",
    "        \"\"\"\n",
    "        try:\n",
    "            self.cursor.execute(f\"SELECT MAX(endTimestamp({self.tpoint_column_name})) AS latest_timestamp FROM public.{self.table_name};\")\n",
    "            return self.cursor.fetchone()[0]\n",
    "        except Exception as e:\n",
    "            pass\n",
    "\n",
    "\n",
    "    def close(self):\n",
    "        \"\"\"\n",
    "        Close the connection to the MobilityDB database.\n",
    "        \"\"\"\n",
    "        self.cursor.close()\n",
    "        self.connection.close()\n",
    "\n",
    "\n",
    "\n",
    "\n",
    "FPS_DEQUEUE_SIZE = 5 # Length of the dequeue to calculate the average FPS\n",
    "TIME_DELTA_DEQUEUE_SIZE =  10 # Length of the dequeue to keep the keys to keep in the buffer\n",
    "\n",
    "\n",
    "PERCENTAGE_OF_OBJECTS = 1 # To not overload the memory, we only take a percentage of the ships in the database\n",
    "TIME_DELTA_SIZE = 240 # Number of frames associated to one Time delta\n",
    "GRANULARITY = timedelta(minutes=1) # Time delta between two frames\n",
    "SRID = 4326\n",
    "FPS = 60\n",
    "\n",
    "\n",
    "\n",
    "  "
   ]
  },
  {
   "cell_type": "code",
   "execution_count": 3,
   "metadata": {},
   "outputs": [],
   "source": [
    "db = Database_connector()\n",
    "\n",
    "start_date = db.get_min_timestamp()\n",
    "end_date = db.get_max_timestamp()\n",
    "total_frames = math.ceil( (end_date - start_date) // GRANULARITY )\n",
    "\n",
    "timestamps = [start_date + i * GRANULARITY for i in range(total_frames)]\n",
    "timestamps = [dt.replace(tzinfo=None) for dt in timestamps]\n",
    "timestamps_strings = [dt.strftime('%Y-%m-%d %H:%M:%S') for dt in timestamps]"
   ]
  },
  {
   "cell_type": "code",
   "execution_count": 4,
   "metadata": {},
   "outputs": [],
   "source": [
    "x_min = -180\n",
    "y_min = -90\n",
    "x_max = 180\n",
    "y_max = 90\n",
    "\n",
    "start_frame= 0\n",
    "end_frame = 479\n",
    "\n",
    "arguments = [start_frame, end_frame, PERCENTAGE_OF_OBJECTS, x_min, y_min, x_max, y_max]\n",
    "arguments = [str(arg) for arg in arguments]\n",
    "arguments += [timestamps_strings[0]  , str(len(timestamps)), \"MINUTE\", MATRIX_DIRECTORY_PATH, DATABASE_NAME, TPOINT_TABLE_NAME, TPOINT_ID_COLUMN_NAME, TPOINT_COLUMN_NAME]\n",
    "            "
   ]
  },
  {
   "cell_type": "code",
   "execution_count": 5,
   "metadata": {},
   "outputs": [
    {
     "data": {
      "text/plain": [
       "['0',\n",
       " '59',\n",
       " '1',\n",
       " '-180',\n",
       " '-90',\n",
       " '180',\n",
       " '90',\n",
       " '2023-06-01 00:00:00',\n",
       " '1440',\n",
       " 'SECOND',\n",
       " '/home/ali/matrices/60_1',\n",
       " 'mobilitydb',\n",
       " 'processed_data',\n",
       " 'MMSI',\n",
       " 'traj']"
      ]
     },
     "execution_count": 5,
     "metadata": {},
     "output_type": "execute_result"
    }
   ],
   "source": [
    "arguments = ['0', '59', '1', '-180', '-90', '180', '90', '2023-06-01 00:00:00', '1440', 'SECOND', '/home/ali/matrices/60_1', 'mobilitydb', 'processed_data', 'MMSI', 'traj']\n",
    "arguments"
   ]
  },
  {
   "cell_type": "code",
   "execution_count": 6,
   "metadata": {},
   "outputs": [],
   "source": [
    "# Command to execute Program B\n",
    "command = ['/usr/bin/python3', '/home/ali/QGIS-MobilityDB/experiment8_subprocess/matrix_file_processed.py', *arguments]\n",
    "result = subprocess.run(command, capture_output=True, text=True)"
   ]
  },
  {
   "cell_type": "code",
   "execution_count": 7,
   "metadata": {},
   "outputs": [
    {
     "data": {
      "text/plain": [
       "CompletedProcess(args=['/usr/bin/python3', '/home/ali/QGIS-MobilityDB/experiment8_subprocess/matrix_file_processed.py', '0', '59', '1', '-180', '-90', '180', '90', '2023-06-01 00:00:00', '1440', 'SECOND', '/home/ali/matrices/60_1', 'mobilitydb', 'processed_data', 'MMSI', 'traj'], returncode=0, stdout='================================================================     Matrix 0 created in 0.1654651165008545 seconds, 4.963953495025635 frames for 30 fps animation.\\n', stderr='')"
      ]
     },
     "execution_count": 7,
     "metadata": {},
     "output_type": "execute_result"
    }
   ],
   "source": [
    "result"
   ]
  },
  {
   "cell_type": "code",
   "execution_count": 9,
   "metadata": {},
   "outputs": [],
   "source": [
    "loaded_matrix = np.load(f\"/home/ali/matrices/matrix_{0}.npy\", allow_pickle=True)"
   ]
  },
  {
   "cell_type": "code",
   "execution_count": 11,
   "metadata": {},
   "outputs": [
    {
     "data": {
      "text/plain": [
       "1595"
      ]
     },
     "execution_count": 11,
     "metadata": {},
     "output_type": "execute_result"
    }
   ],
   "source": [
    "np.count_nonzero(loaded_matrix != 'POINT EMPTY')"
   ]
  }
 ],
 "metadata": {
  "kernelspec": {
   "display_name": ".venv",
   "language": "python",
   "name": "python3"
  },
  "language_info": {
   "codemirror_mode": {
    "name": "ipython",
    "version": 3
   },
   "file_extension": ".py",
   "mimetype": "text/x-python",
   "name": "python",
   "nbconvert_exporter": "python",
   "pygments_lexer": "ipython3",
   "version": "3.12.2"
  }
 },
 "nbformat": 4,
 "nbformat_minor": 2
}
