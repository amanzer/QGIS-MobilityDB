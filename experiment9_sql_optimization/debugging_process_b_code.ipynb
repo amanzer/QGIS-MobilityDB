{
 "cells": [
  {
   "cell_type": "markdown",
   "metadata": {},
   "source": [
    "# Debugging for external process run by Subprocess"
   ]
  },
  {
   "cell_type": "code",
   "execution_count": 1,
   "metadata": {},
   "outputs": [],
   "source": [
    "from pymeos.db.psycopg import MobilityDB\n",
    "from pymeos import *\n",
    "from datetime import datetime, timedelta\n",
    "import time\n",
    "from collections import deque\n",
    "from pympler import asizeof\n",
    "import gc\n",
    "from enum import Enum\n",
    "import numpy as np\n",
    "from shapely.geometry import Point\n",
    "import math\n",
    "import subprocess\n",
    "import shutil\n",
    "import os\n",
    "import sys\n",
    "\n",
    "DIRECTORY_PATH = os.getcwd()\n",
    "MATRIX_DIRECTORY_PATH = f'{DIRECTORY_PATH}/matrices'\n",
    "\n",
    "# AIS Danish maritime dataset\n",
    "DATABASE_NAME = \"mobilitydb\"\n",
    "TPOINT_TABLE_NAME = \"processed_data\"\n",
    "TPOINT_ID_COLUMN_NAME = \"MMSI\"\n",
    "TPOINT_COLUMN_NAME = \"traj\"\n",
    "\n",
    "\n",
    "class Database_connector:\n",
    "    \"\"\"\n",
    "    Singleton class used to connect to the MobilityDB database.\n",
    "    \"\"\"\n",
    "    \n",
    "    def __init__(self):\n",
    "        try: \n",
    "            connection_params = {\n",
    "            \"host\": \"localhost\",\n",
    "            \"port\": 5432,\n",
    "            \"dbname\": DATABASE_NAME,\n",
    "            \"user\": \"postgres\",\n",
    "            \"password\": \"postgres\"\n",
    "            }\n",
    "            self.table_name = TPOINT_TABLE_NAME\n",
    "            self.id_column_name = TPOINT_ID_COLUMN_NAME\n",
    "            self.tpoint_column_name = TPOINT_COLUMN_NAME                  \n",
    "            self.connection = MobilityDB.connect(**connection_params)\n",
    "\n",
    "            self.cursor = self.connection.cursor()\n",
    "\n",
    "            self.cursor.execute(f\"SELECT {self.id_column_name} FROM public.{self.table_name};\")\n",
    "            self.ids_list = self.cursor.fetchall()\n",
    "            self.ids_list = self.ids_list[:int(len(self.ids_list)*PERCENTAGE_OF_OBJECTS)]\n",
    "        except Exception as e:\n",
    "            pass\n",
    "\n",
    "  \n",
    "    def get_subset_of_tpoints(self, pstart, pend, xmin, ymin, xmax, ymax):\n",
    "        \"\"\"\n",
    "        For each object in the ids_list :\n",
    "            Fetch the subset of the associated Tpoints between the start and end timestamps\n",
    "            contained in the STBOX defined by the xmin, ymin, xmax, ymax.\n",
    "        \"\"\"\n",
    "        try:\n",
    "           \n",
    "            ids_list = [ f\"'{id[0]}'\"  for id in self.ids_list]\n",
    "            ids_str = ', '.join(map(str, ids_list))\n",
    "          \n",
    "            query = f\"\"\"\n",
    "                    SELECT \n",
    "                        atStbox(\n",
    "                            a.{self.tpoint_column_name}::tgeompoint,\n",
    "                            stbox(\n",
    "                                ST_MakeEnvelope(\n",
    "                                    {xmin}, {ymin}, -- xmin, ymin\n",
    "                                    {xmax}, {ymax}, -- xmax, ymax\n",
    "                                    4326 -- SRID\n",
    "                                ),\n",
    "                                tstzspan('[{pstart}, {pend}]')\n",
    "                            )\n",
    "                        )\n",
    "                    FROM public.{self.table_name} as a \n",
    "                    WHERE a.{self.id_column_name} in ({ids_str})\n",
    "                        AND a.{self.tpoint_column_name} IS NOT NULL;\n",
    "                    \"\"\"\n",
    "            self.cursor.execute(query)\n",
    "            rows = self.cursor.fetchall()\n",
    "            return rows\n",
    "        except Exception as e:\n",
    "            self.log(e)\n",
    "\n",
    "\n",
    "    def get_min_timestamp(self):\n",
    "        \"\"\"\n",
    "        Returns the min timestamp of the tpoints columns.\n",
    "\n",
    "        \"\"\"\n",
    "        try:\n",
    "            \n",
    "            self.cursor.execute(f\"SELECT MIN(startTimestamp({self.tpoint_column_name})) AS earliest_timestamp FROM public.{self.table_name};\")\n",
    "            return self.cursor.fetchone()[0]\n",
    "        except Exception as e:\n",
    "            pass\n",
    "\n",
    "    def get_max_timestamp(self):\n",
    "        \"\"\"\n",
    "        Returns the max timestamp of the tpoints columns.\n",
    "\n",
    "        \"\"\"\n",
    "        try:\n",
    "            self.cursor.execute(f\"SELECT MAX(endTimestamp({self.tpoint_column_name})) AS latest_timestamp FROM public.{self.table_name};\")\n",
    "            return self.cursor.fetchone()[0]\n",
    "        except Exception as e:\n",
    "            pass\n",
    "\n",
    "\n",
    "    def close(self):\n",
    "        \"\"\"\n",
    "        Close the connection to the MobilityDB database.\n",
    "        \"\"\"\n",
    "        self.cursor.close()\n",
    "        self.connection.close()\n",
    "\n",
    "\n",
    "\n",
    "\n",
    "FPS_DEQUEUE_SIZE = 5 # Length of the dequeue to calculate the average FPS\n",
    "TIME_DELTA_DEQUEUE_SIZE =  10 # Length of the dequeue to keep the keys to keep in the buffer\n",
    "\n",
    "\n",
    "PERCENTAGE_OF_OBJECTS = 1 # To not overload the memory, we only take a percentage of the ships in the database\n",
    "TIME_DELTA_SIZE = 240 # Number of frames associated to one Time delta\n",
    "GRANULARITY = timedelta(minutes=1) # Time delta between two frames\n",
    "SRID = 4326\n",
    "FPS = 60\n",
    "\n",
    "\n",
    "\n",
    "  "
   ]
  },
  {
   "cell_type": "code",
   "execution_count": 2,
   "metadata": {},
   "outputs": [
    {
     "ename": "TypeError",
     "evalue": "unsupported operand type(s) for -: 'NoneType' and 'NoneType'",
     "output_type": "error",
     "traceback": [
      "\u001b[0;31m---------------------------------------------------------------------------\u001b[0m",
      "\u001b[0;31mTypeError\u001b[0m                                 Traceback (most recent call last)",
      "Cell \u001b[0;32mIn[2], line 5\u001b[0m\n\u001b[1;32m      3\u001b[0m start_date \u001b[38;5;241m=\u001b[39m db\u001b[38;5;241m.\u001b[39mget_min_timestamp()\n\u001b[1;32m      4\u001b[0m end_date \u001b[38;5;241m=\u001b[39m db\u001b[38;5;241m.\u001b[39mget_max_timestamp()\n\u001b[0;32m----> 5\u001b[0m total_frames \u001b[38;5;241m=\u001b[39m math\u001b[38;5;241m.\u001b[39mceil( (\u001b[43mend_date\u001b[49m\u001b[43m \u001b[49m\u001b[38;5;241;43m-\u001b[39;49m\u001b[43m \u001b[49m\u001b[43mstart_date\u001b[49m) \u001b[38;5;241m/\u001b[39m\u001b[38;5;241m/\u001b[39m GRANULARITY )\n\u001b[1;32m      7\u001b[0m timestamps \u001b[38;5;241m=\u001b[39m [start_date \u001b[38;5;241m+\u001b[39m i \u001b[38;5;241m*\u001b[39m GRANULARITY \u001b[38;5;28;01mfor\u001b[39;00m i \u001b[38;5;129;01min\u001b[39;00m \u001b[38;5;28mrange\u001b[39m(total_frames)]\n\u001b[1;32m      8\u001b[0m timestamps \u001b[38;5;241m=\u001b[39m [dt\u001b[38;5;241m.\u001b[39mreplace(tzinfo\u001b[38;5;241m=\u001b[39m\u001b[38;5;28;01mNone\u001b[39;00m) \u001b[38;5;28;01mfor\u001b[39;00m dt \u001b[38;5;129;01min\u001b[39;00m timestamps]\n",
      "\u001b[0;31mTypeError\u001b[0m: unsupported operand type(s) for -: 'NoneType' and 'NoneType'"
     ]
    }
   ],
   "source": [
    "db = Database_connector()\n",
    "\n",
    "start_date = db.get_min_timestamp()\n",
    "end_date = db.get_max_timestamp()\n",
    "total_frames = math.ceil( (end_date - start_date) // GRANULARITY )\n",
    "\n",
    "timestamps = [start_date + i * GRANULARITY for i in range(total_frames)]\n",
    "timestamps = [dt.replace(tzinfo=None) for dt in timestamps]\n",
    "timestamps_strings = [dt.strftime('%Y-%m-%d %H:%M:%S') for dt in timestamps]"
   ]
  },
  {
   "cell_type": "code",
   "execution_count": 4,
   "metadata": {},
   "outputs": [],
   "source": [
    "x_min = -180\n",
    "y_min = -90\n",
    "x_max = 180\n",
    "y_max = 90\n",
    "\n",
    "start_frame= 0\n",
    "end_frame = 479\n",
    "\n",
    "arguments = [start_frame, end_frame, PERCENTAGE_OF_OBJECTS, x_min, y_min, x_max, y_max]\n",
    "arguments = [str(arg) for arg in arguments]\n",
    "arguments += [timestamps_strings[0]  , str(len(timestamps)), \"MINUTE\", MATRIX_DIRECTORY_PATH, DATABASE_NAME, TPOINT_TABLE_NAME, TPOINT_ID_COLUMN_NAME, TPOINT_COLUMN_NAME]\n",
    "            "
   ]
  },
  {
   "cell_type": "code",
   "execution_count": 22,
   "metadata": {},
   "outputs": [
    {
     "data": {
      "text/plain": [
       "['0',\n",
       " '9',\n",
       " '0.1',\n",
       " '-180',\n",
       " '-90',\n",
       " '180',\n",
       " '90',\n",
       " '2023-06-01 00:00:00',\n",
       " '86399',\n",
       " 'SECOND',\n",
       " '/home/ali/matrices/10_0.1',\n",
       " 'mobilitydb',\n",
       " 'processed_data',\n",
       " 'MMSI',\n",
       " 'traj']"
      ]
     },
     "execution_count": 22,
     "metadata": {},
     "output_type": "execute_result"
    }
   ],
   "source": [
    "arguments = ['0', '9', '0.1', '-180', '-90', '180', '90', '2023-06-01 00:00:00', '86399', 'SECOND', '/home/ali/matrices/10_0.1', 'mobilitydb', 'processed_data', 'MMSI', 'traj']\n",
    "arguments"
   ]
  },
  {
   "cell_type": "code",
   "execution_count": 4,
   "metadata": {},
   "outputs": [],
   "source": [
    "# Command to execute Program B\n",
    "command = ['/usr/bin/python3', '/home/ali/QGIS-MobilityDB/experiment9_sql_optimization/generate_matrix_before_optimization.py', *arguments]\n",
    "result = subprocess.run(command, capture_output=True, text=True)"
   ]
  },
  {
   "cell_type": "code",
   "execution_count": 5,
   "metadata": {},
   "outputs": [
    {
     "data": {
      "text/plain": [
       "CompletedProcess(args=['/usr/bin/python3', '/home/ali/QGIS-MobilityDB/experiment9_sql_optimization/generate_matrix_before_optimization.py', '0', '9', '0.1', '-180', '-90', '180', '90', '2023-06-01 00:00:00', '86399', 'SECOND', '/home/ali/matrices/10_0.1', 'mobilitydb', 'processed_data', 'MMSI', 'traj'], returncode=0, stdout='', stderr='')"
      ]
     },
     "execution_count": 5,
     "metadata": {},
     "output_type": "execute_result"
    }
   ],
   "source": [
    "result"
   ]
  },
  {
   "cell_type": "code",
   "execution_count": 6,
   "metadata": {},
   "outputs": [
    {
     "ename": "FileNotFoundError",
     "evalue": "[Errno 2] No such file or directory: '/home/ali/matrices/matrix_0.npy'",
     "output_type": "error",
     "traceback": [
      "\u001b[0;31m---------------------------------------------------------------------------\u001b[0m",
      "\u001b[0;31mFileNotFoundError\u001b[0m                         Traceback (most recent call last)",
      "Cell \u001b[0;32mIn[6], line 1\u001b[0m\n\u001b[0;32m----> 1\u001b[0m loaded_matrix \u001b[38;5;241m=\u001b[39m \u001b[43mnp\u001b[49m\u001b[38;5;241;43m.\u001b[39;49m\u001b[43mload\u001b[49m\u001b[43m(\u001b[49m\u001b[38;5;124;43mf\u001b[39;49m\u001b[38;5;124;43m\"\u001b[39;49m\u001b[38;5;124;43m/home/ali/matrices/matrix_\u001b[39;49m\u001b[38;5;132;43;01m{\u001b[39;49;00m\u001b[38;5;241;43m0\u001b[39;49m\u001b[38;5;132;43;01m}\u001b[39;49;00m\u001b[38;5;124;43m.npy\u001b[39;49m\u001b[38;5;124;43m\"\u001b[39;49m\u001b[43m,\u001b[49m\u001b[43m \u001b[49m\u001b[43mallow_pickle\u001b[49m\u001b[38;5;241;43m=\u001b[39;49m\u001b[38;5;28;43;01mTrue\u001b[39;49;00m\u001b[43m)\u001b[49m\n",
      "File \u001b[0;32m~/.venv/lib/python3.11/site-packages/numpy/lib/npyio.py:427\u001b[0m, in \u001b[0;36mload\u001b[0;34m(file, mmap_mode, allow_pickle, fix_imports, encoding, max_header_size)\u001b[0m\n\u001b[1;32m    425\u001b[0m     own_fid \u001b[38;5;241m=\u001b[39m \u001b[38;5;28;01mFalse\u001b[39;00m\n\u001b[1;32m    426\u001b[0m \u001b[38;5;28;01melse\u001b[39;00m:\n\u001b[0;32m--> 427\u001b[0m     fid \u001b[38;5;241m=\u001b[39m stack\u001b[38;5;241m.\u001b[39menter_context(\u001b[38;5;28;43mopen\u001b[39;49m\u001b[43m(\u001b[49m\u001b[43mos_fspath\u001b[49m\u001b[43m(\u001b[49m\u001b[43mfile\u001b[49m\u001b[43m)\u001b[49m\u001b[43m,\u001b[49m\u001b[43m \u001b[49m\u001b[38;5;124;43m\"\u001b[39;49m\u001b[38;5;124;43mrb\u001b[39;49m\u001b[38;5;124;43m\"\u001b[39;49m\u001b[43m)\u001b[49m)\n\u001b[1;32m    428\u001b[0m     own_fid \u001b[38;5;241m=\u001b[39m \u001b[38;5;28;01mTrue\u001b[39;00m\n\u001b[1;32m    430\u001b[0m \u001b[38;5;66;03m# Code to distinguish from NumPy binary files and pickles.\u001b[39;00m\n",
      "\u001b[0;31mFileNotFoundError\u001b[0m: [Errno 2] No such file or directory: '/home/ali/matrices/matrix_0.npy'"
     ]
    }
   ],
   "source": [
    "loaded_matrix = np.load(f\"/home/ali/matrices/matrix_{0}.npy\", allow_pickle=True)"
   ]
  },
  {
   "cell_type": "code",
   "execution_count": 11,
   "metadata": {},
   "outputs": [
    {
     "data": {
      "text/plain": [
       "1595"
      ]
     },
     "execution_count": 11,
     "metadata": {},
     "output_type": "execute_result"
    }
   ],
   "source": [
    "np.count_nonzero(loaded_matrix != 'POINT EMPTY')"
   ]
  },
  {
   "cell_type": "code",
   "execution_count": null,
   "metadata": {},
   "outputs": [],
   "source": []
  },
  {
   "cell_type": "code",
   "execution_count": 1,
   "metadata": {},
   "outputs": [
    {
     "data": {
      "text/plain": [
       "['60',\n",
       " '119',\n",
       " '0.1',\n",
       " '-180',\n",
       " '-90',\n",
       " '180',\n",
       " '90',\n",
       " '2023-06-01 00:00:00',\n",
       " '86399',\n",
       " 'SECOND',\n",
       " '/home/ali/matrices/10_0.1',\n",
       " 'mobilitydb',\n",
       " 'pymeos_demo',\n",
       " 'MMSI',\n",
       " 'trajectory']"
      ]
     },
     "execution_count": 1,
     "metadata": {},
     "output_type": "execute_result"
    }
   ],
   "source": [
    "arguments = ['60', '119', '0.1', '-180', '-90', '180', '90', '2023-06-01 00:00:00', '86399', 'SECOND', '/home/ali/matrices/10_0.1', 'mobilitydb', 'pymeos_demo', 'MMSI', 'trajectory']\n",
    "arguments\n",
    "\n",
    "120 - 180"
   ]
  },
  {
   "cell_type": "code",
   "execution_count": 2,
   "metadata": {},
   "outputs": [],
   "source": [
    "\"\"\"\n",
    "\n",
    "File used to create the matrices for the time deltas between the begin_frame and end_frame.\n",
    "\n",
    "The matrices are saved in the /home/ali/matrices/ folder.\n",
    "\n",
    "\n",
    "            # arguments :[ \n",
    "            # 0: begin_frame, \n",
    "            # 1: end_frame, \n",
    "            # 2: PERCENTAGE_OF_OBJECTS, \n",
    "            # 3: x_min, 4: y_min, 5: x_max, 6: y_max, \n",
    "            # 7: start_timestamp, \n",
    "            # 8: total_frames, \n",
    "            # 9: granularity, \n",
    "            # 10: matrix_directory_path, \n",
    "            # 11: database_name, \n",
    "            # 12: table_name, \n",
    "            # 13: id_column_name, \n",
    "            # 14: tpoint_column_name]\n",
    "\n",
    "To measure the size of matrices folder : du -sh --block-size=MB matrices            \n",
    "\n",
    "\"\"\"\n",
    "\n",
    "import numpy as np\n",
    "from shapely.geometry import Point\n",
    "from pymeos.db.psycopg import MobilityDB\n",
    "\n",
    "from pymeos import *\n",
    "import os\n",
    "import sys\n",
    "from datetime import timedelta, datetime\n",
    "from pymeos import *\n",
    "import time\n",
    "\n",
    "logs = \"\"\n",
    "now = time.time()\n",
    "\n",
    "\n",
    "args = arguments\n",
    "logs += f\"Args: {args}\\n\"\n",
    "begin_frame = int(args[0])\n",
    "end_frame = int(args[1])\n",
    "TIME_DELTA_SIZE = end_frame - begin_frame + 1\n",
    "PERCENTAGE_OF_OBJECTS = float(args[2])\n",
    "\n",
    "\n",
    "SRID = 4326\n",
    "\n",
    "\n",
    "DATABASE_NAME = args[11]\n",
    "TPOINT_TABLE_NAME = args[12]\n",
    "TPOINT_ID_COLUMN_NAME = args[13]\n",
    "TPOINT_COLUMN_NAME = args[14]\n",
    "\n",
    "\n",
    "\n",
    "class Database_connector:\n",
    "    \"\"\"\n",
    "    Singleton class used to connect to the MobilityDB database.\n",
    "    \"\"\"\n",
    "    \n",
    "    def __init__(self):\n",
    "        try: \n",
    "            connection_params = {\n",
    "            \"host\": \"localhost\",\n",
    "            \"port\": 5432,\n",
    "            \"dbname\": DATABASE_NAME,\n",
    "            \"user\": \"postgres\",\n",
    "            \"password\": \"postgres\"\n",
    "            }\n",
    "            self.table_name = TPOINT_TABLE_NAME\n",
    "            self.id_column_name = TPOINT_ID_COLUMN_NAME\n",
    "            self.tpoint_column_name = TPOINT_COLUMN_NAME               \n",
    "            self.connection = MobilityDB.connect(**connection_params)\n",
    "\n",
    "            self.cursor = self.connection.cursor()\n",
    "\n",
    "            self.cursor.execute(f\"SELECT {self.id_column_name} FROM public.{self.table_name};\")\n",
    "            self.ids_list = self.cursor.fetchall()\n",
    "            self.ids_list = self.ids_list[:int(len(self.ids_list)*PERCENTAGE_OF_OBJECTS)]\n",
    "        except Exception as e:\n",
    "            pass\n",
    "\n",
    "  \n",
    "    def get_subset_of_tpoints(self, pstart, pend, xmin, ymin, xmax, ymax, time_granularity, start_date):\n",
    "        \"\"\"\n",
    "        For each object in the ids_list :\n",
    "            Fetch the subset of the associated Tpoints between the start and end timestamps\n",
    "            contained in the STBOX defined by the xmin, ymin, xmax, ymax.\n",
    "        \"\"\"\n",
    "        \n",
    "        try:\n",
    "            ids_list = [ f\"'{id[0]}'\"  for id in self.ids_list]\n",
    "            ids_str = ', '.join(map(str, ids_list))\n",
    "\n",
    "            if time_granularity == \"SECOND\":\n",
    "                time_value = 1\n",
    "            elif time_granularity == \"MINUTE\":\n",
    "                time_value = 60\n",
    "            \n",
    "            # return [self.tpoint_column_name, self.id_column_name, ids_str, xmin, ymin, xmax, ymax, pstart, pend, time_granularity, start_date, time_value]\n",
    "            query = f\"\"\"WITH trajectories as (\n",
    "                    SELECT \n",
    "                        atStbox(\n",
    "                            a.{self.tpoint_column_name}::tgeompoint,\n",
    "                            stbox(\n",
    "                                ST_MakeEnvelope(\n",
    "                                    {xmin}, {ymin}, -- xmin, ymin\n",
    "                                    {xmax}, {ymax}, -- xmax, ymax\n",
    "                                    0 -- SRID\n",
    "                                ),\n",
    "                                tstzspan('[{pstart}, {pend}]')\n",
    "                            )\n",
    "                        ) as trajectory\n",
    "                    FROM public.{self.table_name} as a \n",
    "                    WHERE a.{self.id_column_name} in ({ids_str})),\n",
    "\n",
    "                    resampled as (\n",
    "\n",
    "                    SELECT tsample(traj.trajectory, INTERVAL '1 {time_granularity}', TIMESTAMP '{start_date}')  AS resampled_trajectory\n",
    "                        FROM \n",
    "                            trajectories as traj)\n",
    "\t\t\t\t\n",
    "                    SELECT\n",
    "                            EXTRACT(EPOCH FROM (startTimestamp(rs.resampled_trajectory) - '{start_date}'::timestamp))::integer / {time_value} AS start_index ,\n",
    "                            EXTRACT(EPOCH FROM (endTimestamp(rs.resampled_trajectory) - '{start_date}'::timestamp))::integer / {time_value} AS end_index,\n",
    "                            rs.resampled_trajectory\n",
    "                    FROM resampled as rs ;\"\"\"\n",
    "        \n",
    "            self.cursor.execute(query)\n",
    "       \n",
    "            rows = self.cursor.fetchall()\n",
    "            return rows\n",
    "        except Exception as e:\n",
    "            print(query)\n",
    "            print(e)\n",
    "\n",
    "\n",
    "    def close(self):\n",
    "        \"\"\"\n",
    "        Close the connection to the MobilityDB database.\n",
    "        \"\"\"\n",
    "        self.cursor.close()\n",
    "        self.connection.close()\n",
    "\n",
    "\n",
    "MATRIX_DIRECTORY_PATH = \"/home/ali/matrices\"\n",
    "file_name = f\"{args[10]}/matrix_{begin_frame}.npy\"\n",
    "\n",
    "\n",
    "  \n",
    "Time_granularities = {\n",
    "                    # \"MILLISECOND\" : timedelta(milliseconds=1),\n",
    "                      \"SECOND\" : timedelta(seconds=1),\n",
    "                      \"MINUTE\" : timedelta(minutes=1),\n",
    "                    #   \"HOUR\" : timedelta(hours=1),\n",
    "                    }\n",
    "\n",
    "\n",
    "# check if file does't already exist\n",
    "\n",
    "if not os.path.exists(file_name):\n",
    "   \n",
    "    pymeos_initialize()\n",
    "    db = Database_connector()\n",
    "\n",
    "    x_min = float(args[3])\n",
    "    y_min = float(args[4])\n",
    "    x_max = float(args[5])\n",
    "    y_max = float(args[6])\n",
    "\n",
    "    start_date = args[7]\n",
    "    start_date = datetime.strptime(start_date, '%Y-%m-%d %H:%M:%S')\n",
    "\n",
    "\n",
    "    total_frames = int(args[8])\n",
    "    GRANULARITY = Time_granularities[args[9]]\n",
    "\n",
    "    timestamps = []\n",
    "    for i in range(total_frames): \n",
    "        timestamps.append(start_date + i*GRANULARITY)\n",
    "\n",
    "\n",
    "\n",
    "    p_start = timestamps[begin_frame]\n",
    "    p_end = timestamps[end_frame]\n",
    "    # print(p_start, p_end, x_min, y_min, x_max, y_max)\n",
    "    now_db = time.time()\n",
    "    rows = db.get_subset_of_tpoints(p_start, p_end, x_min, y_min, x_max, y_max, args[9], start_date)    \n",
    "\n",
    "    "
   ]
  },
  {
   "cell_type": "code",
   "execution_count": 11,
   "metadata": {},
   "outputs": [],
   "source": [
    "logs += f\"Time to fetch subset of tpoints: {time.time() - now_db} seconds\\n\"\n",
    "        \n",
    "empty_point_wkt = Point().wkt  # \"POINT EMPTY\"\n",
    "matrix = np.full((len(rows), TIME_DELTA_SIZE), empty_point_wkt, dtype=object)\n",
    "\n",
    "time_ranges = timestamps\n"
   ]
  },
  {
   "cell_type": "code",
   "execution_count": 3,
   "metadata": {},
   "outputs": [
    {
     "data": {
      "text/plain": [
       "582"
      ]
     },
     "execution_count": 3,
     "metadata": {},
     "output_type": "execute_result"
    }
   ],
   "source": [
    "len(rows)"
   ]
  },
  {
   "cell_type": "code",
   "execution_count": 27,
   "metadata": {},
   "outputs": [
    {
     "data": {
      "text/plain": [
       "(60,\n",
       " 119,\n",
       " TGeomPointSeq({POINT(8.42333 55.4718)@2023-06-01 00:01:00+02, POINT(8.42333 55.4718)@2023-06-01 00:01:01+02, POINT(8.42333 55.4718)@2023-06-01 00:01:02+02, POINT(8.42333 55.4718)@2023-06-01 00:01:03+02, POINT(8.42333 55.4718)@2023-06-01 00:01:04+02, POINT(8.42333 55.4718)@2023-06-01 00:01:05+02, POINT(8.42333 55.4718)@2023-06-01 00:01:06+02, POINT(8.42333 55.4718)@2023-06-01 00:01:07+02, POINT(8.42333 55.4718)@2023-06-01 00:01:08+02, POINT(8.42333 55.4718)@2023-06-01 00:01:09+02, POINT(8.42333 55.4718)@2023-06-01 00:01:10+02, POINT(8.42333 55.4718)@2023-06-01 00:01:11+02, POINT(8.42333 55.4718)@2023-06-01 00:01:12+02, POINT(8.42333 55.4718)@2023-06-01 00:01:13+02, POINT(8.42333 55.4718)@2023-06-01 00:01:14+02, POINT(8.42333 55.4718)@2023-06-01 00:01:15+02, POINT(8.42333 55.4718)@2023-06-01 00:01:16+02, POINT(8.42333 55.4718)@2023-06-01 00:01:17+02, POINT(8.42333 55.4718)@2023-06-01 00:01:18+02, POINT(8.42333 55.4718)@2023-06-01 00:01:19+02, POINT(8.42333 55.4718)@2023-06-01 00:01:20+02, POINT(8.42333 55.4718)@2023-06-01 00:01:21+02, POINT(8.42333 55.4718)@2023-06-01 00:01:22+02, POINT(8.42333 55.4718)@2023-06-01 00:01:23+02, POINT(8.42333 55.4718)@2023-06-01 00:01:24+02, POINT(8.42333 55.4718)@2023-06-01 00:01:25+02, POINT(8.42333 55.4718)@2023-06-01 00:01:26+02, POINT(8.423330952380953 55.4718)@2023-06-01 00:01:27+02, POINT(8.423331904761906 55.4718)@2023-06-01 00:01:28+02, POINT(8.423332857142857 55.4718)@2023-06-01 00:01:29+02, POINT(8.42333380952381 55.4718)@2023-06-01 00:01:30+02, POINT(8.423334761904762 55.4718)@2023-06-01 00:01:31+02, POINT(8.423335714285715 55.4718)@2023-06-01 00:01:32+02, POINT(8.423336666666666 55.4718)@2023-06-01 00:01:33+02, POINT(8.423337619047619 55.4718)@2023-06-01 00:01:34+02, POINT(8.423338571428571 55.4718)@2023-06-01 00:01:35+02, POINT(8.423339523809524 55.4718)@2023-06-01 00:01:36+02, POINT(8.423340476190475 55.4718)@2023-06-01 00:01:37+02, POINT(8.423341428571428 55.4718)@2023-06-01 00:01:38+02, POINT(8.42334238095238 55.4718)@2023-06-01 00:01:39+02, POINT(8.423343333333333 55.4718)@2023-06-01 00:01:40+02, POINT(8.423344285714284 55.4718)@2023-06-01 00:01:41+02, POINT(8.423345238095237 55.4718)@2023-06-01 00:01:42+02, POINT(8.42334619047619 55.4718)@2023-06-01 00:01:43+02, POINT(8.423347142857143 55.4718)@2023-06-01 00:01:44+02, POINT(8.423348095238094 55.4718)@2023-06-01 00:01:45+02, POINT(8.423349047619046 55.4718)@2023-06-01 00:01:46+02, POINT(8.42335 55.4718)@2023-06-01 00:01:47+02, POINT(8.42335 55.4718)@2023-06-01 00:01:48+02, POINT(8.42335 55.4718)@2023-06-01 00:01:49+02, POINT(8.42335 55.4718)@2023-06-01 00:01:50+02, POINT(8.42335 55.4718)@2023-06-01 00:01:51+02, POINT(8.42335 55.4718)@2023-06-01 00:01:52+02, POINT(8.42335 55.4718)@2023-06-01 00:01:53+02, POINT(8.42335 55.4718)@2023-06-01 00:01:54+02, POINT(8.42335 55.4718)@2023-06-01 00:01:55+02, POINT(8.42335 55.4718)@2023-06-01 00:01:56+02, POINT(8.42335 55.4718)@2023-06-01 00:01:57+02, POINT(8.42335 55.4718)@2023-06-01 00:01:58+02, POINT(8.42335 55.4718)@2023-06-01 00:01:59+02}))"
      ]
     },
     "execution_count": 27,
     "metadata": {},
     "output_type": "execute_result"
    }
   ],
   "source": [
    "i=1\n",
    "rows[i]"
   ]
  },
  {
   "cell_type": "code",
   "execution_count": 28,
   "metadata": {},
   "outputs": [
    {
     "data": {
      "text/plain": [
       "TGeomPointSeq({POINT(8.42333 55.4718)@2023-06-01 00:01:00+02, POINT(8.42333 55.4718)@2023-06-01 00:01:01+02, POINT(8.42333 55.4718)@2023-06-01 00:01:02+02, POINT(8.42333 55.4718)@2023-06-01 00:01:03+02, POINT(8.42333 55.4718)@2023-06-01 00:01:04+02, POINT(8.42333 55.4718)@2023-06-01 00:01:05+02, POINT(8.42333 55.4718)@2023-06-01 00:01:06+02, POINT(8.42333 55.4718)@2023-06-01 00:01:07+02, POINT(8.42333 55.4718)@2023-06-01 00:01:08+02, POINT(8.42333 55.4718)@2023-06-01 00:01:09+02, POINT(8.42333 55.4718)@2023-06-01 00:01:10+02, POINT(8.42333 55.4718)@2023-06-01 00:01:11+02, POINT(8.42333 55.4718)@2023-06-01 00:01:12+02, POINT(8.42333 55.4718)@2023-06-01 00:01:13+02, POINT(8.42333 55.4718)@2023-06-01 00:01:14+02, POINT(8.42333 55.4718)@2023-06-01 00:01:15+02, POINT(8.42333 55.4718)@2023-06-01 00:01:16+02, POINT(8.42333 55.4718)@2023-06-01 00:01:17+02, POINT(8.42333 55.4718)@2023-06-01 00:01:18+02, POINT(8.42333 55.4718)@2023-06-01 00:01:19+02, POINT(8.42333 55.4718)@2023-06-01 00:01:20+02, POINT(8.42333 55.4718)@2023-06-01 00:01:21+02, POINT(8.42333 55.4718)@2023-06-01 00:01:22+02, POINT(8.42333 55.4718)@2023-06-01 00:01:23+02, POINT(8.42333 55.4718)@2023-06-01 00:01:24+02, POINT(8.42333 55.4718)@2023-06-01 00:01:25+02, POINT(8.42333 55.4718)@2023-06-01 00:01:26+02, POINT(8.423330952380953 55.4718)@2023-06-01 00:01:27+02, POINT(8.423331904761906 55.4718)@2023-06-01 00:01:28+02, POINT(8.423332857142857 55.4718)@2023-06-01 00:01:29+02, POINT(8.42333380952381 55.4718)@2023-06-01 00:01:30+02, POINT(8.423334761904762 55.4718)@2023-06-01 00:01:31+02, POINT(8.423335714285715 55.4718)@2023-06-01 00:01:32+02, POINT(8.423336666666666 55.4718)@2023-06-01 00:01:33+02, POINT(8.423337619047619 55.4718)@2023-06-01 00:01:34+02, POINT(8.423338571428571 55.4718)@2023-06-01 00:01:35+02, POINT(8.423339523809524 55.4718)@2023-06-01 00:01:36+02, POINT(8.423340476190475 55.4718)@2023-06-01 00:01:37+02, POINT(8.423341428571428 55.4718)@2023-06-01 00:01:38+02, POINT(8.42334238095238 55.4718)@2023-06-01 00:01:39+02, POINT(8.423343333333333 55.4718)@2023-06-01 00:01:40+02, POINT(8.423344285714284 55.4718)@2023-06-01 00:01:41+02, POINT(8.423345238095237 55.4718)@2023-06-01 00:01:42+02, POINT(8.42334619047619 55.4718)@2023-06-01 00:01:43+02, POINT(8.423347142857143 55.4718)@2023-06-01 00:01:44+02, POINT(8.423348095238094 55.4718)@2023-06-01 00:01:45+02, POINT(8.423349047619046 55.4718)@2023-06-01 00:01:46+02, POINT(8.42335 55.4718)@2023-06-01 00:01:47+02, POINT(8.42335 55.4718)@2023-06-01 00:01:48+02, POINT(8.42335 55.4718)@2023-06-01 00:01:49+02, POINT(8.42335 55.4718)@2023-06-01 00:01:50+02, POINT(8.42335 55.4718)@2023-06-01 00:01:51+02, POINT(8.42335 55.4718)@2023-06-01 00:01:52+02, POINT(8.42335 55.4718)@2023-06-01 00:01:53+02, POINT(8.42335 55.4718)@2023-06-01 00:01:54+02, POINT(8.42335 55.4718)@2023-06-01 00:01:55+02, POINT(8.42335 55.4718)@2023-06-01 00:01:56+02, POINT(8.42335 55.4718)@2023-06-01 00:01:57+02, POINT(8.42335 55.4718)@2023-06-01 00:01:58+02, POINT(8.42335 55.4718)@2023-06-01 00:01:59+02})"
      ]
     },
     "execution_count": 28,
     "metadata": {},
     "output_type": "execute_result"
    }
   ],
   "source": [
    "traj_resampled = rows[i][2]\n",
    "traj_resampled"
   ]
  },
  {
   "cell_type": "code",
   "execution_count": 29,
   "metadata": {},
   "outputs": [
    {
     "name": "stdout",
     "output_type": "stream",
     "text": [
      " start index: 60, end index: 119\n"
     ]
    }
   ],
   "source": [
    "start_index = rows[i][0] \n",
    "end_index = rows[i][1]\n",
    "print(f\" start index: {start_index}, end index: {end_index}\")            "
   ]
  },
  {
   "cell_type": "code",
   "execution_count": 17,
   "metadata": {},
   "outputs": [
    {
     "data": {
      "text/plain": [
       "['POINT (8.42333 55.4718)',\n",
       " 'POINT (8.42333 55.4718)',\n",
       " 'POINT (8.42333 55.4718)',\n",
       " 'POINT (8.42333 55.4718)',\n",
       " 'POINT (8.42333 55.4718)',\n",
       " 'POINT (8.42333 55.4718)',\n",
       " 'POINT (8.42333 55.4718)',\n",
       " 'POINT (8.42333 55.4718)',\n",
       " 'POINT (8.42333 55.4718)',\n",
       " 'POINT (8.42333 55.4718)',\n",
       " 'POINT (8.42333 55.4718)',\n",
       " 'POINT (8.42333 55.4718)',\n",
       " 'POINT (8.42333 55.4718)',\n",
       " 'POINT (8.42333 55.4718)',\n",
       " 'POINT (8.42333 55.4718)',\n",
       " 'POINT (8.42333 55.4718)',\n",
       " 'POINT (8.42333 55.4718)',\n",
       " 'POINT (8.42333 55.4718)',\n",
       " 'POINT (8.42333 55.4718)',\n",
       " 'POINT (8.42333 55.4718)',\n",
       " 'POINT (8.42333 55.4718)',\n",
       " 'POINT (8.42333 55.4718)',\n",
       " 'POINT (8.42333 55.4718)',\n",
       " 'POINT (8.42333 55.4718)',\n",
       " 'POINT (8.42333 55.4718)',\n",
       " 'POINT (8.42333 55.4718)',\n",
       " 'POINT (8.42333 55.4718)',\n",
       " 'POINT (8.423330952380953 55.4718)',\n",
       " 'POINT (8.423331904761906 55.4718)',\n",
       " 'POINT (8.423332857142857 55.4718)',\n",
       " 'POINT (8.42333380952381 55.4718)',\n",
       " 'POINT (8.423334761904762 55.4718)',\n",
       " 'POINT (8.423335714285715 55.4718)',\n",
       " 'POINT (8.423336666666666 55.4718)',\n",
       " 'POINT (8.423337619047619 55.4718)',\n",
       " 'POINT (8.423338571428571 55.4718)',\n",
       " 'POINT (8.423339523809524 55.4718)',\n",
       " 'POINT (8.423340476190475 55.4718)',\n",
       " 'POINT (8.423341428571428 55.4718)',\n",
       " 'POINT (8.42334238095238 55.4718)',\n",
       " 'POINT (8.423343333333333 55.4718)',\n",
       " 'POINT (8.423344285714284 55.4718)',\n",
       " 'POINT (8.423345238095237 55.4718)',\n",
       " 'POINT (8.42334619047619 55.4718)',\n",
       " 'POINT (8.423347142857143 55.4718)',\n",
       " 'POINT (8.423348095238094 55.4718)',\n",
       " 'POINT (8.423349047619046 55.4718)',\n",
       " 'POINT (8.42335 55.4718)',\n",
       " 'POINT (8.42335 55.4718)',\n",
       " 'POINT (8.42335 55.4718)',\n",
       " 'POINT (8.42335 55.4718)',\n",
       " 'POINT (8.42335 55.4718)',\n",
       " 'POINT (8.42335 55.4718)',\n",
       " 'POINT (8.42335 55.4718)',\n",
       " 'POINT (8.42335 55.4718)',\n",
       " 'POINT (8.42335 55.4718)',\n",
       " 'POINT (8.42335 55.4718)',\n",
       " 'POINT (8.42335 55.4718)',\n",
       " 'POINT (8.42335 55.4718)',\n",
       " 'POINT (8.42335 55.4718)']"
      ]
     },
     "execution_count": 17,
     "metadata": {},
     "output_type": "execute_result"
    }
   ],
   "source": [
    "values = [point.wkt for point in traj_resampled.values()]\n",
    "values"
   ]
  },
  {
   "cell_type": "code",
   "execution_count": 21,
   "metadata": {},
   "outputs": [
    {
     "data": {
      "text/plain": [
       "array(['POINT (8.42333 55.4718)', 'POINT (8.42333 55.4718)',\n",
       "       'POINT (8.42333 55.4718)', 'POINT (8.42333 55.4718)',\n",
       "       'POINT (8.42333 55.4718)', 'POINT (8.42333 55.4718)',\n",
       "       'POINT (8.42333 55.4718)', 'POINT (8.42333 55.4718)',\n",
       "       'POINT (8.42333 55.4718)', 'POINT (8.42333 55.4718)',\n",
       "       'POINT (8.42333 55.4718)', 'POINT (8.42333 55.4718)',\n",
       "       'POINT (8.42333 55.4718)', 'POINT (8.42333 55.4718)',\n",
       "       'POINT (8.42333 55.4718)', 'POINT (8.42333 55.4718)',\n",
       "       'POINT (8.42333 55.4718)', 'POINT (8.42333 55.4718)',\n",
       "       'POINT (8.42333 55.4718)', 'POINT (8.42333 55.4718)',\n",
       "       'POINT (8.42333 55.4718)', 'POINT (8.42333 55.4718)',\n",
       "       'POINT (8.42333 55.4718)', 'POINT (8.42333 55.4718)',\n",
       "       'POINT (8.42333 55.4718)', 'POINT (8.42333 55.4718)',\n",
       "       'POINT (8.42333 55.4718)', 'POINT (8.423330952380953 55.4718)',\n",
       "       'POINT (8.423331904761906 55.4718)',\n",
       "       'POINT (8.423332857142857 55.4718)',\n",
       "       'POINT (8.42333380952381 55.4718)',\n",
       "       'POINT (8.423334761904762 55.4718)',\n",
       "       'POINT (8.423335714285715 55.4718)',\n",
       "       'POINT (8.423336666666666 55.4718)',\n",
       "       'POINT (8.423337619047619 55.4718)',\n",
       "       'POINT (8.423338571428571 55.4718)',\n",
       "       'POINT (8.423339523809524 55.4718)',\n",
       "       'POINT (8.423340476190475 55.4718)',\n",
       "       'POINT (8.423341428571428 55.4718)',\n",
       "       'POINT (8.42334238095238 55.4718)',\n",
       "       'POINT (8.423343333333333 55.4718)',\n",
       "       'POINT (8.423344285714284 55.4718)',\n",
       "       'POINT (8.423345238095237 55.4718)',\n",
       "       'POINT (8.42334619047619 55.4718)',\n",
       "       'POINT (8.423347142857143 55.4718)',\n",
       "       'POINT (8.423348095238094 55.4718)',\n",
       "       'POINT (8.423349047619046 55.4718)', 'POINT (8.42335 55.4718)',\n",
       "       'POINT (8.42335 55.4718)', 'POINT (8.42335 55.4718)',\n",
       "       'POINT (8.42335 55.4718)', 'POINT (8.42335 55.4718)',\n",
       "       'POINT (8.42335 55.4718)', 'POINT (8.42335 55.4718)',\n",
       "       'POINT (8.42335 55.4718)', 'POINT (8.42335 55.4718)',\n",
       "       'POINT (8.42335 55.4718)', 'POINT (8.42335 55.4718)',\n",
       "       'POINT (8.42335 55.4718)', 'POINT (8.42335 55.4718)'], dtype='<U33')"
      ]
     },
     "execution_count": 21,
     "metadata": {},
     "output_type": "execute_result"
    }
   ],
   "source": [
    "values = np.array(values)\n",
    "values"
   ]
  },
  {
   "cell_type": "code",
   "execution_count": 22,
   "metadata": {},
   "outputs": [
    {
     "data": {
      "text/plain": [
       "(60,)"
      ]
     },
     "execution_count": 22,
     "metadata": {},
     "output_type": "execute_result"
    }
   ],
   "source": [
    "values.shape"
   ]
  },
  {
   "cell_type": "code",
   "execution_count": 30,
   "metadata": {},
   "outputs": [
    {
     "data": {
      "text/plain": [
       "(60,)"
      ]
     },
     "execution_count": 30,
     "metadata": {},
     "output_type": "execute_result"
    }
   ],
   "source": [
    "matrix[i].shape"
   ]
  },
  {
   "cell_type": "code",
   "execution_count": 39,
   "metadata": {},
   "outputs": [
    {
     "ename": "ValueError",
     "evalue": "could not broadcast input array from shape (60,) into shape (0,)",
     "output_type": "error",
     "traceback": [
      "\u001b[0;31m---------------------------------------------------------------------------\u001b[0m",
      "\u001b[0;31mValueError\u001b[0m                                Traceback (most recent call last)",
      "Cell \u001b[0;32mIn[39], line 1\u001b[0m\n\u001b[0;32m----> 1\u001b[0m \u001b[43mmatrix\u001b[49m\u001b[43m[\u001b[49m\u001b[43mi\u001b[49m\u001b[43m,\u001b[49m\u001b[43m \u001b[49m\u001b[43mstart_index\u001b[49m\u001b[43m:\u001b[49m\u001b[43mend_index\u001b[49m\u001b[38;5;241;43m+\u001b[39;49m\u001b[38;5;241;43m1\u001b[39;49m\u001b[43m]\u001b[49m \u001b[38;5;241m=\u001b[39m np\u001b[38;5;241m.\u001b[39marray([point\u001b[38;5;241m.\u001b[39mwkt \u001b[38;5;28;01mfor\u001b[39;00m point \u001b[38;5;129;01min\u001b[39;00m traj_resampled\u001b[38;5;241m.\u001b[39mvalues()])\n",
      "\u001b[0;31mValueError\u001b[0m: could not broadcast input array from shape (60,) into shape (0,)"
     ]
    }
   ],
   "source": [
    "matrix[i, start_index:end_index+1] = np.array([point.wkt for point in traj_resampled.values()])"
   ]
  },
  {
   "cell_type": "code",
   "execution_count": 46,
   "metadata": {},
   "outputs": [
    {
     "data": {
      "text/plain": [
       "119"
      ]
     },
     "execution_count": 46,
     "metadata": {},
     "output_type": "execute_result"
    }
   ],
   "source": [
    "start_index\n",
    "end_index"
   ]
  },
  {
   "cell_type": "code",
   "execution_count": null,
   "metadata": {},
   "outputs": [],
   "source": []
  },
  {
   "cell_type": "code",
   "execution_count": 44,
   "metadata": {},
   "outputs": [
    {
     "data": {
      "text/plain": [
       "array(['POINT EMPTY', 'POINT EMPTY', 'POINT EMPTY', 'POINT EMPTY',\n",
       "       'POINT EMPTY', 'POINT EMPTY', 'POINT EMPTY', 'POINT EMPTY',\n",
       "       'POINT EMPTY', 'POINT EMPTY'], dtype=object)"
      ]
     },
     "execution_count": 44,
     "metadata": {},
     "output_type": "execute_result"
    }
   ],
   "source": [
    "matrix[i, 0:10]"
   ]
  },
  {
   "cell_type": "code",
   "execution_count": 36,
   "metadata": {},
   "outputs": [],
   "source": [
    "a  = np.array([point.wkt for point in traj_resampled.values()])"
   ]
  },
  {
   "cell_type": "code",
   "execution_count": 37,
   "metadata": {},
   "outputs": [
    {
     "data": {
      "text/plain": [
       "60"
      ]
     },
     "execution_count": 37,
     "metadata": {},
     "output_type": "execute_result"
    }
   ],
   "source": [
    "np.count_nonzero(a != 'POINT EMPTY')"
   ]
  },
  {
   "cell_type": "code",
   "execution_count": 38,
   "metadata": {},
   "outputs": [
    {
     "data": {
      "text/plain": [
       "array(['POINT (8.42333 55.4718)', 'POINT (8.42333 55.4718)',\n",
       "       'POINT (8.42333 55.4718)', 'POINT (8.42333 55.4718)',\n",
       "       'POINT (8.42333 55.4718)', 'POINT (8.42333 55.4718)',\n",
       "       'POINT (8.42333 55.4718)', 'POINT (8.42333 55.4718)',\n",
       "       'POINT (8.42333 55.4718)', 'POINT (8.42333 55.4718)',\n",
       "       'POINT (8.42333 55.4718)', 'POINT (8.42333 55.4718)',\n",
       "       'POINT (8.42333 55.4718)', 'POINT (8.42333 55.4718)',\n",
       "       'POINT (8.42333 55.4718)', 'POINT (8.42333 55.4718)',\n",
       "       'POINT (8.42333 55.4718)', 'POINT (8.42333 55.4718)',\n",
       "       'POINT (8.42333 55.4718)', 'POINT (8.42333 55.4718)',\n",
       "       'POINT (8.42333 55.4718)', 'POINT (8.42333 55.4718)',\n",
       "       'POINT (8.42333 55.4718)', 'POINT (8.42333 55.4718)',\n",
       "       'POINT (8.42333 55.4718)', 'POINT (8.42333 55.4718)',\n",
       "       'POINT (8.42333 55.4718)', 'POINT (8.423330952380953 55.4718)',\n",
       "       'POINT (8.423331904761906 55.4718)',\n",
       "       'POINT (8.423332857142857 55.4718)',\n",
       "       'POINT (8.42333380952381 55.4718)',\n",
       "       'POINT (8.423334761904762 55.4718)',\n",
       "       'POINT (8.423335714285715 55.4718)',\n",
       "       'POINT (8.423336666666666 55.4718)',\n",
       "       'POINT (8.423337619047619 55.4718)',\n",
       "       'POINT (8.423338571428571 55.4718)',\n",
       "       'POINT (8.423339523809524 55.4718)',\n",
       "       'POINT (8.423340476190475 55.4718)',\n",
       "       'POINT (8.423341428571428 55.4718)',\n",
       "       'POINT (8.42334238095238 55.4718)',\n",
       "       'POINT (8.423343333333333 55.4718)',\n",
       "       'POINT (8.423344285714284 55.4718)',\n",
       "       'POINT (8.423345238095237 55.4718)',\n",
       "       'POINT (8.42334619047619 55.4718)',\n",
       "       'POINT (8.423347142857143 55.4718)',\n",
       "       'POINT (8.423348095238094 55.4718)',\n",
       "       'POINT (8.423349047619046 55.4718)', 'POINT (8.42335 55.4718)',\n",
       "       'POINT (8.42335 55.4718)', 'POINT (8.42335 55.4718)',\n",
       "       'POINT (8.42335 55.4718)', 'POINT (8.42335 55.4718)',\n",
       "       'POINT (8.42335 55.4718)', 'POINT (8.42335 55.4718)',\n",
       "       'POINT (8.42335 55.4718)', 'POINT (8.42335 55.4718)',\n",
       "       'POINT (8.42335 55.4718)', 'POINT (8.42335 55.4718)',\n",
       "       'POINT (8.42335 55.4718)', 'POINT (8.42335 55.4718)'], dtype='<U33')"
      ]
     },
     "execution_count": 38,
     "metadata": {},
     "output_type": "execute_result"
    }
   ],
   "source": [
    "a"
   ]
  },
  {
   "cell_type": "code",
   "execution_count": 25,
   "metadata": {},
   "outputs": [
    {
     "data": {
      "text/plain": [
       "(582, 60)"
      ]
     },
     "execution_count": 25,
     "metadata": {},
     "output_type": "execute_result"
    }
   ],
   "source": [
    "matrix.shape"
   ]
  },
  {
   "cell_type": "code",
   "execution_count": 12,
   "metadata": {},
   "outputs": [],
   "source": [
    "\n",
    "\n",
    "for i in range(len(rows)):\n",
    "    if rows[i][2] is not None:\n",
    "        try:\n",
    "            traj_resampled = rows[i][2]\n",
    "\n",
    "            start_index = rows[i][0] \n",
    "            end_index = rows[i][1]\n",
    "            matrix[i, start_index:end_index+1] = np.array(traj_resampled.values())\n",
    "    \n",
    "        except:\n",
    "            continue\n",
    "\n",
    "\n",
    "# np.save(file_name, matrix)\n",
    "\n",
    "# db.close()\n",
    "# pymeos_finalize()\n",
    "# total_time = time.time() - now\n",
    "# frames_for_30_fps= 30 * total_time\n",
    "# print(f\"================================================================     Matrix {begin_frame} created in {total_time} seconds, {frames_for_30_fps} frames for 30 fps animation.\")\n",
    "# logs += f\"time to create and fill the matrix {begin_frame}: {total_time} seconds\\n\"\n"
   ]
  },
  {
   "cell_type": "code",
   "execution_count": 26,
   "metadata": {},
   "outputs": [
    {
     "data": {
      "text/plain": [
       "0"
      ]
     },
     "execution_count": 26,
     "metadata": {},
     "output_type": "execute_result"
    }
   ],
   "source": [
    "np.count_nonzero(matrix != 'POINT EMPTY')"
   ]
  },
  {
   "cell_type": "code",
   "execution_count": null,
   "metadata": {},
   "outputs": [],
   "source": []
  }
 ],
 "metadata": {
  "kernelspec": {
   "display_name": ".venv",
   "language": "python",
   "name": "python3"
  },
  "language_info": {
   "codemirror_mode": {
    "name": "ipython",
    "version": 3
   },
   "file_extension": ".py",
   "mimetype": "text/x-python",
   "name": "python",
   "nbconvert_exporter": "python",
   "pygments_lexer": "ipython3",
   "version": "3.11.6"
  }
 },
 "nbformat": 4,
 "nbformat_minor": 2
}
