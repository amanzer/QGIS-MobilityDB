{
 "cells": [
  {
   "cell_type": "markdown",
   "metadata": {},
   "source": [
    "# Benchmarking Matrix generation script\n",
    "\n",
    "Important remarks :\n",
    "\n",
    "- Approximation results as the load of the active ui animation is hard to simulate aside the matrix calculation. Currently a large animation with 0.5 boat is run beside this script\n",
    "\n",
    "- Number of time deltas per combination is chosen arbitrarily, 10 in this case, for the sake of simplicity, it is totally possible for a data to be more heavy on a specific time range that may not be covered in the selected deltas"
   ]
  },
  {
   "cell_type": "code",
   "execution_count": 10,
   "metadata": {},
   "outputs": [],
   "source": [
    "import numpy as np\n",
    "from shapely.geometry import Point\n",
    "from pymeos.db.psycopg import MobilityDB\n",
    "\n",
    "from pymeos import *\n",
    "import os\n",
    "import sys\n",
    "from datetime import timedelta, datetime\n",
    "from pymeos import *\n",
    "import time\n",
    "from tqdm import tqdm\n",
    "import itertools\n",
    "import shutil\n",
    "import math\n",
    "import subprocess\n",
    "from collections import deque\n",
    "\n"
   ]
  },
  {
   "cell_type": "code",
   "execution_count": 11,
   "metadata": {},
   "outputs": [],
   "source": [
    "\n",
    "def get_folder_size_mb(dir_name):\n",
    "    total_size = 0\n",
    "    sizes = deque(maxlen=3)\n",
    "    for dirpath, dirnames, filenames in os.walk(dir_name):\n",
    "        for filename in filenames:\n",
    "            file_path = os.path.join(dirpath, filename)\n",
    "            # Skip if it is symbolic link\n",
    "            if not os.path.islink(file_path):\n",
    "                sizes.append(os.path.getsize(file_path))\n",
    "    # Convert size to MB\n",
    "    total_size_mb = sum(sizes) / (1024 * 1024)\n",
    "    return total_size_mb\n"
   ]
  },
  {
   "cell_type": "code",
   "execution_count": 12,
   "metadata": {},
   "outputs": [
    {
     "name": "stderr",
     "output_type": "stream",
     "text": [
      "Combination (10, 0.1):   0%|          | 0/18 [00:00<?, ?it/s]"
     ]
    },
    {
     "name": "stdout",
     "output_type": "stream",
     "text": [
      "CompletedProcess(args=['/home/ali/.venv/bin/python', '/home/ali/QGIS-MobilityDB/experiment9_sql_optimization/generate_matrix_before_optimization.py', '0', '9', '0.1', '-180', '-90', '180', '90', '2023-06-01 00:00:00', '86399', 'SECOND', '/home/ali/matrices/10_0.1', 'mobilitydb', 'pymeos_demo', 'MMSI', 'trajectory'], returncode=0, stdout='================================================================     Matrix 0 created in 0.009778022766113281 seconds, 0.29334068298339844 frames for 30 fps animation.\\n', stderr='')\n"
     ]
    },
    {
     "name": "stderr",
     "output_type": "stream",
     "text": []
    },
    {
     "name": "stdout",
     "output_type": "stream",
     "text": [
      "CompletedProcess(args=['/home/ali/.venv/bin/python', '/home/ali/QGIS-MobilityDB/experiment9_sql_optimization/generate_matrix_before_optimization.py', '10', '19', '0.1', '-180', '-90', '180', '90', '2023-06-01 00:00:10', '86399', 'SECOND', '/home/ali/matrices/10_0.1', 'mobilitydb', 'pymeos_demo', 'MMSI', 'trajectory'], returncode=0, stdout='================================================================     Matrix 10 created in 0.01663041114807129 seconds, 0.49891233444213867 frames for 30 fps animation.\\n', stderr='')\n"
     ]
    },
    {
     "name": "stderr",
     "output_type": "stream",
     "text": []
    },
    {
     "name": "stdout",
     "output_type": "stream",
     "text": [
      "CompletedProcess(args=['/home/ali/.venv/bin/python', '/home/ali/QGIS-MobilityDB/experiment9_sql_optimization/generate_matrix_before_optimization.py', '20', '29', '0.1', '-180', '-90', '180', '90', '2023-06-01 00:00:20', '86399', 'SECOND', '/home/ali/matrices/10_0.1', 'mobilitydb', 'pymeos_demo', 'MMSI', 'trajectory'], returncode=0, stdout='================================================================     Matrix 20 created in 0.01837611198425293 seconds, 0.5512833595275879 frames for 30 fps animation.\\n', stderr='')\n"
     ]
    },
    {
     "name": "stderr",
     "output_type": "stream",
     "text": []
    },
    {
     "name": "stdout",
     "output_type": "stream",
     "text": [
      "CompletedProcess(args=['/home/ali/.venv/bin/python', '/home/ali/QGIS-MobilityDB/experiment9_sql_optimization/generate_matrix_before_optimization.py', '30', '39', '0.1', '-180', '-90', '180', '90', '2023-06-01 00:00:30', '86399', 'SECOND', '/home/ali/matrices/10_0.1', 'mobilitydb', 'pymeos_demo', 'MMSI', 'trajectory'], returncode=0, stdout='================================================================     Matrix 30 created in 0.019721269607543945 seconds, 0.5916380882263184 frames for 30 fps animation.\\n', stderr='')\n"
     ]
    },
    {
     "name": "stderr",
     "output_type": "stream",
     "text": []
    },
    {
     "name": "stdout",
     "output_type": "stream",
     "text": [
      "CompletedProcess(args=['/home/ali/.venv/bin/python', '/home/ali/QGIS-MobilityDB/experiment9_sql_optimization/generate_matrix_before_optimization.py', '40', '49', '0.1', '-180', '-90', '180', '90', '2023-06-01 00:00:40', '86399', 'SECOND', '/home/ali/matrices/10_0.1', 'mobilitydb', 'pymeos_demo', 'MMSI', 'trajectory'], returncode=0, stdout='================================================================     Matrix 40 created in 0.023862838745117188 seconds, 0.7158851623535156 frames for 30 fps animation.\\n', stderr='')\n"
     ]
    },
    {
     "name": "stderr",
     "output_type": "stream",
     "text": []
    },
    {
     "name": "stdout",
     "output_type": "stream",
     "text": [
      "CompletedProcess(args=['/home/ali/.venv/bin/python', '/home/ali/QGIS-MobilityDB/experiment9_sql_optimization/generate_matrix_before_optimization.py', '50', '59', '0.1', '-180', '-90', '180', '90', '2023-06-01 00:00:50', '86399', 'SECOND', '/home/ali/matrices/10_0.1', 'mobilitydb', 'pymeos_demo', 'MMSI', 'trajectory'], returncode=0, stdout='================================================================     Matrix 50 created in 0.023167133331298828 seconds, 0.6950139999389648 frames for 30 fps animation.\\n', stderr='')\n"
     ]
    },
    {
     "name": "stderr",
     "output_type": "stream",
     "text": []
    },
    {
     "name": "stdout",
     "output_type": "stream",
     "text": [
      "CompletedProcess(args=['/home/ali/.venv/bin/python', '/home/ali/QGIS-MobilityDB/experiment9_sql_optimization/generate_matrix_before_optimization.py', '60', '69', '0.1', '-180', '-90', '180', '90', '2023-06-01 00:01:00', '86399', 'SECOND', '/home/ali/matrices/10_0.1', 'mobilitydb', 'pymeos_demo', 'MMSI', 'trajectory'], returncode=0, stdout='================================================================     Matrix 60 created in 0.025062084197998047 seconds, 0.7518625259399414 frames for 30 fps animation.\\n', stderr='')\n"
     ]
    },
    {
     "name": "stderr",
     "output_type": "stream",
     "text": []
    },
    {
     "name": "stdout",
     "output_type": "stream",
     "text": [
      "CompletedProcess(args=['/home/ali/.venv/bin/python', '/home/ali/QGIS-MobilityDB/experiment9_sql_optimization/generate_matrix_before_optimization.py', '70', '79', '0.1', '-180', '-90', '180', '90', '2023-06-01 00:01:10', '86399', 'SECOND', '/home/ali/matrices/10_0.1', 'mobilitydb', 'pymeos_demo', 'MMSI', 'trajectory'], returncode=0, stdout='================================================================     Matrix 70 created in 0.028313636779785156 seconds, 0.8494091033935547 frames for 30 fps animation.\\n', stderr='')\n"
     ]
    },
    {
     "name": "stderr",
     "output_type": "stream",
     "text": []
    },
    {
     "name": "stdout",
     "output_type": "stream",
     "text": [
      "CompletedProcess(args=['/home/ali/.venv/bin/python', '/home/ali/QGIS-MobilityDB/experiment9_sql_optimization/generate_matrix_before_optimization.py', '80', '89', '0.1', '-180', '-90', '180', '90', '2023-06-01 00:01:20', '86399', 'SECOND', '/home/ali/matrices/10_0.1', 'mobilitydb', 'pymeos_demo', 'MMSI', 'trajectory'], returncode=0, stdout='================================================================     Matrix 80 created in 0.029167652130126953 seconds, 0.8750295639038086 frames for 30 fps animation.\\n', stderr='')\n"
     ]
    },
    {
     "name": "stderr",
     "output_type": "stream",
     "text": [
      "Time delta (90, 99): 100%|██████████| 10/10 [00:02<00:00,  3.71it/s]\n",
      "Combination (10, 0.5):   6%|▌         | 1/18 [00:02<00:45,  2.69s/it]"
     ]
    },
    {
     "name": "stdout",
     "output_type": "stream",
     "text": [
      "CompletedProcess(args=['/home/ali/.venv/bin/python', '/home/ali/QGIS-MobilityDB/experiment9_sql_optimization/generate_matrix_before_optimization.py', '90', '99', '0.1', '-180', '-90', '180', '90', '2023-06-01 00:01:30', '86399', 'SECOND', '/home/ali/matrices/10_0.1', 'mobilitydb', 'pymeos_demo', 'MMSI', 'trajectory'], returncode=0, stdout='================================================================     Matrix 90 created in 0.03046274185180664 seconds, 0.9138822555541992 frames for 30 fps animation.\\n', stderr='')\n"
     ]
    },
    {
     "name": "stderr",
     "output_type": "stream",
     "text": []
    },
    {
     "name": "stdout",
     "output_type": "stream",
     "text": [
      "CompletedProcess(args=['/home/ali/.venv/bin/python', '/home/ali/QGIS-MobilityDB/experiment9_sql_optimization/generate_matrix_before_optimization.py', '0', '9', '0.5', '-180', '-90', '180', '90', '2023-06-01 00:00:00', '86399', 'SECOND', '/home/ali/matrices/10_0.5', 'mobilitydb', 'pymeos_demo', 'MMSI', 'trajectory'], returncode=0, stdout='================================================================     Matrix 0 created in 0.06169581413269043 seconds, 1.850874423980713 frames for 30 fps animation.\\n', stderr='')\n"
     ]
    },
    {
     "name": "stderr",
     "output_type": "stream",
     "text": []
    },
    {
     "name": "stdout",
     "output_type": "stream",
     "text": [
      "CompletedProcess(args=['/home/ali/.venv/bin/python', '/home/ali/QGIS-MobilityDB/experiment9_sql_optimization/generate_matrix_before_optimization.py', '10', '19', '0.5', '-180', '-90', '180', '90', '2023-06-01 00:00:10', '86399', 'SECOND', '/home/ali/matrices/10_0.5', 'mobilitydb', 'pymeos_demo', 'MMSI', 'trajectory'], returncode=0, stdout='================================================================     Matrix 10 created in 0.1026163101196289 seconds, 3.078489303588867 frames for 30 fps animation.\\n', stderr='')\n"
     ]
    },
    {
     "name": "stderr",
     "output_type": "stream",
     "text": []
    },
    {
     "name": "stdout",
     "output_type": "stream",
     "text": [
      "CompletedProcess(args=['/home/ali/.venv/bin/python', '/home/ali/QGIS-MobilityDB/experiment9_sql_optimization/generate_matrix_before_optimization.py', '20', '29', '0.5', '-180', '-90', '180', '90', '2023-06-01 00:00:20', '86399', 'SECOND', '/home/ali/matrices/10_0.5', 'mobilitydb', 'pymeos_demo', 'MMSI', 'trajectory'], returncode=0, stdout='================================================================     Matrix 20 created in 0.129256010055542 seconds, 3.8776803016662598 frames for 30 fps animation.\\n', stderr='')\n"
     ]
    },
    {
     "name": "stderr",
     "output_type": "stream",
     "text": []
    },
    {
     "name": "stdout",
     "output_type": "stream",
     "text": [
      "CompletedProcess(args=['/home/ali/.venv/bin/python', '/home/ali/QGIS-MobilityDB/experiment9_sql_optimization/generate_matrix_before_optimization.py', '30', '39', '0.5', '-180', '-90', '180', '90', '2023-06-01 00:00:30', '86399', 'SECOND', '/home/ali/matrices/10_0.5', 'mobilitydb', 'pymeos_demo', 'MMSI', 'trajectory'], returncode=0, stdout='================================================================     Matrix 30 created in 0.1503140926361084 seconds, 4.509422779083252 frames for 30 fps animation.\\n', stderr='')\n"
     ]
    },
    {
     "name": "stderr",
     "output_type": "stream",
     "text": []
    },
    {
     "name": "stdout",
     "output_type": "stream",
     "text": [
      "CompletedProcess(args=['/home/ali/.venv/bin/python', '/home/ali/QGIS-MobilityDB/experiment9_sql_optimization/generate_matrix_before_optimization.py', '40', '49', '0.5', '-180', '-90', '180', '90', '2023-06-01 00:00:40', '86399', 'SECOND', '/home/ali/matrices/10_0.5', 'mobilitydb', 'pymeos_demo', 'MMSI', 'trajectory'], returncode=0, stdout='================================================================     Matrix 40 created in 0.15063047409057617 seconds, 4.518914222717285 frames for 30 fps animation.\\n', stderr='')\n"
     ]
    },
    {
     "name": "stderr",
     "output_type": "stream",
     "text": []
    },
    {
     "name": "stdout",
     "output_type": "stream",
     "text": [
      "CompletedProcess(args=['/home/ali/.venv/bin/python', '/home/ali/QGIS-MobilityDB/experiment9_sql_optimization/generate_matrix_before_optimization.py', '50', '59', '0.5', '-180', '-90', '180', '90', '2023-06-01 00:00:50', '86399', 'SECOND', '/home/ali/matrices/10_0.5', 'mobilitydb', 'pymeos_demo', 'MMSI', 'trajectory'], returncode=0, stdout='================================================================     Matrix 50 created in 0.16493916511535645 seconds, 4.948174953460693 frames for 30 fps animation.\\n', stderr='')\n"
     ]
    },
    {
     "name": "stderr",
     "output_type": "stream",
     "text": []
    },
    {
     "name": "stdout",
     "output_type": "stream",
     "text": [
      "CompletedProcess(args=['/home/ali/.venv/bin/python', '/home/ali/QGIS-MobilityDB/experiment9_sql_optimization/generate_matrix_before_optimization.py', '60', '69', '0.5', '-180', '-90', '180', '90', '2023-06-01 00:01:00', '86399', 'SECOND', '/home/ali/matrices/10_0.5', 'mobilitydb', 'pymeos_demo', 'MMSI', 'trajectory'], returncode=0, stdout='================================================================     Matrix 60 created in 0.18639612197875977 seconds, 5.591883659362793 frames for 30 fps animation.\\n', stderr='')\n"
     ]
    },
    {
     "name": "stderr",
     "output_type": "stream",
     "text": []
    },
    {
     "name": "stdout",
     "output_type": "stream",
     "text": [
      "CompletedProcess(args=['/home/ali/.venv/bin/python', '/home/ali/QGIS-MobilityDB/experiment9_sql_optimization/generate_matrix_before_optimization.py', '70', '79', '0.5', '-180', '-90', '180', '90', '2023-06-01 00:01:10', '86399', 'SECOND', '/home/ali/matrices/10_0.5', 'mobilitydb', 'pymeos_demo', 'MMSI', 'trajectory'], returncode=0, stdout='================================================================     Matrix 70 created in 0.194993257522583 seconds, 5.84979772567749 frames for 30 fps animation.\\n', stderr='')\n"
     ]
    },
    {
     "name": "stderr",
     "output_type": "stream",
     "text": []
    },
    {
     "name": "stdout",
     "output_type": "stream",
     "text": [
      "CompletedProcess(args=['/home/ali/.venv/bin/python', '/home/ali/QGIS-MobilityDB/experiment9_sql_optimization/generate_matrix_before_optimization.py', '80', '89', '0.5', '-180', '-90', '180', '90', '2023-06-01 00:01:20', '86399', 'SECOND', '/home/ali/matrices/10_0.5', 'mobilitydb', 'pymeos_demo', 'MMSI', 'trajectory'], returncode=0, stdout='================================================================     Matrix 80 created in 0.20849013328552246 seconds, 6.254703998565674 frames for 30 fps animation.\\n', stderr='')\n"
     ]
    },
    {
     "name": "stderr",
     "output_type": "stream",
     "text": [
      "Time delta (90, 99): 100%|██████████| 10/10 [00:04<00:00,  2.05it/s]\n",
      "Combination (10, 1):  11%|█         | 2/18 [00:07<01:03,  3.98s/it]  "
     ]
    },
    {
     "name": "stdout",
     "output_type": "stream",
     "text": [
      "CompletedProcess(args=['/home/ali/.venv/bin/python', '/home/ali/QGIS-MobilityDB/experiment9_sql_optimization/generate_matrix_before_optimization.py', '90', '99', '0.5', '-180', '-90', '180', '90', '2023-06-01 00:01:30', '86399', 'SECOND', '/home/ali/matrices/10_0.5', 'mobilitydb', 'pymeos_demo', 'MMSI', 'trajectory'], returncode=0, stdout='================================================================     Matrix 90 created in 0.21628785133361816 seconds, 6.488635540008545 frames for 30 fps animation.\\n', stderr='')\n"
     ]
    },
    {
     "name": "stderr",
     "output_type": "stream",
     "text": []
    },
    {
     "name": "stdout",
     "output_type": "stream",
     "text": [
      "CompletedProcess(args=['/home/ali/.venv/bin/python', '/home/ali/QGIS-MobilityDB/experiment9_sql_optimization/generate_matrix_before_optimization.py', '0', '9', '1', '-180', '-90', '180', '90', '2023-06-01 00:00:00', '86399', 'SECOND', '/home/ali/matrices/10_1', 'mobilitydb', 'pymeos_demo', 'MMSI', 'trajectory'], returncode=0, stdout='================================================================     Matrix 0 created in 0.14246344566345215 seconds, 4.2739033699035645 frames for 30 fps animation.\\n', stderr='')\n"
     ]
    },
    {
     "name": "stderr",
     "output_type": "stream",
     "text": []
    },
    {
     "name": "stdout",
     "output_type": "stream",
     "text": [
      "CompletedProcess(args=['/home/ali/.venv/bin/python', '/home/ali/QGIS-MobilityDB/experiment9_sql_optimization/generate_matrix_before_optimization.py', '10', '19', '1', '-180', '-90', '180', '90', '2023-06-01 00:00:10', '86399', 'SECOND', '/home/ali/matrices/10_1', 'mobilitydb', 'pymeos_demo', 'MMSI', 'trajectory'], returncode=0, stdout='================================================================     Matrix 10 created in 0.25038719177246094 seconds, 7.511615753173828 frames for 30 fps animation.\\n', stderr='')\n"
     ]
    },
    {
     "name": "stderr",
     "output_type": "stream",
     "text": []
    },
    {
     "name": "stdout",
     "output_type": "stream",
     "text": [
      "CompletedProcess(args=['/home/ali/.venv/bin/python', '/home/ali/QGIS-MobilityDB/experiment9_sql_optimization/generate_matrix_before_optimization.py', '20', '29', '1', '-180', '-90', '180', '90', '2023-06-01 00:00:20', '86399', 'SECOND', '/home/ali/matrices/10_1', 'mobilitydb', 'pymeos_demo', 'MMSI', 'trajectory'], returncode=0, stdout='================================================================     Matrix 20 created in 0.30260157585144043 seconds, 9.078047275543213 frames for 30 fps animation.\\n', stderr='')\n"
     ]
    },
    {
     "name": "stderr",
     "output_type": "stream",
     "text": []
    },
    {
     "name": "stdout",
     "output_type": "stream",
     "text": [
      "CompletedProcess(args=['/home/ali/.venv/bin/python', '/home/ali/QGIS-MobilityDB/experiment9_sql_optimization/generate_matrix_before_optimization.py', '30', '39', '1', '-180', '-90', '180', '90', '2023-06-01 00:00:30', '86399', 'SECOND', '/home/ali/matrices/10_1', 'mobilitydb', 'pymeos_demo', 'MMSI', 'trajectory'], returncode=0, stdout='================================================================     Matrix 30 created in 0.30095338821411133 seconds, 9.02860164642334 frames for 30 fps animation.\\n', stderr='')\n"
     ]
    },
    {
     "name": "stderr",
     "output_type": "stream",
     "text": []
    },
    {
     "name": "stdout",
     "output_type": "stream",
     "text": [
      "CompletedProcess(args=['/home/ali/.venv/bin/python', '/home/ali/QGIS-MobilityDB/experiment9_sql_optimization/generate_matrix_before_optimization.py', '40', '49', '1', '-180', '-90', '180', '90', '2023-06-01 00:00:40', '86399', 'SECOND', '/home/ali/matrices/10_1', 'mobilitydb', 'pymeos_demo', 'MMSI', 'trajectory'], returncode=0, stdout='================================================================     Matrix 40 created in 0.33098769187927246 seconds, 9.929630756378174 frames for 30 fps animation.\\n', stderr='')\n"
     ]
    },
    {
     "name": "stderr",
     "output_type": "stream",
     "text": []
    },
    {
     "name": "stdout",
     "output_type": "stream",
     "text": [
      "CompletedProcess(args=['/home/ali/.venv/bin/python', '/home/ali/QGIS-MobilityDB/experiment9_sql_optimization/generate_matrix_before_optimization.py', '50', '59', '1', '-180', '-90', '180', '90', '2023-06-01 00:00:50', '86399', 'SECOND', '/home/ali/matrices/10_1', 'mobilitydb', 'pymeos_demo', 'MMSI', 'trajectory'], returncode=0, stdout='================================================================     Matrix 50 created in 0.3666696548461914 seconds, 11.000089645385742 frames for 30 fps animation.\\n', stderr='')\n"
     ]
    },
    {
     "name": "stderr",
     "output_type": "stream",
     "text": []
    },
    {
     "name": "stdout",
     "output_type": "stream",
     "text": [
      "CompletedProcess(args=['/home/ali/.venv/bin/python', '/home/ali/QGIS-MobilityDB/experiment9_sql_optimization/generate_matrix_before_optimization.py', '60', '69', '1', '-180', '-90', '180', '90', '2023-06-01 00:01:00', '86399', 'SECOND', '/home/ali/matrices/10_1', 'mobilitydb', 'pymeos_demo', 'MMSI', 'trajectory'], returncode=0, stdout='================================================================     Matrix 60 created in 0.3920319080352783 seconds, 11.76095724105835 frames for 30 fps animation.\\n', stderr='')\n"
     ]
    },
    {
     "name": "stderr",
     "output_type": "stream",
     "text": []
    },
    {
     "name": "stdout",
     "output_type": "stream",
     "text": [
      "CompletedProcess(args=['/home/ali/.venv/bin/python', '/home/ali/QGIS-MobilityDB/experiment9_sql_optimization/generate_matrix_before_optimization.py', '70', '79', '1', '-180', '-90', '180', '90', '2023-06-01 00:01:10', '86399', 'SECOND', '/home/ali/matrices/10_1', 'mobilitydb', 'pymeos_demo', 'MMSI', 'trajectory'], returncode=0, stdout='================================================================     Matrix 70 created in 0.3967912197113037 seconds, 11.903736591339111 frames for 30 fps animation.\\n', stderr='')\n"
     ]
    },
    {
     "name": "stderr",
     "output_type": "stream",
     "text": []
    },
    {
     "name": "stdout",
     "output_type": "stream",
     "text": [
      "CompletedProcess(args=['/home/ali/.venv/bin/python', '/home/ali/QGIS-MobilityDB/experiment9_sql_optimization/generate_matrix_before_optimization.py', '80', '89', '1', '-180', '-90', '180', '90', '2023-06-01 00:01:20', '86399', 'SECOND', '/home/ali/matrices/10_1', 'mobilitydb', 'pymeos_demo', 'MMSI', 'trajectory'], returncode=0, stdout='================================================================     Matrix 80 created in 0.4398012161254883 seconds, 13.194036483764648 frames for 30 fps animation.\\n', stderr='')\n"
     ]
    },
    {
     "name": "stderr",
     "output_type": "stream",
     "text": [
      "Time delta (90, 99): 100%|██████████| 10/10 [00:08<00:00,  1.17it/s]\n",
      "Combination (60, 0.1):  17%|█▋        | 3/18 [00:16<01:31,  6.07s/it]"
     ]
    },
    {
     "name": "stdout",
     "output_type": "stream",
     "text": [
      "CompletedProcess(args=['/home/ali/.venv/bin/python', '/home/ali/QGIS-MobilityDB/experiment9_sql_optimization/generate_matrix_before_optimization.py', '90', '99', '1', '-180', '-90', '180', '90', '2023-06-01 00:01:30', '86399', 'SECOND', '/home/ali/matrices/10_1', 'mobilitydb', 'pymeos_demo', 'MMSI', 'trajectory'], returncode=0, stdout='================================================================     Matrix 90 created in 0.45144176483154297 seconds, 13.543252944946289 frames for 30 fps animation.\\n', stderr='')\n"
     ]
    },
    {
     "name": "stderr",
     "output_type": "stream",
     "text": []
    },
    {
     "name": "stdout",
     "output_type": "stream",
     "text": [
      "CompletedProcess(args=['/home/ali/.venv/bin/python', '/home/ali/QGIS-MobilityDB/experiment9_sql_optimization/generate_matrix_before_optimization.py', '0', '59', '0.1', '-180', '-90', '180', '90', '2023-06-01 00:00:00', '86399', 'SECOND', '/home/ali/matrices/60_0.1', 'mobilitydb', 'pymeos_demo', 'MMSI', 'trajectory'], returncode=0, stdout='================================================================     Matrix 0 created in 0.05389571189880371 seconds, 1.6168713569641113 frames for 30 fps animation.\\n', stderr='')\n"
     ]
    },
    {
     "name": "stderr",
     "output_type": "stream",
     "text": []
    },
    {
     "name": "stdout",
     "output_type": "stream",
     "text": [
      "CompletedProcess(args=['/home/ali/.venv/bin/python', '/home/ali/QGIS-MobilityDB/experiment9_sql_optimization/generate_matrix_before_optimization.py', '60', '119', '0.1', '-180', '-90', '180', '90', '2023-06-01 00:01:00', '86399', 'SECOND', '/home/ali/matrices/60_0.1', 'mobilitydb', 'pymeos_demo', 'MMSI', 'trajectory'], returncode=0, stdout='================================================================     Matrix 60 created in 0.10283851623535156 seconds, 3.085155487060547 frames for 30 fps animation.\\n', stderr='')\n"
     ]
    },
    {
     "name": "stderr",
     "output_type": "stream",
     "text": []
    },
    {
     "name": "stdout",
     "output_type": "stream",
     "text": [
      "CompletedProcess(args=['/home/ali/.venv/bin/python', '/home/ali/QGIS-MobilityDB/experiment9_sql_optimization/generate_matrix_before_optimization.py', '120', '179', '0.1', '-180', '-90', '180', '90', '2023-06-01 00:02:00', '86399', 'SECOND', '/home/ali/matrices/60_0.1', 'mobilitydb', 'pymeos_demo', 'MMSI', 'trajectory'], returncode=0, stdout='================================================================     Matrix 120 created in 0.11842870712280273 seconds, 3.552861213684082 frames for 30 fps animation.\\n', stderr='')\n"
     ]
    },
    {
     "name": "stderr",
     "output_type": "stream",
     "text": []
    },
    {
     "name": "stdout",
     "output_type": "stream",
     "text": [
      "CompletedProcess(args=['/home/ali/.venv/bin/python', '/home/ali/QGIS-MobilityDB/experiment9_sql_optimization/generate_matrix_before_optimization.py', '180', '239', '0.1', '-180', '-90', '180', '90', '2023-06-01 00:03:00', '86399', 'SECOND', '/home/ali/matrices/60_0.1', 'mobilitydb', 'pymeos_demo', 'MMSI', 'trajectory'], returncode=0, stdout='================================================================     Matrix 180 created in 0.12064385414123535 seconds, 3.6193156242370605 frames for 30 fps animation.\\n', stderr='')\n"
     ]
    },
    {
     "name": "stderr",
     "output_type": "stream",
     "text": []
    },
    {
     "name": "stdout",
     "output_type": "stream",
     "text": [
      "CompletedProcess(args=['/home/ali/.venv/bin/python', '/home/ali/QGIS-MobilityDB/experiment9_sql_optimization/generate_matrix_before_optimization.py', '240', '299', '0.1', '-180', '-90', '180', '90', '2023-06-01 00:04:00', '86399', 'SECOND', '/home/ali/matrices/60_0.1', 'mobilitydb', 'pymeos_demo', 'MMSI', 'trajectory'], returncode=0, stdout='================================================================     Matrix 240 created in 0.12969398498535156 seconds, 3.890819549560547 frames for 30 fps animation.\\n', stderr='')\n"
     ]
    },
    {
     "name": "stderr",
     "output_type": "stream",
     "text": []
    },
    {
     "name": "stdout",
     "output_type": "stream",
     "text": [
      "CompletedProcess(args=['/home/ali/.venv/bin/python', '/home/ali/QGIS-MobilityDB/experiment9_sql_optimization/generate_matrix_before_optimization.py', '300', '359', '0.1', '-180', '-90', '180', '90', '2023-06-01 00:05:00', '86399', 'SECOND', '/home/ali/matrices/60_0.1', 'mobilitydb', 'pymeos_demo', 'MMSI', 'trajectory'], returncode=0, stdout='================================================================     Matrix 300 created in 0.1335153579711914 seconds, 4.005460739135742 frames for 30 fps animation.\\n', stderr='')\n"
     ]
    },
    {
     "name": "stderr",
     "output_type": "stream",
     "text": []
    },
    {
     "name": "stdout",
     "output_type": "stream",
     "text": [
      "CompletedProcess(args=['/home/ali/.venv/bin/python', '/home/ali/QGIS-MobilityDB/experiment9_sql_optimization/generate_matrix_before_optimization.py', '360', '419', '0.1', '-180', '-90', '180', '90', '2023-06-01 00:06:00', '86399', 'SECOND', '/home/ali/matrices/60_0.1', 'mobilitydb', 'pymeos_demo', 'MMSI', 'trajectory'], returncode=0, stdout='================================================================     Matrix 360 created in 0.15224289894104004 seconds, 4.567286968231201 frames for 30 fps animation.\\n', stderr='')\n"
     ]
    },
    {
     "name": "stderr",
     "output_type": "stream",
     "text": []
    },
    {
     "name": "stdout",
     "output_type": "stream",
     "text": [
      "CompletedProcess(args=['/home/ali/.venv/bin/python', '/home/ali/QGIS-MobilityDB/experiment9_sql_optimization/generate_matrix_before_optimization.py', '420', '479', '0.1', '-180', '-90', '180', '90', '2023-06-01 00:07:00', '86399', 'SECOND', '/home/ali/matrices/60_0.1', 'mobilitydb', 'pymeos_demo', 'MMSI', 'trajectory'], returncode=0, stdout='================================================================     Matrix 420 created in 0.14472126960754395 seconds, 4.341638088226318 frames for 30 fps animation.\\n', stderr='')\n"
     ]
    },
    {
     "name": "stderr",
     "output_type": "stream",
     "text": []
    },
    {
     "name": "stdout",
     "output_type": "stream",
     "text": [
      "CompletedProcess(args=['/home/ali/.venv/bin/python', '/home/ali/QGIS-MobilityDB/experiment9_sql_optimization/generate_matrix_before_optimization.py', '480', '539', '0.1', '-180', '-90', '180', '90', '2023-06-01 00:08:00', '86399', 'SECOND', '/home/ali/matrices/60_0.1', 'mobilitydb', 'pymeos_demo', 'MMSI', 'trajectory'], returncode=0, stdout='================================================================     Matrix 480 created in 0.13988256454467773 seconds, 4.196476936340332 frames for 30 fps animation.\\n', stderr='')\n"
     ]
    },
    {
     "name": "stderr",
     "output_type": "stream",
     "text": [
      "Time delta (540, 599): 100%|██████████| 10/10 [00:03<00:00,  2.67it/s]\n",
      "Combination (60, 0.5):  22%|██▏       | 4/18 [00:19<01:12,  5.15s/it]"
     ]
    },
    {
     "name": "stdout",
     "output_type": "stream",
     "text": [
      "CompletedProcess(args=['/home/ali/.venv/bin/python', '/home/ali/QGIS-MobilityDB/experiment9_sql_optimization/generate_matrix_before_optimization.py', '540', '599', '0.1', '-180', '-90', '180', '90', '2023-06-01 00:09:00', '86399', 'SECOND', '/home/ali/matrices/60_0.1', 'mobilitydb', 'pymeos_demo', 'MMSI', 'trajectory'], returncode=0, stdout='================================================================     Matrix 540 created in 0.1428663730621338 seconds, 4.285991191864014 frames for 30 fps animation.\\n', stderr='')\n"
     ]
    },
    {
     "name": "stderr",
     "output_type": "stream",
     "text": []
    },
    {
     "name": "stdout",
     "output_type": "stream",
     "text": [
      "CompletedProcess(args=['/home/ali/.venv/bin/python', '/home/ali/QGIS-MobilityDB/experiment9_sql_optimization/generate_matrix_before_optimization.py', '0', '59', '0.5', '-180', '-90', '180', '90', '2023-06-01 00:00:00', '86399', 'SECOND', '/home/ali/matrices/60_0.5', 'mobilitydb', 'pymeos_demo', 'MMSI', 'trajectory'], returncode=0, stdout='================================================================     Matrix 0 created in 0.37523555755615234 seconds, 11.25706672668457 frames for 30 fps animation.\\n', stderr='')\n"
     ]
    },
    {
     "name": "stderr",
     "output_type": "stream",
     "text": []
    },
    {
     "name": "stdout",
     "output_type": "stream",
     "text": [
      "CompletedProcess(args=['/home/ali/.venv/bin/python', '/home/ali/QGIS-MobilityDB/experiment9_sql_optimization/generate_matrix_before_optimization.py', '60', '119', '0.5', '-180', '-90', '180', '90', '2023-06-01 00:01:00', '86399', 'SECOND', '/home/ali/matrices/60_0.5', 'mobilitydb', 'pymeos_demo', 'MMSI', 'trajectory'], returncode=0, stdout='================================================================     Matrix 60 created in 0.7190942764282227 seconds, 21.57282829284668 frames for 30 fps animation.\\n', stderr='')\n"
     ]
    },
    {
     "name": "stderr",
     "output_type": "stream",
     "text": []
    },
    {
     "name": "stdout",
     "output_type": "stream",
     "text": [
      "CompletedProcess(args=['/home/ali/.venv/bin/python', '/home/ali/QGIS-MobilityDB/experiment9_sql_optimization/generate_matrix_before_optimization.py', '120', '179', '0.5', '-180', '-90', '180', '90', '2023-06-01 00:02:00', '86399', 'SECOND', '/home/ali/matrices/60_0.5', 'mobilitydb', 'pymeos_demo', 'MMSI', 'trajectory'], returncode=0, stdout='================================================================     Matrix 120 created in 0.8075134754180908 seconds, 24.225404262542725 frames for 30 fps animation.\\n', stderr='')\n"
     ]
    },
    {
     "name": "stderr",
     "output_type": "stream",
     "text": []
    },
    {
     "name": "stdout",
     "output_type": "stream",
     "text": [
      "CompletedProcess(args=['/home/ali/.venv/bin/python', '/home/ali/QGIS-MobilityDB/experiment9_sql_optimization/generate_matrix_before_optimization.py', '180', '239', '0.5', '-180', '-90', '180', '90', '2023-06-01 00:03:00', '86399', 'SECOND', '/home/ali/matrices/60_0.5', 'mobilitydb', 'pymeos_demo', 'MMSI', 'trajectory'], returncode=0, stdout='================================================================     Matrix 180 created in 0.876838207244873 seconds, 26.30514621734619 frames for 30 fps animation.\\n', stderr='')\n"
     ]
    },
    {
     "name": "stderr",
     "output_type": "stream",
     "text": []
    },
    {
     "name": "stdout",
     "output_type": "stream",
     "text": [
      "CompletedProcess(args=['/home/ali/.venv/bin/python', '/home/ali/QGIS-MobilityDB/experiment9_sql_optimization/generate_matrix_before_optimization.py', '240', '299', '0.5', '-180', '-90', '180', '90', '2023-06-01 00:04:00', '86399', 'SECOND', '/home/ali/matrices/60_0.5', 'mobilitydb', 'pymeos_demo', 'MMSI', 'trajectory'], returncode=0, stdout='================================================================     Matrix 240 created in 0.8632376194000244 seconds, 25.897128582000732 frames for 30 fps animation.\\n', stderr='')\n"
     ]
    },
    {
     "name": "stderr",
     "output_type": "stream",
     "text": []
    },
    {
     "name": "stdout",
     "output_type": "stream",
     "text": [
      "CompletedProcess(args=['/home/ali/.venv/bin/python', '/home/ali/QGIS-MobilityDB/experiment9_sql_optimization/generate_matrix_before_optimization.py', '300', '359', '0.5', '-180', '-90', '180', '90', '2023-06-01 00:05:00', '86399', 'SECOND', '/home/ali/matrices/60_0.5', 'mobilitydb', 'pymeos_demo', 'MMSI', 'trajectory'], returncode=0, stdout='================================================================     Matrix 300 created in 0.900322675704956 seconds, 27.00968027114868 frames for 30 fps animation.\\n', stderr='')\n"
     ]
    },
    {
     "name": "stderr",
     "output_type": "stream",
     "text": []
    },
    {
     "name": "stdout",
     "output_type": "stream",
     "text": [
      "CompletedProcess(args=['/home/ali/.venv/bin/python', '/home/ali/QGIS-MobilityDB/experiment9_sql_optimization/generate_matrix_before_optimization.py', '360', '419', '0.5', '-180', '-90', '180', '90', '2023-06-01 00:06:00', '86399', 'SECOND', '/home/ali/matrices/60_0.5', 'mobilitydb', 'pymeos_demo', 'MMSI', 'trajectory'], returncode=0, stdout='================================================================     Matrix 360 created in 0.9159700870513916 seconds, 27.479102611541748 frames for 30 fps animation.\\n', stderr='')\n"
     ]
    },
    {
     "name": "stderr",
     "output_type": "stream",
     "text": []
    },
    {
     "name": "stdout",
     "output_type": "stream",
     "text": [
      "CompletedProcess(args=['/home/ali/.venv/bin/python', '/home/ali/QGIS-MobilityDB/experiment9_sql_optimization/generate_matrix_before_optimization.py', '420', '479', '0.5', '-180', '-90', '180', '90', '2023-06-01 00:07:00', '86399', 'SECOND', '/home/ali/matrices/60_0.5', 'mobilitydb', 'pymeos_demo', 'MMSI', 'trajectory'], returncode=0, stdout='================================================================     Matrix 420 created in 0.9514551162719727 seconds, 28.54365348815918 frames for 30 fps animation.\\n', stderr='')\n"
     ]
    },
    {
     "name": "stderr",
     "output_type": "stream",
     "text": []
    },
    {
     "name": "stdout",
     "output_type": "stream",
     "text": [
      "CompletedProcess(args=['/home/ali/.venv/bin/python', '/home/ali/QGIS-MobilityDB/experiment9_sql_optimization/generate_matrix_before_optimization.py', '480', '539', '0.5', '-180', '-90', '180', '90', '2023-06-01 00:08:00', '86399', 'SECOND', '/home/ali/matrices/60_0.5', 'mobilitydb', 'pymeos_demo', 'MMSI', 'trajectory'], returncode=0, stdout='================================================================     Matrix 480 created in 0.9124624729156494 seconds, 27.373874187469482 frames for 30 fps animation.\\n', stderr='')\n"
     ]
    },
    {
     "name": "stderr",
     "output_type": "stream",
     "text": [
      "Time delta (540, 599): 100%|██████████| 10/10 [00:11<00:00,  1.18s/it]\n",
      "Combination (60, 1):  28%|██▊       | 5/18 [00:31<01:38,  7.57s/it]  "
     ]
    },
    {
     "name": "stdout",
     "output_type": "stream",
     "text": [
      "CompletedProcess(args=['/home/ali/.venv/bin/python', '/home/ali/QGIS-MobilityDB/experiment9_sql_optimization/generate_matrix_before_optimization.py', '540', '599', '0.5', '-180', '-90', '180', '90', '2023-06-01 00:09:00', '86399', 'SECOND', '/home/ali/matrices/60_0.5', 'mobilitydb', 'pymeos_demo', 'MMSI', 'trajectory'], returncode=0, stdout='================================================================     Matrix 540 created in 0.9536397457122803 seconds, 28.609192371368408 frames for 30 fps animation.\\n', stderr='')\n"
     ]
    },
    {
     "name": "stderr",
     "output_type": "stream",
     "text": []
    },
    {
     "name": "stdout",
     "output_type": "stream",
     "text": [
      "CompletedProcess(args=['/home/ali/.venv/bin/python', '/home/ali/QGIS-MobilityDB/experiment9_sql_optimization/generate_matrix_before_optimization.py', '0', '59', '1', '-180', '-90', '180', '90', '2023-06-01 00:00:00', '86399', 'SECOND', '/home/ali/matrices/60_1', 'mobilitydb', 'pymeos_demo', 'MMSI', 'trajectory'], returncode=0, stdout='================================================================     Matrix 0 created in 0.8593194484710693 seconds, 25.77958345413208 frames for 30 fps animation.\\n', stderr='')\n"
     ]
    },
    {
     "name": "stderr",
     "output_type": "stream",
     "text": []
    },
    {
     "name": "stdout",
     "output_type": "stream",
     "text": [
      "CompletedProcess(args=['/home/ali/.venv/bin/python', '/home/ali/QGIS-MobilityDB/experiment9_sql_optimization/generate_matrix_before_optimization.py', '60', '119', '1', '-180', '-90', '180', '90', '2023-06-01 00:01:00', '86399', 'SECOND', '/home/ali/matrices/60_1', 'mobilitydb', 'pymeos_demo', 'MMSI', 'trajectory'], returncode=0, stdout='================================================================     Matrix 60 created in 1.522144079208374 seconds, 45.66432237625122 frames for 30 fps animation.\\n', stderr='')\n"
     ]
    },
    {
     "name": "stderr",
     "output_type": "stream",
     "text": []
    },
    {
     "name": "stdout",
     "output_type": "stream",
     "text": [
      "CompletedProcess(args=['/home/ali/.venv/bin/python', '/home/ali/QGIS-MobilityDB/experiment9_sql_optimization/generate_matrix_before_optimization.py', '120', '179', '1', '-180', '-90', '180', '90', '2023-06-01 00:02:00', '86399', 'SECOND', '/home/ali/matrices/60_1', 'mobilitydb', 'pymeos_demo', 'MMSI', 'trajectory'], returncode=0, stdout='================================================================     Matrix 120 created in 1.7426931858062744 seconds, 52.28079557418823 frames for 30 fps animation.\\n', stderr='')\n"
     ]
    },
    {
     "name": "stderr",
     "output_type": "stream",
     "text": []
    },
    {
     "name": "stdout",
     "output_type": "stream",
     "text": [
      "CompletedProcess(args=['/home/ali/.venv/bin/python', '/home/ali/QGIS-MobilityDB/experiment9_sql_optimization/generate_matrix_before_optimization.py', '180', '239', '1', '-180', '-90', '180', '90', '2023-06-01 00:03:00', '86399', 'SECOND', '/home/ali/matrices/60_1', 'mobilitydb', 'pymeos_demo', 'MMSI', 'trajectory'], returncode=0, stdout='================================================================     Matrix 180 created in 1.843865156173706 seconds, 55.31595468521118 frames for 30 fps animation.\\n', stderr='')\n"
     ]
    },
    {
     "name": "stderr",
     "output_type": "stream",
     "text": []
    },
    {
     "name": "stdout",
     "output_type": "stream",
     "text": [
      "CompletedProcess(args=['/home/ali/.venv/bin/python', '/home/ali/QGIS-MobilityDB/experiment9_sql_optimization/generate_matrix_before_optimization.py', '240', '299', '1', '-180', '-90', '180', '90', '2023-06-01 00:04:00', '86399', 'SECOND', '/home/ali/matrices/60_1', 'mobilitydb', 'pymeos_demo', 'MMSI', 'trajectory'], returncode=0, stdout='================================================================     Matrix 240 created in 1.8792307376861572 seconds, 56.37692213058472 frames for 30 fps animation.\\n', stderr='')\n"
     ]
    },
    {
     "name": "stderr",
     "output_type": "stream",
     "text": []
    },
    {
     "name": "stdout",
     "output_type": "stream",
     "text": [
      "CompletedProcess(args=['/home/ali/.venv/bin/python', '/home/ali/QGIS-MobilityDB/experiment9_sql_optimization/generate_matrix_before_optimization.py', '300', '359', '1', '-180', '-90', '180', '90', '2023-06-01 00:05:00', '86399', 'SECOND', '/home/ali/matrices/60_1', 'mobilitydb', 'pymeos_demo', 'MMSI', 'trajectory'], returncode=0, stdout='================================================================     Matrix 300 created in 1.8316740989685059 seconds, 54.950222969055176 frames for 30 fps animation.\\n', stderr='')\n"
     ]
    },
    {
     "name": "stderr",
     "output_type": "stream",
     "text": []
    },
    {
     "name": "stdout",
     "output_type": "stream",
     "text": [
      "CompletedProcess(args=['/home/ali/.venv/bin/python', '/home/ali/QGIS-MobilityDB/experiment9_sql_optimization/generate_matrix_before_optimization.py', '360', '419', '1', '-180', '-90', '180', '90', '2023-06-01 00:06:00', '86399', 'SECOND', '/home/ali/matrices/60_1', 'mobilitydb', 'pymeos_demo', 'MMSI', 'trajectory'], returncode=0, stdout='================================================================     Matrix 360 created in 1.8974626064300537 seconds, 56.92387819290161 frames for 30 fps animation.\\n', stderr='')\n"
     ]
    },
    {
     "name": "stderr",
     "output_type": "stream",
     "text": []
    },
    {
     "name": "stdout",
     "output_type": "stream",
     "text": [
      "CompletedProcess(args=['/home/ali/.venv/bin/python', '/home/ali/QGIS-MobilityDB/experiment9_sql_optimization/generate_matrix_before_optimization.py', '420', '479', '1', '-180', '-90', '180', '90', '2023-06-01 00:07:00', '86399', 'SECOND', '/home/ali/matrices/60_1', 'mobilitydb', 'pymeos_demo', 'MMSI', 'trajectory'], returncode=0, stdout='================================================================     Matrix 420 created in 1.862928867340088 seconds, 55.88786602020264 frames for 30 fps animation.\\n', stderr='')\n"
     ]
    },
    {
     "name": "stderr",
     "output_type": "stream",
     "text": []
    },
    {
     "name": "stdout",
     "output_type": "stream",
     "text": [
      "CompletedProcess(args=['/home/ali/.venv/bin/python', '/home/ali/QGIS-MobilityDB/experiment9_sql_optimization/generate_matrix_before_optimization.py', '480', '539', '1', '-180', '-90', '180', '90', '2023-06-01 00:08:00', '86399', 'SECOND', '/home/ali/matrices/60_1', 'mobilitydb', 'pymeos_demo', 'MMSI', 'trajectory'], returncode=0, stdout='================================================================     Matrix 480 created in 1.8757243156433105 seconds, 56.271729469299316 frames for 30 fps animation.\\n', stderr='')\n"
     ]
    },
    {
     "name": "stderr",
     "output_type": "stream",
     "text": [
      "Time delta (540, 599): 100%|██████████| 10/10 [00:22<00:00,  2.29s/it]\n",
      "Combination (120, 0.1):  33%|███▎      | 6/18 [00:54<02:33, 12.77s/it]"
     ]
    },
    {
     "name": "stdout",
     "output_type": "stream",
     "text": [
      "CompletedProcess(args=['/home/ali/.venv/bin/python', '/home/ali/QGIS-MobilityDB/experiment9_sql_optimization/generate_matrix_before_optimization.py', '540', '599', '1', '-180', '-90', '180', '90', '2023-06-01 00:09:00', '86399', 'SECOND', '/home/ali/matrices/60_1', 'mobilitydb', 'pymeos_demo', 'MMSI', 'trajectory'], returncode=0, stdout='================================================================     Matrix 540 created in 1.938624382019043 seconds, 58.15873146057129 frames for 30 fps animation.\\n', stderr='')\n"
     ]
    },
    {
     "name": "stderr",
     "output_type": "stream",
     "text": []
    },
    {
     "name": "stdout",
     "output_type": "stream",
     "text": [
      "CompletedProcess(args=['/home/ali/.venv/bin/python', '/home/ali/QGIS-MobilityDB/experiment9_sql_optimization/generate_matrix_before_optimization.py', '0', '119', '0.1', '-180', '-90', '180', '90', '2023-06-01 00:00:00', '86399', 'SECOND', '/home/ali/matrices/120_0.1', 'mobilitydb', 'pymeos_demo', 'MMSI', 'trajectory'], returncode=0, stdout='================================================================     Matrix 0 created in 0.11936163902282715 seconds, 3.5808491706848145 frames for 30 fps animation.\\n', stderr='')\n"
     ]
    },
    {
     "name": "stderr",
     "output_type": "stream",
     "text": []
    },
    {
     "name": "stdout",
     "output_type": "stream",
     "text": [
      "CompletedProcess(args=['/home/ali/.venv/bin/python', '/home/ali/QGIS-MobilityDB/experiment9_sql_optimization/generate_matrix_before_optimization.py', '120', '239', '0.1', '-180', '-90', '180', '90', '2023-06-01 00:02:00', '86399', 'SECOND', '/home/ali/matrices/120_0.1', 'mobilitydb', 'pymeos_demo', 'MMSI', 'trajectory'], returncode=0, stdout='================================================================     Matrix 120 created in 0.22229719161987305 seconds, 6.668915748596191 frames for 30 fps animation.\\n', stderr='')\n"
     ]
    },
    {
     "name": "stderr",
     "output_type": "stream",
     "text": []
    },
    {
     "name": "stdout",
     "output_type": "stream",
     "text": [
      "CompletedProcess(args=['/home/ali/.venv/bin/python', '/home/ali/QGIS-MobilityDB/experiment9_sql_optimization/generate_matrix_before_optimization.py', '240', '359', '0.1', '-180', '-90', '180', '90', '2023-06-01 00:04:00', '86399', 'SECOND', '/home/ali/matrices/120_0.1', 'mobilitydb', 'pymeos_demo', 'MMSI', 'trajectory'], returncode=0, stdout='================================================================     Matrix 240 created in 0.24147963523864746 seconds, 7.244389057159424 frames for 30 fps animation.\\n', stderr='')\n"
     ]
    },
    {
     "name": "stderr",
     "output_type": "stream",
     "text": []
    },
    {
     "name": "stdout",
     "output_type": "stream",
     "text": [
      "CompletedProcess(args=['/home/ali/.venv/bin/python', '/home/ali/QGIS-MobilityDB/experiment9_sql_optimization/generate_matrix_before_optimization.py', '360', '479', '0.1', '-180', '-90', '180', '90', '2023-06-01 00:06:00', '86399', 'SECOND', '/home/ali/matrices/120_0.1', 'mobilitydb', 'pymeos_demo', 'MMSI', 'trajectory'], returncode=0, stdout='================================================================     Matrix 360 created in 0.25955700874328613 seconds, 7.786710262298584 frames for 30 fps animation.\\n', stderr='')\n"
     ]
    },
    {
     "name": "stderr",
     "output_type": "stream",
     "text": []
    },
    {
     "name": "stdout",
     "output_type": "stream",
     "text": [
      "CompletedProcess(args=['/home/ali/.venv/bin/python', '/home/ali/QGIS-MobilityDB/experiment9_sql_optimization/generate_matrix_before_optimization.py', '480', '599', '0.1', '-180', '-90', '180', '90', '2023-06-01 00:08:00', '86399', 'SECOND', '/home/ali/matrices/120_0.1', 'mobilitydb', 'pymeos_demo', 'MMSI', 'trajectory'], returncode=0, stdout='================================================================     Matrix 480 created in 0.27828168869018555 seconds, 8.348450660705566 frames for 30 fps animation.\\n', stderr='')\n"
     ]
    },
    {
     "name": "stderr",
     "output_type": "stream",
     "text": []
    },
    {
     "name": "stdout",
     "output_type": "stream",
     "text": [
      "CompletedProcess(args=['/home/ali/.venv/bin/python', '/home/ali/QGIS-MobilityDB/experiment9_sql_optimization/generate_matrix_before_optimization.py', '600', '719', '0.1', '-180', '-90', '180', '90', '2023-06-01 00:10:00', '86399', 'SECOND', '/home/ali/matrices/120_0.1', 'mobilitydb', 'pymeos_demo', 'MMSI', 'trajectory'], returncode=0, stdout='================================================================     Matrix 600 created in 0.2802095413208008 seconds, 8.406286239624023 frames for 30 fps animation.\\n', stderr='')\n"
     ]
    },
    {
     "name": "stderr",
     "output_type": "stream",
     "text": []
    },
    {
     "name": "stdout",
     "output_type": "stream",
     "text": [
      "CompletedProcess(args=['/home/ali/.venv/bin/python', '/home/ali/QGIS-MobilityDB/experiment9_sql_optimization/generate_matrix_before_optimization.py', '720', '839', '0.1', '-180', '-90', '180', '90', '2023-06-01 00:12:00', '86399', 'SECOND', '/home/ali/matrices/120_0.1', 'mobilitydb', 'pymeos_demo', 'MMSI', 'trajectory'], returncode=0, stdout='================================================================     Matrix 720 created in 0.2745487689971924 seconds, 8.236463069915771 frames for 30 fps animation.\\n', stderr='')\n"
     ]
    },
    {
     "name": "stderr",
     "output_type": "stream",
     "text": []
    },
    {
     "name": "stdout",
     "output_type": "stream",
     "text": [
      "CompletedProcess(args=['/home/ali/.venv/bin/python', '/home/ali/QGIS-MobilityDB/experiment9_sql_optimization/generate_matrix_before_optimization.py', '840', '959', '0.1', '-180', '-90', '180', '90', '2023-06-01 00:14:00', '86399', 'SECOND', '/home/ali/matrices/120_0.1', 'mobilitydb', 'pymeos_demo', 'MMSI', 'trajectory'], returncode=0, stdout='================================================================     Matrix 840 created in 0.2808365821838379 seconds, 8.425097465515137 frames for 30 fps animation.\\n', stderr='')\n"
     ]
    },
    {
     "name": "stderr",
     "output_type": "stream",
     "text": []
    },
    {
     "name": "stdout",
     "output_type": "stream",
     "text": [
      "CompletedProcess(args=['/home/ali/.venv/bin/python', '/home/ali/QGIS-MobilityDB/experiment9_sql_optimization/generate_matrix_before_optimization.py', '960', '1079', '0.1', '-180', '-90', '180', '90', '2023-06-01 00:16:00', '86399', 'SECOND', '/home/ali/matrices/120_0.1', 'mobilitydb', 'pymeos_demo', 'MMSI', 'trajectory'], returncode=0, stdout='================================================================     Matrix 960 created in 0.3078880310058594 seconds, 9.236640930175781 frames for 30 fps animation.\\n', stderr='')\n"
     ]
    },
    {
     "name": "stderr",
     "output_type": "stream",
     "text": [
      "Time delta (1080, 1199): 100%|██████████| 10/10 [00:05<00:00,  1.95it/s]\n",
      "Combination (120, 0.5):  39%|███▉      | 7/18 [00:59<01:53, 10.27s/it]"
     ]
    },
    {
     "name": "stdout",
     "output_type": "stream",
     "text": [
      "CompletedProcess(args=['/home/ali/.venv/bin/python', '/home/ali/QGIS-MobilityDB/experiment9_sql_optimization/generate_matrix_before_optimization.py', '1080', '1199', '0.1', '-180', '-90', '180', '90', '2023-06-01 00:18:00', '86399', 'SECOND', '/home/ali/matrices/120_0.1', 'mobilitydb', 'pymeos_demo', 'MMSI', 'trajectory'], returncode=0, stdout='================================================================     Matrix 1080 created in 0.29743385314941406 seconds, 8.923015594482422 frames for 30 fps animation.\\n', stderr='')\n"
     ]
    },
    {
     "name": "stderr",
     "output_type": "stream",
     "text": []
    },
    {
     "name": "stdout",
     "output_type": "stream",
     "text": [
      "CompletedProcess(args=['/home/ali/.venv/bin/python', '/home/ali/QGIS-MobilityDB/experiment9_sql_optimization/generate_matrix_before_optimization.py', '0', '119', '0.5', '-180', '-90', '180', '90', '2023-06-01 00:00:00', '86399', 'SECOND', '/home/ali/matrices/120_0.5', 'mobilitydb', 'pymeos_demo', 'MMSI', 'trajectory'], returncode=0, stdout='================================================================     Matrix 0 created in 0.8915250301361084 seconds, 26.745750904083252 frames for 30 fps animation.\\n', stderr='')\n"
     ]
    },
    {
     "name": "stderr",
     "output_type": "stream",
     "text": []
    },
    {
     "name": "stdout",
     "output_type": "stream",
     "text": [
      "CompletedProcess(args=['/home/ali/.venv/bin/python', '/home/ali/QGIS-MobilityDB/experiment9_sql_optimization/generate_matrix_before_optimization.py', '120', '239', '0.5', '-180', '-90', '180', '90', '2023-06-01 00:02:00', '86399', 'SECOND', '/home/ali/matrices/120_0.5', 'mobilitydb', 'pymeos_demo', 'MMSI', 'trajectory'], returncode=0, stdout='================================================================     Matrix 120 created in 1.602489709854126 seconds, 48.07469129562378 frames for 30 fps animation.\\n', stderr='')\n"
     ]
    },
    {
     "name": "stderr",
     "output_type": "stream",
     "text": []
    },
    {
     "name": "stdout",
     "output_type": "stream",
     "text": [
      "CompletedProcess(args=['/home/ali/.venv/bin/python', '/home/ali/QGIS-MobilityDB/experiment9_sql_optimization/generate_matrix_before_optimization.py', '240', '359', '0.5', '-180', '-90', '180', '90', '2023-06-01 00:04:00', '86399', 'SECOND', '/home/ali/matrices/120_0.5', 'mobilitydb', 'pymeos_demo', 'MMSI', 'trajectory'], returncode=0, stdout='================================================================     Matrix 240 created in 1.6878132820129395 seconds, 50.634398460388184 frames for 30 fps animation.\\n', stderr='')\n"
     ]
    },
    {
     "name": "stderr",
     "output_type": "stream",
     "text": []
    },
    {
     "name": "stdout",
     "output_type": "stream",
     "text": [
      "CompletedProcess(args=['/home/ali/.venv/bin/python', '/home/ali/QGIS-MobilityDB/experiment9_sql_optimization/generate_matrix_before_optimization.py', '360', '479', '0.5', '-180', '-90', '180', '90', '2023-06-01 00:06:00', '86399', 'SECOND', '/home/ali/matrices/120_0.5', 'mobilitydb', 'pymeos_demo', 'MMSI', 'trajectory'], returncode=0, stdout='================================================================     Matrix 360 created in 1.7193007469177246 seconds, 51.57902240753174 frames for 30 fps animation.\\n', stderr='')\n"
     ]
    },
    {
     "name": "stderr",
     "output_type": "stream",
     "text": []
    },
    {
     "name": "stdout",
     "output_type": "stream",
     "text": [
      "CompletedProcess(args=['/home/ali/.venv/bin/python', '/home/ali/QGIS-MobilityDB/experiment9_sql_optimization/generate_matrix_before_optimization.py', '480', '599', '0.5', '-180', '-90', '180', '90', '2023-06-01 00:08:00', '86399', 'SECOND', '/home/ali/matrices/120_0.5', 'mobilitydb', 'pymeos_demo', 'MMSI', 'trajectory'], returncode=0, stdout='================================================================     Matrix 480 created in 1.749770164489746 seconds, 52.49310493469238 frames for 30 fps animation.\\n', stderr='')\n"
     ]
    },
    {
     "name": "stderr",
     "output_type": "stream",
     "text": []
    },
    {
     "name": "stdout",
     "output_type": "stream",
     "text": [
      "CompletedProcess(args=['/home/ali/.venv/bin/python', '/home/ali/QGIS-MobilityDB/experiment9_sql_optimization/generate_matrix_before_optimization.py', '600', '719', '0.5', '-180', '-90', '180', '90', '2023-06-01 00:10:00', '86399', 'SECOND', '/home/ali/matrices/120_0.5', 'mobilitydb', 'pymeos_demo', 'MMSI', 'trajectory'], returncode=0, stdout='================================================================     Matrix 600 created in 1.8816864490509033 seconds, 56.4505934715271 frames for 30 fps animation.\\n', stderr='')\n"
     ]
    },
    {
     "name": "stderr",
     "output_type": "stream",
     "text": []
    },
    {
     "name": "stdout",
     "output_type": "stream",
     "text": [
      "CompletedProcess(args=['/home/ali/.venv/bin/python', '/home/ali/QGIS-MobilityDB/experiment9_sql_optimization/generate_matrix_before_optimization.py', '720', '839', '0.5', '-180', '-90', '180', '90', '2023-06-01 00:12:00', '86399', 'SECOND', '/home/ali/matrices/120_0.5', 'mobilitydb', 'pymeos_demo', 'MMSI', 'trajectory'], returncode=0, stdout='================================================================     Matrix 720 created in 1.840423345565796 seconds, 55.21270036697388 frames for 30 fps animation.\\n', stderr='')\n"
     ]
    },
    {
     "name": "stderr",
     "output_type": "stream",
     "text": []
    },
    {
     "name": "stdout",
     "output_type": "stream",
     "text": [
      "CompletedProcess(args=['/home/ali/.venv/bin/python', '/home/ali/QGIS-MobilityDB/experiment9_sql_optimization/generate_matrix_before_optimization.py', '840', '959', '0.5', '-180', '-90', '180', '90', '2023-06-01 00:14:00', '86399', 'SECOND', '/home/ali/matrices/120_0.5', 'mobilitydb', 'pymeos_demo', 'MMSI', 'trajectory'], returncode=0, stdout='================================================================     Matrix 840 created in 1.8121764659881592 seconds, 54.365293979644775 frames for 30 fps animation.\\n', stderr='')\n"
     ]
    },
    {
     "name": "stderr",
     "output_type": "stream",
     "text": []
    },
    {
     "name": "stdout",
     "output_type": "stream",
     "text": [
      "CompletedProcess(args=['/home/ali/.venv/bin/python', '/home/ali/QGIS-MobilityDB/experiment9_sql_optimization/generate_matrix_before_optimization.py', '960', '1079', '0.5', '-180', '-90', '180', '90', '2023-06-01 00:16:00', '86399', 'SECOND', '/home/ali/matrices/120_0.5', 'mobilitydb', 'pymeos_demo', 'MMSI', 'trajectory'], returncode=0, stdout='================================================================     Matrix 960 created in 1.8246612548828125 seconds, 54.739837646484375 frames for 30 fps animation.\\n', stderr='')\n"
     ]
    },
    {
     "name": "stderr",
     "output_type": "stream",
     "text": [
      "Time delta (1080, 1199): 100%|██████████| 10/10 [00:20<00:00,  2.06s/it]\n",
      "Combination (120, 1):  44%|████▍     | 8/18 [01:20<02:15, 13.57s/it]  "
     ]
    },
    {
     "name": "stdout",
     "output_type": "stream",
     "text": [
      "CompletedProcess(args=['/home/ali/.venv/bin/python', '/home/ali/QGIS-MobilityDB/experiment9_sql_optimization/generate_matrix_before_optimization.py', '1080', '1199', '0.5', '-180', '-90', '180', '90', '2023-06-01 00:18:00', '86399', 'SECOND', '/home/ali/matrices/120_0.5', 'mobilitydb', 'pymeos_demo', 'MMSI', 'trajectory'], returncode=0, stdout='================================================================     Matrix 1080 created in 1.8160789012908936 seconds, 54.48236703872681 frames for 30 fps animation.\\n', stderr='')\n"
     ]
    },
    {
     "name": "stderr",
     "output_type": "stream",
     "text": []
    },
    {
     "name": "stdout",
     "output_type": "stream",
     "text": [
      "CompletedProcess(args=['/home/ali/.venv/bin/python', '/home/ali/QGIS-MobilityDB/experiment9_sql_optimization/generate_matrix_before_optimization.py', '0', '119', '1', '-180', '-90', '180', '90', '2023-06-01 00:00:00', '86399', 'SECOND', '/home/ali/matrices/120_1', 'mobilitydb', 'pymeos_demo', 'MMSI', 'trajectory'], returncode=0, stdout='================================================================     Matrix 0 created in 1.8852660655975342 seconds, 56.557981967926025 frames for 30 fps animation.\\n', stderr='')\n"
     ]
    },
    {
     "name": "stderr",
     "output_type": "stream",
     "text": []
    },
    {
     "name": "stdout",
     "output_type": "stream",
     "text": [
      "CompletedProcess(args=['/home/ali/.venv/bin/python', '/home/ali/QGIS-MobilityDB/experiment9_sql_optimization/generate_matrix_before_optimization.py', '120', '239', '1', '-180', '-90', '180', '90', '2023-06-01 00:02:00', '86399', 'SECOND', '/home/ali/matrices/120_1', 'mobilitydb', 'pymeos_demo', 'MMSI', 'trajectory'], returncode=0, stdout='================================================================     Matrix 120 created in 3.137432813644409 seconds, 94.12298440933228 frames for 30 fps animation.\\n', stderr='')\n"
     ]
    },
    {
     "name": "stderr",
     "output_type": "stream",
     "text": []
    },
    {
     "name": "stdout",
     "output_type": "stream",
     "text": [
      "CompletedProcess(args=['/home/ali/.venv/bin/python', '/home/ali/QGIS-MobilityDB/experiment9_sql_optimization/generate_matrix_before_optimization.py', '240', '359', '1', '-180', '-90', '180', '90', '2023-06-01 00:04:00', '86399', 'SECOND', '/home/ali/matrices/120_1', 'mobilitydb', 'pymeos_demo', 'MMSI', 'trajectory'], returncode=0, stdout='================================================================     Matrix 240 created in 3.296189546585083 seconds, 98.88568639755249 frames for 30 fps animation.\\n', stderr='')\n"
     ]
    },
    {
     "name": "stderr",
     "output_type": "stream",
     "text": []
    },
    {
     "name": "stdout",
     "output_type": "stream",
     "text": [
      "CompletedProcess(args=['/home/ali/.venv/bin/python', '/home/ali/QGIS-MobilityDB/experiment9_sql_optimization/generate_matrix_before_optimization.py', '360', '479', '1', '-180', '-90', '180', '90', '2023-06-01 00:06:00', '86399', 'SECOND', '/home/ali/matrices/120_1', 'mobilitydb', 'pymeos_demo', 'MMSI', 'trajectory'], returncode=0, stdout='================================================================     Matrix 360 created in 3.4273338317871094 seconds, 102.82001495361328 frames for 30 fps animation.\\n', stderr='')\n"
     ]
    },
    {
     "name": "stderr",
     "output_type": "stream",
     "text": []
    },
    {
     "name": "stdout",
     "output_type": "stream",
     "text": [
      "CompletedProcess(args=['/home/ali/.venv/bin/python', '/home/ali/QGIS-MobilityDB/experiment9_sql_optimization/generate_matrix_before_optimization.py', '480', '599', '1', '-180', '-90', '180', '90', '2023-06-01 00:08:00', '86399', 'SECOND', '/home/ali/matrices/120_1', 'mobilitydb', 'pymeos_demo', 'MMSI', 'trajectory'], returncode=0, stdout='================================================================     Matrix 480 created in 3.5886619091033936 seconds, 107.6598572731018 frames for 30 fps animation.\\n', stderr='')\n"
     ]
    },
    {
     "name": "stderr",
     "output_type": "stream",
     "text": []
    },
    {
     "name": "stdout",
     "output_type": "stream",
     "text": [
      "CompletedProcess(args=['/home/ali/.venv/bin/python', '/home/ali/QGIS-MobilityDB/experiment9_sql_optimization/generate_matrix_before_optimization.py', '600', '719', '1', '-180', '-90', '180', '90', '2023-06-01 00:10:00', '86399', 'SECOND', '/home/ali/matrices/120_1', 'mobilitydb', 'pymeos_demo', 'MMSI', 'trajectory'], returncode=0, stdout='================================================================     Matrix 600 created in 3.631411552429199 seconds, 108.94234657287598 frames for 30 fps animation.\\n', stderr='')\n"
     ]
    },
    {
     "name": "stderr",
     "output_type": "stream",
     "text": []
    },
    {
     "name": "stdout",
     "output_type": "stream",
     "text": [
      "CompletedProcess(args=['/home/ali/.venv/bin/python', '/home/ali/QGIS-MobilityDB/experiment9_sql_optimization/generate_matrix_before_optimization.py', '720', '839', '1', '-180', '-90', '180', '90', '2023-06-01 00:12:00', '86399', 'SECOND', '/home/ali/matrices/120_1', 'mobilitydb', 'pymeos_demo', 'MMSI', 'trajectory'], returncode=0, stdout='================================================================     Matrix 720 created in 3.6253137588500977 seconds, 108.75941276550293 frames for 30 fps animation.\\n', stderr='')\n"
     ]
    },
    {
     "name": "stderr",
     "output_type": "stream",
     "text": []
    },
    {
     "name": "stdout",
     "output_type": "stream",
     "text": [
      "CompletedProcess(args=['/home/ali/.venv/bin/python', '/home/ali/QGIS-MobilityDB/experiment9_sql_optimization/generate_matrix_before_optimization.py', '840', '959', '1', '-180', '-90', '180', '90', '2023-06-01 00:14:00', '86399', 'SECOND', '/home/ali/matrices/120_1', 'mobilitydb', 'pymeos_demo', 'MMSI', 'trajectory'], returncode=0, stdout='================================================================     Matrix 840 created in 3.6887729167938232 seconds, 110.6631875038147 frames for 30 fps animation.\\n', stderr='')\n"
     ]
    },
    {
     "name": "stderr",
     "output_type": "stream",
     "text": []
    },
    {
     "name": "stdout",
     "output_type": "stream",
     "text": [
      "CompletedProcess(args=['/home/ali/.venv/bin/python', '/home/ali/QGIS-MobilityDB/experiment9_sql_optimization/generate_matrix_before_optimization.py', '960', '1079', '1', '-180', '-90', '180', '90', '2023-06-01 00:16:00', '86399', 'SECOND', '/home/ali/matrices/120_1', 'mobilitydb', 'pymeos_demo', 'MMSI', 'trajectory'], returncode=0, stdout='================================================================     Matrix 960 created in 3.6806771755218506 seconds, 110.42031526565552 frames for 30 fps animation.\\n', stderr='')\n"
     ]
    },
    {
     "name": "stderr",
     "output_type": "stream",
     "text": [
      "Time delta (1080, 1199): 100%|██████████| 10/10 [00:39<00:00,  3.99s/it]\n",
      "Combination (240, 0.1):  50%|█████     | 9/18 [02:00<03:16, 21.80s/it]"
     ]
    },
    {
     "name": "stdout",
     "output_type": "stream",
     "text": [
      "CompletedProcess(args=['/home/ali/.venv/bin/python', '/home/ali/QGIS-MobilityDB/experiment9_sql_optimization/generate_matrix_before_optimization.py', '1080', '1199', '1', '-180', '-90', '180', '90', '2023-06-01 00:18:00', '86399', 'SECOND', '/home/ali/matrices/120_1', 'mobilitydb', 'pymeos_demo', 'MMSI', 'trajectory'], returncode=0, stdout='================================================================     Matrix 1080 created in 3.7275443077087402 seconds, 111.8263292312622 frames for 30 fps animation.\\n', stderr='')\n"
     ]
    },
    {
     "name": "stderr",
     "output_type": "stream",
     "text": []
    },
    {
     "name": "stdout",
     "output_type": "stream",
     "text": [
      "CompletedProcess(args=['/home/ali/.venv/bin/python', '/home/ali/QGIS-MobilityDB/experiment9_sql_optimization/generate_matrix_before_optimization.py', '0', '239', '0.1', '-180', '-90', '180', '90', '2023-06-01 00:00:00', '86399', 'SECOND', '/home/ali/matrices/240_0.1', 'mobilitydb', 'pymeos_demo', 'MMSI', 'trajectory'], returncode=0, stdout='================================================================     Matrix 0 created in 0.3079061508178711 seconds, 9.237184524536133 frames for 30 fps animation.\\n', stderr='')\n"
     ]
    },
    {
     "name": "stderr",
     "output_type": "stream",
     "text": []
    },
    {
     "name": "stdout",
     "output_type": "stream",
     "text": [
      "CompletedProcess(args=['/home/ali/.venv/bin/python', '/home/ali/QGIS-MobilityDB/experiment9_sql_optimization/generate_matrix_before_optimization.py', '240', '479', '0.1', '-180', '-90', '180', '90', '2023-06-01 00:04:00', '86399', 'SECOND', '/home/ali/matrices/240_0.1', 'mobilitydb', 'pymeos_demo', 'MMSI', 'trajectory'], returncode=0, stdout='================================================================     Matrix 240 created in 0.4624321460723877 seconds, 13.87296438217163 frames for 30 fps animation.\\n', stderr='')\n"
     ]
    },
    {
     "name": "stderr",
     "output_type": "stream",
     "text": []
    },
    {
     "name": "stdout",
     "output_type": "stream",
     "text": [
      "CompletedProcess(args=['/home/ali/.venv/bin/python', '/home/ali/QGIS-MobilityDB/experiment9_sql_optimization/generate_matrix_before_optimization.py', '480', '719', '0.1', '-180', '-90', '180', '90', '2023-06-01 00:08:00', '86399', 'SECOND', '/home/ali/matrices/240_0.1', 'mobilitydb', 'pymeos_demo', 'MMSI', 'trajectory'], returncode=0, stdout='================================================================     Matrix 480 created in 0.5143754482269287 seconds, 15.431263446807861 frames for 30 fps animation.\\n', stderr='')\n"
     ]
    },
    {
     "name": "stderr",
     "output_type": "stream",
     "text": []
    },
    {
     "name": "stdout",
     "output_type": "stream",
     "text": [
      "CompletedProcess(args=['/home/ali/.venv/bin/python', '/home/ali/QGIS-MobilityDB/experiment9_sql_optimization/generate_matrix_before_optimization.py', '720', '959', '0.1', '-180', '-90', '180', '90', '2023-06-01 00:12:00', '86399', 'SECOND', '/home/ali/matrices/240_0.1', 'mobilitydb', 'pymeos_demo', 'MMSI', 'trajectory'], returncode=0, stdout='================================================================     Matrix 720 created in 0.5242385864257812 seconds, 15.727157592773438 frames for 30 fps animation.\\n', stderr='')\n"
     ]
    },
    {
     "name": "stderr",
     "output_type": "stream",
     "text": []
    },
    {
     "name": "stdout",
     "output_type": "stream",
     "text": [
      "CompletedProcess(args=['/home/ali/.venv/bin/python', '/home/ali/QGIS-MobilityDB/experiment9_sql_optimization/generate_matrix_before_optimization.py', '960', '1199', '0.1', '-180', '-90', '180', '90', '2023-06-01 00:16:00', '86399', 'SECOND', '/home/ali/matrices/240_0.1', 'mobilitydb', 'pymeos_demo', 'MMSI', 'trajectory'], returncode=0, stdout='================================================================     Matrix 960 created in 0.5554604530334473 seconds, 16.663813591003418 frames for 30 fps animation.\\n', stderr='')\n"
     ]
    },
    {
     "name": "stderr",
     "output_type": "stream",
     "text": []
    },
    {
     "name": "stdout",
     "output_type": "stream",
     "text": [
      "CompletedProcess(args=['/home/ali/.venv/bin/python', '/home/ali/QGIS-MobilityDB/experiment9_sql_optimization/generate_matrix_before_optimization.py', '1200', '1439', '0.1', '-180', '-90', '180', '90', '2023-06-01 00:20:00', '86399', 'SECOND', '/home/ali/matrices/240_0.1', 'mobilitydb', 'pymeos_demo', 'MMSI', 'trajectory'], returncode=0, stdout='================================================================     Matrix 1200 created in 0.5882232189178467 seconds, 17.6466965675354 frames for 30 fps animation.\\n', stderr='')\n"
     ]
    },
    {
     "name": "stderr",
     "output_type": "stream",
     "text": []
    },
    {
     "name": "stdout",
     "output_type": "stream",
     "text": [
      "CompletedProcess(args=['/home/ali/.venv/bin/python', '/home/ali/QGIS-MobilityDB/experiment9_sql_optimization/generate_matrix_before_optimization.py', '1440', '1679', '0.1', '-180', '-90', '180', '90', '2023-06-01 00:24:00', '86399', 'SECOND', '/home/ali/matrices/240_0.1', 'mobilitydb', 'pymeos_demo', 'MMSI', 'trajectory'], returncode=0, stdout='================================================================     Matrix 1440 created in 0.6340749263763428 seconds, 19.022247791290283 frames for 30 fps animation.\\n', stderr='')\n"
     ]
    },
    {
     "name": "stderr",
     "output_type": "stream",
     "text": []
    },
    {
     "name": "stdout",
     "output_type": "stream",
     "text": [
      "CompletedProcess(args=['/home/ali/.venv/bin/python', '/home/ali/QGIS-MobilityDB/experiment9_sql_optimization/generate_matrix_before_optimization.py', '1680', '1919', '0.1', '-180', '-90', '180', '90', '2023-06-01 00:28:00', '86399', 'SECOND', '/home/ali/matrices/240_0.1', 'mobilitydb', 'pymeos_demo', 'MMSI', 'trajectory'], returncode=0, stdout='================================================================     Matrix 1680 created in 0.6161990165710449 seconds, 18.485970497131348 frames for 30 fps animation.\\n', stderr='')\n"
     ]
    },
    {
     "name": "stderr",
     "output_type": "stream",
     "text": []
    },
    {
     "name": "stdout",
     "output_type": "stream",
     "text": [
      "CompletedProcess(args=['/home/ali/.venv/bin/python', '/home/ali/QGIS-MobilityDB/experiment9_sql_optimization/generate_matrix_before_optimization.py', '1920', '2159', '0.1', '-180', '-90', '180', '90', '2023-06-01 00:32:00', '86399', 'SECOND', '/home/ali/matrices/240_0.1', 'mobilitydb', 'pymeos_demo', 'MMSI', 'trajectory'], returncode=0, stdout='================================================================     Matrix 1920 created in 0.6006064414978027 seconds, 18.018193244934082 frames for 30 fps animation.\\n', stderr='')\n"
     ]
    },
    {
     "name": "stderr",
     "output_type": "stream",
     "text": [
      "Time delta (2160, 2399): 100%|██████████| 10/10 [00:08<00:00,  1.24it/s]\n",
      "Combination (240, 0.5):  56%|█████▌    | 10/18 [02:08<02:20, 17.57s/it]"
     ]
    },
    {
     "name": "stdout",
     "output_type": "stream",
     "text": [
      "CompletedProcess(args=['/home/ali/.venv/bin/python', '/home/ali/QGIS-MobilityDB/experiment9_sql_optimization/generate_matrix_before_optimization.py', '2160', '2399', '0.1', '-180', '-90', '180', '90', '2023-06-01 00:36:00', '86399', 'SECOND', '/home/ali/matrices/240_0.1', 'mobilitydb', 'pymeos_demo', 'MMSI', 'trajectory'], returncode=0, stdout='================================================================     Matrix 2160 created in 0.6229591369628906 seconds, 18.68877410888672 frames for 30 fps animation.\\n', stderr='')\n"
     ]
    },
    {
     "name": "stderr",
     "output_type": "stream",
     "text": []
    },
    {
     "name": "stdout",
     "output_type": "stream",
     "text": [
      "CompletedProcess(args=['/home/ali/.venv/bin/python', '/home/ali/QGIS-MobilityDB/experiment9_sql_optimization/generate_matrix_before_optimization.py', '0', '239', '0.5', '-180', '-90', '180', '90', '2023-06-01 00:00:00', '86399', 'SECOND', '/home/ali/matrices/240_0.5', 'mobilitydb', 'pymeos_demo', 'MMSI', 'trajectory'], returncode=0, stdout='================================================================     Matrix 0 created in 2.230344533920288 seconds, 66.91033601760864 frames for 30 fps animation.\\n', stderr='')\n"
     ]
    },
    {
     "name": "stderr",
     "output_type": "stream",
     "text": []
    },
    {
     "name": "stdout",
     "output_type": "stream",
     "text": [
      "CompletedProcess(args=['/home/ali/.venv/bin/python', '/home/ali/QGIS-MobilityDB/experiment9_sql_optimization/generate_matrix_before_optimization.py', '240', '479', '0.5', '-180', '-90', '180', '90', '2023-06-01 00:04:00', '86399', 'SECOND', '/home/ali/matrices/240_0.5', 'mobilitydb', 'pymeos_demo', 'MMSI', 'trajectory'], returncode=0, stdout='================================================================     Matrix 240 created in 3.1591897010803223 seconds, 94.77569103240967 frames for 30 fps animation.\\n', stderr='')\n"
     ]
    },
    {
     "name": "stderr",
     "output_type": "stream",
     "text": []
    },
    {
     "name": "stdout",
     "output_type": "stream",
     "text": [
      "CompletedProcess(args=['/home/ali/.venv/bin/python', '/home/ali/QGIS-MobilityDB/experiment9_sql_optimization/generate_matrix_before_optimization.py', '480', '719', '0.5', '-180', '-90', '180', '90', '2023-06-01 00:08:00', '86399', 'SECOND', '/home/ali/matrices/240_0.5', 'mobilitydb', 'pymeos_demo', 'MMSI', 'trajectory'], returncode=0, stdout='================================================================     Matrix 480 created in 3.2963457107543945 seconds, 98.89037132263184 frames for 30 fps animation.\\n', stderr='')\n"
     ]
    },
    {
     "name": "stderr",
     "output_type": "stream",
     "text": []
    },
    {
     "name": "stdout",
     "output_type": "stream",
     "text": [
      "CompletedProcess(args=['/home/ali/.venv/bin/python', '/home/ali/QGIS-MobilityDB/experiment9_sql_optimization/generate_matrix_before_optimization.py', '720', '959', '0.5', '-180', '-90', '180', '90', '2023-06-01 00:12:00', '86399', 'SECOND', '/home/ali/matrices/240_0.5', 'mobilitydb', 'pymeos_demo', 'MMSI', 'trajectory'], returncode=0, stdout='================================================================     Matrix 720 created in 3.4096994400024414 seconds, 102.29098320007324 frames for 30 fps animation.\\n', stderr='')\n"
     ]
    },
    {
     "name": "stderr",
     "output_type": "stream",
     "text": []
    },
    {
     "name": "stdout",
     "output_type": "stream",
     "text": [
      "CompletedProcess(args=['/home/ali/.venv/bin/python', '/home/ali/QGIS-MobilityDB/experiment9_sql_optimization/generate_matrix_before_optimization.py', '960', '1199', '0.5', '-180', '-90', '180', '90', '2023-06-01 00:16:00', '86399', 'SECOND', '/home/ali/matrices/240_0.5', 'mobilitydb', 'pymeos_demo', 'MMSI', 'trajectory'], returncode=0, stdout='================================================================     Matrix 960 created in 3.4856176376342773 seconds, 104.56852912902832 frames for 30 fps animation.\\n', stderr='')\n"
     ]
    },
    {
     "name": "stderr",
     "output_type": "stream",
     "text": []
    },
    {
     "name": "stdout",
     "output_type": "stream",
     "text": [
      "CompletedProcess(args=['/home/ali/.venv/bin/python', '/home/ali/QGIS-MobilityDB/experiment9_sql_optimization/generate_matrix_before_optimization.py', '1200', '1439', '0.5', '-180', '-90', '180', '90', '2023-06-01 00:20:00', '86399', 'SECOND', '/home/ali/matrices/240_0.5', 'mobilitydb', 'pymeos_demo', 'MMSI', 'trajectory'], returncode=0, stdout='================================================================     Matrix 1200 created in 3.53292179107666 seconds, 105.9876537322998 frames for 30 fps animation.\\n', stderr='')\n"
     ]
    },
    {
     "name": "stderr",
     "output_type": "stream",
     "text": []
    },
    {
     "name": "stdout",
     "output_type": "stream",
     "text": [
      "CompletedProcess(args=['/home/ali/.venv/bin/python', '/home/ali/QGIS-MobilityDB/experiment9_sql_optimization/generate_matrix_before_optimization.py', '1440', '1679', '0.5', '-180', '-90', '180', '90', '2023-06-01 00:24:00', '86399', 'SECOND', '/home/ali/matrices/240_0.5', 'mobilitydb', 'pymeos_demo', 'MMSI', 'trajectory'], returncode=0, stdout='================================================================     Matrix 1440 created in 3.7072150707244873 seconds, 111.21645212173462 frames for 30 fps animation.\\n', stderr='')\n"
     ]
    },
    {
     "name": "stderr",
     "output_type": "stream",
     "text": []
    },
    {
     "name": "stdout",
     "output_type": "stream",
     "text": [
      "CompletedProcess(args=['/home/ali/.venv/bin/python', '/home/ali/QGIS-MobilityDB/experiment9_sql_optimization/generate_matrix_before_optimization.py', '1680', '1919', '0.5', '-180', '-90', '180', '90', '2023-06-01 00:28:00', '86399', 'SECOND', '/home/ali/matrices/240_0.5', 'mobilitydb', 'pymeos_demo', 'MMSI', 'trajectory'], returncode=0, stdout='================================================================     Matrix 1680 created in 3.6502528190612793 seconds, 109.50758457183838 frames for 30 fps animation.\\n', stderr='')\n"
     ]
    },
    {
     "name": "stderr",
     "output_type": "stream",
     "text": []
    },
    {
     "name": "stdout",
     "output_type": "stream",
     "text": [
      "CompletedProcess(args=['/home/ali/.venv/bin/python', '/home/ali/QGIS-MobilityDB/experiment9_sql_optimization/generate_matrix_before_optimization.py', '1920', '2159', '0.5', '-180', '-90', '180', '90', '2023-06-01 00:32:00', '86399', 'SECOND', '/home/ali/matrices/240_0.5', 'mobilitydb', 'pymeos_demo', 'MMSI', 'trajectory'], returncode=0, stdout='================================================================     Matrix 1920 created in 3.6480369567871094 seconds, 109.44110870361328 frames for 30 fps animation.\\n', stderr='')\n"
     ]
    },
    {
     "name": "stderr",
     "output_type": "stream",
     "text": [
      "Time delta (2160, 2399): 100%|██████████| 10/10 [00:38<00:00,  3.81s/it]\n",
      "Combination (240, 1):  61%|██████    | 11/18 [02:46<02:46, 23.85s/it]  "
     ]
    },
    {
     "name": "stdout",
     "output_type": "stream",
     "text": [
      "CompletedProcess(args=['/home/ali/.venv/bin/python', '/home/ali/QGIS-MobilityDB/experiment9_sql_optimization/generate_matrix_before_optimization.py', '2160', '2399', '0.5', '-180', '-90', '180', '90', '2023-06-01 00:36:00', '86399', 'SECOND', '/home/ali/matrices/240_0.5', 'mobilitydb', 'pymeos_demo', 'MMSI', 'trajectory'], returncode=0, stdout='================================================================     Matrix 2160 created in 3.6658453941345215 seconds, 109.97536182403564 frames for 30 fps animation.\\n', stderr='')\n"
     ]
    },
    {
     "name": "stderr",
     "output_type": "stream",
     "text": []
    },
    {
     "name": "stdout",
     "output_type": "stream",
     "text": [
      "CompletedProcess(args=['/home/ali/.venv/bin/python', '/home/ali/QGIS-MobilityDB/experiment9_sql_optimization/generate_matrix_before_optimization.py', '0', '239', '1', '-180', '-90', '180', '90', '2023-06-01 00:00:00', '86399', 'SECOND', '/home/ali/matrices/240_1', 'mobilitydb', 'pymeos_demo', 'MMSI', 'trajectory'], returncode=0, stdout='================================================================     Matrix 0 created in 4.447657346725464 seconds, 133.42972040176392 frames for 30 fps animation.\\n', stderr='')\n"
     ]
    },
    {
     "name": "stderr",
     "output_type": "stream",
     "text": []
    },
    {
     "name": "stdout",
     "output_type": "stream",
     "text": [
      "CompletedProcess(args=['/home/ali/.venv/bin/python', '/home/ali/QGIS-MobilityDB/experiment9_sql_optimization/generate_matrix_before_optimization.py', '240', '479', '1', '-180', '-90', '180', '90', '2023-06-01 00:04:00', '86399', 'SECOND', '/home/ali/matrices/240_1', 'mobilitydb', 'pymeos_demo', 'MMSI', 'trajectory'], returncode=0, stdout='================================================================     Matrix 240 created in 6.6529223918914795 seconds, 199.58767175674438 frames for 30 fps animation.\\n', stderr='')\n"
     ]
    },
    {
     "name": "stderr",
     "output_type": "stream",
     "text": []
    },
    {
     "name": "stdout",
     "output_type": "stream",
     "text": [
      "CompletedProcess(args=['/home/ali/.venv/bin/python', '/home/ali/QGIS-MobilityDB/experiment9_sql_optimization/generate_matrix_before_optimization.py', '480', '719', '1', '-180', '-90', '180', '90', '2023-06-01 00:08:00', '86399', 'SECOND', '/home/ali/matrices/240_1', 'mobilitydb', 'pymeos_demo', 'MMSI', 'trajectory'], returncode=0, stdout='================================================================     Matrix 480 created in 6.770776987075806 seconds, 203.12330961227417 frames for 30 fps animation.\\n', stderr='')\n"
     ]
    },
    {
     "name": "stderr",
     "output_type": "stream",
     "text": []
    },
    {
     "name": "stdout",
     "output_type": "stream",
     "text": [
      "CompletedProcess(args=['/home/ali/.venv/bin/python', '/home/ali/QGIS-MobilityDB/experiment9_sql_optimization/generate_matrix_before_optimization.py', '720', '959', '1', '-180', '-90', '180', '90', '2023-06-01 00:12:00', '86399', 'SECOND', '/home/ali/matrices/240_1', 'mobilitydb', 'pymeos_demo', 'MMSI', 'trajectory'], returncode=0, stdout='================================================================     Matrix 720 created in 7.310261964797974 seconds, 219.3078589439392 frames for 30 fps animation.\\n', stderr='')\n"
     ]
    },
    {
     "name": "stderr",
     "output_type": "stream",
     "text": []
    },
    {
     "name": "stdout",
     "output_type": "stream",
     "text": [
      "CompletedProcess(args=['/home/ali/.venv/bin/python', '/home/ali/QGIS-MobilityDB/experiment9_sql_optimization/generate_matrix_before_optimization.py', '960', '1199', '1', '-180', '-90', '180', '90', '2023-06-01 00:16:00', '86399', 'SECOND', '/home/ali/matrices/240_1', 'mobilitydb', 'pymeos_demo', 'MMSI', 'trajectory'], returncode=0, stdout='================================================================     Matrix 960 created in 7.210769176483154 seconds, 216.32307529449463 frames for 30 fps animation.\\n', stderr='')\n"
     ]
    },
    {
     "name": "stderr",
     "output_type": "stream",
     "text": []
    },
    {
     "name": "stdout",
     "output_type": "stream",
     "text": [
      "CompletedProcess(args=['/home/ali/.venv/bin/python', '/home/ali/QGIS-MobilityDB/experiment9_sql_optimization/generate_matrix_before_optimization.py', '1200', '1439', '1', '-180', '-90', '180', '90', '2023-06-01 00:20:00', '86399', 'SECOND', '/home/ali/matrices/240_1', 'mobilitydb', 'pymeos_demo', 'MMSI', 'trajectory'], returncode=0, stdout='================================================================     Matrix 1200 created in 7.155043601989746 seconds, 214.65130805969238 frames for 30 fps animation.\\n', stderr='')\n"
     ]
    },
    {
     "name": "stderr",
     "output_type": "stream",
     "text": []
    },
    {
     "name": "stdout",
     "output_type": "stream",
     "text": [
      "CompletedProcess(args=['/home/ali/.venv/bin/python', '/home/ali/QGIS-MobilityDB/experiment9_sql_optimization/generate_matrix_before_optimization.py', '1440', '1679', '1', '-180', '-90', '180', '90', '2023-06-01 00:24:00', '86399', 'SECOND', '/home/ali/matrices/240_1', 'mobilitydb', 'pymeos_demo', 'MMSI', 'trajectory'], returncode=0, stdout='================================================================     Matrix 1440 created in 7.204429626464844 seconds, 216.1328887939453 frames for 30 fps animation.\\n', stderr='')\n"
     ]
    },
    {
     "name": "stderr",
     "output_type": "stream",
     "text": []
    },
    {
     "name": "stdout",
     "output_type": "stream",
     "text": [
      "CompletedProcess(args=['/home/ali/.venv/bin/python', '/home/ali/QGIS-MobilityDB/experiment9_sql_optimization/generate_matrix_before_optimization.py', '1680', '1919', '1', '-180', '-90', '180', '90', '2023-06-01 00:28:00', '86399', 'SECOND', '/home/ali/matrices/240_1', 'mobilitydb', 'pymeos_demo', 'MMSI', 'trajectory'], returncode=0, stdout='================================================================     Matrix 1680 created in 7.21175217628479 seconds, 216.3525652885437 frames for 30 fps animation.\\n', stderr='')\n"
     ]
    },
    {
     "name": "stderr",
     "output_type": "stream",
     "text": []
    },
    {
     "name": "stdout",
     "output_type": "stream",
     "text": [
      "CompletedProcess(args=['/home/ali/.venv/bin/python', '/home/ali/QGIS-MobilityDB/experiment9_sql_optimization/generate_matrix_before_optimization.py', '1920', '2159', '1', '-180', '-90', '180', '90', '2023-06-01 00:32:00', '86399', 'SECOND', '/home/ali/matrices/240_1', 'mobilitydb', 'pymeos_demo', 'MMSI', 'trajectory'], returncode=0, stdout='================================================================     Matrix 1920 created in 7.3870933055877686 seconds, 221.61279916763306 frames for 30 fps animation.\\n', stderr='')\n"
     ]
    },
    {
     "name": "stderr",
     "output_type": "stream",
     "text": [
      "Time delta (2160, 2399): 100%|██████████| 10/10 [01:16<00:00,  7.62s/it]\n",
      "Combination (480, 0.1):  67%|██████▋   | 12/18 [04:02<03:58, 39.79s/it]"
     ]
    },
    {
     "name": "stdout",
     "output_type": "stream",
     "text": [
      "CompletedProcess(args=['/home/ali/.venv/bin/python', '/home/ali/QGIS-MobilityDB/experiment9_sql_optimization/generate_matrix_before_optimization.py', '2160', '2399', '1', '-180', '-90', '180', '90', '2023-06-01 00:36:00', '86399', 'SECOND', '/home/ali/matrices/240_1', 'mobilitydb', 'pymeos_demo', 'MMSI', 'trajectory'], returncode=0, stdout='================================================================     Matrix 2160 created in 7.437063455581665 seconds, 223.11190366744995 frames for 30 fps animation.\\n', stderr='')\n"
     ]
    },
    {
     "name": "stderr",
     "output_type": "stream",
     "text": []
    },
    {
     "name": "stdout",
     "output_type": "stream",
     "text": [
      "CompletedProcess(args=['/home/ali/.venv/bin/python', '/home/ali/QGIS-MobilityDB/experiment9_sql_optimization/generate_matrix_before_optimization.py', '0', '479', '0.1', '-180', '-90', '180', '90', '2023-06-01 00:00:00', '86399', 'SECOND', '/home/ali/matrices/480_0.1', 'mobilitydb', 'pymeos_demo', 'MMSI', 'trajectory'], returncode=0, stdout='================================================================     Matrix 0 created in 0.6956260204315186 seconds, 20.868780612945557 frames for 30 fps animation.\\n', stderr='')\n"
     ]
    },
    {
     "name": "stderr",
     "output_type": "stream",
     "text": []
    },
    {
     "name": "stdout",
     "output_type": "stream",
     "text": [
      "CompletedProcess(args=['/home/ali/.venv/bin/python', '/home/ali/QGIS-MobilityDB/experiment9_sql_optimization/generate_matrix_before_optimization.py', '480', '959', '0.1', '-180', '-90', '180', '90', '2023-06-01 00:08:00', '86399', 'SECOND', '/home/ali/matrices/480_0.1', 'mobilitydb', 'pymeos_demo', 'MMSI', 'trajectory'], returncode=0, stdout='================================================================     Matrix 480 created in 1.0025441646575928 seconds, 30.076324939727783 frames for 30 fps animation.\\n', stderr='')\n"
     ]
    },
    {
     "name": "stderr",
     "output_type": "stream",
     "text": []
    },
    {
     "name": "stdout",
     "output_type": "stream",
     "text": [
      "CompletedProcess(args=['/home/ali/.venv/bin/python', '/home/ali/QGIS-MobilityDB/experiment9_sql_optimization/generate_matrix_before_optimization.py', '960', '1439', '0.1', '-180', '-90', '180', '90', '2023-06-01 00:16:00', '86399', 'SECOND', '/home/ali/matrices/480_0.1', 'mobilitydb', 'pymeos_demo', 'MMSI', 'trajectory'], returncode=0, stdout='================================================================     Matrix 960 created in 1.1561148166656494 seconds, 34.68344449996948 frames for 30 fps animation.\\n', stderr='')\n"
     ]
    },
    {
     "name": "stderr",
     "output_type": "stream",
     "text": []
    },
    {
     "name": "stdout",
     "output_type": "stream",
     "text": [
      "CompletedProcess(args=['/home/ali/.venv/bin/python', '/home/ali/QGIS-MobilityDB/experiment9_sql_optimization/generate_matrix_before_optimization.py', '1440', '1919', '0.1', '-180', '-90', '180', '90', '2023-06-01 00:24:00', '86399', 'SECOND', '/home/ali/matrices/480_0.1', 'mobilitydb', 'pymeos_demo', 'MMSI', 'trajectory'], returncode=0, stdout='================================================================     Matrix 1440 created in 1.1773223876953125 seconds, 35.319671630859375 frames for 30 fps animation.\\n', stderr='')\n"
     ]
    },
    {
     "name": "stderr",
     "output_type": "stream",
     "text": []
    },
    {
     "name": "stdout",
     "output_type": "stream",
     "text": [
      "CompletedProcess(args=['/home/ali/.venv/bin/python', '/home/ali/QGIS-MobilityDB/experiment9_sql_optimization/generate_matrix_before_optimization.py', '1920', '2399', '0.1', '-180', '-90', '180', '90', '2023-06-01 00:32:00', '86399', 'SECOND', '/home/ali/matrices/480_0.1', 'mobilitydb', 'pymeos_demo', 'MMSI', 'trajectory'], returncode=0, stdout='================================================================     Matrix 1920 created in 1.2385094165802002 seconds, 37.155282497406006 frames for 30 fps animation.\\n', stderr='')\n"
     ]
    },
    {
     "name": "stderr",
     "output_type": "stream",
     "text": []
    },
    {
     "name": "stdout",
     "output_type": "stream",
     "text": [
      "CompletedProcess(args=['/home/ali/.venv/bin/python', '/home/ali/QGIS-MobilityDB/experiment9_sql_optimization/generate_matrix_before_optimization.py', '2400', '2879', '0.1', '-180', '-90', '180', '90', '2023-06-01 00:40:00', '86399', 'SECOND', '/home/ali/matrices/480_0.1', 'mobilitydb', 'pymeos_demo', 'MMSI', 'trajectory'], returncode=0, stdout='================================================================     Matrix 2400 created in 1.212226390838623 seconds, 36.36679172515869 frames for 30 fps animation.\\n', stderr='')\n"
     ]
    },
    {
     "name": "stderr",
     "output_type": "stream",
     "text": []
    },
    {
     "name": "stdout",
     "output_type": "stream",
     "text": [
      "CompletedProcess(args=['/home/ali/.venv/bin/python', '/home/ali/QGIS-MobilityDB/experiment9_sql_optimization/generate_matrix_before_optimization.py', '2880', '3359', '0.1', '-180', '-90', '180', '90', '2023-06-01 00:48:00', '86399', 'SECOND', '/home/ali/matrices/480_0.1', 'mobilitydb', 'pymeos_demo', 'MMSI', 'trajectory'], returncode=0, stdout='================================================================     Matrix 2880 created in 1.2391679286956787 seconds, 37.17503786087036 frames for 30 fps animation.\\n', stderr='')\n"
     ]
    },
    {
     "name": "stderr",
     "output_type": "stream",
     "text": []
    },
    {
     "name": "stdout",
     "output_type": "stream",
     "text": [
      "CompletedProcess(args=['/home/ali/.venv/bin/python', '/home/ali/QGIS-MobilityDB/experiment9_sql_optimization/generate_matrix_before_optimization.py', '3360', '3839', '0.1', '-180', '-90', '180', '90', '2023-06-01 00:56:00', '86399', 'SECOND', '/home/ali/matrices/480_0.1', 'mobilitydb', 'pymeos_demo', 'MMSI', 'trajectory'], returncode=0, stdout='================================================================     Matrix 3360 created in 1.2568707466125488 seconds, 37.706122398376465 frames for 30 fps animation.\\n', stderr='')\n"
     ]
    },
    {
     "name": "stderr",
     "output_type": "stream",
     "text": []
    },
    {
     "name": "stdout",
     "output_type": "stream",
     "text": [
      "CompletedProcess(args=['/home/ali/.venv/bin/python', '/home/ali/QGIS-MobilityDB/experiment9_sql_optimization/generate_matrix_before_optimization.py', '3840', '4319', '0.1', '-180', '-90', '180', '90', '2023-06-01 01:04:00', '86399', 'SECOND', '/home/ali/matrices/480_0.1', 'mobilitydb', 'pymeos_demo', 'MMSI', 'trajectory'], returncode=0, stdout='================================================================     Matrix 3840 created in 1.24428129196167 seconds, 37.3284387588501 frames for 30 fps animation.\\n', stderr='')\n"
     ]
    },
    {
     "name": "stderr",
     "output_type": "stream",
     "text": [
      "Time delta (4320, 4799): 100%|██████████| 10/10 [00:14<00:00,  1.43s/it]\n",
      "Combination (480, 0.5):  72%|███████▏  | 13/18 [04:17<02:40, 32.08s/it]"
     ]
    },
    {
     "name": "stdout",
     "output_type": "stream",
     "text": [
      "CompletedProcess(args=['/home/ali/.venv/bin/python', '/home/ali/QGIS-MobilityDB/experiment9_sql_optimization/generate_matrix_before_optimization.py', '4320', '4799', '0.1', '-180', '-90', '180', '90', '2023-06-01 01:12:00', '86399', 'SECOND', '/home/ali/matrices/480_0.1', 'mobilitydb', 'pymeos_demo', 'MMSI', 'trajectory'], returncode=0, stdout='================================================================     Matrix 4320 created in 1.252600908279419 seconds, 37.57802724838257 frames for 30 fps animation.\\n', stderr='')\n"
     ]
    },
    {
     "name": "stderr",
     "output_type": "stream",
     "text": []
    },
    {
     "name": "stdout",
     "output_type": "stream",
     "text": [
      "CompletedProcess(args=['/home/ali/.venv/bin/python', '/home/ali/QGIS-MobilityDB/experiment9_sql_optimization/generate_matrix_before_optimization.py', '0', '479', '0.5', '-180', '-90', '180', '90', '2023-06-01 00:00:00', '86399', 'SECOND', '/home/ali/matrices/480_0.5', 'mobilitydb', 'pymeos_demo', 'MMSI', 'trajectory'], returncode=0, stdout='================================================================     Matrix 0 created in 5.131400108337402 seconds, 153.94200325012207 frames for 30 fps animation.\\n', stderr='')\n"
     ]
    },
    {
     "name": "stderr",
     "output_type": "stream",
     "text": []
    },
    {
     "name": "stdout",
     "output_type": "stream",
     "text": [
      "CompletedProcess(args=['/home/ali/.venv/bin/python', '/home/ali/QGIS-MobilityDB/experiment9_sql_optimization/generate_matrix_before_optimization.py', '480', '959', '0.5', '-180', '-90', '180', '90', '2023-06-01 00:08:00', '86399', 'SECOND', '/home/ali/matrices/480_0.5', 'mobilitydb', 'pymeos_demo', 'MMSI', 'trajectory'], returncode=0, stdout='================================================================     Matrix 480 created in 6.492440700531006 seconds, 194.77322101593018 frames for 30 fps animation.\\n', stderr='')\n"
     ]
    },
    {
     "name": "stderr",
     "output_type": "stream",
     "text": []
    },
    {
     "name": "stdout",
     "output_type": "stream",
     "text": [
      "CompletedProcess(args=['/home/ali/.venv/bin/python', '/home/ali/QGIS-MobilityDB/experiment9_sql_optimization/generate_matrix_before_optimization.py', '960', '1439', '0.5', '-180', '-90', '180', '90', '2023-06-01 00:16:00', '86399', 'SECOND', '/home/ali/matrices/480_0.5', 'mobilitydb', 'pymeos_demo', 'MMSI', 'trajectory'], returncode=0, stdout='================================================================     Matrix 960 created in 6.842479228973389 seconds, 205.27437686920166 frames for 30 fps animation.\\n', stderr='')\n"
     ]
    },
    {
     "name": "stderr",
     "output_type": "stream",
     "text": []
    },
    {
     "name": "stdout",
     "output_type": "stream",
     "text": [
      "CompletedProcess(args=['/home/ali/.venv/bin/python', '/home/ali/QGIS-MobilityDB/experiment9_sql_optimization/generate_matrix_before_optimization.py', '1440', '1919', '0.5', '-180', '-90', '180', '90', '2023-06-01 00:24:00', '86399', 'SECOND', '/home/ali/matrices/480_0.5', 'mobilitydb', 'pymeos_demo', 'MMSI', 'trajectory'], returncode=0, stdout='================================================================     Matrix 1440 created in 7.050907850265503 seconds, 211.5272355079651 frames for 30 fps animation.\\n', stderr='')\n"
     ]
    },
    {
     "name": "stderr",
     "output_type": "stream",
     "text": []
    },
    {
     "name": "stdout",
     "output_type": "stream",
     "text": [
      "CompletedProcess(args=['/home/ali/.venv/bin/python', '/home/ali/QGIS-MobilityDB/experiment9_sql_optimization/generate_matrix_before_optimization.py', '1920', '2399', '0.5', '-180', '-90', '180', '90', '2023-06-01 00:32:00', '86399', 'SECOND', '/home/ali/matrices/480_0.5', 'mobilitydb', 'pymeos_demo', 'MMSI', 'trajectory'], returncode=0, stdout='================================================================     Matrix 1920 created in 7.419260263442993 seconds, 222.5778079032898 frames for 30 fps animation.\\n', stderr='')\n"
     ]
    },
    {
     "name": "stderr",
     "output_type": "stream",
     "text": []
    },
    {
     "name": "stdout",
     "output_type": "stream",
     "text": [
      "CompletedProcess(args=['/home/ali/.venv/bin/python', '/home/ali/QGIS-MobilityDB/experiment9_sql_optimization/generate_matrix_before_optimization.py', '2400', '2879', '0.5', '-180', '-90', '180', '90', '2023-06-01 00:40:00', '86399', 'SECOND', '/home/ali/matrices/480_0.5', 'mobilitydb', 'pymeos_demo', 'MMSI', 'trajectory'], returncode=0, stdout='================================================================     Matrix 2400 created in 7.13728141784668 seconds, 214.1184425354004 frames for 30 fps animation.\\n', stderr='')\n"
     ]
    },
    {
     "name": "stderr",
     "output_type": "stream",
     "text": []
    },
    {
     "name": "stdout",
     "output_type": "stream",
     "text": [
      "CompletedProcess(args=['/home/ali/.venv/bin/python', '/home/ali/QGIS-MobilityDB/experiment9_sql_optimization/generate_matrix_before_optimization.py', '2880', '3359', '0.5', '-180', '-90', '180', '90', '2023-06-01 00:48:00', '86399', 'SECOND', '/home/ali/matrices/480_0.5', 'mobilitydb', 'pymeos_demo', 'MMSI', 'trajectory'], returncode=0, stdout='================================================================     Matrix 2880 created in 7.317344427108765 seconds, 219.52033281326294 frames for 30 fps animation.\\n', stderr='')\n"
     ]
    },
    {
     "name": "stderr",
     "output_type": "stream",
     "text": []
    },
    {
     "name": "stdout",
     "output_type": "stream",
     "text": [
      "CompletedProcess(args=['/home/ali/.venv/bin/python', '/home/ali/QGIS-MobilityDB/experiment9_sql_optimization/generate_matrix_before_optimization.py', '3360', '3839', '0.5', '-180', '-90', '180', '90', '2023-06-01 00:56:00', '86399', 'SECOND', '/home/ali/matrices/480_0.5', 'mobilitydb', 'pymeos_demo', 'MMSI', 'trajectory'], returncode=0, stdout='================================================================     Matrix 3360 created in 7.439656972885132 seconds, 223.18970918655396 frames for 30 fps animation.\\n', stderr='')\n"
     ]
    },
    {
     "name": "stderr",
     "output_type": "stream",
     "text": []
    },
    {
     "name": "stdout",
     "output_type": "stream",
     "text": [
      "CompletedProcess(args=['/home/ali/.venv/bin/python', '/home/ali/QGIS-MobilityDB/experiment9_sql_optimization/generate_matrix_before_optimization.py', '3840', '4319', '0.5', '-180', '-90', '180', '90', '2023-06-01 01:04:00', '86399', 'SECOND', '/home/ali/matrices/480_0.5', 'mobilitydb', 'pymeos_demo', 'MMSI', 'trajectory'], returncode=0, stdout='================================================================     Matrix 3840 created in 7.345331430435181 seconds, 220.35994291305542 frames for 30 fps animation.\\n', stderr='')\n"
     ]
    },
    {
     "name": "stderr",
     "output_type": "stream",
     "text": [
      "Time delta (4320, 4799): 100%|██████████| 10/10 [01:15<00:00,  7.53s/it]\n",
      "Combination (480, 1):  78%|███████▊  | 14/18 [05:32<03:00, 45.16s/it]  "
     ]
    },
    {
     "name": "stdout",
     "output_type": "stream",
     "text": [
      "CompletedProcess(args=['/home/ali/.venv/bin/python', '/home/ali/QGIS-MobilityDB/experiment9_sql_optimization/generate_matrix_before_optimization.py', '4320', '4799', '0.5', '-180', '-90', '180', '90', '2023-06-01 01:12:00', '86399', 'SECOND', '/home/ali/matrices/480_0.5', 'mobilitydb', 'pymeos_demo', 'MMSI', 'trajectory'], returncode=0, stdout='================================================================     Matrix 4320 created in 7.791938304901123 seconds, 233.7581491470337 frames for 30 fps animation.\\n', stderr='')\n"
     ]
    },
    {
     "name": "stderr",
     "output_type": "stream",
     "text": []
    },
    {
     "name": "stdout",
     "output_type": "stream",
     "text": [
      "CompletedProcess(args=['/home/ali/.venv/bin/python', '/home/ali/QGIS-MobilityDB/experiment9_sql_optimization/generate_matrix_before_optimization.py', '0', '479', '1', '-180', '-90', '180', '90', '2023-06-01 00:00:00', '86399', 'SECOND', '/home/ali/matrices/480_1', 'mobilitydb', 'pymeos_demo', 'MMSI', 'trajectory'], returncode=0, stdout='================================================================     Matrix 0 created in 10.69795823097229 seconds, 320.9387469291687 frames for 30 fps animation.\\n', stderr='')\n",
      "CompletedProcess(args=['/home/ali/.venv/bin/python', '/home/ali/QGIS-MobilityDB/experiment9_sql_optimization/generate_matrix_before_optimization.py', '480', '959', '1', '-180', '-90', '180', '90', '2023-06-01 00:08:00', '86399', 'SECOND', '/home/ali/matrices/480_1', 'mobilitydb', 'pymeos_demo', 'MMSI', 'trajectory'], returncode=0, stdout='================================================================     Matrix 480 created in 13.322263717651367 seconds, 399.667911529541 frames for 30 fps animation.\\n', stderr='')\n"
     ]
    },
    {
     "name": "stderr",
     "output_type": "stream",
     "text": []
    },
    {
     "name": "stdout",
     "output_type": "stream",
     "text": [
      "CompletedProcess(args=['/home/ali/.venv/bin/python', '/home/ali/QGIS-MobilityDB/experiment9_sql_optimization/generate_matrix_before_optimization.py', '960', '1439', '1', '-180', '-90', '180', '90', '2023-06-01 00:16:00', '86399', 'SECOND', '/home/ali/matrices/480_1', 'mobilitydb', 'pymeos_demo', 'MMSI', 'trajectory'], returncode=0, stdout='================================================================     Matrix 960 created in 14.198906183242798 seconds, 425.96718549728394 frames for 30 fps animation.\\n', stderr='')\n"
     ]
    },
    {
     "name": "stderr",
     "output_type": "stream",
     "text": []
    },
    {
     "name": "stdout",
     "output_type": "stream",
     "text": [
      "CompletedProcess(args=['/home/ali/.venv/bin/python', '/home/ali/QGIS-MobilityDB/experiment9_sql_optimization/generate_matrix_before_optimization.py', '1440', '1919', '1', '-180', '-90', '180', '90', '2023-06-01 00:24:00', '86399', 'SECOND', '/home/ali/matrices/480_1', 'mobilitydb', 'pymeos_demo', 'MMSI', 'trajectory'], returncode=0, stdout='================================================================     Matrix 1440 created in 14.211813926696777 seconds, 426.3544178009033 frames for 30 fps animation.\\n', stderr='')\n"
     ]
    },
    {
     "name": "stderr",
     "output_type": "stream",
     "text": []
    },
    {
     "name": "stdout",
     "output_type": "stream",
     "text": [
      "CompletedProcess(args=['/home/ali/.venv/bin/python', '/home/ali/QGIS-MobilityDB/experiment9_sql_optimization/generate_matrix_before_optimization.py', '1920', '2399', '1', '-180', '-90', '180', '90', '2023-06-01 00:32:00', '86399', 'SECOND', '/home/ali/matrices/480_1', 'mobilitydb', 'pymeos_demo', 'MMSI', 'trajectory'], returncode=0, stdout='================================================================     Matrix 1920 created in 14.652486324310303 seconds, 439.5745897293091 frames for 30 fps animation.\\n', stderr='')\n",
      "CompletedProcess(args=['/home/ali/.venv/bin/python', '/home/ali/QGIS-MobilityDB/experiment9_sql_optimization/generate_matrix_before_optimization.py', '2400', '2879', '1', '-180', '-90', '180', '90', '2023-06-01 00:40:00', '86399', 'SECOND', '/home/ali/matrices/480_1', 'mobilitydb', 'pymeos_demo', 'MMSI', 'trajectory'], returncode=0, stdout='================================================================     Matrix 2400 created in 15.007477521896362 seconds, 450.22432565689087 frames for 30 fps animation.\\n', stderr='')\n"
     ]
    },
    {
     "name": "stderr",
     "output_type": "stream",
     "text": []
    },
    {
     "name": "stdout",
     "output_type": "stream",
     "text": [
      "CompletedProcess(args=['/home/ali/.venv/bin/python', '/home/ali/QGIS-MobilityDB/experiment9_sql_optimization/generate_matrix_before_optimization.py', '2880', '3359', '1', '-180', '-90', '180', '90', '2023-06-01 00:48:00', '86399', 'SECOND', '/home/ali/matrices/480_1', 'mobilitydb', 'pymeos_demo', 'MMSI', 'trajectory'], returncode=0, stdout='================================================================     Matrix 2880 created in 15.189784526824951 seconds, 455.69353580474854 frames for 30 fps animation.\\n', stderr='')\n"
     ]
    },
    {
     "name": "stderr",
     "output_type": "stream",
     "text": []
    },
    {
     "name": "stdout",
     "output_type": "stream",
     "text": [
      "CompletedProcess(args=['/home/ali/.venv/bin/python', '/home/ali/QGIS-MobilityDB/experiment9_sql_optimization/generate_matrix_before_optimization.py', '3360', '3839', '1', '-180', '-90', '180', '90', '2023-06-01 00:56:00', '86399', 'SECOND', '/home/ali/matrices/480_1', 'mobilitydb', 'pymeos_demo', 'MMSI', 'trajectory'], returncode=0, stdout='================================================================     Matrix 3360 created in 15.117109775543213 seconds, 453.5132932662964 frames for 30 fps animation.\\n', stderr='')\n"
     ]
    },
    {
     "name": "stderr",
     "output_type": "stream",
     "text": []
    },
    {
     "name": "stdout",
     "output_type": "stream",
     "text": [
      "CompletedProcess(args=['/home/ali/.venv/bin/python', '/home/ali/QGIS-MobilityDB/experiment9_sql_optimization/generate_matrix_before_optimization.py', '3840', '4319', '1', '-180', '-90', '180', '90', '2023-06-01 01:04:00', '86399', 'SECOND', '/home/ali/matrices/480_1', 'mobilitydb', 'pymeos_demo', 'MMSI', 'trajectory'], returncode=0, stdout='================================================================     Matrix 3840 created in 14.903142929077148 seconds, 447.09428787231445 frames for 30 fps animation.\\n', stderr='')\n"
     ]
    },
    {
     "name": "stderr",
     "output_type": "stream",
     "text": []
    },
    {
     "name": "stdout",
     "output_type": "stream",
     "text": [
      "CompletedProcess(args=['/home/ali/.venv/bin/python', '/home/ali/QGIS-MobilityDB/experiment9_sql_optimization/generate_matrix_before_optimization.py', '4320', '4799', '1', '-180', '-90', '180', '90', '2023-06-01 01:12:00', '86399', 'SECOND', '/home/ali/matrices/480_1', 'mobilitydb', 'pymeos_demo', 'MMSI', 'trajectory'], returncode=0, stdout='================================================================     Matrix 4320 created in 14.95861268043518 seconds, 448.7583804130554 frames for 30 fps animation.\\n', stderr='')\n"
     ]
    },
    {
     "name": "stderr",
     "output_type": "stream",
     "text": [
      "Time delta (4320, 4799): 100%|██████████| 10/10 [02:32<00:00, 15.22s/it]\n",
      "Combination (960, 0.1):  83%|████████▎ | 15/18 [08:04<03:52, 77.46s/it]"
     ]
    },
    {
     "name": "stdout",
     "output_type": "stream",
     "text": [
      "CompletedProcess(args=['/home/ali/.venv/bin/python', '/home/ali/QGIS-MobilityDB/experiment9_sql_optimization/generate_matrix_before_optimization.py', '0', '959', '0.1', '-180', '-90', '180', '90', '2023-06-01 00:00:00', '86399', 'SECOND', '/home/ali/matrices/960_0.1', 'mobilitydb', 'pymeos_demo', 'MMSI', 'trajectory'], returncode=0, stdout='================================================================     Matrix 0 created in 1.6228902339935303 seconds, 48.68670701980591 frames for 30 fps animation.\\n', stderr='')\n"
     ]
    },
    {
     "name": "stderr",
     "output_type": "stream",
     "text": []
    },
    {
     "name": "stdout",
     "output_type": "stream",
     "text": [
      "CompletedProcess(args=['/home/ali/.venv/bin/python', '/home/ali/QGIS-MobilityDB/experiment9_sql_optimization/generate_matrix_before_optimization.py', '960', '1919', '0.1', '-180', '-90', '180', '90', '2023-06-01 00:16:00', '86399', 'SECOND', '/home/ali/matrices/960_0.1', 'mobilitydb', 'pymeos_demo', 'MMSI', 'trajectory'], returncode=0, stdout='================================================================     Matrix 960 created in 2.260570526123047 seconds, 67.8171157836914 frames for 30 fps animation.\\n', stderr='')\n"
     ]
    },
    {
     "name": "stderr",
     "output_type": "stream",
     "text": []
    },
    {
     "name": "stdout",
     "output_type": "stream",
     "text": [
      "CompletedProcess(args=['/home/ali/.venv/bin/python', '/home/ali/QGIS-MobilityDB/experiment9_sql_optimization/generate_matrix_before_optimization.py', '1920', '2879', '0.1', '-180', '-90', '180', '90', '2023-06-01 00:32:00', '86399', 'SECOND', '/home/ali/matrices/960_0.1', 'mobilitydb', 'pymeos_demo', 'MMSI', 'trajectory'], returncode=0, stdout='================================================================     Matrix 1920 created in 2.417494535446167 seconds, 72.52483606338501 frames for 30 fps animation.\\n', stderr='')\n"
     ]
    },
    {
     "name": "stderr",
     "output_type": "stream",
     "text": []
    },
    {
     "name": "stdout",
     "output_type": "stream",
     "text": [
      "CompletedProcess(args=['/home/ali/.venv/bin/python', '/home/ali/QGIS-MobilityDB/experiment9_sql_optimization/generate_matrix_before_optimization.py', '2880', '3839', '0.1', '-180', '-90', '180', '90', '2023-06-01 00:48:00', '86399', 'SECOND', '/home/ali/matrices/960_0.1', 'mobilitydb', 'pymeos_demo', 'MMSI', 'trajectory'], returncode=0, stdout='================================================================     Matrix 2880 created in 2.5522406101226807 seconds, 76.56721830368042 frames for 30 fps animation.\\n', stderr='')\n"
     ]
    },
    {
     "name": "stderr",
     "output_type": "stream",
     "text": []
    },
    {
     "name": "stdout",
     "output_type": "stream",
     "text": [
      "CompletedProcess(args=['/home/ali/.venv/bin/python', '/home/ali/QGIS-MobilityDB/experiment9_sql_optimization/generate_matrix_before_optimization.py', '3840', '4799', '0.1', '-180', '-90', '180', '90', '2023-06-01 01:04:00', '86399', 'SECOND', '/home/ali/matrices/960_0.1', 'mobilitydb', 'pymeos_demo', 'MMSI', 'trajectory'], returncode=0, stdout='================================================================     Matrix 3840 created in 2.438593864440918 seconds, 73.15781593322754 frames for 30 fps animation.\\n', stderr='')\n"
     ]
    },
    {
     "name": "stderr",
     "output_type": "stream",
     "text": []
    },
    {
     "name": "stdout",
     "output_type": "stream",
     "text": [
      "CompletedProcess(args=['/home/ali/.venv/bin/python', '/home/ali/QGIS-MobilityDB/experiment9_sql_optimization/generate_matrix_before_optimization.py', '4800', '5759', '0.1', '-180', '-90', '180', '90', '2023-06-01 01:20:00', '86399', 'SECOND', '/home/ali/matrices/960_0.1', 'mobilitydb', 'pymeos_demo', 'MMSI', 'trajectory'], returncode=0, stdout='================================================================     Matrix 4800 created in 2.459000587463379 seconds, 73.77001762390137 frames for 30 fps animation.\\n', stderr='')\n"
     ]
    },
    {
     "name": "stderr",
     "output_type": "stream",
     "text": []
    },
    {
     "name": "stdout",
     "output_type": "stream",
     "text": [
      "CompletedProcess(args=['/home/ali/.venv/bin/python', '/home/ali/QGIS-MobilityDB/experiment9_sql_optimization/generate_matrix_before_optimization.py', '5760', '6719', '0.1', '-180', '-90', '180', '90', '2023-06-01 01:36:00', '86399', 'SECOND', '/home/ali/matrices/960_0.1', 'mobilitydb', 'pymeos_demo', 'MMSI', 'trajectory'], returncode=0, stdout='================================================================     Matrix 5760 created in 2.5634074211120605 seconds, 76.90222263336182 frames for 30 fps animation.\\n', stderr='')\n"
     ]
    },
    {
     "name": "stderr",
     "output_type": "stream",
     "text": []
    },
    {
     "name": "stdout",
     "output_type": "stream",
     "text": [
      "CompletedProcess(args=['/home/ali/.venv/bin/python', '/home/ali/QGIS-MobilityDB/experiment9_sql_optimization/generate_matrix_before_optimization.py', '6720', '7679', '0.1', '-180', '-90', '180', '90', '2023-06-01 01:52:00', '86399', 'SECOND', '/home/ali/matrices/960_0.1', 'mobilitydb', 'pymeos_demo', 'MMSI', 'trajectory'], returncode=0, stdout='================================================================     Matrix 6720 created in 2.617011785507202 seconds, 78.51035356521606 frames for 30 fps animation.\\n', stderr='')\n"
     ]
    },
    {
     "name": "stderr",
     "output_type": "stream",
     "text": []
    },
    {
     "name": "stdout",
     "output_type": "stream",
     "text": [
      "CompletedProcess(args=['/home/ali/.venv/bin/python', '/home/ali/QGIS-MobilityDB/experiment9_sql_optimization/generate_matrix_before_optimization.py', '7680', '8639', '0.1', '-180', '-90', '180', '90', '2023-06-01 02:08:00', '86399', 'SECOND', '/home/ali/matrices/960_0.1', 'mobilitydb', 'pymeos_demo', 'MMSI', 'trajectory'], returncode=0, stdout='================================================================     Matrix 7680 created in 2.5676677227020264 seconds, 77.03003168106079 frames for 30 fps animation.\\n', stderr='')\n"
     ]
    },
    {
     "name": "stderr",
     "output_type": "stream",
     "text": [
      "Time delta (8640, 9599): 100%|██████████| 10/10 [00:27<00:00,  2.75s/it]\n",
      "Combination (960, 0.5):  89%|████████▉ | 16/18 [08:32<02:04, 62.42s/it]"
     ]
    },
    {
     "name": "stdout",
     "output_type": "stream",
     "text": [
      "CompletedProcess(args=['/home/ali/.venv/bin/python', '/home/ali/QGIS-MobilityDB/experiment9_sql_optimization/generate_matrix_before_optimization.py', '8640', '9599', '0.1', '-180', '-90', '180', '90', '2023-06-01 02:24:00', '86399', 'SECOND', '/home/ali/matrices/960_0.1', 'mobilitydb', 'pymeos_demo', 'MMSI', 'trajectory'], returncode=0, stdout='================================================================     Matrix 8640 created in 2.703474521636963 seconds, 81.10423564910889 frames for 30 fps animation.\\n', stderr='')\n"
     ]
    },
    {
     "name": "stderr",
     "output_type": "stream",
     "text": []
    },
    {
     "name": "stdout",
     "output_type": "stream",
     "text": [
      "CompletedProcess(args=['/home/ali/.venv/bin/python', '/home/ali/QGIS-MobilityDB/experiment9_sql_optimization/generate_matrix_before_optimization.py', '0', '959', '0.5', '-180', '-90', '180', '90', '2023-06-01 00:00:00', '86399', 'SECOND', '/home/ali/matrices/960_0.5', 'mobilitydb', 'pymeos_demo', 'MMSI', 'trajectory'], returncode=0, stdout='================================================================     Matrix 0 created in 11.084038257598877 seconds, 332.5211477279663 frames for 30 fps animation.\\n', stderr='')\n",
      "CompletedProcess(args=['/home/ali/.venv/bin/python', '/home/ali/QGIS-MobilityDB/experiment9_sql_optimization/generate_matrix_before_optimization.py', '960', '1919', '0.5', '-180', '-90', '180', '90', '2023-06-01 00:16:00', '86399', 'SECOND', '/home/ali/matrices/960_0.5', 'mobilitydb', 'pymeos_demo', 'MMSI', 'trajectory'], returncode=0, stdout='================================================================     Matrix 960 created in 13.576319456100464 seconds, 407.2895836830139 frames for 30 fps animation.\\n', stderr='')\n"
     ]
    },
    {
     "name": "stderr",
     "output_type": "stream",
     "text": [
      "\n"
     ]
    },
    {
     "name": "stdout",
     "output_type": "stream",
     "text": [
      "CompletedProcess(args=['/home/ali/.venv/bin/python', '/home/ali/QGIS-MobilityDB/experiment9_sql_optimization/generate_matrix_before_optimization.py', '1920', '2879', '0.5', '-180', '-90', '180', '90', '2023-06-01 00:32:00', '86399', 'SECOND', '/home/ali/matrices/960_0.5', 'mobilitydb', 'pymeos_demo', 'MMSI', 'trajectory'], returncode=0, stdout='================================================================     Matrix 1920 created in 14.246636390686035 seconds, 427.39909172058105 frames for 30 fps animation.\\n', stderr='')\n"
     ]
    },
    {
     "name": "stderr",
     "output_type": "stream",
     "text": [
      "Time delta (2880, 3839):  30%|███       | 3/10 [00:41<01:38, 14.09s/it]\u001b[A"
     ]
    },
    {
     "name": "stdout",
     "output_type": "stream",
     "text": [
      "CompletedProcess(args=['/home/ali/.venv/bin/python', '/home/ali/QGIS-MobilityDB/experiment9_sql_optimization/generate_matrix_before_optimization.py', '2880', '3839', '0.5', '-180', '-90', '180', '90', '2023-06-01 00:48:00', '86399', 'SECOND', '/home/ali/matrices/960_0.5', 'mobilitydb', 'pymeos_demo', 'MMSI', 'trajectory'], returncode=0, stdout='================================================================     Matrix 2880 created in 15.157202959060669 seconds, 454.71608877182007 frames for 30 fps animation.\\n', stderr='')\n"
     ]
    },
    {
     "name": "stderr",
     "output_type": "stream",
     "text": []
    },
    {
     "name": "stdout",
     "output_type": "stream",
     "text": [
      "CompletedProcess(args=['/home/ali/.venv/bin/python', '/home/ali/QGIS-MobilityDB/experiment9_sql_optimization/generate_matrix_before_optimization.py', '3840', '4799', '0.5', '-180', '-90', '180', '90', '2023-06-01 01:04:00', '86399', 'SECOND', '/home/ali/matrices/960_0.5', 'mobilitydb', 'pymeos_demo', 'MMSI', 'trajectory'], returncode=0, stdout='================================================================     Matrix 3840 created in 14.43778944015503 seconds, 433.1336832046509 frames for 30 fps animation.\\n', stderr='')\n",
      "CompletedProcess(args=['/home/ali/.venv/bin/python', '/home/ali/QGIS-MobilityDB/experiment9_sql_optimization/generate_matrix_before_optimization.py', '4800', '5759', '0.5', '-180', '-90', '180', '90', '2023-06-01 01:20:00', '86399', 'SECOND', '/home/ali/matrices/960_0.5', 'mobilitydb', 'pymeos_demo', 'MMSI', 'trajectory'], returncode=0, stdout='================================================================     Matrix 4800 created in 14.793066024780273 seconds, 443.7919807434082 frames for 30 fps animation.\\n', stderr='')\n"
     ]
    },
    {
     "name": "stderr",
     "output_type": "stream",
     "text": []
    },
    {
     "name": "stdout",
     "output_type": "stream",
     "text": [
      "CompletedProcess(args=['/home/ali/.venv/bin/python', '/home/ali/QGIS-MobilityDB/experiment9_sql_optimization/generate_matrix_before_optimization.py', '5760', '6719', '0.5', '-180', '-90', '180', '90', '2023-06-01 01:36:00', '86399', 'SECOND', '/home/ali/matrices/960_0.5', 'mobilitydb', 'pymeos_demo', 'MMSI', 'trajectory'], returncode=0, stdout='================================================================     Matrix 5760 created in 15.250832557678223 seconds, 457.5249767303467 frames for 30 fps animation.\\n', stderr='')\n",
      "CompletedProcess(args=['/home/ali/.venv/bin/python', '/home/ali/QGIS-MobilityDB/experiment9_sql_optimization/generate_matrix_before_optimization.py', '6720', '7679', '0.5', '-180', '-90', '180', '90', '2023-06-01 01:52:00', '86399', 'SECOND', '/home/ali/matrices/960_0.5', 'mobilitydb', 'pymeos_demo', 'MMSI', 'trajectory'], returncode=0, stdout='================================================================     Matrix 6720 created in 15.250859260559082 seconds, 457.52577781677246 frames for 30 fps animation.\\n', stderr='')\n"
     ]
    },
    {
     "name": "stderr",
     "output_type": "stream",
     "text": []
    },
    {
     "name": "stdout",
     "output_type": "stream",
     "text": [
      "CompletedProcess(args=['/home/ali/.venv/bin/python', '/home/ali/QGIS-MobilityDB/experiment9_sql_optimization/generate_matrix_before_optimization.py', '7680', '8639', '0.5', '-180', '-90', '180', '90', '2023-06-01 02:08:00', '86399', 'SECOND', '/home/ali/matrices/960_0.5', 'mobilitydb', 'pymeos_demo', 'MMSI', 'trajectory'], returncode=0, stdout='================================================================     Matrix 7680 created in 15.22275424003601 seconds, 456.6826272010803 frames for 30 fps animation.\\n', stderr='')\n"
     ]
    },
    {
     "name": "stderr",
     "output_type": "stream",
     "text": []
    },
    {
     "name": "stdout",
     "output_type": "stream",
     "text": [
      "CompletedProcess(args=['/home/ali/.venv/bin/python', '/home/ali/QGIS-MobilityDB/experiment9_sql_optimization/generate_matrix_before_optimization.py', '8640', '9599', '0.5', '-180', '-90', '180', '90', '2023-06-01 02:24:00', '86399', 'SECOND', '/home/ali/matrices/960_0.5', 'mobilitydb', 'pymeos_demo', 'MMSI', 'trajectory'], returncode=0, stdout='================================================================     Matrix 8640 created in 15.739160537719727 seconds, 472.1748161315918 frames for 30 fps animation.\\n', stderr='')\n"
     ]
    },
    {
     "name": "stderr",
     "output_type": "stream",
     "text": [
      "Time delta (8640, 9599): 100%|██████████| 10/10 [02:32<00:00, 15.25s/it]\n",
      "Combination (960, 1):  94%|█████████▍| 17/18 [11:04<01:29, 89.54s/it]  "
     ]
    },
    {
     "name": "stdout",
     "output_type": "stream",
     "text": [
      "CompletedProcess(args=['/home/ali/.venv/bin/python', '/home/ali/QGIS-MobilityDB/experiment9_sql_optimization/generate_matrix_before_optimization.py', '0', '959', '1', '-180', '-90', '180', '90', '2023-06-01 00:00:00', '86399', 'SECOND', '/home/ali/matrices/960_1', 'mobilitydb', 'pymeos_demo', 'MMSI', 'trajectory'], returncode=0, stdout='================================================================     Matrix 0 created in 23.168142557144165 seconds, 695.044276714325 frames for 30 fps animation.\\n', stderr='')\n"
     ]
    },
    {
     "name": "stderr",
     "output_type": "stream",
     "text": []
    },
    {
     "name": "stdout",
     "output_type": "stream",
     "text": [
      "CompletedProcess(args=['/home/ali/.venv/bin/python', '/home/ali/QGIS-MobilityDB/experiment9_sql_optimization/generate_matrix_before_optimization.py', '960', '1919', '1', '-180', '-90', '180', '90', '2023-06-01 00:16:00', '86399', 'SECOND', '/home/ali/matrices/960_1', 'mobilitydb', 'pymeos_demo', 'MMSI', 'trajectory'], returncode=0, stdout='================================================================     Matrix 960 created in 27.835830211639404 seconds, 835.0749063491821 frames for 30 fps animation.\\n', stderr='')\n"
     ]
    },
    {
     "name": "stderr",
     "output_type": "stream",
     "text": []
    },
    {
     "name": "stdout",
     "output_type": "stream",
     "text": [
      "CompletedProcess(args=['/home/ali/.venv/bin/python', '/home/ali/QGIS-MobilityDB/experiment9_sql_optimization/generate_matrix_before_optimization.py', '1920', '2879', '1', '-180', '-90', '180', '90', '2023-06-01 00:32:00', '86399', 'SECOND', '/home/ali/matrices/960_1', 'mobilitydb', 'pymeos_demo', 'MMSI', 'trajectory'], returncode=0, stdout='================================================================     Matrix 1920 created in 29.163641929626465 seconds, 874.909257888794 frames for 30 fps animation.\\n', stderr='')\n"
     ]
    },
    {
     "name": "stderr",
     "output_type": "stream",
     "text": []
    },
    {
     "name": "stdout",
     "output_type": "stream",
     "text": [
      "CompletedProcess(args=['/home/ali/.venv/bin/python', '/home/ali/QGIS-MobilityDB/experiment9_sql_optimization/generate_matrix_before_optimization.py', '2880', '3839', '1', '-180', '-90', '180', '90', '2023-06-01 00:48:00', '86399', 'SECOND', '/home/ali/matrices/960_1', 'mobilitydb', 'pymeos_demo', 'MMSI', 'trajectory'], returncode=0, stdout='================================================================     Matrix 2880 created in 30.52529788017273 seconds, 915.7589364051819 frames for 30 fps animation.\\n', stderr='')\n"
     ]
    },
    {
     "name": "stderr",
     "output_type": "stream",
     "text": []
    },
    {
     "name": "stdout",
     "output_type": "stream",
     "text": [
      "CompletedProcess(args=['/home/ali/.venv/bin/python', '/home/ali/QGIS-MobilityDB/experiment9_sql_optimization/generate_matrix_before_optimization.py', '3840', '4799', '1', '-180', '-90', '180', '90', '2023-06-01 01:04:00', '86399', 'SECOND', '/home/ali/matrices/960_1', 'mobilitydb', 'pymeos_demo', 'MMSI', 'trajectory'], returncode=0, stdout='================================================================     Matrix 3840 created in 29.84528613090515 seconds, 895.3585839271545 frames for 30 fps animation.\\n', stderr='')\n"
     ]
    },
    {
     "name": "stderr",
     "output_type": "stream",
     "text": []
    },
    {
     "name": "stdout",
     "output_type": "stream",
     "text": [
      "CompletedProcess(args=['/home/ali/.venv/bin/python', '/home/ali/QGIS-MobilityDB/experiment9_sql_optimization/generate_matrix_before_optimization.py', '4800', '5759', '1', '-180', '-90', '180', '90', '2023-06-01 01:20:00', '86399', 'SECOND', '/home/ali/matrices/960_1', 'mobilitydb', 'pymeos_demo', 'MMSI', 'trajectory'], returncode=0, stdout='================================================================     Matrix 4800 created in 30.171600580215454 seconds, 905.1480174064636 frames for 30 fps animation.\\n', stderr='')\n"
     ]
    },
    {
     "name": "stderr",
     "output_type": "stream",
     "text": []
    },
    {
     "name": "stdout",
     "output_type": "stream",
     "text": [
      "CompletedProcess(args=['/home/ali/.venv/bin/python', '/home/ali/QGIS-MobilityDB/experiment9_sql_optimization/generate_matrix_before_optimization.py', '5760', '6719', '1', '-180', '-90', '180', '90', '2023-06-01 01:36:00', '86399', 'SECOND', '/home/ali/matrices/960_1', 'mobilitydb', 'pymeos_demo', 'MMSI', 'trajectory'], returncode=0, stdout='================================================================     Matrix 5760 created in 31.150951147079468 seconds, 934.528534412384 frames for 30 fps animation.\\n', stderr='')\n"
     ]
    },
    {
     "name": "stderr",
     "output_type": "stream",
     "text": []
    },
    {
     "name": "stdout",
     "output_type": "stream",
     "text": [
      "CompletedProcess(args=['/home/ali/.venv/bin/python', '/home/ali/QGIS-MobilityDB/experiment9_sql_optimization/generate_matrix_before_optimization.py', '6720', '7679', '1', '-180', '-90', '180', '90', '2023-06-01 01:52:00', '86399', 'SECOND', '/home/ali/matrices/960_1', 'mobilitydb', 'pymeos_demo', 'MMSI', 'trajectory'], returncode=0, stdout='================================================================     Matrix 6720 created in 31.93392300605774 seconds, 958.0176901817322 frames for 30 fps animation.\\n', stderr='')\n"
     ]
    },
    {
     "name": "stderr",
     "output_type": "stream",
     "text": []
    },
    {
     "name": "stdout",
     "output_type": "stream",
     "text": [
      "CompletedProcess(args=['/home/ali/.venv/bin/python', '/home/ali/QGIS-MobilityDB/experiment9_sql_optimization/generate_matrix_before_optimization.py', '7680', '8639', '1', '-180', '-90', '180', '90', '2023-06-01 02:08:00', '86399', 'SECOND', '/home/ali/matrices/960_1', 'mobilitydb', 'pymeos_demo', 'MMSI', 'trajectory'], returncode=0, stdout='================================================================     Matrix 7680 created in 31.03621745109558 seconds, 931.0865235328674 frames for 30 fps animation.\\n', stderr='')\n"
     ]
    },
    {
     "name": "stderr",
     "output_type": "stream",
     "text": []
    },
    {
     "name": "stdout",
     "output_type": "stream",
     "text": [
      "CompletedProcess(args=['/home/ali/.venv/bin/python', '/home/ali/QGIS-MobilityDB/experiment9_sql_optimization/generate_matrix_before_optimization.py', '8640', '9599', '1', '-180', '-90', '180', '90', '2023-06-01 02:24:00', '86399', 'SECOND', '/home/ali/matrices/960_1', 'mobilitydb', 'pymeos_demo', 'MMSI', 'trajectory'], returncode=0, stdout='================================================================     Matrix 8640 created in 31.435418605804443 seconds, 943.0625581741333 frames for 30 fps animation.\\n', stderr='')\n"
     ]
    },
    {
     "name": "stderr",
     "output_type": "stream",
     "text": [
      "Time delta (8640, 9599): 100%|██████████| 10/10 [05:11<00:00, 31.12s/it]\n",
      "Combination (960, 1): 100%|██████████| 18/18 [16:16<00:00, 54.24s/it] \n"
     ]
    }
   ],
   "source": [
    "\n",
    "\n",
    "\"\"\"\n",
    "Iterate over all the possible combinations of frames and percentages\n",
    "\n",
    "for each combination :\n",
    "    \n",
    "    Create 3 time deltas\n",
    "    store : time for each time delta\n",
    "    store : maximum time for each time delta\n",
    "    store : average time for each time delta\n",
    "    \n",
    "    Calculate FPS using : Frames / maximum time for each time delta\n",
    "\n",
    "    Store the FPS for each combination\n",
    "\n",
    "    store the memory used by all 3 time delta in local disk\n",
    "\n",
    "\n",
    "\"\"\"\n",
    "\n",
    "\n",
    "MATRIX_DIRECTORY_PATH =\"/home/ali/matrices/\" \n",
    "if os.path.exists(MATRIX_DIRECTORY_PATH):\n",
    "    shutil.rmtree(MATRIX_DIRECTORY_PATH)\n",
    "    os.makedirs(MATRIX_DIRECTORY_PATH)\n",
    "else:\n",
    "    os.makedirs(MATRIX_DIRECTORY_PATH)\n",
    "pymeos_initialize()\n",
    "\n",
    "SRID = 4326\n",
    "DATABASE_NAME = \"mobilitydb\"\n",
    "TPOINT_TABLE_NAME = \"PyMEOS_demo\"\n",
    "TPOINT_ID_COLUMN_NAME = \"MMSI\"\n",
    "TPOINT_COLUMN_NAME = \"trajectory\"\n",
    "x_min = -180\n",
    "y_min = -90\n",
    "x_max = 180\n",
    "y_max = 90\n",
    "extent_list = [x_min, y_min, x_max, y_max]\n",
    "Time_granularities = {\n",
    "                    # \"MILLISECOND\" : timedelta(milliseconds=1),\n",
    "                      \"SECOND\" : timedelta(seconds=1),\n",
    "                      \"MINUTE\" : timedelta(minutes=1),\n",
    "                    #   \"HOUR\" : timedelta(hours=1),\n",
    "                    }\n",
    "GRANULARITY = Time_granularities[\"SECOND\"]\n",
    "\n",
    "connection_params = {\n",
    "        \"host\": \"localhost\",\n",
    "        \"port\": 5432,\n",
    "        \"dbname\": DATABASE_NAME,\n",
    "        \"user\": \"postgres\",\n",
    "        \"password\": \"postgres\"\n",
    "        }\n",
    "                \n",
    "connection = MobilityDB.connect(**connection_params)\n",
    "cursor = connection.cursor()\n",
    "\n",
    "cursor.execute(f\"SELECT {TPOINT_ID_COLUMN_NAME} FROM public.{TPOINT_TABLE_NAME};\")\n",
    "Total_ids = cursor.fetchall()\n",
    "\n",
    "cursor.execute(f\"SELECT MIN(startTimestamp({TPOINT_COLUMN_NAME})) AS earliest_timestamp FROM public.{TPOINT_TABLE_NAME};\")\n",
    "start_date = cursor.fetchone()[0]\n",
    "cursor.execute(f\"SELECT MAX(endTimestamp({TPOINT_COLUMN_NAME})) AS latest_timestamp FROM public.{TPOINT_TABLE_NAME};\")\n",
    "end_date = cursor.fetchone()[0]\n",
    "\n",
    "total_frames = math.ceil( (end_date - start_date) // GRANULARITY ) + 1\n",
    "\n",
    "timestamps = [start_date + i * GRANULARITY for i in range(total_frames)]\n",
    "timestamps = [dt.replace(tzinfo=None) for dt in timestamps]\n",
    "timestamps_strings = [dt.strftime('%Y-%m-%d %H:%M:%S') for dt in timestamps]\n",
    "\n",
    "\n",
    "TIME_DELTA_COUNT = 10\n",
    "\n",
    "\n",
    "Frames = [10, 60, 120, 240, 480, 960]\n",
    "Percentages = [0.1, 0.5,  1]\n",
    "\n",
    "number_of_objects={} # Store the number of objects for each percentage\n",
    "times = {} # Store the time for each time delta\n",
    "memory_used = {} # Store the memory used for each combination\n",
    "\n",
    "combinations = tqdm(list(itertools.product(Frames, Percentages)))\n",
    "\n",
    "for combination in combinations:\n",
    "    combinations.set_description(f\"Combination {combination}\")\n",
    "    frame, percentage = combination\n",
    "\n",
    "    \n",
    "    ids_list = Total_ids[:int(len(Total_ids)*percentage)]\n",
    "    number_of_objects[percentage] = len(ids_list)\n",
    "\n",
    "\n",
    "    # print(combination)\n",
    "    dir_name = f\"/home/ali/matrices/{frame}_{percentage}\"\n",
    "    # print(dir_name)\n",
    "    os.mkdir(dir_name)\n",
    "   \n",
    "    t_deltas = tqdm([(i, (i+frame)-1) for i in range(0, 10*frame, frame)]) \n",
    "    # print(t_deltas)\n",
    "    times[combination] = []\n",
    "    for delta in t_deltas:\n",
    "        t_deltas.set_description(f\"Time delta {delta}\")\n",
    "        now = time.time()\n",
    "        x_min,y_min, x_max, y_max = extent_list\n",
    "        begin_frame, end_frame = delta\n",
    "        arguments = [begin_frame, end_frame, percentage, x_min, y_min, x_max, y_max]\n",
    "        arguments = [str(arg) for arg in arguments]\n",
    "        arguments += [timestamps_strings[begin_frame],  str(len(timestamps)),\n",
    "                'SECOND',\n",
    "                dir_name,\n",
    "                'mobilitydb',\n",
    "                'pymeos_demo',\n",
    "                'MMSI',\n",
    "                'trajectory']\n",
    "     \n",
    "\n",
    "        python_path = sys.executable\n",
    "        process_B_path = f\"/home/ali/QGIS-MobilityDB/experiment9_sql_optimization/generate_matrix_before_optimization.py\"\n",
    "        \n",
    "        command = [python_path, process_B_path, *arguments]\n",
    "        result = subprocess.run(command, capture_output=True, text=True)\n",
    "        print(result)\n",
    "        \n",
    "        loaded_matrix = np.load(f\"{dir_name}/matrix_{begin_frame}.npy\", allow_pickle=True)\n",
    "\n",
    "        TIME_total = time.time() - now\n",
    "        times[combination].append(TIME_total)\n",
    "    size = get_folder_size_mb(dir_name) \n",
    "    memory_used[combination] = size\n",
    "    shutil.rmtree(dir_name)\n",
    "        \n",
    "    \n",
    "    \n",
    "\n"
   ]
  },
  {
   "cell_type": "code",
   "execution_count": 13,
   "metadata": {},
   "outputs": [
    {
     "data": {
      "text/plain": [
       "{0.1: 582, 0.5: 2910, 1: 5821}"
      ]
     },
     "execution_count": 13,
     "metadata": {},
     "output_type": "execute_result"
    }
   ],
   "source": [
    "number_of_objects"
   ]
  },
  {
   "cell_type": "code",
   "execution_count": 14,
   "metadata": {},
   "outputs": [
    {
     "data": {
      "text/plain": [
       "{(10, 0.1): 0.4168701171875,\n",
       " (10, 0.5): 2.180704116821289,\n",
       " (10, 1): 4.510184288024902,\n",
       " (60, 0.1): 2.7187366485595703,\n",
       " (60, 0.5): 14.488865852355957,\n",
       " (60, 1): 29.763100624084473,\n",
       " (120, 0.1): 5.5711469650268555,\n",
       " (120, 0.5): 29.599886894226074,\n",
       " (120, 1): 60.662577629089355,\n",
       " (240, 0.1): 11.762939453125,\n",
       " (240, 0.5): 61.61973571777344,\n",
       " (240, 1): 125.95961856842041,\n",
       " (480, 0.1): 24.75767421722412,\n",
       " (480, 0.5): 127.56088638305664,\n",
       " (480, 1): 260.59914207458496,\n",
       " (960, 0.1): 50.78852653503418,\n",
       " (960, 0.5): 261.52373027801514,\n",
       " (960, 1): 532.4159679412842}"
      ]
     },
     "execution_count": 14,
     "metadata": {},
     "output_type": "execute_result"
    }
   ],
   "source": [
    "memory_used"
   ]
  },
  {
   "cell_type": "markdown",
   "metadata": {},
   "source": [
    "# Average time to generate T delta per combination"
   ]
  },
  {
   "cell_type": "code",
   "execution_count": 16,
   "metadata": {},
   "outputs": [
    {
     "name": "stdout",
     "output_type": "stream",
     "text": [
      "Collecting seaborn\n",
      "  Downloading seaborn-0.13.2-py3-none-any.whl.metadata (5.4 kB)\n",
      "Requirement already satisfied: numpy!=1.24.0,>=1.20 in /home/ali/.venv/lib/python3.11/site-packages (from seaborn) (1.26.4)\n",
      "Requirement already satisfied: pandas>=1.2 in /home/ali/.venv/lib/python3.11/site-packages (from seaborn) (2.2.2)\n",
      "Requirement already satisfied: matplotlib!=3.6.1,>=3.4 in /home/ali/.venv/lib/python3.11/site-packages (from seaborn) (3.9.0)\n",
      "Requirement already satisfied: contourpy>=1.0.1 in /home/ali/.venv/lib/python3.11/site-packages (from matplotlib!=3.6.1,>=3.4->seaborn) (1.2.1)\n",
      "Requirement already satisfied: cycler>=0.10 in /home/ali/.venv/lib/python3.11/site-packages (from matplotlib!=3.6.1,>=3.4->seaborn) (0.12.1)\n",
      "Requirement already satisfied: fonttools>=4.22.0 in /home/ali/.venv/lib/python3.11/site-packages (from matplotlib!=3.6.1,>=3.4->seaborn) (4.52.1)\n",
      "Requirement already satisfied: kiwisolver>=1.3.1 in /home/ali/.venv/lib/python3.11/site-packages (from matplotlib!=3.6.1,>=3.4->seaborn) (1.4.5)\n",
      "Requirement already satisfied: packaging>=20.0 in /home/ali/.venv/lib/python3.11/site-packages (from matplotlib!=3.6.1,>=3.4->seaborn) (24.0)\n",
      "Requirement already satisfied: pillow>=8 in /home/ali/.venv/lib/python3.11/site-packages (from matplotlib!=3.6.1,>=3.4->seaborn) (10.3.0)\n",
      "Requirement already satisfied: pyparsing>=2.3.1 in /home/ali/.venv/lib/python3.11/site-packages (from matplotlib!=3.6.1,>=3.4->seaborn) (3.1.2)\n",
      "Requirement already satisfied: python-dateutil>=2.7 in /home/ali/.venv/lib/python3.11/site-packages (from matplotlib!=3.6.1,>=3.4->seaborn) (2.9.0.post0)\n",
      "Requirement already satisfied: pytz>=2020.1 in /home/ali/.venv/lib/python3.11/site-packages (from pandas>=1.2->seaborn) (2024.1)\n",
      "Requirement already satisfied: tzdata>=2022.7 in /home/ali/.venv/lib/python3.11/site-packages (from pandas>=1.2->seaborn) (2024.1)\n",
      "Requirement already satisfied: six>=1.5 in /home/ali/.venv/lib/python3.11/site-packages (from python-dateutil>=2.7->matplotlib!=3.6.1,>=3.4->seaborn) (1.16.0)\n",
      "Downloading seaborn-0.13.2-py3-none-any.whl (294 kB)\n",
      "\u001b[2K   \u001b[90m━━━━━━━━━━━━━━━━━━━━━━━━━━━━━━━━━━━━━━━━\u001b[0m \u001b[32m294.9/294.9 kB\u001b[0m \u001b[31m5.0 MB/s\u001b[0m eta \u001b[36m0:00:00\u001b[0ma \u001b[36m0:00:01\u001b[0m\n",
      "\u001b[?25hInstalling collected packages: seaborn\n",
      "Successfully installed seaborn-0.13.2\n"
     ]
    }
   ],
   "source": [
    "!pip install seaborn"
   ]
  },
  {
   "cell_type": "code",
   "execution_count": 17,
   "metadata": {},
   "outputs": [
    {
     "data": {
      "text/html": [
       "<div>\n",
       "<style scoped>\n",
       "    .dataframe tbody tr th:only-of-type {\n",
       "        vertical-align: middle;\n",
       "    }\n",
       "\n",
       "    .dataframe tbody tr th {\n",
       "        vertical-align: top;\n",
       "    }\n",
       "\n",
       "    .dataframe thead th {\n",
       "        text-align: right;\n",
       "    }\n",
       "</style>\n",
       "<table border=\"1\" class=\"dataframe\">\n",
       "  <thead>\n",
       "    <tr style=\"text-align: right;\">\n",
       "      <th></th>\n",
       "      <th></th>\n",
       "      <th>Average</th>\n",
       "    </tr>\n",
       "    <tr>\n",
       "      <th>Frames</th>\n",
       "      <th>Percentage</th>\n",
       "      <th></th>\n",
       "    </tr>\n",
       "  </thead>\n",
       "  <tbody>\n",
       "    <tr>\n",
       "      <th rowspan=\"3\" valign=\"top\">10</th>\n",
       "      <th>0.1</th>\n",
       "      <td>0.267903</td>\n",
       "    </tr>\n",
       "    <tr>\n",
       "      <th>0.5</th>\n",
       "      <td>0.486584</td>\n",
       "    </tr>\n",
       "    <tr>\n",
       "      <th>1.0</th>\n",
       "      <td>0.854849</td>\n",
       "    </tr>\n",
       "    <tr>\n",
       "      <th rowspan=\"3\" valign=\"top\">60</th>\n",
       "      <th>0.1</th>\n",
       "      <td>0.373073</td>\n",
       "    </tr>\n",
       "    <tr>\n",
       "      <th>0.5</th>\n",
       "      <td>1.182086</td>\n",
       "    </tr>\n",
       "    <tr>\n",
       "      <th>1.0</th>\n",
       "      <td>2.283915</td>\n",
       "    </tr>\n",
       "    <tr>\n",
       "      <th rowspan=\"3\" valign=\"top\">120</th>\n",
       "      <th>0.1</th>\n",
       "      <td>0.511666</td>\n",
       "    </tr>\n",
       "    <tr>\n",
       "      <th>0.5</th>\n",
       "      <td>2.061354</td>\n",
       "    </tr>\n",
       "    <tr>\n",
       "      <th>1.0</th>\n",
       "      <td>3.985176</td>\n",
       "    </tr>\n",
       "    <tr>\n",
       "      <th rowspan=\"3\" valign=\"top\">240</th>\n",
       "      <th>0.1</th>\n",
       "      <td>0.808131</td>\n",
       "    </tr>\n",
       "    <tr>\n",
       "      <th>0.5</th>\n",
       "      <td>3.804998</td>\n",
       "    </tr>\n",
       "    <tr>\n",
       "      <th>1.0</th>\n",
       "      <td>7.618107</td>\n",
       "    </tr>\n",
       "    <tr>\n",
       "      <th rowspan=\"3\" valign=\"top\">480</th>\n",
       "      <th>0.1</th>\n",
       "      <td>1.430111</td>\n",
       "    </tr>\n",
       "    <tr>\n",
       "      <th>0.5</th>\n",
       "      <td>7.533343</td>\n",
       "    </tr>\n",
       "    <tr>\n",
       "      <th>1.0</th>\n",
       "      <td>15.217157</td>\n",
       "    </tr>\n",
       "    <tr>\n",
       "      <th rowspan=\"3\" valign=\"top\">960</th>\n",
       "      <th>0.1</th>\n",
       "      <td>2.744219</td>\n",
       "    </tr>\n",
       "    <tr>\n",
       "      <th>0.5</th>\n",
       "      <td>15.248791</td>\n",
       "    </tr>\n",
       "    <tr>\n",
       "      <th>1.0</th>\n",
       "      <td>31.119190</td>\n",
       "    </tr>\n",
       "  </tbody>\n",
       "</table>\n",
       "</div>"
      ],
      "text/plain": [
       "                     Average\n",
       "Frames Percentage           \n",
       "10     0.1          0.267903\n",
       "       0.5          0.486584\n",
       "       1.0          0.854849\n",
       "60     0.1          0.373073\n",
       "       0.5          1.182086\n",
       "       1.0          2.283915\n",
       "120    0.1          0.511666\n",
       "       0.5          2.061354\n",
       "       1.0          3.985176\n",
       "240    0.1          0.808131\n",
       "       0.5          3.804998\n",
       "       1.0          7.618107\n",
       "480    0.1          1.430111\n",
       "       0.5          7.533343\n",
       "       1.0         15.217157\n",
       "960    0.1          2.744219\n",
       "       0.5         15.248791\n",
       "       1.0         31.119190"
      ]
     },
     "execution_count": 17,
     "metadata": {},
     "output_type": "execute_result"
    }
   ],
   "source": [
    "import numpy as np\n",
    "import pandas as pd\n",
    "import matplotlib.pyplot as plt\n",
    "import seaborn as sns\n",
    "from matplotlib.colors import LinearSegmentedColormap\n",
    "import matplotlib.colors as mcolors\n",
    "\n",
    "avg_data = {key: np.mean(value) for key, value in times.items()}\n",
    "avg_data\n",
    "\n",
    "df = pd.DataFrame.from_dict(avg_data, orient='index', columns=['Average'])\n",
    "df.index = pd.MultiIndex.from_tuples(df.index, names=['Frames', 'Percentage'])\n",
    "\n",
    "df"
   ]
  },
  {
   "cell_type": "code",
   "execution_count": 18,
   "metadata": {},
   "outputs": [
    {
     "data": {
      "text/html": [
       "<div>\n",
       "<style scoped>\n",
       "    .dataframe tbody tr th:only-of-type {\n",
       "        vertical-align: middle;\n",
       "    }\n",
       "\n",
       "    .dataframe tbody tr th {\n",
       "        vertical-align: top;\n",
       "    }\n",
       "\n",
       "    .dataframe thead tr th {\n",
       "        text-align: left;\n",
       "    }\n",
       "\n",
       "    .dataframe thead tr:last-of-type th {\n",
       "        text-align: right;\n",
       "    }\n",
       "</style>\n",
       "<table border=\"1\" class=\"dataframe\">\n",
       "  <thead>\n",
       "    <tr>\n",
       "      <th></th>\n",
       "      <th colspan=\"3\" halign=\"left\">Average</th>\n",
       "    </tr>\n",
       "    <tr>\n",
       "      <th>Percentage</th>\n",
       "      <th>0.1</th>\n",
       "      <th>0.5</th>\n",
       "      <th>1.0</th>\n",
       "    </tr>\n",
       "    <tr>\n",
       "      <th>Frames</th>\n",
       "      <th></th>\n",
       "      <th></th>\n",
       "      <th></th>\n",
       "    </tr>\n",
       "  </thead>\n",
       "  <tbody>\n",
       "    <tr>\n",
       "      <th>10</th>\n",
       "      <td>0.267903</td>\n",
       "      <td>0.486584</td>\n",
       "      <td>0.854849</td>\n",
       "    </tr>\n",
       "    <tr>\n",
       "      <th>60</th>\n",
       "      <td>0.373073</td>\n",
       "      <td>1.182086</td>\n",
       "      <td>2.283915</td>\n",
       "    </tr>\n",
       "    <tr>\n",
       "      <th>120</th>\n",
       "      <td>0.511666</td>\n",
       "      <td>2.061354</td>\n",
       "      <td>3.985176</td>\n",
       "    </tr>\n",
       "    <tr>\n",
       "      <th>240</th>\n",
       "      <td>0.808131</td>\n",
       "      <td>3.804998</td>\n",
       "      <td>7.618107</td>\n",
       "    </tr>\n",
       "    <tr>\n",
       "      <th>480</th>\n",
       "      <td>1.430111</td>\n",
       "      <td>7.533343</td>\n",
       "      <td>15.217157</td>\n",
       "    </tr>\n",
       "    <tr>\n",
       "      <th>960</th>\n",
       "      <td>2.744219</td>\n",
       "      <td>15.248791</td>\n",
       "      <td>31.119190</td>\n",
       "    </tr>\n",
       "  </tbody>\n",
       "</table>\n",
       "</div>"
      ],
      "text/plain": [
       "             Average                      \n",
       "Percentage       0.1        0.5        1.0\n",
       "Frames                                    \n",
       "10          0.267903   0.486584   0.854849\n",
       "60          0.373073   1.182086   2.283915\n",
       "120         0.511666   2.061354   3.985176\n",
       "240         0.808131   3.804998   7.618107\n",
       "480         1.430111   7.533343  15.217157\n",
       "960         2.744219  15.248791  31.119190"
      ]
     },
     "execution_count": 18,
     "metadata": {},
     "output_type": "execute_result"
    }
   ],
   "source": [
    "df_unstacked = df.unstack(level=-1) \n",
    "df_unstacked"
   ]
  },
  {
   "cell_type": "code",
   "execution_count": 19,
   "metadata": {},
   "outputs": [
    {
     "data": {
      "image/png": "[encoded data removed]",
      "text/plain": [
       "<Figure size 1200x800 with 2 Axes>"
      ]
     },
     "metadata": {},
     "output_type": "display_data"
    }
   ],
   "source": [
    "plt.figure(figsize=(12, 8))\n",
    "sns.heatmap(df_unstacked, annot=True, cmap='Reds', fmt=\".2f\", cbar_kws={'label': 'Average Time (s)'})\n",
    "plt.title('Average Time (Seconds) for Different Combinations')\n",
    "plt.xlabel('Percentage')\n",
    "plt.ylabel('Frames')\n",
    "plt.show()"
   ]
  },
  {
   "cell_type": "markdown",
   "metadata": {},
   "source": [
    "# MAX FPS for uninterrupted animation per combinations"
   ]
  },
  {
   "cell_type": "markdown",
   "metadata": {},
   "source": [
    "The formula used to get the max FPS, with uninterrupted animation :\n",
    "\n",
    "$$\n",
    "Max FPS = \\frac{| frames |}{\\max(\\text{time to generate next matrix})}\n",
    "$$\n",
    "\n"
   ]
  },
  {
   "cell_type": "code",
   "execution_count": 20,
   "metadata": {},
   "outputs": [
    {
     "data": {
      "text/plain": [
       "{(10, 0.1): 33.248255465073235,\n",
       " (10, 0.5): 17.856384450660094,\n",
       " (10, 1): 10.36618091999737,\n",
       " (60, 0.1): 137.14352977849035,\n",
       " (60, 0.5): 45.34114740606321,\n",
       " (60, 1): 23.923891717917794,\n",
       " (120, 0.1): 210.42459391222658,\n",
       " (120, 0.5): 53.179910844944374,\n",
       " (120, 1): 27.575028000091383,\n",
       " (240, 0.1): 266.07807520781216,\n",
       " (240, 0.5): 57.955046066304824,\n",
       " (240, 1): 29.344914740305278,\n",
       " (480, 0.1): 310.8148061693453,\n",
       " (480, 0.5): 57.58589755760782,\n",
       " (480, 1): 29.664206198676045,\n",
       " (960, 0.1): 317.7535628127498,\n",
       " (960, 0.5): 58.10203976589616,\n",
       " (960, 1): 28.614874227305013}"
      ]
     },
     "execution_count": 20,
     "metadata": {},
     "output_type": "execute_result"
    }
   ],
   "source": [
    "max_data = {key: max(value) for key, value in times.items()}\n",
    "\n",
    "# Calculate the FPS values using the maximum values\n",
    "fps_values = {key: key[0] / value for key, value in max_data.items()}\n",
    "fps_values"
   ]
  },
  {
   "cell_type": "code",
   "execution_count": 22,
   "metadata": {},
   "outputs": [
    {
     "data": {
      "image/png": "[encoded data removed]",
      "text/plain": [
       "<Figure size 1200x800 with 2 Axes>"
      ]
     },
     "metadata": {},
     "output_type": "display_data"
    }
   ],
   "source": [
    "# fps_values = {key: key[0] / value for key, value in avg_data.items()}\n",
    "\n",
    "\n",
    "df_frames_per_value = pd.DataFrame.from_dict(fps_values, orient='index', columns=['Frames_per_Value'])\n",
    "df_frames_per_value.index = pd.MultiIndex.from_tuples(df_frames_per_value.index, names=['Frames', 'Percentage'])\n",
    "\n",
    "df_frames_per_value_unstacked = df_frames_per_value.unstack(level=-1)\n",
    "df_frames_per_value_unstacked.columns = [f\"{col} ({number_of_objects[col]} boats)\" for col in df_frames_per_value_unstacked.columns.droplevel(0)]\n",
    "\n",
    "# for values below 30\n",
    "colors_below_30 = [\"red\", \"orange\"]\n",
    "cmap_below_30 = LinearSegmentedColormap.from_list(\"Below30Colormap\", colors_below_30)\n",
    "\n",
    "# above 30\n",
    "colors_above_30 = [\"#ADD8E6\", \"#87CEFA\"]\n",
    "cmap_above_30 = LinearSegmentedColormap.from_list(\"Above30Colormap\", colors_above_30)\n",
    "\n",
    "# Create a mask for values below and above 30\n",
    "mask_below_30 = df_frames_per_value_unstacked >= 30\n",
    "mask_above_30 = df_frames_per_value_unstacked < 30\n",
    "\n",
    "# Plot the heatmap with inverted color gradient for values below 30\n",
    "plt.figure(figsize=(12, 8))\n",
    "sns.heatmap(df_frames_per_value_unstacked, annot=True, cmap=cmap_below_30, fmt=\".2f\", cbar_kws={'label': 'Frames / Average Time'}, mask=mask_below_30, linewidths=.5)\n",
    "light_blue = \"#add8e6\"  # \n",
    "cmap_single_shade = mcolors.ListedColormap([light_blue]) \n",
    "sns.heatmap(df_frames_per_value_unstacked, annot=True, cmap=cmap_above_30, fmt=\".2f\", cbar=False, mask=mask_above_30, linewidths=.5)\n",
    "plt.title('Max FPS for uninterrupted animation for Different Combinations')\n",
    "plt.xlabel('Percentage (Additional Info)')\n",
    "plt.ylabel('Frames')\n",
    "plt.show()"
   ]
  },
  {
   "cell_type": "markdown",
   "metadata": {},
   "source": [
    "# Memory occupied on disk by 3 matrices (t-1, t, t+1)"
   ]
  },
  {
   "cell_type": "code",
   "execution_count": 23,
   "metadata": {},
   "outputs": [
    {
     "data": {
      "text/plain": [
       "{(10, 0.1): 0.4168701171875,\n",
       " (10, 0.5): 2.180704116821289,\n",
       " (10, 1): 4.510184288024902,\n",
       " (60, 0.1): 2.7187366485595703,\n",
       " (60, 0.5): 14.488865852355957,\n",
       " (60, 1): 29.763100624084473,\n",
       " (120, 0.1): 5.5711469650268555,\n",
       " (120, 0.5): 29.599886894226074,\n",
       " (120, 1): 60.662577629089355,\n",
       " (240, 0.1): 11.762939453125,\n",
       " (240, 0.5): 61.61973571777344,\n",
       " (240, 1): 125.95961856842041,\n",
       " (480, 0.1): 24.75767421722412,\n",
       " (480, 0.5): 127.56088638305664,\n",
       " (480, 1): 260.59914207458496,\n",
       " (960, 0.1): 50.78852653503418,\n",
       " (960, 0.5): 261.52373027801514,\n",
       " (960, 1): 532.4159679412842}"
      ]
     },
     "execution_count": 23,
     "metadata": {},
     "output_type": "execute_result"
    }
   ],
   "source": [
    "memory_used"
   ]
  },
  {
   "cell_type": "code",
   "execution_count": 24,
   "metadata": {},
   "outputs": [
    {
     "data": {
      "image/png": "[encoded data removed]",
      "text/plain": [
       "<Figure size 1200x800 with 2 Axes>"
      ]
     },
     "metadata": {},
     "output_type": "display_data"
    }
   ],
   "source": [
    "\n",
    "\n",
    "df_frames_per_value = pd.DataFrame.from_dict(memory_used, orient='index', columns=['%'])\n",
    "df_frames_per_value.index = pd.MultiIndex.from_tuples(df_frames_per_value.index, names=['Frames', 'Percentage'])\n",
    "\n",
    "df_frames_per_value_unstacked = df_frames_per_value.unstack(level=-1)\n",
    "df_frames_per_value_unstacked.columns = [f\"{col} ({number_of_objects[col]} boats)\" for col in df_frames_per_value_unstacked.columns.droplevel(0)]\n",
    "\n",
    "\n",
    "plt.figure(figsize=(12, 8))\n",
    "sns.heatmap(df_frames_per_value_unstacked, annot=True, cmap='YlGnBu', fmt=\".2f\", cbar_kws={'label': 'Frames / Average Time'})\n",
    "plt.title('Space used (MB) for Different Frame and Percentage Combinations')\n",
    "plt.xlabel('Percentage')\n",
    "plt.ylabel('Frames')\n",
    "plt.show()"
   ]
  },
  {
   "cell_type": "markdown",
   "metadata": {},
   "source": [
    "# Moving resampling and indexing to database"
   ]
  },
  {
   "cell_type": "code",
   "execution_count": 25,
   "metadata": {},
   "outputs": [
    {
     "name": "stderr",
     "output_type": "stream",
     "text": [
      "Combination (10, 0.1):   0%|          | 0/18 [00:00<?, ?it/s]"
     ]
    },
    {
     "name": "stdout",
     "output_type": "stream",
     "text": [
      "CompletedProcess(args=['/home/ali/.venv/bin/python', '/home/ali/QGIS-MobilityDB/experiment9_sql_optimization/optimized_matrix_generation.py', '0', '9', '0.1', '-180', '-90', '180', '90', '2023-06-01 00:00:00', '86399', 'SECOND', '/home/ali/matrices/10_0.1', 'mobilitydb', 'pymeos_demo', 'MMSI', 'trajectory'], returncode=0, stdout='================================================================     Matrix 0 created in 0.003726959228515625 seconds, 0.11180877685546875 frames for 30 fps animation.\\n', stderr='')\n"
     ]
    },
    {
     "name": "stderr",
     "output_type": "stream",
     "text": []
    },
    {
     "name": "stdout",
     "output_type": "stream",
     "text": [
      "CompletedProcess(args=['/home/ali/.venv/bin/python', '/home/ali/QGIS-MobilityDB/experiment9_sql_optimization/optimized_matrix_generation.py', '10', '19', '0.1', '-180', '-90', '180', '90', '2023-06-01 00:00:10', '86399', 'SECOND', '/home/ali/matrices/10_0.1', 'mobilitydb', 'pymeos_demo', 'MMSI', 'trajectory'], returncode=0, stdout='================================================================     Matrix 10 created in 0.007315158843994141 seconds, 0.21945476531982422 frames for 30 fps animation.\\n', stderr='')\n"
     ]
    },
    {
     "name": "stderr",
     "output_type": "stream",
     "text": []
    },
    {
     "name": "stdout",
     "output_type": "stream",
     "text": [
      "CompletedProcess(args=['/home/ali/.venv/bin/python', '/home/ali/QGIS-MobilityDB/experiment9_sql_optimization/optimized_matrix_generation.py', '20', '29', '0.1', '-180', '-90', '180', '90', '2023-06-01 00:00:20', '86399', 'SECOND', '/home/ali/matrices/10_0.1', 'mobilitydb', 'pymeos_demo', 'MMSI', 'trajectory'], returncode=0, stdout='================================================================     Matrix 20 created in 0.00841832160949707 seconds, 0.2525496482849121 frames for 30 fps animation.\\n', stderr='')\n"
     ]
    },
    {
     "name": "stderr",
     "output_type": "stream",
     "text": []
    },
    {
     "name": "stdout",
     "output_type": "stream",
     "text": [
      "CompletedProcess(args=['/home/ali/.venv/bin/python', '/home/ali/QGIS-MobilityDB/experiment9_sql_optimization/optimized_matrix_generation.py', '30', '39', '0.1', '-180', '-90', '180', '90', '2023-06-01 00:00:30', '86399', 'SECOND', '/home/ali/matrices/10_0.1', 'mobilitydb', 'pymeos_demo', 'MMSI', 'trajectory'], returncode=0, stdout='================================================================     Matrix 30 created in 0.009156227111816406 seconds, 0.2746868133544922 frames for 30 fps animation.\\n', stderr='')\n"
     ]
    },
    {
     "name": "stderr",
     "output_type": "stream",
     "text": []
    },
    {
     "name": "stdout",
     "output_type": "stream",
     "text": [
      "CompletedProcess(args=['/home/ali/.venv/bin/python', '/home/ali/QGIS-MobilityDB/experiment9_sql_optimization/optimized_matrix_generation.py', '40', '49', '0.1', '-180', '-90', '180', '90', '2023-06-01 00:00:40', '86399', 'SECOND', '/home/ali/matrices/10_0.1', 'mobilitydb', 'pymeos_demo', 'MMSI', 'trajectory'], returncode=0, stdout='================================================================     Matrix 40 created in 0.010172843933105469 seconds, 0.30518531799316406 frames for 30 fps animation.\\n', stderr='')\n"
     ]
    },
    {
     "name": "stderr",
     "output_type": "stream",
     "text": []
    },
    {
     "name": "stdout",
     "output_type": "stream",
     "text": [
      "CompletedProcess(args=['/home/ali/.venv/bin/python', '/home/ali/QGIS-MobilityDB/experiment9_sql_optimization/optimized_matrix_generation.py', '50', '59', '0.1', '-180', '-90', '180', '90', '2023-06-01 00:00:50', '86399', 'SECOND', '/home/ali/matrices/10_0.1', 'mobilitydb', 'pymeos_demo', 'MMSI', 'trajectory'], returncode=0, stdout='================================================================     Matrix 50 created in 0.011282920837402344 seconds, 0.3384876251220703 frames for 30 fps animation.\\n', stderr='')\n"
     ]
    },
    {
     "name": "stderr",
     "output_type": "stream",
     "text": []
    },
    {
     "name": "stdout",
     "output_type": "stream",
     "text": [
      "CompletedProcess(args=['/home/ali/.venv/bin/python', '/home/ali/QGIS-MobilityDB/experiment9_sql_optimization/optimized_matrix_generation.py', '60', '69', '0.1', '-180', '-90', '180', '90', '2023-06-01 00:01:00', '86399', 'SECOND', '/home/ali/matrices/10_0.1', 'mobilitydb', 'pymeos_demo', 'MMSI', 'trajectory'], returncode=0, stdout='================================================================     Matrix 60 created in 0.011539459228515625 seconds, 0.34618377685546875 frames for 30 fps animation.\\n', stderr='')\n"
     ]
    },
    {
     "name": "stderr",
     "output_type": "stream",
     "text": []
    },
    {
     "name": "stdout",
     "output_type": "stream",
     "text": [
      "CompletedProcess(args=['/home/ali/.venv/bin/python', '/home/ali/QGIS-MobilityDB/experiment9_sql_optimization/optimized_matrix_generation.py', '70', '79', '0.1', '-180', '-90', '180', '90', '2023-06-01 00:01:10', '86399', 'SECOND', '/home/ali/matrices/10_0.1', 'mobilitydb', 'pymeos_demo', 'MMSI', 'trajectory'], returncode=0, stdout='================================================================     Matrix 70 created in 0.012575626373291016 seconds, 0.37726879119873047 frames for 30 fps animation.\\n', stderr='')\n"
     ]
    },
    {
     "name": "stderr",
     "output_type": "stream",
     "text": []
    },
    {
     "name": "stdout",
     "output_type": "stream",
     "text": [
      "CompletedProcess(args=['/home/ali/.venv/bin/python', '/home/ali/QGIS-MobilityDB/experiment9_sql_optimization/optimized_matrix_generation.py', '80', '89', '0.1', '-180', '-90', '180', '90', '2023-06-01 00:01:20', '86399', 'SECOND', '/home/ali/matrices/10_0.1', 'mobilitydb', 'pymeos_demo', 'MMSI', 'trajectory'], returncode=0, stdout='================================================================     Matrix 80 created in 0.012962102890014648 seconds, 0.38886308670043945 frames for 30 fps animation.\\n', stderr='')\n"
     ]
    },
    {
     "name": "stderr",
     "output_type": "stream",
     "text": [
      "Time delta (90, 99): 100%|██████████| 10/10 [00:03<00:00,  3.29it/s]\n",
      "Combination (10, 0.5):   6%|▌         | 1/18 [00:03<00:51,  3.04s/it]"
     ]
    },
    {
     "name": "stdout",
     "output_type": "stream",
     "text": [
      "CompletedProcess(args=['/home/ali/.venv/bin/python', '/home/ali/QGIS-MobilityDB/experiment9_sql_optimization/optimized_matrix_generation.py', '90', '99', '0.1', '-180', '-90', '180', '90', '2023-06-01 00:01:30', '86399', 'SECOND', '/home/ali/matrices/10_0.1', 'mobilitydb', 'pymeos_demo', 'MMSI', 'trajectory'], returncode=0, stdout='================================================================     Matrix 90 created in 0.013287782669067383 seconds, 0.3986334800720215 frames for 30 fps animation.\\n', stderr='')\n"
     ]
    },
    {
     "name": "stderr",
     "output_type": "stream",
     "text": [
      "Time delta (0, 9):   0%|          | 0/10 [00:00<?, ?it/s]\n",
      "Combination (10, 0.5):   6%|▌         | 1/18 [00:03<00:58,  3.44s/it]\n"
     ]
    },
    {
     "ename": "KeyboardInterrupt",
     "evalue": "",
     "output_type": "error",
     "traceback": [
      "\u001b[0;31m---------------------------------------------------------------------------\u001b[0m",
      "\u001b[0;31mKeyboardInterrupt\u001b[0m                         Traceback (most recent call last)",
      "Cell \u001b[0;32mIn[25], line 152\u001b[0m\n\u001b[1;32m    149\u001b[0m process_B_path \u001b[38;5;241m=\u001b[39m \u001b[38;5;124mf\u001b[39m\u001b[38;5;124m\"\u001b[39m\u001b[38;5;124m/home/ali/QGIS-MobilityDB/experiment9_sql_optimization/optimized_matrix_generation.py\u001b[39m\u001b[38;5;124m\"\u001b[39m\n\u001b[1;32m    151\u001b[0m command \u001b[38;5;241m=\u001b[39m [python_path, process_B_path, \u001b[38;5;241m*\u001b[39marguments]\n\u001b[0;32m--> 152\u001b[0m result \u001b[38;5;241m=\u001b[39m \u001b[43msubprocess\u001b[49m\u001b[38;5;241;43m.\u001b[39;49m\u001b[43mrun\u001b[49m\u001b[43m(\u001b[49m\u001b[43mcommand\u001b[49m\u001b[43m,\u001b[49m\u001b[43m \u001b[49m\u001b[43mcapture_output\u001b[49m\u001b[38;5;241;43m=\u001b[39;49m\u001b[38;5;28;43;01mTrue\u001b[39;49;00m\u001b[43m,\u001b[49m\u001b[43m \u001b[49m\u001b[43mtext\u001b[49m\u001b[38;5;241;43m=\u001b[39;49m\u001b[38;5;28;43;01mTrue\u001b[39;49;00m\u001b[43m)\u001b[49m\n\u001b[1;32m    153\u001b[0m \u001b[38;5;28mprint\u001b[39m(result)\n\u001b[1;32m    155\u001b[0m loaded_matrix \u001b[38;5;241m=\u001b[39m np\u001b[38;5;241m.\u001b[39mload(\u001b[38;5;124mf\u001b[39m\u001b[38;5;124m\"\u001b[39m\u001b[38;5;132;01m{\u001b[39;00mdir_name\u001b[38;5;132;01m}\u001b[39;00m\u001b[38;5;124m/matrix_\u001b[39m\u001b[38;5;132;01m{\u001b[39;00mbegin_frame\u001b[38;5;132;01m}\u001b[39;00m\u001b[38;5;124m.npy\u001b[39m\u001b[38;5;124m\"\u001b[39m, allow_pickle\u001b[38;5;241m=\u001b[39m\u001b[38;5;28;01mTrue\u001b[39;00m)\n",
      "File \u001b[0;32m/usr/lib/python3.11/subprocess.py:550\u001b[0m, in \u001b[0;36mrun\u001b[0;34m(input, capture_output, timeout, check, *popenargs, **kwargs)\u001b[0m\n\u001b[1;32m    548\u001b[0m \u001b[38;5;28;01mwith\u001b[39;00m Popen(\u001b[38;5;241m*\u001b[39mpopenargs, \u001b[38;5;241m*\u001b[39m\u001b[38;5;241m*\u001b[39mkwargs) \u001b[38;5;28;01mas\u001b[39;00m process:\n\u001b[1;32m    549\u001b[0m     \u001b[38;5;28;01mtry\u001b[39;00m:\n\u001b[0;32m--> 550\u001b[0m         stdout, stderr \u001b[38;5;241m=\u001b[39m \u001b[43mprocess\u001b[49m\u001b[38;5;241;43m.\u001b[39;49m\u001b[43mcommunicate\u001b[49m\u001b[43m(\u001b[49m\u001b[38;5;28;43minput\u001b[39;49m\u001b[43m,\u001b[49m\u001b[43m \u001b[49m\u001b[43mtimeout\u001b[49m\u001b[38;5;241;43m=\u001b[39;49m\u001b[43mtimeout\u001b[49m\u001b[43m)\u001b[49m\n\u001b[1;32m    551\u001b[0m     \u001b[38;5;28;01mexcept\u001b[39;00m TimeoutExpired \u001b[38;5;28;01mas\u001b[39;00m exc:\n\u001b[1;32m    552\u001b[0m         process\u001b[38;5;241m.\u001b[39mkill()\n",
      "File \u001b[0;32m/usr/lib/python3.11/subprocess.py:1209\u001b[0m, in \u001b[0;36mPopen.communicate\u001b[0;34m(self, input, timeout)\u001b[0m\n\u001b[1;32m   1206\u001b[0m     endtime \u001b[38;5;241m=\u001b[39m \u001b[38;5;28;01mNone\u001b[39;00m\n\u001b[1;32m   1208\u001b[0m \u001b[38;5;28;01mtry\u001b[39;00m:\n\u001b[0;32m-> 1209\u001b[0m     stdout, stderr \u001b[38;5;241m=\u001b[39m \u001b[38;5;28;43mself\u001b[39;49m\u001b[38;5;241;43m.\u001b[39;49m\u001b[43m_communicate\u001b[49m\u001b[43m(\u001b[49m\u001b[38;5;28;43minput\u001b[39;49m\u001b[43m,\u001b[49m\u001b[43m \u001b[49m\u001b[43mendtime\u001b[49m\u001b[43m,\u001b[49m\u001b[43m \u001b[49m\u001b[43mtimeout\u001b[49m\u001b[43m)\u001b[49m\n\u001b[1;32m   1210\u001b[0m \u001b[38;5;28;01mexcept\u001b[39;00m \u001b[38;5;167;01mKeyboardInterrupt\u001b[39;00m:\n\u001b[1;32m   1211\u001b[0m     \u001b[38;5;66;03m# https://bugs.python.org/issue25942\u001b[39;00m\n\u001b[1;32m   1212\u001b[0m     \u001b[38;5;66;03m# See the detailed comment in .wait().\u001b[39;00m\n\u001b[1;32m   1213\u001b[0m     \u001b[38;5;28;01mif\u001b[39;00m timeout \u001b[38;5;129;01mis\u001b[39;00m \u001b[38;5;129;01mnot\u001b[39;00m \u001b[38;5;28;01mNone\u001b[39;00m:\n",
      "File \u001b[0;32m/usr/lib/python3.11/subprocess.py:2108\u001b[0m, in \u001b[0;36mPopen._communicate\u001b[0;34m(self, input, endtime, orig_timeout)\u001b[0m\n\u001b[1;32m   2101\u001b[0m     \u001b[38;5;28mself\u001b[39m\u001b[38;5;241m.\u001b[39m_check_timeout(endtime, orig_timeout,\n\u001b[1;32m   2102\u001b[0m                         stdout, stderr,\n\u001b[1;32m   2103\u001b[0m                         skip_check_and_raise\u001b[38;5;241m=\u001b[39m\u001b[38;5;28;01mTrue\u001b[39;00m)\n\u001b[1;32m   2104\u001b[0m     \u001b[38;5;28;01mraise\u001b[39;00m \u001b[38;5;167;01mRuntimeError\u001b[39;00m(  \u001b[38;5;66;03m# Impossible :)\u001b[39;00m\n\u001b[1;32m   2105\u001b[0m         \u001b[38;5;124m'\u001b[39m\u001b[38;5;124m_check_timeout(..., skip_check_and_raise=True) \u001b[39m\u001b[38;5;124m'\u001b[39m\n\u001b[1;32m   2106\u001b[0m         \u001b[38;5;124m'\u001b[39m\u001b[38;5;124mfailed to raise TimeoutExpired.\u001b[39m\u001b[38;5;124m'\u001b[39m)\n\u001b[0;32m-> 2108\u001b[0m ready \u001b[38;5;241m=\u001b[39m \u001b[43mselector\u001b[49m\u001b[38;5;241;43m.\u001b[39;49m\u001b[43mselect\u001b[49m\u001b[43m(\u001b[49m\u001b[43mtimeout\u001b[49m\u001b[43m)\u001b[49m\n\u001b[1;32m   2109\u001b[0m \u001b[38;5;28mself\u001b[39m\u001b[38;5;241m.\u001b[39m_check_timeout(endtime, orig_timeout, stdout, stderr)\n\u001b[1;32m   2111\u001b[0m \u001b[38;5;66;03m# XXX Rewrite these to use non-blocking I/O on the file\u001b[39;00m\n\u001b[1;32m   2112\u001b[0m \u001b[38;5;66;03m# objects; they are no longer using C stdio!\u001b[39;00m\n",
      "File \u001b[0;32m/usr/lib/python3.11/selectors.py:415\u001b[0m, in \u001b[0;36m_PollLikeSelector.select\u001b[0;34m(self, timeout)\u001b[0m\n\u001b[1;32m    413\u001b[0m ready \u001b[38;5;241m=\u001b[39m []\n\u001b[1;32m    414\u001b[0m \u001b[38;5;28;01mtry\u001b[39;00m:\n\u001b[0;32m--> 415\u001b[0m     fd_event_list \u001b[38;5;241m=\u001b[39m \u001b[38;5;28mself\u001b[39m\u001b[38;5;241m.\u001b[39m_selector\u001b[38;5;241m.\u001b[39mpoll(timeout)\n\u001b[1;32m    416\u001b[0m \u001b[38;5;28;01mexcept\u001b[39;00m \u001b[38;5;167;01mInterruptedError\u001b[39;00m:\n\u001b[1;32m    417\u001b[0m     \u001b[38;5;28;01mreturn\u001b[39;00m ready\n",
      "\u001b[0;31mKeyboardInterrupt\u001b[0m: "
     ]
    }
   ],
   "source": [
    "\n",
    "import numpy as np\n",
    "from shapely.geometry import Point\n",
    "from pymeos.db.psycopg import MobilityDB\n",
    "\n",
    "from pymeos import *\n",
    "import os\n",
    "import sys\n",
    "from datetime import timedelta, datetime\n",
    "from pymeos import *\n",
    "import time\n",
    "from tqdm import tqdm\n",
    "import itertools\n",
    "import shutil\n",
    "import math\n",
    "import subprocess\n",
    "from collections import deque\n",
    "\n",
    "def get_folder_size_mb(dir_name):\n",
    "    total_size = 0\n",
    "    sizes = deque(maxlen=3)\n",
    "    for dirpath, dirnames, filenames in os.walk(dir_name):\n",
    "        for filename in filenames:\n",
    "            file_path = os.path.join(dirpath, filename)\n",
    "            # Skip if it is symbolic link\n",
    "            if not os.path.islink(file_path):\n",
    "                sizes.append(os.path.getsize(file_path))\n",
    "    # Convert size to MB\n",
    "    total_size_mb = sum(sizes) / (1024 * 1024)\n",
    "    return total_size_mb\n",
    "\n",
    "\"\"\"\n",
    "Iterate over all the possible combinations of frames and percentages\n",
    "\n",
    "for each combination :\n",
    "    \n",
    "    Create 3 time deltas\n",
    "    store : time for each time delta\n",
    "    store : maximum time for each time delta\n",
    "    store : average time for each time delta\n",
    "    \n",
    "    Calculate FPS using : Frames / maximum time for each time delta\n",
    "\n",
    "    Store the FPS for each combination\n",
    "\n",
    "    store the memory used by all 3 time delta in local disk\n",
    "\n",
    "\n",
    "\"\"\"\n",
    "\n",
    "\n",
    "MATRIX_DIRECTORY_PATH =\"/home/ali/matrices/\" \n",
    "if os.path.exists(MATRIX_DIRECTORY_PATH):\n",
    "    shutil.rmtree(MATRIX_DIRECTORY_PATH)\n",
    "    os.makedirs(MATRIX_DIRECTORY_PATH)\n",
    "else:\n",
    "    os.makedirs(MATRIX_DIRECTORY_PATH)\n",
    "pymeos_initialize()\n",
    "\n",
    "SRID = 4326\n",
    "DATABASE_NAME = \"mobilitydb\"\n",
    "TPOINT_TABLE_NAME = \"PyMEOS_demo\"\n",
    "TPOINT_ID_COLUMN_NAME = \"MMSI\"\n",
    "TPOINT_COLUMN_NAME = \"trajectory\"\n",
    "x_min = -180\n",
    "y_min = -90\n",
    "x_max = 180\n",
    "y_max = 90\n",
    "extent_list = [x_min, y_min, x_max, y_max]\n",
    "Time_granularities = {\n",
    "                    # \"MILLISECOND\" : timedelta(milliseconds=1),\n",
    "                      \"SECOND\" : timedelta(seconds=1),\n",
    "                      \"MINUTE\" : timedelta(minutes=1),\n",
    "                    #   \"HOUR\" : timedelta(hours=1),\n",
    "                    }\n",
    "GRANULARITY = Time_granularities[\"SECOND\"]\n",
    "\n",
    "connection_params = {\n",
    "        \"host\": \"localhost\",\n",
    "        \"port\": 5432,\n",
    "        \"dbname\": DATABASE_NAME,\n",
    "        \"user\": \"postgres\",\n",
    "        \"password\": \"postgres\"\n",
    "        }\n",
    "                \n",
    "connection = MobilityDB.connect(**connection_params)\n",
    "cursor = connection.cursor()\n",
    "\n",
    "cursor.execute(f\"SELECT {TPOINT_ID_COLUMN_NAME} FROM public.{TPOINT_TABLE_NAME};\")\n",
    "Total_ids = cursor.fetchall()\n",
    "\n",
    "cursor.execute(f\"SELECT MIN(startTimestamp({TPOINT_COLUMN_NAME})) AS earliest_timestamp FROM public.{TPOINT_TABLE_NAME};\")\n",
    "start_date = cursor.fetchone()[0]\n",
    "cursor.execute(f\"SELECT MAX(endTimestamp({TPOINT_COLUMN_NAME})) AS latest_timestamp FROM public.{TPOINT_TABLE_NAME};\")\n",
    "end_date = cursor.fetchone()[0]\n",
    "\n",
    "total_frames = math.ceil( (end_date - start_date) // GRANULARITY ) + 1\n",
    "\n",
    "timestamps = [start_date + i * GRANULARITY for i in range(total_frames)]\n",
    "timestamps = [dt.replace(tzinfo=None) for dt in timestamps]\n",
    "timestamps_strings = [dt.strftime('%Y-%m-%d %H:%M:%S') for dt in timestamps]\n",
    "\n",
    "\n",
    "TIME_DELTA_COUNT = 10\n",
    "\n",
    "\n",
    "Frames = [10, 60, 120, 240, 480, 960]\n",
    "Percentages = [0.1, 0.5,  1]\n",
    "\n",
    "number_of_objects={} # Store the number of objects for each percentage\n",
    "times = {} # Store the time for each time delta\n",
    "memory_used = {} # Store the memory used for each combination\n",
    "\n",
    "combinations = tqdm(list(itertools.product(Frames, Percentages)))\n",
    "\n",
    "for combination in combinations:\n",
    "    combinations.set_description(f\"Combination {combination}\")\n",
    "    frame, percentage = combination\n",
    "\n",
    "    \n",
    "    ids_list = Total_ids[:int(len(Total_ids)*percentage)]\n",
    "    number_of_objects[percentage] = len(ids_list)\n",
    "\n",
    "\n",
    "    # print(combination)\n",
    "    dir_name = f\"/home/ali/matrices/{frame}_{percentage}\"\n",
    "    # print(dir_name)\n",
    "    os.mkdir(dir_name)\n",
    "   \n",
    "    t_deltas = tqdm([(i, (i+frame)-1) for i in range(0, 10*frame, frame)]) \n",
    "    # print(t_deltas)\n",
    "    times[combination] = []\n",
    "    for delta in t_deltas:\n",
    "        t_deltas.set_description(f\"Time delta {delta}\")\n",
    "        now = time.time()\n",
    "        x_min,y_min, x_max, y_max = extent_list\n",
    "        begin_frame, end_frame = delta\n",
    "        arguments = [begin_frame, end_frame, percentage, x_min, y_min, x_max, y_max]\n",
    "        arguments = [str(arg) for arg in arguments]\n",
    "        arguments += [timestamps_strings[begin_frame],  str(len(timestamps)),\n",
    "                'SECOND',\n",
    "                dir_name,\n",
    "                'mobilitydb',\n",
    "                'pymeos_demo',\n",
    "                'MMSI',\n",
    "                'trajectory']\n",
    "     \n",
    "\n",
    "        python_path = sys.executable\n",
    "        process_B_path = f\"/home/ali/QGIS-MobilityDB/experiment9_sql_optimization/optimized_matrix_generation.py\"\n",
    "        \n",
    "        command = [python_path, process_B_path, *arguments]\n",
    "        result = subprocess.run(command, capture_output=True, text=True)\n",
    "        print(result)\n",
    "        \n",
    "        loaded_matrix = np.load(f\"{dir_name}/matrix_{begin_frame}.npy\", allow_pickle=True)\n",
    "\n",
    "        TIME_total = time.time() - now\n",
    "        times[combination].append(TIME_total)\n",
    "    size = get_folder_size_mb(dir_name) \n",
    "    memory_used[combination] = size\n",
    "    shutil.rmtree(dir_name)\n",
    "        \n",
    "    \n",
    "    \n",
    "\n"
   ]
  },
  {
   "cell_type": "code",
   "execution_count": null,
   "metadata": {},
   "outputs": [],
   "source": []
  }
 ],
 "metadata": {
  "kernelspec": {
   "display_name": ".venv",
   "language": "python",
   "name": "python3"
  },
  "language_info": {
   "codemirror_mode": {
    "name": "ipython",
    "version": 3
   },
   "file_extension": ".py",
   "mimetype": "text/x-python",
   "name": "python",
   "nbconvert_exporter": "python",
   "pygments_lexer": "ipython3",
   "version": "3.11.6"
  }
 },
 "nbformat": 4,
 "nbformat_minor": 2
}
