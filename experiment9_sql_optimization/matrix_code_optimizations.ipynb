{
 "cells": [
  {
   "cell_type": "markdown",
   "metadata": {},
   "source": [
    "# Current solution "
   ]
  },
  {
   "cell_type": "code",
   "execution_count": null,
   "metadata": {},
   "outputs": [],
   "source": [
    "arguments = ['0', '59', '1', '-180', '-90', '180', '90', '2023-06-01 00:00:00', '1440', 'SECOND', '/home/ali/matrices/60_1', 'mobilitydb', 'processed_data', 'MMSI', 'traj']\n",
    "arguments"
   ]
  },
  {
   "cell_type": "code",
   "execution_count": null,
   "metadata": {},
   "outputs": [],
   "source": [
    "\"\"\"\n",
    "\n",
    "File used to create the matrices for the time deltas between the begin_frame and end_frame.\n",
    "\n",
    "The matrices are saved in the /home/ali/matrices/ folder.\n",
    "\n",
    "\n",
    "            # arguments :[ \n",
    "            # 0: begin_frame, \n",
    "            # 1: end_frame, \n",
    "            # 2: PERCENTAGE_OF_OBJECTS, \n",
    "            # 3: x_min, 4: y_min, 5: x_max, 6: y_max, \n",
    "            # 7: start_timestamp, \n",
    "            # 8: total_frames, \n",
    "            # 9: granularity, \n",
    "            # 10: matrix_directory_path, \n",
    "            # 11: database_name, \n",
    "            # 12: table_name, \n",
    "            # 13: id_column_name, \n",
    "            # 14: tpoint_column_name]\n",
    "\n",
    "To measure the size of matrices folder : du -sh --block-size=MB matrices            \n",
    "\n",
    "\"\"\"\n",
    "\n",
    "import numpy as np\n",
    "from shapely.geometry import Point\n",
    "from pymeos.db.psycopg import MobilityDB\n",
    "\n",
    "from pymeos import *\n",
    "import os\n",
    "import sys\n",
    "from datetime import timedelta, datetime\n",
    "from pymeos import *\n",
    "import time\n",
    "\n",
    "logs = \"\"\n",
    "now = time.time()\n",
    "\n",
    "\n",
    "args = arguments\n",
    "logs += f\"Args: {args}\\n\"\n",
    "begin_frame = int(args[0])\n",
    "end_frame = int(args[1])\n",
    "TIME_DELTA_SIZE = end_frame - begin_frame + 1\n",
    "PERCENTAGE_OF_OBJECTS = float(args[2])\n",
    "\n",
    "\n",
    "SRID = 4326\n",
    "\n",
    "\n",
    "DATABASE_NAME = args[11]\n",
    "TPOINT_TABLE_NAME = args[12]\n",
    "TPOINT_ID_COLUMN_NAME = args[13]\n",
    "TPOINT_COLUMN_NAME = args[14]\n",
    "\n",
    "\n",
    "\n",
    "class Database_connector:\n",
    "    \"\"\"\n",
    "    Singleton class used to connect to the MobilityDB database.\n",
    "    \"\"\"\n",
    "    \n",
    "    def __init__(self):\n",
    "        try: \n",
    "            connection_params = {\n",
    "            \"host\": \"localhost\",\n",
    "            \"port\": 5432,\n",
    "            \"dbname\": DATABASE_NAME,\n",
    "            \"user\": \"postgres\",\n",
    "            \"password\": \"postgres\"\n",
    "            }\n",
    "            self.table_name = TPOINT_TABLE_NAME\n",
    "            self.id_column_name = TPOINT_ID_COLUMN_NAME\n",
    "            self.tpoint_column_name = TPOINT_COLUMN_NAME               \n",
    "            self.connection = MobilityDB.connect(**connection_params)\n",
    "\n",
    "            self.cursor = self.connection.cursor()\n",
    "\n",
    "            self.cursor.execute(f\"SELECT {self.id_column_name} FROM public.{self.table_name};\")\n",
    "            self.ids_list = self.cursor.fetchall()\n",
    "            self.ids_list = self.ids_list[:int(len(self.ids_list)*PERCENTAGE_OF_OBJECTS)]\n",
    "        except Exception as e:\n",
    "            pass\n",
    "\n",
    "  \n",
    "    def get_subset_of_tpoints(self, pstart, pend, xmin, ymin, xmax, ymax):\n",
    "        \"\"\"\n",
    "        For each object in the ids_list :\n",
    "            Fetch the subset of the associated Tpoints between the start and end timestamps\n",
    "            contained in the STBOX defined by the xmin, ymin, xmax, ymax.\n",
    "        \"\"\"\n",
    "        try:\n",
    "           \n",
    "            ids_list = [ f\"'{id[0]}'\"  for id in self.ids_list]\n",
    "            ids_str = ', '.join(map(str, ids_list))\n",
    "          \n",
    "            query = f\"\"\"\n",
    "                    SELECT \n",
    "                        atStbox(\n",
    "                            a.{self.tpoint_column_name}::tgeompoint,\n",
    "                            stbox(\n",
    "                                ST_MakeEnvelope(\n",
    "                                    {xmin}, {ymin}, -- xmin, ymin\n",
    "                                    {xmax}, {ymax}, -- xmax, ymax\n",
    "                                    4326 -- SRID\n",
    "                                ),\n",
    "                                tstzspan('[{pstart}, {pend}]')\n",
    "                            )\n",
    "                        )\n",
    "                    FROM public.{self.table_name} as a \n",
    "                    WHERE a.{self.id_column_name} in ({ids_str});\n",
    "                    \"\"\"\n",
    "            self.cursor.execute(query)\n",
    "            # print(query)\n",
    "            rows = self.cursor.fetchall()\n",
    "            return rows\n",
    "        except Exception as e:\n",
    "            # print(e)\n",
    "            pass\n",
    "\n",
    "\n",
    "    def close(self):\n",
    "        \"\"\"\n",
    "        Close the connection to the MobilityDB database.\n",
    "        \"\"\"\n",
    "        self.cursor.close()\n",
    "        self.connection.close()\n",
    "\n",
    "\n",
    "MATRIX_DIRECTORY_PATH = \"/home/ali/matrices\"\n",
    "file_name = f\"{args[10]}/matrix_{begin_frame}.npy\"\n",
    "\n",
    "\n",
    "  \n",
    "Time_granularities = {\n",
    "                    # \"MILLISECOND\" : timedelta(milliseconds=1),\n",
    "                      \"SECOND\" : timedelta(seconds=1),\n",
    "                      \"MINUTE\" : timedelta(minutes=1),\n",
    "                    #   \"HOUR\" : timedelta(hours=1),\n",
    "                    }\n",
    "\n",
    "\n",
    "\n",
    "pymeos_initialize()\n",
    "db = Database_connector()\n",
    "\n",
    "x_min = float(args[3])\n",
    "y_min = float(args[4])\n",
    "x_max = float(args[5])\n",
    "y_max = float(args[6])\n",
    "\n",
    "start_date = args[7]\n",
    "start_date = datetime.strptime(start_date, '%Y-%m-%d %H:%M:%S')\n",
    "\n",
    "\n",
    "total_frames = int(args[8])\n",
    "GRANULARITY = Time_granularities[args[9]]\n",
    "\n",
    "timestamps = []\n",
    "for i in range(total_frames): \n",
    "    timestamps.append(start_date + i*GRANULARITY)\n",
    "\n",
    "\n",
    "\n",
    "p_start = timestamps[begin_frame]\n",
    "p_end = timestamps[end_frame]\n",
    "# print(p_start, p_end, x_min, y_min, x_max, y_max)\n",
    "now_db = time.time()\n",
    "rows = db.get_subset_of_tpoints(p_start, p_end, x_min, y_min, x_max, y_max)    \n"
   ]
  },
  {
   "cell_type": "code",
   "execution_count": null,
   "metadata": {},
   "outputs": [],
   "source": [
    "logs += f\"Time to fetch subset of tpoints: {time.time() - now_db} seconds\\n\"\n",
    "        \n",
    "empty_point_wkt = Point().wkt  # \"POINT EMPTY\"\n",
    "matrix = np.full((len(rows), TIME_DELTA_SIZE), empty_point_wkt, dtype=object)\n",
    "\n",
    "time_ranges = timestamps\n",
    "now = time.time()\n",
    "\n",
    "for i in range(len(rows)):\n",
    "    try:\n",
    "        traj = rows[i][0]\n",
    "        traj = traj.temporal_precision(GRANULARITY) \n",
    "        num_instants = traj.num_instants()\n",
    "        if num_instants == 0:\n",
    "            continue\n",
    "        elif num_instants == 1:\n",
    "            single_timestamp = traj.timestamps()[0].replace(tzinfo=None)\n",
    "            index = time_ranges.index(single_timestamp) - begin_frame\n",
    "            matrix[i][index] = traj.values()[0].wkt\n",
    "        \n",
    "        elif num_instants >= 2:\n",
    "            traj_resampled = traj.temporal_sample(start=time_ranges[0],duration= GRANULARITY)\n",
    "            \n",
    "            start_index = time_ranges.index( traj_resampled.start_timestamp().replace(tzinfo=None) ) - begin_frame\n",
    "            end_index = time_ranges.index( traj_resampled.end_timestamp().replace(tzinfo=None) ) - begin_frame\n",
    "    \n",
    "            trajectory_array = np.array([point.wkt for point in traj_resampled.values()])\n",
    "            matrix[i, start_index:end_index+1] = trajectory_array\n",
    "\n",
    "    except:\n",
    "        continue\n",
    "\n",
    "np.save(file_name, matrix)\n",
    "\n",
    "db.close()\n",
    "pymeos_finalize()\n",
    "total_time = time.time() - now\n",
    "frames_for_30_fps= 30 * total_time\n",
    "print(f\"================================================================     Matrix {begin_frame} created in {total_time} seconds, {frames_for_30_fps} frames for 30 fps animation.\")\n",
    "logs += f\"time to create and fill the matrix {begin_frame}: {total_time} seconds\\n\"\n"
   ]
  },
  {
   "cell_type": "markdown",
   "metadata": {},
   "source": [
    "# With resample in the database query"
   ]
  },
  {
   "cell_type": "code",
   "execution_count": 7,
   "metadata": {},
   "outputs": [
    {
     "name": "stdout",
     "output_type": "stream",
     "text": [
      "Time to fetch tpoints : 1.8734567165374756 s\n"
     ]
    }
   ],
   "source": [
    "\n",
    "import numpy as np\n",
    "from shapely.geometry import Point\n",
    "from pymeos.db.psycopg import MobilityDB\n",
    "\n",
    "from pymeos import *\n",
    "import os\n",
    "import sys\n",
    "from datetime import timedelta, datetime\n",
    "from pymeos import *\n",
    "import time\n",
    "\n",
    "logs = \"\"\n",
    "now = time.time()\n",
    "\n",
    "FPS_DEQUEUE_SIZE = 5 # Length of the dequeue to calculate the average FPS\n",
    "TIME_DELTA_DEQUEUE_SIZE =  10 # Length of the dequeue to keep the keys to keep in the buffer\n",
    "\n",
    "\n",
    "args = sysargs\n",
    "logs += f\"Args: {args}\\n\"\n",
    "begin_frame = int(args[0])\n",
    "end_frame = int(args[1])\n",
    "TIME_DELTA_SIZE = end_frame - begin_frame + 1\n",
    "PERCENTAGE_OF_OBJECTS = float(args[2])\n",
    "\n",
    "\n",
    "SRID = 4326\n",
    "\n",
    "\n",
    "DATABASE_NAME = args[11]\n",
    "TPOINT_TABLE_NAME = args[12]\n",
    "TPOINT_ID_COLUMN_NAME = args[13]\n",
    "TPOINT_COLUMN_NAME = args[14]\n",
    "\n",
    "\n",
    "\n",
    "class Database_connector2:\n",
    "    \"\"\"\n",
    "    Singleton class used to connect to the MobilityDB database.\n",
    "    \"\"\"\n",
    "    \n",
    "    def __init__(self):\n",
    "        try: \n",
    "            connection_params = {\n",
    "            \"host\": \"localhost\",\n",
    "            \"port\": 5432,\n",
    "            \"dbname\": DATABASE_NAME,\n",
    "            \"user\": \"postgres\",\n",
    "            \"password\": \"postgres\"\n",
    "            }\n",
    "            self.table_name = TPOINT_TABLE_NAME\n",
    "            self.id_column_name = TPOINT_ID_COLUMN_NAME\n",
    "            self.tpoint_column_name = TPOINT_COLUMN_NAME               \n",
    "            self.connection = MobilityDB.connect(**connection_params)\n",
    "\n",
    "            self.cursor = self.connection.cursor()\n",
    "\n",
    "            self.cursor.execute(f\"SELECT {self.id_column_name} FROM public.{self.table_name};\")\n",
    "            self.ids_list = self.cursor.fetchall()\n",
    "            self.ids_list = self.ids_list[:int(len(self.ids_list)*PERCENTAGE_OF_OBJECTS)]\n",
    "        except Exception as e:\n",
    "            pass\n",
    "\n",
    "  \n",
    "    def get_subset_of_tpoints(self, pstart, pend, xmin, ymin, xmax, ymax):\n",
    "        \"\"\"\n",
    "        For each object in the ids_list :\n",
    "            Fetch the subset of the associated Tpoints between the start and end timestamps\n",
    "            contained in the STBOX defined by the xmin, ymin, xmax, ymax.\n",
    "        \"\"\"\n",
    "        try:\n",
    "           \n",
    "            ids_list = [ f\"'{id[0]}'\"  for id in self.ids_list]\n",
    "            ids_str = ', '.join(map(str, ids_list))\n",
    "          \n",
    "            query = f\"\"\"\n",
    "                    WITH trajectories as (\n",
    "                    SELECT \n",
    "                        atStbox(\n",
    "                            a.{self.tpoint_column_name}::tgeompoint,\n",
    "                            stbox(\n",
    "                                ST_MakeEnvelope(\n",
    "                                    {xmin}, {ymin}, -- xmin, ymin\n",
    "                                    {xmax}, {ymax}, -- xmax, ymax\n",
    "                                    4326 -- SRID\n",
    "                                ),\n",
    "                                tstzspan('[{pstart}, {pend}]')\n",
    "                            )\n",
    "                        ) as trajectory\n",
    "                    FROM public.{self.table_name} as a \n",
    "                    WHERE a.{self.id_column_name} in ({ids_str}))\n",
    "\n",
    "                    SELECT tsample(trajectory, INTERVAL '1 minute', TIMESTAMP '2023-06-01 00:00:00')  AS resampled_trajectory\n",
    "                        FROM \n",
    "                            trajectories ;\n",
    " \n",
    "                    \"\"\"\n",
    "            self.cursor.execute(query)\n",
    "            # print(query)\n",
    "            rows = self.cursor.fetchall()\n",
    "            return rows\n",
    "        except Exception as e:\n",
    "            # print(e)\n",
    "            pass\n",
    "\n",
    "\n",
    "    def get_min_timestamp(self):\n",
    "        \"\"\"\n",
    "        Returns the min timestamp of the tpoints columns.\n",
    "\n",
    "        \"\"\"\n",
    "        try:\n",
    "            \n",
    "            self.cursor.execute(f\"SELECT MIN(startTimestamp({self.tpoint_column_name})) AS earliest_timestamp FROM public.{self.table_name};\")\n",
    "            return self.cursor.fetchone()[0]\n",
    "        except Exception as e:\n",
    "            pass\n",
    "\n",
    "    def get_max_timestamp(self):\n",
    "        \"\"\"\n",
    "        Returns the max timestamp of the tpoints columns.\n",
    "\n",
    "        \"\"\"\n",
    "        try:\n",
    "            self.cursor.execute(f\"SELECT MAX(endTimestamp({self.tpoint_column_name})) AS latest_timestamp FROM public.{self.table_name};\")\n",
    "            return self.cursor.fetchone()[0]\n",
    "        except Exception as e:\n",
    "            pass\n",
    "\n",
    "\n",
    "    def close(self):\n",
    "        \"\"\"\n",
    "        Close the connection to the MobilityDB database.\n",
    "        \"\"\"\n",
    "        self.cursor.close()\n",
    "        self.connection.close()\n",
    "\n",
    "\n",
    "MATRIX_DIRECTORY_PATH = \"/home/ali/matrices\"\n",
    "file_name = f\"/home/ali/matrices/matrix_{begin_frame}.npy\"\n",
    "\n",
    "\n",
    "  \n",
    "Time_granularities = {\n",
    "                    # \"MILLISECOND\" : timedelta(milliseconds=1),\n",
    "                      \"SECOND\" : timedelta(seconds=1),\n",
    "                      \"MINUTE\" : timedelta(minutes=1),\n",
    "                    #   \"HOUR\" : timedelta(hours=1),\n",
    "                    }\n",
    "\n",
    "\n",
    "# check if file does't already exist\n",
    "\n",
    "pymeos_initialize()\n",
    "db = Database_connector2()\n",
    "\n",
    "x_min = float(args[3])\n",
    "y_min = float(args[4])\n",
    "x_max = float(args[5])\n",
    "y_max = float(args[6])\n",
    "\n",
    "start_date = args[7]\n",
    "start_date = datetime.strptime(start_date, '%Y-%m-%d %H:%M:%S')\n",
    "\n",
    "\n",
    "total_frames = int(args[8])\n",
    "GRANULARITY = Time_granularities[args[9]]\n",
    "\n",
    "timestamps = []\n",
    "for i in range(total_frames): \n",
    "    timestamps.append(start_date + i*GRANULARITY)\n",
    "\n",
    "\n",
    "\n",
    "p_start = timestamps[begin_frame]\n",
    "p_end = timestamps[end_frame]\n",
    "# print(p_start, p_end, x_min, y_min, x_max, y_max)\n",
    "now_db = time.time()\n",
    "rows = db.get_subset_of_tpoints(p_start, p_end, x_min, y_min, x_max, y_max)    \n",
    "\n",
    "print(f\"Time to fetch tpoints : {time.time() - now_db} s\")    \n",
    "        "
   ]
  },
  {
   "cell_type": "code",
   "execution_count": 15,
   "metadata": {},
   "outputs": [
    {
     "name": "stdout",
     "output_type": "stream",
     "text": [
      "Matrix 0 created in 15.015557765960693 seconds, 450.4667329788208 frames for 30 fps animation.\n"
     ]
    }
   ],
   "source": [
    "empty_point_wkt = Point()  # \"POINT EMPTY\"\n",
    "matrix = np.full((len(rows), TIME_DELTA_SIZE), empty_point_wkt, dtype=object)\n",
    "\n",
    "time_ranges = timestamps\n",
    "now = time.time()\n",
    "\n",
    "# try:\n",
    "for i in range(len(rows)):\n",
    "    if rows[i][0] is not None:\n",
    "        try:\n",
    "            traj_resampled = rows[i][0]\n",
    "\n",
    "            start_index = time_ranges.index( traj_resampled.start_timestamp().replace(tzinfo=None).replace(second=0, microsecond=0) ) - begin_frame\n",
    "            end_index = time_ranges.index( traj_resampled.end_timestamp().replace(tzinfo=None).replace(second=0, microsecond=0) ) - begin_frame\n",
    "            matrix[i, start_index:end_index+1] = np.array(traj_resampled.values())\n",
    "    \n",
    "        except:\n",
    "            print(i)\n",
    "            # continue\n",
    "\n",
    "\n",
    "# db.close()\n",
    "# pymeos_finalize()\n",
    "total_time = time.time() - now\n",
    "frames_for_30_fps= 30 * total_time\n",
    "print(f\"Matrix {begin_frame} created in {total_time} seconds, {frames_for_30_fps} frames for 30 fps animation.\")\n",
    "# logs += f\"time to create and fill the matrix {begin_frame}: {total_time} seconds\\n\"\n"
   ]
  },
  {
   "cell_type": "code",
   "execution_count": 32,
   "metadata": {},
   "outputs": [
    {
     "data": {
      "text/plain": [
       "2794080"
      ]
     },
     "execution_count": 32,
     "metadata": {},
     "output_type": "execute_result"
    }
   ],
   "source": [
    "np.count_nonzero(matrix != 'POINT EMPTY')"
   ]
  },
  {
   "cell_type": "code",
   "execution_count": 26,
   "metadata": {},
   "outputs": [],
   "source": [
    "%load_ext line_profiler"
   ]
  },
  {
   "cell_type": "code",
   "execution_count": 29,
   "metadata": {},
   "outputs": [],
   "source": [
    "def opr(rows):\n",
    "    empty_point_wkt = Point()  # \"POINT EMPTY\"\n",
    "    matrix = np.full((len(rows), TIME_DELTA_SIZE), empty_point_wkt, dtype=object)\n",
    "\n",
    "    time_ranges = timestamps\n",
    "    now = time.time()\n",
    "\n",
    "    for i in range(len(rows)):\n",
    "        if rows[i][0] is not None:\n",
    "            try:\n",
    "                traj_resampled = rows[i][0]\n",
    "                # num_instants = traj_resampled.num_instants()\n",
    "                # if num_instants == 1:\n",
    "                #     # print(f\"{i} has one instant\")\n",
    "                #     single_timestamp = traj_resampled.timestamps()[0].replace(tzinfo=None).replace(second=0, microsecond=0)\n",
    "                #     index = time_ranges.index(single_timestamp) - begin_frame\n",
    "                #     matrix[i][index] = traj.values()[0].wkt\n",
    "                \n",
    "                # elif num_instants >= 2:\n",
    "                    # traj_resampled = traj.temporal_sample(start=time_ranges[0],duration= GRANULARITY)\n",
    "                    \n",
    "                start_index = time_ranges.index( traj_resampled.start_timestamp().replace(tzinfo=None).replace(second=0, microsecond=0) ) - begin_frame\n",
    "                end_index = time_ranges.index( traj_resampled.end_timestamp().replace(tzinfo=None).replace(second=0, microsecond=0) ) - begin_frame\n",
    "                vals = traj_resampled.values()\n",
    "                trajectory_array = np.array(vals)\n",
    "                matrix[i, start_index:end_index+1] = trajectory_array\n",
    "        \n",
    "            except:\n",
    "                continue\n",
    "\n",
    "\n",
    "    # db.close()\n",
    "    # pymeos_finalize()\n",
    "    total_time = time.time() - now\n",
    "    frames_for_30_fps= 30 * total_time\n",
    "    print(f\"Matrix {begin_frame} created in {total_time} seconds, {frames_for_30_fps} frames for 30 fps animation.\")\n",
    "    # logs += f\"time to create and fill the matrix {begin_frame}: {total_time} seconds\\n\"\n",
    "\n",
    "    "
   ]
  },
  {
   "cell_type": "code",
   "execution_count": 30,
   "metadata": {},
   "outputs": [
    {
     "name": "stdout",
     "output_type": "stream",
     "text": [
      "Matrix 0 created in 25.74210810661316 seconds, 772.2632431983948 frames for 30 fps animation.\n"
     ]
    },
    {
     "name": "stdout",
     "output_type": "stream",
     "text": [
      "Timer unit: 1e-09 s\n",
      "\n",
      "Total time: 25.1043 s\n",
      "File: /tmp/ipykernel_5042/310096134.py\n",
      "Function: opr at line 1\n",
      "\n",
      "Line #      Hits         Time  Per Hit   % Time  Line Contents\n",
      "==============================================================\n",
      "     1                                           def opr(rows):\n",
      "     2         1      54306.0  54306.0      0.0      empty_point_wkt = Point()  # \"POINT EMPTY\"\n",
      "     3         1    6041035.0    6e+06      0.0      matrix = np.full((len(rows), TIME_DELTA_SIZE), empty_point_wkt, dtype=object)\n",
      "     4                                           \n",
      "     5         1        392.0    392.0      0.0      time_ranges = timestamps\n",
      "     6         1        716.0    716.0      0.0      now = time.time()\n",
      "     7                                           \n",
      "     8      5822    1132901.0    194.6      0.0      for i in range(len(rows)):\n",
      "     9      5821    1072371.0    184.2      0.0          if rows[i][0] is not None:\n",
      "    10      4174     365683.0     87.6      0.0              try:\n",
      "    11      4174     670280.0    160.6      0.0                  traj_resampled = rows[i][0]\n",
      "    12                                                           # num_instants = traj_resampled.num_instants()\n",
      "    13                                                           # if num_instants == 1:\n",
      "    14                                                           #     # print(f\"{i} has one instant\")\n",
      "    15                                                           #     single_timestamp = traj_resampled.timestamps()[0].replace(tzinfo=None).replace(second=0, microsecond=0)\n",
      "    16                                                           #     index = time_ranges.index(single_timestamp) - begin_frame\n",
      "    17                                                           #     matrix[i][index] = traj.values()[0].wkt\n",
      "    18                                                           \n",
      "    19                                                           # elif num_instants >= 2:\n",
      "    20                                                               # traj_resampled = traj.temporal_sample(start=time_ranges[0],duration= GRANULARITY)\n",
      "    21                                                               \n",
      "    22      4174  575559857.0 137891.7      2.3                  start_index = time_ranges.index( traj_resampled.start_timestamp().replace(tzinfo=None).replace(second=0, microsecond=0) ) - begin_frame\n",
      "    23      4174  501858229.0 120234.4      2.0                  end_index = time_ranges.index( traj_resampled.end_timestamp().replace(tzinfo=None).replace(second=0, microsecond=0) ) - begin_frame\n",
      "    24      4174        2e+10    6e+06     92.1                  vals = traj_resampled.values()\n",
      "    25      4174  891890603.0 213677.7      3.6                  trajectory_array = np.array(vals)\n",
      "    26      4174   10348811.0   2479.4      0.0                  matrix[i, start_index:end_index+1] = trajectory_array\n",
      "    27                                                   \n",
      "    28                                                       except:\n",
      "    29                                                           continue\n",
      "    30                                           \n",
      "    31                                           \n",
      "    32                                               # db.close()\n",
      "    33                                               # pymeos_finalize()\n",
      "    34         1       1385.0   1385.0      0.0      total_time = time.time() - now\n",
      "    35         1        410.0    410.0      0.0      frames_for_30_fps= 30 * total_time\n",
      "    36         1      83384.0  83384.0      0.0      print(f\"Matrix {begin_frame} created in {total_time} seconds, {frames_for_30_fps} frames for 30 fps animation.\")\n",
      "    37                                               # logs += f\"time to create and fill the matrix {begin_frame}: {total_time} seconds\\n\""
     ]
    }
   ],
   "source": [
    "%lprun -f opr opr(rows)"
   ]
  },
  {
   "cell_type": "code",
   "execution_count": 22,
   "metadata": {},
   "outputs": [
    {
     "name": "stdout",
     "output_type": "stream",
     "text": [
      " Time to fill the matrix : 19.8060622215271 s\n"
     ]
    }
   ],
   "source": [
    "now = time.time()\n",
    "\n",
    "for i in range(len(rows)):\n",
    "    if rows[i][0] is not None:\n",
    "        try:\n",
    "            traj_resampled = rows[i][0]\n",
    "\n",
    "            start_index = time_ranges.index( traj_resampled.start_timestamp().replace(tzinfo=None).replace(second=0, microsecond=0) ) - begin_frame\n",
    "            end_index = time_ranges.index( traj_resampled.end_timestamp().replace(tzinfo=None).replace(second=0, microsecond=0) ) - begin_frame\n",
    "            vals = traj_resampled.values()\n",
    "            trajectory_array = np.array([point.wkt for point in vals])\n",
    "            matrix[i, start_index:end_index+1] = trajectory_array\n",
    "\n",
    "        except:\n",
    "            continue\n",
    "        \n",
    "print(f\" Time to fill the matrix : {time.time() - now} s\")"
   ]
  },
  {
   "cell_type": "code",
   "execution_count": 24,
   "metadata": {},
   "outputs": [
    {
     "name": "stdout",
     "output_type": "stream",
     "text": [
      "Time to fill the matrix : 23.57325553894043 s\n"
     ]
    }
   ],
   "source": [
    "x1 = TGeomPointInst(point=(0, 0), timestamp=timestamps[0])\n",
    "x2 = TGeomPointInst(point=(1, 1), timestamp=timestamps[TIME_DELTA_SIZE-1])\n",
    "traj = TGeomPointSeq.from_instants([x1, x2], upper_inc=True)\n",
    "traj_resampled = traj.temporal_sample(start=timestamps[0],duration= GRANULARITY)\n",
    "empty_point_wkt = Point().wkt  # \"POINT EMPTY\"\n",
    "matrix = np.full((len(rows), TIME_DELTA_SIZE), empty_point_wkt, dtype=object)\n",
    "trajectory_array = np.array([point.wkt for point in traj_resampled.values()])\n",
    "trajectory_array\n",
    "\n",
    "now = time.time()\n",
    "\n",
    "for i in range(len(rows)):\n",
    "    if 1 == 1 :\n",
    "        try:\n",
    "            start_index = timestamps.index( traj_resampled.start_timestamp().replace(tzinfo=None).replace(second=0, microsecond=0) ) \n",
    "            end_index = timestamps.index( traj_resampled.end_timestamp().replace(tzinfo=None).replace(second=0, microsecond=0) ) \n",
    "\n",
    "            trajectory_array = np.array([point.wkt for point in traj_resampled.values()])\n",
    "            matrix[i, start_index:end_index+1] = trajectory_array\n",
    "        except:\n",
    "            continue\n",
    "print(f\"Time to fill the matrix : {time.time() - now} s\")"
   ]
  },
  {
   "cell_type": "code",
   "execution_count": null,
   "metadata": {},
   "outputs": [],
   "source": []
  },
  {
   "cell_type": "code",
   "execution_count": null,
   "metadata": {},
   "outputs": [],
   "source": []
  },
  {
   "cell_type": "code",
   "execution_count": null,
   "metadata": {},
   "outputs": [],
   "source": []
  },
  {
   "cell_type": "code",
   "execution_count": null,
   "metadata": {},
   "outputs": [],
   "source": []
  },
  {
   "cell_type": "code",
   "execution_count": 28,
   "metadata": {},
   "outputs": [
    {
     "name": "stdout",
     "output_type": "stream",
     "text": [
      "Matrix 0 created in 34.37529969215393 seconds, 1031.258990764618 frames for 30 fps animation.\n"
     ]
    },
    {
     "name": "stdout",
     "output_type": "stream",
     "text": [
      "Timer unit: 1e-09 s\n",
      "\n",
      "Total time: 33.4186 s\n",
      "File: /tmp/ipykernel_5042/2884772419.py\n",
      "Function: opr at line 1\n",
      "\n",
      "Line #      Hits         Time  Per Hit   % Time  Line Contents\n",
      "==============================================================\n",
      "     1                                           def opr(rows):\n",
      "     2         1      68870.0  68870.0      0.0      empty_point_wkt = Point()  # \"POINT EMPTY\"\n",
      "     3         1    6289944.0    6e+06      0.0      matrix = np.full((len(rows), TIME_DELTA_SIZE), empty_point_wkt, dtype=object)\n",
      "     4                                           \n",
      "     5         1        410.0    410.0      0.0      time_ranges = timestamps\n",
      "     6         1        889.0    889.0      0.0      now = time.time()\n",
      "     7                                           \n",
      "     8      5822    1172389.0    201.4      0.0      for i in range(len(rows)):\n",
      "     9      5821    1257898.0    216.1      0.0          if rows[i][0] is not None:\n",
      "    10      4174     417364.0    100.0      0.0              try:\n",
      "    11      4174     507546.0    121.6      0.0                  traj_resampled = rows[i][0]\n",
      "    12                                                           # num_instants = traj_resampled.num_instants()\n",
      "    13                                                           # if num_instants == 1:\n",
      "    14                                                           #     # print(f\"{i} has one instant\")\n",
      "    15                                                           #     single_timestamp = traj_resampled.timestamps()[0].replace(tzinfo=None).replace(second=0, microsecond=0)\n",
      "    16                                                           #     index = time_ranges.index(single_timestamp) - begin_frame\n",
      "    17                                                           #     matrix[i][index] = traj.values()[0].wkt\n",
      "    18                                                           \n",
      "    19                                                           # elif num_instants >= 2:\n",
      "    20                                                               # traj_resampled = traj.temporal_sample(start=time_ranges[0],duration= GRANULARITY)\n",
      "    21                                                               \n",
      "    22      4174  588214633.0 140923.5      1.8                  start_index = time_ranges.index( traj_resampled.start_timestamp().replace(tzinfo=None).replace(second=0, microsecond=0) ) - begin_frame\n",
      "    23      4174  498251154.0 119370.2      1.5                  end_index = time_ranges.index( traj_resampled.end_timestamp().replace(tzinfo=None).replace(second=0, microsecond=0) ) - begin_frame\n",
      "    24      4174        2e+10    5e+06     66.8                  vals = traj_resampled.values()\n",
      "    25   1651784 9934704955.0   6014.5     29.7                  trajectory_array = np.array([point.wkt for point in vals])\n",
      "    26      4174   63227725.0  15148.0      0.2                  matrix[i, start_index:end_index+1] = trajectory_array\n",
      "    27                                                   \n",
      "    28                                                       except:\n",
      "    29                                                           continue\n",
      "    30                                           \n",
      "    31                                           \n",
      "    32                                               # db.close()\n",
      "    33                                               # pymeos_finalize()\n",
      "    34         1       1967.0   1967.0      0.0      total_time = time.time() - now\n",
      "    35         1        409.0    409.0      0.0      frames_for_30_fps= 30 * total_time\n",
      "    36         1      99131.0  99131.0      0.0      print(f\"Matrix {begin_frame} created in {total_time} seconds, {frames_for_30_fps} frames for 30 fps animation.\")\n",
      "    37                                               # logs += f\"time to create and fill the matrix {begin_frame}: {total_time} seconds\\n\""
     ]
    }
   ],
   "source": [
    "%lprun -f opr opr(rows)"
   ]
  },
  {
   "cell_type": "code",
   "execution_count": 12,
   "metadata": {},
   "outputs": [
    {
     "name": "stdout",
     "output_type": "stream",
     "text": [
      "Collecting line_profiler\n",
      "  Downloading line_profiler-4.1.3-cp312-cp312-manylinux_2_17_x86_64.manylinux2014_x86_64.whl.metadata (34 kB)\n",
      "Downloading line_profiler-4.1.3-cp312-cp312-manylinux_2_17_x86_64.manylinux2014_x86_64.whl (720 kB)\n",
      "\u001b[2K   \u001b[90m━━━━━━━━━━━━━━━━━━━━━━━━━━━━━━━━━━━━━━━━\u001b[0m \u001b[32m720.6/720.6 kB\u001b[0m \u001b[31m8.2 MB/s\u001b[0m eta \u001b[36m0:00:00\u001b[0ma \u001b[36m0:00:01\u001b[0m\n",
      "\u001b[?25hInstalling collected packages: line_profiler\n",
      "Successfully installed line_profiler-4.1.3\n",
      "Note: you may need to restart the kernel to use updated packages.\n"
     ]
    }
   ],
   "source": [
    "pip install line_profiler"
   ]
  },
  {
   "cell_type": "code",
   "execution_count": 9,
   "metadata": {},
   "outputs": [
    {
     "data": {
      "text/plain": [
       "865790"
      ]
     },
     "execution_count": 9,
     "metadata": {},
     "output_type": "execute_result"
    }
   ],
   "source": [
    "np.count_nonzero(matrix != 'POINT EMPTY')"
   ]
  },
  {
   "cell_type": "markdown",
   "metadata": {},
   "source": [
    "# With indexing and resampling in database"
   ]
  },
  {
   "cell_type": "code",
   "execution_count": 12,
   "metadata": {},
   "outputs": [
    {
     "name": "stdout",
     "output_type": "stream",
     "text": [
      "Time to fetch tpoints : 2.397526502609253 s\n"
     ]
    }
   ],
   "source": [
    "\n",
    "import numpy as np\n",
    "from shapely.geometry import Point\n",
    "from pymeos.db.psycopg import MobilityDB\n",
    "\n",
    "from pymeos import *\n",
    "import os\n",
    "import sys\n",
    "from datetime import timedelta, datetime\n",
    "from pymeos import *\n",
    "import time\n",
    "\n",
    "logs = \"\"\n",
    "now = time.time()\n",
    "\n",
    "FPS_DEQUEUE_SIZE = 5 # Length of the dequeue to calculate the average FPS\n",
    "TIME_DELTA_DEQUEUE_SIZE =  10 # Length of the dequeue to keep the keys to keep in the buffer\n",
    "\n",
    "\n",
    "args = sysargs\n",
    "logs += f\"Args: {args}\\n\"\n",
    "begin_frame = int(args[0])\n",
    "end_frame = int(args[1])\n",
    "TIME_DELTA_SIZE = end_frame - begin_frame + 1\n",
    "PERCENTAGE_OF_OBJECTS = float(args[2])\n",
    "\n",
    "\n",
    "SRID = 4326\n",
    "\n",
    "\n",
    "DATABASE_NAME = args[11]\n",
    "TPOINT_TABLE_NAME = args[12]\n",
    "TPOINT_ID_COLUMN_NAME = args[13]\n",
    "TPOINT_COLUMN_NAME = args[14]\n",
    "\n",
    "\n",
    "\n",
    "class Database_connector3:\n",
    "    \"\"\"\n",
    "    Singleton class used to connect to the MobilityDB database.\n",
    "    \"\"\"\n",
    "    \n",
    "    def __init__(self):\n",
    "        try: \n",
    "            connection_params = {\n",
    "            \"host\": \"localhost\",\n",
    "            \"port\": 5432,\n",
    "            \"dbname\": DATABASE_NAME,\n",
    "            \"user\": \"postgres\",\n",
    "            \"password\": \"postgres\"\n",
    "            }\n",
    "            self.table_name = TPOINT_TABLE_NAME\n",
    "            self.id_column_name = TPOINT_ID_COLUMN_NAME\n",
    "            self.tpoint_column_name = TPOINT_COLUMN_NAME               \n",
    "            self.connection = MobilityDB.connect(**connection_params)\n",
    "\n",
    "            self.cursor = self.connection.cursor()\n",
    "\n",
    "            self.cursor.execute(f\"SELECT {self.id_column_name} FROM public.{self.table_name};\")\n",
    "            self.ids_list = self.cursor.fetchall()\n",
    "            self.ids_list = self.ids_list[:int(len(self.ids_list)*PERCENTAGE_OF_OBJECTS)]\n",
    "        except Exception as e:\n",
    "            pass\n",
    "\n",
    "  \n",
    "    def get_subset_of_tpoints(self, pstart, pend, xmin, ymin, xmax, ymax):\n",
    "        \"\"\"\n",
    "        For each object in the ids_list :\n",
    "            Fetch the subset of the associated Tpoints between the start and end timestamps\n",
    "            contained in the STBOX defined by the xmin, ymin, xmax, ymax.\n",
    "        \"\"\"\n",
    "        try:\n",
    "           \n",
    "            ids_list = [ f\"'{id[0]}'\"  for id in self.ids_list]\n",
    "            ids_str = ', '.join(map(str, ids_list))\n",
    "          \n",
    "            query = f\"\"\"\n",
    "                    WITH trajectories as (\n",
    "                    SELECT \n",
    "                        atStbox(\n",
    "                            a.{self.tpoint_column_name}::tgeompoint,\n",
    "                            stbox(\n",
    "                                ST_MakeEnvelope(\n",
    "                                    {xmin}, {ymin}, -- xmin, ymin\n",
    "                                    {xmax}, {ymax}, -- xmax, ymax\n",
    "                                    4326 -- SRID\n",
    "                                ),\n",
    "                                tstzspan('[{pstart}, {pend}]')\n",
    "                            )\n",
    "                        ) as trajectory\n",
    "                    FROM public.{self.table_name} as a \n",
    "                    WHERE a.{self.id_column_name} in ({ids_str})),\n",
    "\n",
    "                    resampled as (\n",
    "\n",
    "                    SELECT tsample(traj.trajectory, INTERVAL '1 minute', TIMESTAMP '2023-06-01 00:00:00')  AS resampled_trajectory\n",
    "                        FROM \n",
    "                            trajectories as traj)\n",
    "\t\t\t\t\n",
    "                    SELECT\n",
    "                            EXTRACT(EPOCH FROM (startTimestamp(rs.resampled_trajectory) - '2023-06-01 00:00:00'::timestamp))::integer / 60 AS start_index ,\n",
    "                            EXTRACT(EPOCH FROM (endTimestamp(rs.resampled_trajectory) - '2023-06-01 00:00:00'::timestamp))::integer / 60 AS end_index,\n",
    "                            rs.resampled_trajectory\n",
    "                    FROM resampled as rs ;\n",
    " \n",
    "                    \"\"\"\n",
    "            self.cursor.execute(query)\n",
    "            # print(query)\n",
    "            rows = self.cursor.fetchall()\n",
    "            return rows\n",
    "        except Exception as e:\n",
    "            # print(e)\n",
    "            pass\n",
    "\n",
    "\n",
    "    def get_min_timestamp(self):\n",
    "        \"\"\"\n",
    "        Returns the min timestamp of the tpoints columns.\n",
    "\n",
    "        \"\"\"\n",
    "        try:\n",
    "            \n",
    "            self.cursor.execute(f\"SELECT MIN(startTimestamp({self.tpoint_column_name})) AS earliest_timestamp FROM public.{self.table_name};\")\n",
    "            return self.cursor.fetchone()[0]\n",
    "        except Exception as e:\n",
    "            pass\n",
    "\n",
    "    def get_max_timestamp(self):\n",
    "        \"\"\"\n",
    "        Returns the max timestamp of the tpoints columns.\n",
    "\n",
    "        \"\"\"\n",
    "        try:\n",
    "            self.cursor.execute(f\"SELECT MAX(endTimestamp({self.tpoint_column_name})) AS latest_timestamp FROM public.{self.table_name};\")\n",
    "            return self.cursor.fetchone()[0]\n",
    "        except Exception as e:\n",
    "            pass\n",
    "\n",
    "\n",
    "    def close(self):\n",
    "        \"\"\"\n",
    "        Close the connection to the MobilityDB database.\n",
    "        \"\"\"\n",
    "        self.cursor.close()\n",
    "        self.connection.close()\n",
    "\n",
    "\n",
    "MATRIX_DIRECTORY_PATH = \"/home/ali/matrices\"\n",
    "file_name = f\"/home/ali/matrices/matrix_{begin_frame}.npy\"\n",
    "\n",
    "\n",
    "  \n",
    "Time_granularities = {\n",
    "                    # \"MILLISECOND\" : timedelta(milliseconds=1),\n",
    "                      \"SECOND\" : timedelta(seconds=1),\n",
    "                      \"MINUTE\" : timedelta(minutes=1),\n",
    "                    #   \"HOUR\" : timedelta(hours=1),\n",
    "                    }\n",
    "\n",
    "\n",
    "# check if file does't already exist\n",
    "\n",
    "pymeos_initialize()\n",
    "db = Database_connector3()\n",
    "\n",
    "x_min = float(args[3])\n",
    "y_min = float(args[4])\n",
    "x_max = float(args[5])\n",
    "y_max = float(args[6])\n",
    "\n",
    "start_date = args[7]\n",
    "start_date = datetime.strptime(start_date, '%Y-%m-%d %H:%M:%S')\n",
    "\n",
    "\n",
    "total_frames = int(args[8])\n",
    "GRANULARITY = Time_granularities[args[9]]\n",
    "\n",
    "timestamps = []\n",
    "for i in range(total_frames): \n",
    "    timestamps.append(start_date + i*GRANULARITY)\n",
    "\n",
    "\n",
    "\n",
    "p_start = timestamps[begin_frame]\n",
    "p_end = timestamps[end_frame]\n",
    "# print(p_start, p_end, x_min, y_min, x_max, y_max)\n",
    "now_db = time.time()\n",
    "rows = db.get_subset_of_tpoints(p_start, p_end, x_min, y_min, x_max, y_max)    \n",
    "\n",
    "print(f\"Time to fetch tpoints : {time.time() - now_db} s\")    \n",
    "        "
   ]
  },
  {
   "cell_type": "code",
   "execution_count": 14,
   "metadata": {},
   "outputs": [
    {
     "name": "stdout",
     "output_type": "stream",
     "text": [
      "Matrix 0 created in 13.855250358581543 seconds, 415.6575107574463 frames for 30 fps animation.\n"
     ]
    }
   ],
   "source": [
    "empty_point_wkt = Point()  # \"POINT EMPTY\"\n",
    "matrix = np.full((len(rows), TIME_DELTA_SIZE), empty_point_wkt, dtype=object)\n",
    "\n",
    "time_ranges = timestamps\n",
    "now = time.time()\n",
    "\n",
    "# try:\n",
    "for i in range(len(rows)):\n",
    "    if rows[i][2] is not None:\n",
    "        try:\n",
    "            traj_resampled = rows[i][2]\n",
    "\n",
    "            start_index = rows[i][0] \n",
    "            end_index = rows[i][1]\n",
    "            matrix[i, start_index:end_index+1] = np.array(traj_resampled.values())\n",
    "    \n",
    "        except:\n",
    "            print(i)\n",
    "            # continue\n",
    "\n",
    "\n",
    "# db.close()\n",
    "# pymeos_finalize()\n",
    "total_time = time.time() - now\n",
    "frames_for_30_fps= 30 * total_time\n",
    "print(f\"Matrix {begin_frame} created in {total_time} seconds, {frames_for_30_fps} frames for 30 fps animation.\")\n",
    "# logs += f\"time to create and fill the matrix {begin_frame}: {total_time} seconds\\n\"\n"
   ]
  },
  {
   "cell_type": "code",
   "execution_count": 15,
   "metadata": {},
   "outputs": [
    {
     "data": {
      "text/plain": [
       "2794080"
      ]
     },
     "execution_count": 15,
     "metadata": {},
     "output_type": "execute_result"
    }
   ],
   "source": [
    "np.count_nonzero(matrix != 'POINT EMPTY')"
   ]
  },
  {
   "cell_type": "markdown",
   "metadata": {},
   "source": [
    "# Measuring nditer vs for loop for feature generation"
   ]
  },
  {
   "cell_type": "code",
   "execution_count": 29,
   "metadata": {},
   "outputs": [
    {
     "name": "stdout",
     "output_type": "stream",
     "text": [
      "962 µs ± 39.9 µs per loop (mean ± std. dev. of 7 runs, 1,000 loops each)\n"
     ]
    }
   ],
   "source": [
    "%%timeit\n",
    "\n",
    "empty_point_wkt = Point().wkt  # \"POINT EMPTY\"\n",
    "# create a numpy array of size len(ids_list) with empty_point_wkt\n",
    "starting_points = np.full((1, 5821), empty_point_wkt, dtype=object)\n",
    "\n",
    "qgis_fields_list = []\n",
    "\n",
    "for wkt in np.nditer(starting_points, flags=['refs_ok']):\n",
    "    feat = [\"vlayer_fields\"]\n",
    "    feat.append(\"datetime_obj\")  # Set its attributes\n",
    "    # Create geometry from WKT string\n",
    "    feat.append(wkt.item())\n",
    "    qgis_fields_list.append(feat)\n",
    "        "
   ]
  },
  {
   "cell_type": "code",
   "execution_count": 31,
   "metadata": {},
   "outputs": [
    {
     "name": "stdout",
     "output_type": "stream",
     "text": [
      "378 µs ± 2.94 µs per loop (mean ± std. dev. of 7 runs, 1,000 loops each)\n"
     ]
    }
   ],
   "source": [
    "%%timeit\n",
    "\n",
    "empty_point_wkt = Point().wkt  # \"POINT EMPTY\"\n",
    "\n",
    "qgis_fields_list = []\n",
    "\n",
    "for i in range(5821):\n",
    "    feat = [\"vlayer_fields\"]\n",
    "    feat.append(\"datetime_obj\")  # Set its attributes\n",
    "    # Create geometry from WKT string\n",
    "    feat.append(empty_point_wkt)\n",
    "    qgis_fields_list.append(feat)"
   ]
  },
  {
   "cell_type": "markdown",
   "metadata": {},
   "source": [
    "# Benchmarking Matrix generation script"
   ]
  },
  {
   "cell_type": "code",
   "execution_count": 21,
   "metadata": {},
   "outputs": [
    {
     "data": {
      "text/plain": [
       "['0',\n",
       " '479',\n",
       " '1',\n",
       " '-180',\n",
       " '-90',\n",
       " '180',\n",
       " '90',\n",
       " '2023-06-01 00:00:00',\n",
       " '1439',\n",
       " 'MINUTE',\n",
       " '/home/ali/QGIS-MobilityDB/experiment9_sql_optimization/matrices',\n",
       " 'mobilitydb',\n",
       " 'processed_data',\n",
       " 'MMSI',\n",
       " 'traj']"
      ]
     },
     "execution_count": 21,
     "metadata": {},
     "output_type": "execute_result"
    }
   ],
   "source": [
    "sysargs = ['0',\n",
    " '479',\n",
    " '1',\n",
    " '-180',\n",
    " '-90',\n",
    " '180',\n",
    " '90',\n",
    " '2023-06-01 00:00:00',\n",
    " '1439',\n",
    " 'MINUTE',\n",
    " '/home/ali/QGIS-MobilityDB/experiment9_sql_optimization/matrices',\n",
    " 'mobilitydb',\n",
    " 'processed_data',\n",
    " 'MMSI',\n",
    " 'traj']\n",
    "\n",
    "sysargs"
   ]
  },
  {
   "cell_type": "code",
   "execution_count": 28,
   "metadata": {},
   "outputs": [
    {
     "name": "stderr",
     "output_type": "stream",
     "text": [
      "Combination (60, 0.1):   0%|          | 0/18 [00:00<?, ?it/s]"
     ]
    },
    {
     "name": "stdout",
     "output_type": "stream",
     "text": [
      "CompletedProcess(args=['/home/ali/.venv/bin/python', '/home/ali/QGIS-MobilityDB/experiment9_sql_optimization/generate_matrix_before_optimization.py', '0', '59', '0.1', '-180', '-90', '180', '90', '2023-06-01 00:00:00', '', 'SECOND', '/home/ali/matrices/60_0.1', 'mobilitydb', 'processed_data', 'MMSI', 'traj'], returncode=0, stdout='================================================================     Matrix 0 created in 0.008792877197265625 seconds, 0.26378631591796875 frames for 30 fps animation.\\n', stderr='')\n"
     ]
    },
    {
     "name": "stderr",
     "output_type": "stream",
     "text": []
    },
    {
     "name": "stdout",
     "output_type": "stream",
     "text": [
      "CompletedProcess(args=['/home/ali/.venv/bin/python', '/home/ali/QGIS-MobilityDB/experiment9_sql_optimization/generate_matrix_before_optimization.py', '60', '119', '0.1', '-180', '-90', '180', '90', '2023-06-01 00:01:00', '', 'SECOND', '/home/ali/matrices/60_0.1', 'mobilitydb', 'processed_data', 'MMSI', 'traj'], returncode=0, stdout='================================================================     Matrix 0 created in 0.011305093765258789 seconds, 0.33915281295776367 frames for 30 fps animation.\\n', stderr='')\n"
     ]
    },
    {
     "name": "stderr",
     "output_type": "stream",
     "text": []
    },
    {
     "name": "stdout",
     "output_type": "stream",
     "text": [
      "CompletedProcess(args=['/home/ali/.venv/bin/python', '/home/ali/QGIS-MobilityDB/experiment9_sql_optimization/generate_matrix_before_optimization.py', '120', '179', '0.1', '-180', '-90', '180', '90', '2023-06-01 00:02:00', '', 'SECOND', '/home/ali/matrices/60_0.1', 'mobilitydb', 'processed_data', 'MMSI', 'traj'], returncode=0, stdout='================================================================     Matrix 0 created in 0.01216888427734375 seconds, 0.3650665283203125 frames for 30 fps animation.\\n', stderr='')\n"
     ]
    },
    {
     "name": "stderr",
     "output_type": "stream",
     "text": []
    },
    {
     "name": "stdout",
     "output_type": "stream",
     "text": [
      "CompletedProcess(args=['/home/ali/.venv/bin/python', '/home/ali/QGIS-MobilityDB/experiment9_sql_optimization/generate_matrix_before_optimization.py', '180', '239', '0.1', '-180', '-90', '180', '90', '2023-06-01 00:03:00', '', 'SECOND', '/home/ali/matrices/60_0.1', 'mobilitydb', 'processed_data', 'MMSI', 'traj'], returncode=0, stdout='================================================================     Matrix 0 created in 0.014937877655029297 seconds, 0.4481363296508789 frames for 30 fps animation.\\n', stderr='')\n"
     ]
    },
    {
     "name": "stderr",
     "output_type": "stream",
     "text": []
    },
    {
     "name": "stdout",
     "output_type": "stream",
     "text": [
      "CompletedProcess(args=['/home/ali/.venv/bin/python', '/home/ali/QGIS-MobilityDB/experiment9_sql_optimization/generate_matrix_before_optimization.py', '240', '299', '0.1', '-180', '-90', '180', '90', '2023-06-01 00:04:00', '', 'SECOND', '/home/ali/matrices/60_0.1', 'mobilitydb', 'processed_data', 'MMSI', 'traj'], returncode=0, stdout='================================================================     Matrix 0 created in 0.015043258666992188 seconds, 0.4512977600097656 frames for 30 fps animation.\\n', stderr='')\n"
     ]
    },
    {
     "name": "stderr",
     "output_type": "stream",
     "text": []
    },
    {
     "name": "stdout",
     "output_type": "stream",
     "text": [
      "CompletedProcess(args=['/home/ali/.venv/bin/python', '/home/ali/QGIS-MobilityDB/experiment9_sql_optimization/generate_matrix_before_optimization.py', '300', '359', '0.1', '-180', '-90', '180', '90', '2023-06-01 00:05:00', '', 'SECOND', '/home/ali/matrices/60_0.1', 'mobilitydb', 'processed_data', 'MMSI', 'traj'], returncode=0, stdout='================================================================     Matrix 0 created in 0.01754617691040039 seconds, 0.5263853073120117 frames for 30 fps animation.\\n', stderr='')\n"
     ]
    },
    {
     "name": "stderr",
     "output_type": "stream",
     "text": []
    },
    {
     "name": "stdout",
     "output_type": "stream",
     "text": [
      "CompletedProcess(args=['/home/ali/.venv/bin/python', '/home/ali/QGIS-MobilityDB/experiment9_sql_optimization/generate_matrix_before_optimization.py', '360', '419', '0.1', '-180', '-90', '180', '90', '2023-06-01 00:06:00', '', 'SECOND', '/home/ali/matrices/60_0.1', 'mobilitydb', 'processed_data', 'MMSI', 'traj'], returncode=0, stdout='================================================================     Matrix 0 created in 0.017540693283081055 seconds, 0.5262207984924316 frames for 30 fps animation.\\n', stderr='')\n"
     ]
    },
    {
     "name": "stderr",
     "output_type": "stream",
     "text": []
    },
    {
     "name": "stdout",
     "output_type": "stream",
     "text": [
      "CompletedProcess(args=['/home/ali/.venv/bin/python', '/home/ali/QGIS-MobilityDB/experiment9_sql_optimization/generate_matrix_before_optimization.py', '420', '479', '0.1', '-180', '-90', '180', '90', '2023-06-01 00:07:00', '', 'SECOND', '/home/ali/matrices/60_0.1', 'mobilitydb', 'processed_data', 'MMSI', 'traj'], returncode=0, stdout='================================================================     Matrix 0 created in 0.017479658126831055 seconds, 0.5243897438049316 frames for 30 fps animation.\\n', stderr='')\n"
     ]
    },
    {
     "name": "stderr",
     "output_type": "stream",
     "text": []
    },
    {
     "name": "stdout",
     "output_type": "stream",
     "text": [
      "CompletedProcess(args=['/home/ali/.venv/bin/python', '/home/ali/QGIS-MobilityDB/experiment9_sql_optimization/generate_matrix_before_optimization.py', '480', '539', '0.1', '-180', '-90', '180', '90', '2023-06-01 00:08:00', '', 'SECOND', '/home/ali/matrices/60_0.1', 'mobilitydb', 'processed_data', 'MMSI', 'traj'], returncode=0, stdout='================================================================     Matrix 0 created in 0.014612674713134766 seconds, 0.43838024139404297 frames for 30 fps animation.\\n', stderr='')\n"
     ]
    },
    {
     "name": "stderr",
     "output_type": "stream",
     "text": [
      "Time delta (540, 599): 100%|██████████| 10/10 [00:02<00:00,  3.84it/s]\n",
      "Combination (60, 0.1):   0%|          | 0/18 [00:02<?, ?it/s]"
     ]
    },
    {
     "name": "stdout",
     "output_type": "stream",
     "text": [
      "CompletedProcess(args=['/home/ali/.venv/bin/python', '/home/ali/QGIS-MobilityDB/experiment9_sql_optimization/generate_matrix_before_optimization.py', '540', '599', '0.1', '-180', '-90', '180', '90', '2023-06-01 00:09:00', '', 'SECOND', '/home/ali/matrices/60_0.1', 'mobilitydb', 'processed_data', 'MMSI', 'traj'], returncode=0, stdout='================================================================     Matrix 0 created in 0.015996217727661133 seconds, 0.479886531829834 frames for 30 fps animation.\\n', stderr='')\n"
     ]
    },
    {
     "name": "stderr",
     "output_type": "stream",
     "text": [
      "\n"
     ]
    }
   ],
   "source": [
    "import numpy as np\n",
    "from shapely.geometry import Point\n",
    "from pymeos.db.psycopg import MobilityDB\n",
    "\n",
    "from pymeos import *\n",
    "import os\n",
    "import sys\n",
    "from datetime import timedelta, datetime\n",
    "from pymeos import *\n",
    "import time\n",
    "from tqdm import tqdm\n",
    "import itertools\n",
    "import shutil\n",
    "import math\n",
    "import subprocess\n",
    "\n",
    "\n",
    "MATRIX_DIRECTORY_PATH =\"/home/ali/matrices/\" \n",
    "if os.path.exists(MATRIX_DIRECTORY_PATH):\n",
    "    shutil.rmtree(MATRIX_DIRECTORY_PATH)\n",
    "    os.makedirs(MATRIX_DIRECTORY_PATH)\n",
    "else:\n",
    "    os.makedirs(MATRIX_DIRECTORY_PATH)\n",
    "pymeos_initialize()\n",
    "\n",
    "\"\"\"\n",
    "Iterate over all the possible combinations of frames and percentages\n",
    "\n",
    "for each combination :\n",
    "    \n",
    "    Create 3 time deltas\n",
    "    store : time for each time delta\n",
    "    store : maximum time for each time delta\n",
    "    store : average time for each time delta\n",
    "    \n",
    "    Calculate FPS using : Frames / maximum time for each time delta\n",
    "\n",
    "    Store the FPS for each combination\n",
    "\n",
    "    store the memory used by all 3 time delta in local disk\n",
    "\n",
    "\n",
    "\"\"\"\n",
    "\n",
    "SRID = 4326\n",
    "DATABASE_NAME = \"mobilitydb\"\n",
    "TPOINT_TABLE_NAME = \"PyMEOS_demo\"\n",
    "TPOINT_ID_COLUMN_NAME = \"MMSI\"\n",
    "TPOINT_COLUMN_NAME = \"trajectory\"\n",
    "x_min = -180\n",
    "y_min = -90\n",
    "x_max = 180\n",
    "y_max = 90\n",
    "extent_list = [x_min, y_min, x_max, y_max]\n",
    "Time_granularities = {\n",
    "                    # \"MILLISECOND\" : timedelta(milliseconds=1),\n",
    "                      \"SECOND\" : timedelta(seconds=1),\n",
    "                      \"MINUTE\" : timedelta(minutes=1),\n",
    "                    #   \"HOUR\" : timedelta(hours=1),\n",
    "                    }\n",
    "GRANULARITY = Time_granularities[\"SECOND\"]\n",
    "\n",
    "connection_params = {\n",
    "        \"host\": \"localhost\",\n",
    "        \"port\": 5432,\n",
    "        \"dbname\": DATABASE_NAME,\n",
    "        \"user\": \"postgres\",\n",
    "        \"password\": \"postgres\"\n",
    "        }\n",
    "                \n",
    "connection = MobilityDB.connect(**connection_params)\n",
    "cursor = connection.cursor()\n",
    "\n",
    "cursor.execute(f\"SELECT {TPOINT_ID_COLUMN_NAME} FROM public.{TPOINT_TABLE_NAME};\")\n",
    "Total_ids = cursor.fetchall()\n",
    "\n",
    "cursor.execute(f\"SELECT MIN(startTimestamp({TPOINT_COLUMN_NAME})) AS earliest_timestamp FROM public.{TPOINT_TABLE_NAME};\")\n",
    "start_date = cursor.fetchone()[0]\n",
    "cursor.execute(f\"SELECT MAX(endTimestamp({TPOINT_COLUMN_NAME})) AS latest_timestamp FROM public.{TPOINT_TABLE_NAME};\")\n",
    "end_date = cursor.fetchone()[0]\n",
    "\n",
    "total_frames = math.ceil( (end_date - start_date) // GRANULARITY ) + 1\n",
    "\n",
    "timestamps = [start_date + i * GRANULARITY for i in range(total_frames)]\n",
    "timestamps = [dt.replace(tzinfo=None) for dt in timestamps]\n",
    "timestamps_strings = [dt.strftime('%Y-%m-%d %H:%M:%S') for dt in timestamps]\n",
    "\n",
    "\n",
    "TIME_DELTA_COUNT = 10\n",
    "\n",
    "\n",
    "Frames = [60, 120, 240, 480, 960, 1920]\n",
    "Percentages = [0.1, 0.5,  1]\n",
    "\n",
    "number_of_objects={} # Store the number of objects for each percentage\n",
    "times = {} # Store the time for each time delta\n",
    "\n",
    "\n",
    "combinations = tqdm(list(itertools.product(Frames, Percentages)))\n",
    "\n",
    "for combination in combinations:\n",
    "    combinations.set_description(f\"Combination {combination}\")\n",
    "    frame, percentage = combination\n",
    "\n",
    "    \n",
    "    ids_list = Total_ids[:int(len(Total_ids)*percentage)]\n",
    "    number_of_objects[percentage] = len(ids_list)\n",
    "\n",
    "\n",
    "    # print(combination)\n",
    "    dir_name = f\"/home/ali/matrices/{frame}_{percentage}\"\n",
    "    # print(dir_name)\n",
    "    os.mkdir(dir_name)\n",
    "   \n",
    "    t_deltas = tqdm([(i, (i+frame)-1) for i in range(0, 10*frame, frame)]) \n",
    "    # print(t_deltas)\n",
    "    times[combination] = []\n",
    "    for delta in t_deltas:\n",
    "        t_deltas.set_description(f\"Time delta {delta}\")\n",
    "        now = time.time()\n",
    "        x_min,y_min, x_max, y_max = extent_list\n",
    "        begin_frame, end_frame = delta\n",
    "        arguments = [begin_frame, end_frame, percentage, x_min, y_min, x_max, y_max]\n",
    "        arguments = [str(arg) for arg in arguments]\n",
    "        arguments += [timestamps_strings[begin_frame],  \"\",\n",
    "                'SECOND',\n",
    "                dir_name,\n",
    "                'mobilitydb',\n",
    "                'processed_data',\n",
    "                'MMSI',\n",
    "                'traj']\n",
    "     \n",
    "\n",
    "        python_path = sys.executable\n",
    "        process_B_path = f\"/home/ali/QGIS-MobilityDB/experiment9_sql_optimization/generate_matrix_before_optimization.py\"\n",
    "        \n",
    "        command = [python_path, process_B_path, *arguments]\n",
    "        result = subprocess.run(command, capture_output=True, text=True)\n",
    "        print(result)\n",
    "        \n",
    "        loaded_matrix = np.load(f\"{dir_name}/matrix_{begin_frame}.npy\", allow_pickle=True)\n",
    "\n",
    "        TIME_total = time.time() - now\n",
    "        times[combination].append(TIME_total)\n",
    "        \n",
    "    break\n",
    "\n",
    "    \n",
    "    \n",
    "\n"
   ]
  },
  {
   "cell_type": "code",
   "execution_count": 27,
   "metadata": {},
   "outputs": [
    {
     "data": {
      "text/plain": [
       "array([['POINT EMPTY', 'POINT EMPTY', 'POINT EMPTY', ..., 'POINT EMPTY',\n",
       "        'POINT EMPTY', 'POINT EMPTY'],\n",
       "       ['POINT (8.42333 55.4718)', 'POINT EMPTY', 'POINT EMPTY', ...,\n",
       "        'POINT EMPTY', 'POINT EMPTY', 'POINT EMPTY'],\n",
       "       ['POINT EMPTY', 'POINT EMPTY', 'POINT EMPTY', ..., 'POINT EMPTY',\n",
       "        'POINT EMPTY', 'POINT EMPTY'],\n",
       "       ...,\n",
       "       ['POINT EMPTY', 'POINT EMPTY', 'POINT EMPTY', ..., 'POINT EMPTY',\n",
       "        'POINT EMPTY', 'POINT EMPTY'],\n",
       "       ['POINT EMPTY', 'POINT EMPTY', 'POINT EMPTY', ..., 'POINT EMPTY',\n",
       "        'POINT EMPTY', 'POINT EMPTY'],\n",
       "       ['POINT EMPTY', 'POINT EMPTY', 'POINT EMPTY', ..., 'POINT EMPTY',\n",
       "        'POINT EMPTY', 'POINT EMPTY']], dtype=object)"
      ]
     },
     "execution_count": 27,
     "metadata": {},
     "output_type": "execute_result"
    }
   ],
   "source": [
    "loaded_matrix"
   ]
  },
  {
   "cell_type": "code",
   "execution_count": 25,
   "metadata": {},
   "outputs": [
    {
     "name": "stdout",
     "output_type": "stream",
     "text": [
      "(0, 1919)\n",
      "(1920, 3839)\n",
      "(3840, 5759)\n",
      "(5760, 7679)\n",
      "(7680, 9599)\n",
      "(9600, 11519)\n",
      "(11520, 13439)\n",
      "(13440, 15359)\n",
      "(15360, 17279)\n",
      "(17280, 19199)\n"
     ]
    }
   ],
   "source": [
    "for d in t_deltas:\n",
    "    print(d)\n",
    "    "
   ]
  },
  {
   "cell_type": "code",
   "execution_count": 29,
   "metadata": {},
   "outputs": [],
   "source": [
    "dir_name = f\"/home/ali/matrices/{60}_{1}\""
   ]
  },
  {
   "cell_type": "code",
   "execution_count": 32,
   "metadata": {},
   "outputs": [
    {
     "name": "stdout",
     "output_type": "stream",
     "text": [
      "CompletedProcess(args=['/home/ali/.venv/bin/python', '/home/ali/QGIS-MobilityDB/experiment9_sql_optimization/generate_matrix_before_optimization.py', '0', '59', '1', '-180', '-90', '180', '90', '2023-06-01 00:09:00', '', 'SECOND', '/home/ali/matrices/60_1', 'mobilitydb', 'processed_data', 'MMSI', 'traj'], returncode=0, stdout='', stderr='')\n"
     ]
    }
   ],
   "source": [
    "\n",
    "now = time.time()\n",
    "x_min,y_min, x_max, y_max = extent_list\n",
    "# begin_frame, end_frame = (60,1)\n",
    "arguments = [str(0), str(59), '1', x_min, y_min, x_max, y_max]\n",
    "arguments = [str(arg) for arg in arguments]\n",
    "arguments += [timestamps_strings[begin_frame],  \"\",\n",
    "        'SECOND',\n",
    "        dir_name,\n",
    "        'mobilitydb',\n",
    "        'processed_data',\n",
    "        'MMSI',\n",
    "        'traj']\n",
    "\n",
    "\n",
    "python_path = sys.executable\n",
    "process_B_path = f\"/home/ali/QGIS-MobilityDB/experiment9_sql_optimization/generate_matrix_before_optimization.py\"\n",
    "\n",
    "command = [python_path, process_B_path, *arguments]\n",
    "result = subprocess.run(command, capture_output=True, text=True)\n",
    "print(result)\n",
    "loaded_matrix = np.load(f\"{dir_name}/matrix_{0}.npy\", allow_pickle=True)\n",
    "\n",
    "TIME_total = time.time() - now\n",
    "times[combination].append(TIME_total)"
   ]
  },
  {
   "cell_type": "code",
   "execution_count": 34,
   "metadata": {},
   "outputs": [
    {
     "data": {
      "text/plain": [
       "0.20128560066223145"
      ]
     },
     "execution_count": 34,
     "metadata": {},
     "output_type": "execute_result"
    }
   ],
   "source": [
    "TIME_total"
   ]
  },
  {
   "cell_type": "code",
   "execution_count": 35,
   "metadata": {},
   "outputs": [
    {
     "data": {
      "text/plain": [
       "2845"
      ]
     },
     "execution_count": 35,
     "metadata": {},
     "output_type": "execute_result"
    }
   ],
   "source": [
    "np.count_nonzero(loaded_matrix != 'POINT EMPTY')"
   ]
  },
  {
   "cell_type": "code",
   "execution_count": 28,
   "metadata": {},
   "outputs": [],
   "source": [
    "times = {(60, 0.1): [0.2656862735748291,\n",
    "  0.2612111568450928,\n",
    "  0.2648026943206787,\n",
    "  0.26496410369873047,\n",
    "  0.26649951934814453,\n",
    "  0.26050448417663574,\n",
    "  0.2693617343902588,\n",
    "  0.26686596870422363,\n",
    "  0.26528096199035645,\n",
    "  0.2707993984222412],\n",
    " (60, 0.5): [0.3957936763763428,\n",
    "  0.42481207847595215,\n",
    "  0.425433874130249,\n",
    "  0.4276893138885498,\n",
    "  0.42606449127197266,\n",
    "  0.4405691623687744,\n",
    "  0.4524080753326416,\n",
    "  0.4625816345214844,\n",
    "  0.44678688049316406,\n",
    "  0.46411681175231934],\n",
    " (60, 1): [0.5834801197052002,\n",
    "  0.6355955600738525,\n",
    "  0.658463716506958,\n",
    "  0.68813157081604,\n",
    "  0.6456351280212402,\n",
    "  0.6473915576934814,\n",
    "  0.6525437831878662,\n",
    "  0.6502220630645752,\n",
    "  0.6499931812286377,\n",
    "  0.6735315322875977],\n",
    " (120, 0.1): [0.3420865535736084,\n",
    "  0.4113597869873047,\n",
    "  0.42316484451293945,\n",
    "  0.44739556312561035,\n",
    "  0.4469642639160156,\n",
    "  0.45482897758483887,\n",
    "  0.4582998752593994,\n",
    "  0.4592893123626709,\n",
    "  0.4671480655670166,\n",
    "  0.4688725471496582],\n",
    " (120, 0.5): [0.9791724681854248,\n",
    "  1.4593708515167236,\n",
    "  1.5418617725372314,\n",
    "  1.5843334197998047,\n",
    "  1.6218442916870117,\n",
    "  1.6416089534759521,\n",
    "  1.6686973571777344,\n",
    "  1.6702396869659424,\n",
    "  1.6971323490142822,\n",
    "  1.7156126499176025],\n",
    " (120, 1): [1.9116592407226562,\n",
    "  2.779531955718994,\n",
    "  2.9348695278167725,\n",
    "  3.0238265991210938,\n",
    "  3.028435707092285,\n",
    "  3.066878080368042,\n",
    "  3.1306281089782715,\n",
    "  3.1389801502227783,\n",
    "  3.2126898765563965,\n",
    "  3.1710305213928223],\n",
    " (240, 0.1): [0.5781846046447754,\n",
    "  0.7649245262145996,\n",
    "  0.797337532043457,\n",
    "  0.8300747871398926,\n",
    "  0.8463294506072998,\n",
    "  0.8547787666320801,\n",
    "  0.88742995262146,\n",
    "  0.8892242908477783,\n",
    "  0.9187450408935547,\n",
    "  0.9221742153167725],\n",
    " (240, 0.5): [2.693887948989868,\n",
    "  3.73608660697937,\n",
    "  3.8580124378204346,\n",
    "  3.9854109287261963,\n",
    "  4.056712865829468,\n",
    "  4.109205007553101,\n",
    "  4.2421252727508545,\n",
    "  4.222620010375977,\n",
    "  4.199378252029419,\n",
    "  4.238271713256836],\n",
    " (240, 1): [5.433112382888794,\n",
    "  7.310965061187744,\n",
    "  7.820759296417236,\n",
    "  8.690181255340576,\n",
    "  8.880930185317993,\n",
    "  8.239195346832275,\n",
    "  8.305767297744751,\n",
    "  8.350252389907837,\n",
    "  8.439699172973633,\n",
    "  8.636222839355469],\n",
    " (480, 0.1): [1.2292144298553467,\n",
    "  1.6057746410369873,\n",
    "  1.771855115890503,\n",
    "  1.8229243755340576,\n",
    "  1.899421215057373,\n",
    "  1.8917555809020996,\n",
    "  1.9382236003875732,\n",
    "  1.9533653259277344,\n",
    "  1.975360631942749,\n",
    "  1.9549520015716553],\n",
    " (480, 0.5): [6.844327449798584,\n",
    "  8.893291711807251,\n",
    "  9.496904850006104,\n",
    "  9.375067949295044,\n",
    "  9.587667465209961,\n",
    "  9.645226240158081,\n",
    "  9.950974225997925,\n",
    "  9.73379373550415,\n",
    "  9.82116985321045,\n",
    "  9.876144886016846],\n",
    " (480, 1): [14.286259651184082,\n",
    "  17.613163471221924,\n",
    "  18.385698080062866,\n",
    "  18.700673818588257,\n",
    "  18.97295570373535,\n",
    "  19.781025409698486,\n",
    "  19.53107762336731,\n",
    "  20.150807857513428,\n",
    "  19.474369525909424,\n",
    "  19.607420206069946],\n",
    " (960, 0.1): [2.7259714603424072,\n",
    "  3.4920592308044434,\n",
    "  3.659729242324829,\n",
    "  3.830155372619629,\n",
    "  3.8158373832702637,\n",
    "  3.8694958686828613,\n",
    "  4.0039427280426025,\n",
    "  4.060469388961792,\n",
    "  4.126049518585205,\n",
    "  4.156455039978027],\n",
    " (960, 0.5): [16.61272382736206,\n",
    "  20.23284888267517,\n",
    "  20.695140838623047,\n",
    "  21.135440826416016,\n",
    "  21.880024671554565,\n",
    "  21.507187128067017,\n",
    "  21.353778839111328,\n",
    "  21.452242136001587,\n",
    "  21.85299253463745,\n",
    "  22.41488003730774],\n",
    " (960, 1): [33.0471932888031,\n",
    "  40.02810978889465,\n",
    "  40.97360801696777,\n",
    "  41.61129426956177,\n",
    "  42.429771184921265,\n",
    "  42.39242720603943,\n",
    "  42.65078592300415,\n",
    "  42.72625970840454,\n",
    "  44.32970643043518,\n",
    "  43.561559438705444],\n",
    " (1920, 0.1): [6.119503021240234,\n",
    "  8.397013902664185,\n",
    "  8.397013902664185,\n",
    "  8.46683955192566,\n",
    "  8.750547885894775,\n",
    "  8.940035581588745,\n",
    "  9.414005517959595,\n",
    "  9.824061155319214,\n",
    "  10.17874026298523,\n",
    "  10.004048109054565],\n",
    " (1920, 0.5): [39.49703001976013,\n",
    "  45.59630990028381,\n",
    "  48.243937969207764,\n",
    "  48.86762857437134,\n",
    "  49.4443097114563,\n",
    "  50.62068319320679,\n",
    "  53.05665636062622,\n",
    "  54.31668138504028,\n",
    "  56.474361419677734,\n",
    "  57.97229266166687],\n",
    " (1920, 1): [78.2114028930664,\n",
    "  91.92143201828003,\n",
    "  95.61117267608643,\n",
    "  95.70241665840149,\n",
    "  97.37409996986389,\n",
    "  99.53618931770325,\n",
    "  102.48501348495483,\n",
    "  119.49911785125732,\n",
    "  110.46878623962402,\n",
    "  113.447829246521]}"
   ]
  },
  {
   "cell_type": "code",
   "execution_count": 29,
   "metadata": {},
   "outputs": [
    {
     "data": {
      "text/plain": [
       "{0.1: 582, 0.5: 2910, 1: 5821}"
      ]
     },
     "execution_count": 29,
     "metadata": {},
     "output_type": "execute_result"
    }
   ],
   "source": [
    "number_of_objects"
   ]
  },
  {
   "cell_type": "code",
   "execution_count": 30,
   "metadata": {},
   "outputs": [
    {
     "data": {
      "text/plain": [
       "{(60, 0.1): 0.26559762954711913,\n",
       " (60, 0.5): 0.436625599861145,\n",
       " (60, 1): 0.648498821258545,\n",
       " (120, 0.1): 0.43794097900390627,\n",
       " (120, 0.5): 1.557987380027771,\n",
       " (120, 1): 2.939852976799011,\n",
       " (240, 0.1): 0.828920316696167,\n",
       " (240, 0.5): 3.9341711044311523,\n",
       " (240, 1): 8.01070852279663,\n",
       " (480, 0.1): 1.804284691810608,\n",
       " (480, 0.5): 9.32245683670044,\n",
       " (480, 1): 18.650345134735108,\n",
       " (960, 0.1): 3.774016523361206,\n",
       " (960, 0.5): 20.913725972175598,\n",
       " (960, 1): 41.37507152557373,\n",
       " (1920, 0.1): 8.849180889129638,\n",
       " (1920, 0.5): 50.40898911952972,\n",
       " (1920, 1): 100.42574603557587}"
      ]
     },
     "execution_count": 30,
     "metadata": {},
     "output_type": "execute_result"
    }
   ],
   "source": [
    "avg_data = {key: np.mean(value) for key, value in times.items()}\n",
    "avg_data"
   ]
  },
  {
   "cell_type": "code",
   "execution_count": 31,
   "metadata": {},
   "outputs": [
    {
     "data": {
      "text/html": [
       "<div>\n",
       "<style scoped>\n",
       "    .dataframe tbody tr th:only-of-type {\n",
       "        vertical-align: middle;\n",
       "    }\n",
       "\n",
       "    .dataframe tbody tr th {\n",
       "        vertical-align: top;\n",
       "    }\n",
       "\n",
       "    .dataframe thead th {\n",
       "        text-align: right;\n",
       "    }\n",
       "</style>\n",
       "<table border=\"1\" class=\"dataframe\">\n",
       "  <thead>\n",
       "    <tr style=\"text-align: right;\">\n",
       "      <th></th>\n",
       "      <th></th>\n",
       "      <th>Average</th>\n",
       "    </tr>\n",
       "    <tr>\n",
       "      <th>Frames</th>\n",
       "      <th>Percentage</th>\n",
       "      <th></th>\n",
       "    </tr>\n",
       "  </thead>\n",
       "  <tbody>\n",
       "    <tr>\n",
       "      <th rowspan=\"3\" valign=\"top\">60</th>\n",
       "      <th>0.1</th>\n",
       "      <td>0.265598</td>\n",
       "    </tr>\n",
       "    <tr>\n",
       "      <th>0.5</th>\n",
       "      <td>0.436626</td>\n",
       "    </tr>\n",
       "    <tr>\n",
       "      <th>1.0</th>\n",
       "      <td>0.648499</td>\n",
       "    </tr>\n",
       "    <tr>\n",
       "      <th rowspan=\"3\" valign=\"top\">120</th>\n",
       "      <th>0.1</th>\n",
       "      <td>0.437941</td>\n",
       "    </tr>\n",
       "    <tr>\n",
       "      <th>0.5</th>\n",
       "      <td>1.557987</td>\n",
       "    </tr>\n",
       "    <tr>\n",
       "      <th>1.0</th>\n",
       "      <td>2.939853</td>\n",
       "    </tr>\n",
       "    <tr>\n",
       "      <th rowspan=\"3\" valign=\"top\">240</th>\n",
       "      <th>0.1</th>\n",
       "      <td>0.828920</td>\n",
       "    </tr>\n",
       "    <tr>\n",
       "      <th>0.5</th>\n",
       "      <td>3.934171</td>\n",
       "    </tr>\n",
       "    <tr>\n",
       "      <th>1.0</th>\n",
       "      <td>8.010709</td>\n",
       "    </tr>\n",
       "    <tr>\n",
       "      <th rowspan=\"3\" valign=\"top\">480</th>\n",
       "      <th>0.1</th>\n",
       "      <td>1.804285</td>\n",
       "    </tr>\n",
       "    <tr>\n",
       "      <th>0.5</th>\n",
       "      <td>9.322457</td>\n",
       "    </tr>\n",
       "    <tr>\n",
       "      <th>1.0</th>\n",
       "      <td>18.650345</td>\n",
       "    </tr>\n",
       "    <tr>\n",
       "      <th rowspan=\"3\" valign=\"top\">960</th>\n",
       "      <th>0.1</th>\n",
       "      <td>3.774017</td>\n",
       "    </tr>\n",
       "    <tr>\n",
       "      <th>0.5</th>\n",
       "      <td>20.913726</td>\n",
       "    </tr>\n",
       "    <tr>\n",
       "      <th>1.0</th>\n",
       "      <td>41.375072</td>\n",
       "    </tr>\n",
       "    <tr>\n",
       "      <th rowspan=\"3\" valign=\"top\">1920</th>\n",
       "      <th>0.1</th>\n",
       "      <td>8.849181</td>\n",
       "    </tr>\n",
       "    <tr>\n",
       "      <th>0.5</th>\n",
       "      <td>50.408989</td>\n",
       "    </tr>\n",
       "    <tr>\n",
       "      <th>1.0</th>\n",
       "      <td>100.425746</td>\n",
       "    </tr>\n",
       "  </tbody>\n",
       "</table>\n",
       "</div>"
      ],
      "text/plain": [
       "                      Average\n",
       "Frames Percentage            \n",
       "60     0.1           0.265598\n",
       "       0.5           0.436626\n",
       "       1.0           0.648499\n",
       "120    0.1           0.437941\n",
       "       0.5           1.557987\n",
       "       1.0           2.939853\n",
       "240    0.1           0.828920\n",
       "       0.5           3.934171\n",
       "       1.0           8.010709\n",
       "480    0.1           1.804285\n",
       "       0.5           9.322457\n",
       "       1.0          18.650345\n",
       "960    0.1           3.774017\n",
       "       0.5          20.913726\n",
       "       1.0          41.375072\n",
       "1920   0.1           8.849181\n",
       "       0.5          50.408989\n",
       "       1.0         100.425746"
      ]
     },
     "execution_count": 31,
     "metadata": {},
     "output_type": "execute_result"
    }
   ],
   "source": [
    "import numpy as np\n",
    "import pandas as pd\n",
    "import matplotlib.pyplot as plt\n",
    "import seaborn as sns\n",
    "from matplotlib.colors import LinearSegmentedColormap\n",
    "import matplotlib.colors as mcolors\n",
    "\n",
    "df = pd.DataFrame.from_dict(avg_data, orient='index', columns=['Average'])\n",
    "df.index = pd.MultiIndex.from_tuples(df.index, names=['Frames', 'Percentage'])\n",
    "\n",
    "df"
   ]
  },
  {
   "cell_type": "code",
   "execution_count": 32,
   "metadata": {},
   "outputs": [
    {
     "data": {
      "text/html": [
       "<div>\n",
       "<style scoped>\n",
       "    .dataframe tbody tr th:only-of-type {\n",
       "        vertical-align: middle;\n",
       "    }\n",
       "\n",
       "    .dataframe tbody tr th {\n",
       "        vertical-align: top;\n",
       "    }\n",
       "\n",
       "    .dataframe thead tr th {\n",
       "        text-align: left;\n",
       "    }\n",
       "\n",
       "    .dataframe thead tr:last-of-type th {\n",
       "        text-align: right;\n",
       "    }\n",
       "</style>\n",
       "<table border=\"1\" class=\"dataframe\">\n",
       "  <thead>\n",
       "    <tr>\n",
       "      <th></th>\n",
       "      <th colspan=\"3\" halign=\"left\">Average</th>\n",
       "    </tr>\n",
       "    <tr>\n",
       "      <th>Percentage</th>\n",
       "      <th>0.1</th>\n",
       "      <th>0.5</th>\n",
       "      <th>1.0</th>\n",
       "    </tr>\n",
       "    <tr>\n",
       "      <th>Frames</th>\n",
       "      <th></th>\n",
       "      <th></th>\n",
       "      <th></th>\n",
       "    </tr>\n",
       "  </thead>\n",
       "  <tbody>\n",
       "    <tr>\n",
       "      <th>60</th>\n",
       "      <td>0.265598</td>\n",
       "      <td>0.436626</td>\n",
       "      <td>0.648499</td>\n",
       "    </tr>\n",
       "    <tr>\n",
       "      <th>120</th>\n",
       "      <td>0.437941</td>\n",
       "      <td>1.557987</td>\n",
       "      <td>2.939853</td>\n",
       "    </tr>\n",
       "    <tr>\n",
       "      <th>240</th>\n",
       "      <td>0.828920</td>\n",
       "      <td>3.934171</td>\n",
       "      <td>8.010709</td>\n",
       "    </tr>\n",
       "    <tr>\n",
       "      <th>480</th>\n",
       "      <td>1.804285</td>\n",
       "      <td>9.322457</td>\n",
       "      <td>18.650345</td>\n",
       "    </tr>\n",
       "    <tr>\n",
       "      <th>960</th>\n",
       "      <td>3.774017</td>\n",
       "      <td>20.913726</td>\n",
       "      <td>41.375072</td>\n",
       "    </tr>\n",
       "    <tr>\n",
       "      <th>1920</th>\n",
       "      <td>8.849181</td>\n",
       "      <td>50.408989</td>\n",
       "      <td>100.425746</td>\n",
       "    </tr>\n",
       "  </tbody>\n",
       "</table>\n",
       "</div>"
      ],
      "text/plain": [
       "             Average                       \n",
       "Percentage       0.1        0.5         1.0\n",
       "Frames                                     \n",
       "60          0.265598   0.436626    0.648499\n",
       "120         0.437941   1.557987    2.939853\n",
       "240         0.828920   3.934171    8.010709\n",
       "480         1.804285   9.322457   18.650345\n",
       "960         3.774017  20.913726   41.375072\n",
       "1920        8.849181  50.408989  100.425746"
      ]
     },
     "execution_count": 32,
     "metadata": {},
     "output_type": "execute_result"
    }
   ],
   "source": [
    "df_unstacked = df.unstack(level=-1) \n",
    "df_unstacked"
   ]
  },
  {
   "cell_type": "code",
   "execution_count": 33,
   "metadata": {},
   "outputs": [
    {
     "data": {
      "image/png": "[encoded data removed]",
      "text/plain": [
       "<Figure size 1200x800 with 2 Axes>"
      ]
     },
     "metadata": {},
     "output_type": "display_data"
    }
   ],
   "source": [
    "plt.figure(figsize=(12, 8))\n",
    "sns.heatmap(df_unstacked, annot=True, cmap='Reds', fmt=\".2f\", cbar_kws={'label': 'Average Time (s)'})\n",
    "plt.title('Average Time (Seconds) for Different Combinations')\n",
    "plt.xlabel('Percentage')\n",
    "plt.ylabel('Frames')\n",
    "plt.show()"
   ]
  },
  {
   "cell_type": "code",
   "execution_count": 34,
   "metadata": {},
   "outputs": [
    {
     "data": {
      "text/plain": [
       "{(60, 0.1): 0.26559762954711913,\n",
       " (60, 0.5): 0.436625599861145,\n",
       " (60, 1): 0.648498821258545,\n",
       " (120, 0.1): 0.43794097900390627,\n",
       " (120, 0.5): 1.557987380027771,\n",
       " (120, 1): 2.939852976799011,\n",
       " (240, 0.1): 0.828920316696167,\n",
       " (240, 0.5): 3.9341711044311523,\n",
       " (240, 1): 8.01070852279663,\n",
       " (480, 0.1): 1.804284691810608,\n",
       " (480, 0.5): 9.32245683670044,\n",
       " (480, 1): 18.650345134735108,\n",
       " (960, 0.1): 3.774016523361206,\n",
       " (960, 0.5): 20.913725972175598,\n",
       " (960, 1): 41.37507152557373,\n",
       " (1920, 0.1): 8.849180889129638,\n",
       " (1920, 0.5): 50.40898911952972,\n",
       " (1920, 1): 100.42574603557587}"
      ]
     },
     "execution_count": 34,
     "metadata": {},
     "output_type": "execute_result"
    }
   ],
   "source": [
    "avg_data"
   ]
  },
  {
   "cell_type": "code",
   "execution_count": 41,
   "metadata": {},
   "outputs": [
    {
     "data": {
      "image/png": "[encoded data removed]",
      "text/plain": [
       "<Figure size 1200x800 with 2 Axes>"
      ]
     },
     "metadata": {},
     "output_type": "display_data"
    }
   ],
   "source": [
    "fps_values = {key: key[0] / value for key, value in avg_data.items()}\n",
    "\n",
    "\n",
    "df_frames_per_value = pd.DataFrame.from_dict(fps_values, orient='index', columns=['Frames_per_Value'])\n",
    "df_frames_per_value.index = pd.MultiIndex.from_tuples(df_frames_per_value.index, names=['Frames', 'Percentage'])\n",
    "\n",
    "df_frames_per_value_unstacked = df_frames_per_value.unstack(level=-1)\n",
    "df_frames_per_value_unstacked.columns = [f\"{col} ({number_of_objects[col]} boats)\" for col in df_frames_per_value_unstacked.columns.droplevel(0)]\n",
    "\n",
    "# for values below 30\n",
    "colors_below_30 = [\"red\", \"orange\"]\n",
    "cmap_below_30 = LinearSegmentedColormap.from_list(\"Below30Colormap\", colors_below_30)\n",
    "\n",
    "# above 30\n",
    "colors_above_30 = [\"white\", \"blue\"]\n",
    "cmap_above_30 = LinearSegmentedColormap.from_list(\"Above30Colormap\", colors_above_30)\n",
    "\n",
    "# Create a mask for values below and above 30\n",
    "mask_below_30 = df_frames_per_value_unstacked >= 30\n",
    "mask_above_30 = df_frames_per_value_unstacked < 30\n",
    "\n",
    "# Plot the heatmap with inverted color gradient for values below 30\n",
    "plt.figure(figsize=(12, 8))\n",
    "sns.heatmap(df_frames_per_value_unstacked, annot=True, cmap=cmap_below_30, fmt=\".2f\", cbar_kws={'label': 'Frames / Average Time'}, mask=mask_below_30, linewidths=.5)\n",
    "light_blue = \"#add8e6\"  # \n",
    "cmap_single_shade = mcolors.ListedColormap([light_blue])\n",
    "sns.heatmap(df_frames_per_value_unstacked, annot=True, cmap=cmap_single_shade, fmt=\".2f\", cbar=False, mask=mask_above_30, linewidths=.5)\n",
    "plt.title('Max FPS for uninterrupted animation for Different Combinations')\n",
    "plt.xlabel('Percentage (Additional Info)')\n",
    "plt.ylabel('Frames')\n",
    "plt.show()"
   ]
  },
  {
   "cell_type": "code",
   "execution_count": 36,
   "metadata": {},
   "outputs": [],
   "source": [
    "from collections import deque\n",
    "def get_folder_size_mb(dir_name):\n",
    "    total_size = 0\n",
    "    sizes = deque(maxlen=3)\n",
    "    for dirpath, dirnames, filenames in os.walk(dir_name):\n",
    "        for filename in filenames:\n",
    "            file_path = os.path.join(dirpath, filename)\n",
    "            # Skip if it is symbolic link\n",
    "            if not os.path.islink(file_path):\n",
    "                sizes.append(os.path.getsize(file_path))\n",
    "    # Convert size to MB\n",
    "    total_size_mb = sum(sizes) / (1024 * 1024)\n",
    "    return total_size_mb"
   ]
  },
  {
   "cell_type": "code",
   "execution_count": 37,
   "metadata": {},
   "outputs": [
    {
     "data": {
      "text/plain": [
       "{(60, 0.1): 2.110030174255371,\n",
       " (60, 0.5): 10.569404602050781,\n",
       " (60, 1): 21.157538414001465,\n",
       " (120, 0.1): 5.067878723144531,\n",
       " (120, 0.5): 26.168395042419434,\n",
       " (120, 1): 53.07246017456055,\n",
       " (240, 0.1): 11.448563575744629,\n",
       " (240, 0.5): 59.421494483947754,\n",
       " (240, 1): 121.17325210571289,\n",
       " (480, 0.1): 24.267576217651367,\n",
       " (480, 0.5): 126.2737226486206,\n",
       " (480, 1): 257.8971691131592,\n",
       " (960, 0.1): 51.535221099853516,\n",
       " (960, 0.5): 272.4908838272095,\n",
       " (960, 1): 554.2542095184326,\n",
       " (1920, 0.1): 111.01152992248535,\n",
       " (1920, 0.5): 589.5363988876343,\n",
       " (1920, 1): 1186.8970079421997}"
      ]
     },
     "execution_count": 37,
     "metadata": {},
     "output_type": "execute_result"
    }
   ],
   "source": [
    "memory_used = {}\n",
    "for combination in times.keys():\n",
    "    dir_name = f\"/home/ali/matrices/{combination[0]}_{combination[1]}\"\n",
    "    size = get_folder_size_mb(dir_name) \n",
    "    memory_used[combination] = size\n",
    "memory_used"
   ]
  },
  {
   "cell_type": "code",
   "execution_count": 38,
   "metadata": {},
   "outputs": [
    {
     "data": {
      "image/png": "[encoded data removed]",
      "text/plain": [
       "<Figure size 1200x800 with 2 Axes>"
      ]
     },
     "metadata": {},
     "output_type": "display_data"
    }
   ],
   "source": [
    "\n",
    "\n",
    "df_frames_per_value = pd.DataFrame.from_dict(memory_used, orient='index', columns=['%'])\n",
    "df_frames_per_value.index = pd.MultiIndex.from_tuples(df_frames_per_value.index, names=['Frames', 'Percentage'])\n",
    "\n",
    "df_frames_per_value_unstacked = df_frames_per_value.unstack(level=-1)\n",
    "df_frames_per_value_unstacked.columns = [f\"{col} ({number_of_objects[col]} boats)\" for col in df_frames_per_value_unstacked.columns.droplevel(0)]\n",
    "\n",
    "\n",
    "plt.figure(figsize=(12, 8))\n",
    "sns.heatmap(df_frames_per_value_unstacked, annot=True, cmap='YlGnBu', fmt=\".2f\", cbar_kws={'label': 'Frames / Average Time'})\n",
    "plt.title('Space used (MB) for Different Frame and Percentage Combinations')\n",
    "plt.xlabel('Percentage')\n",
    "plt.ylabel('Frames')\n",
    "plt.show()"
   ]
  },
  {
   "cell_type": "code",
   "execution_count": 20,
   "metadata": {},
   "outputs": [
    {
     "data": {
      "text/plain": [
       "{0.1: 582, 0.5: 2910, 1: 5821}"
      ]
     },
     "execution_count": 20,
     "metadata": {},
     "output_type": "execute_result"
    }
   ],
   "source": [
    "number_of_objects"
   ]
  },
  {
   "cell_type": "code",
   "execution_count": null,
   "metadata": {},
   "outputs": [],
   "source": []
  }
 ],
 "metadata": {
  "kernelspec": {
   "display_name": ".venv",
   "language": "python",
   "name": "python3"
  },
  "language_info": {
   "codemirror_mode": {
    "name": "ipython",
    "version": 3
   },
   "file_extension": ".py",
   "mimetype": "text/x-python",
   "name": "python",
   "nbconvert_exporter": "python",
   "pygments_lexer": "ipython3",
   "version": "3.12.3"
  }
 },
 "nbformat": 4,
 "nbformat_minor": 2
}
