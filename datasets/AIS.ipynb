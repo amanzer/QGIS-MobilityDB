{
 "cells": [
  {
   "cell_type": "markdown",
   "metadata": {
    "collapsed": false
   },
   "source": [
    "# AIS Example\n",
    "\n",
    "Example taken from https://pymeos.readthedocs.io/en/latest/src/examples/AIS.html"
   ]
  },
  {
   "cell_type": "code",
   "execution_count": null,
   "metadata": {},
   "outputs": [],
   "source": [
    "pip install tqdm\n",
    "pip install matplotlib\n",
    "pip install pandas\n",
    "pip install contextily"
   ]
  },
  {
   "cell_type": "code",
   "execution_count": null,
   "metadata": {
    "ExecuteTime": {
     "end_time": "2024-02-03T18:53:15.803897500Z",
     "start_time": "2024-02-03T18:53:14.766157300Z"
    },
    "collapsed": false
   },
   "outputs": [],
   "source": [
    "import matplotlib.pyplot as plt\n",
    "import pandas as pd\n",
    "from pymeos import *\n",
    "from tqdm.notebook import tqdm\n",
    "import contextily as cx\n",
    "\n",
    "tqdm.pandas()\n",
    "\n",
    "pymeos_initialize()"
   ]
  },
  {
   "cell_type": "markdown",
   "metadata": {
    "collapsed": false
   },
   "source": [
    "## Reading from File ([MEOS Example](https://libmeos.org/tutorialprograms/meos_read_ais/))\n",
    "In this section, AIS data is read from a CSV file. We then use the read information to recreate the trajectories of the ships.\n",
    "\n"
   ]
  },
  {
   "cell_type": "markdown",
   "metadata": {
    "collapsed": false
   },
   "source": [
    "First, let's read the CSV file using pandas. We will read only the columns we're interested in, and remove the observations that are either erroneous or not in Denmark."
   ]
  },
  {
   "cell_type": "code",
   "execution_count": null,
   "metadata": {
    "ExecuteTime": {
     "end_time": "2024-02-03T18:53:35.800662100Z",
     "start_time": "2024-02-03T18:53:17.511652900Z"
    },
    "collapsed": false
   },
   "outputs": [],
   "source": [
    "%%time\n",
    "#wget https://web.ais.dk/aisdata/aisdk-2023-06-01.zip\n",
    "ais = pd.read_csv(\n",
    "    \"aisdk-2023-06-01.zip\",\n",
    "    usecols=[\"# Timestamp\", \"MMSI\", \"Latitude\", \"Longitude\", \"SOG\"],\n",
    ")\n",
    "ais.columns = [\"t\", \"mmsi\", \"lat\", \"lon\", \"sog\"]\n",
    "ais = ais[ais[\"t\"] != 0]\n",
    "ais[\"t\"] = pd.to_datetime(ais[\"t\"], format='%d/%m/%Y %H:%M:%S')\n",
    "ais = ais[ais[\"mmsi\"] != 0]\n",
    "ais = ais.drop_duplicates([\"t\", \"mmsi\"])\n",
    "ais = ais[(ais[\"lat\"] >= 40.18) & (ais[\"lat\"] <= 84.17)]\n",
    "ais = ais[(ais[\"lon\"] >= -16.1) & (ais[\"lon\"] <= 32.88)]\n",
    "ais = ais[(ais[\"sog\"] >= 0) & (ais[\"sog\"] <= 1022)]\n",
    "ais.dropna()\n",
    "ais.head()"
   ]
  },
  {
   "cell_type": "markdown",
   "metadata": {
    "collapsed": false
   },
   "source": [
    "Now, we will create the PyMEOS object representing the position and the SOG."
   ]
  },
  {
   "cell_type": "code",
   "execution_count": null,
   "metadata": {
    "ExecuteTime": {
     "end_time": "2024-02-03T18:59:47.396491100Z",
     "start_time": "2024-02-03T18:53:35.791660600Z"
    },
    "collapsed": false
   },
   "outputs": [],
   "source": [
    "ais[\"instant\"] = ais.progress_apply(\n",
    "    lambda row: TGeomPointInst(point=(row[\"lon\"], row[\"lat\"]), timestamp=row[\"t\"]),\n",
    "    axis=1,\n",
    ")\n",
    "ais[\"sog\"] = ais.progress_apply(\n",
    "    lambda row: TFloatInst(value=row[\"sog\"], timestamp=row[\"t\"]), axis=1\n",
    ")"
   ]
  },
  {
   "cell_type": "code",
   "execution_count": null,
   "metadata": {
    "ExecuteTime": {
     "end_time": "2024-02-03T18:59:47.787830600Z",
     "start_time": "2024-02-03T18:59:47.395489200Z"
    },
    "collapsed": false
   },
   "outputs": [],
   "source": [
    "ais.drop([\"lat\", \"lon\"], axis=1, inplace=True)\n",
    "ais.head()"
   ]
  },
  {
   "cell_type": "markdown",
   "metadata": {
    "collapsed": false
   },
   "source": [
    "## Assembling Trips ([MEOS Example](https://libmeos.org/tutorialprograms/meos_assemble_ais/))\n",
    "\n",
    "Now, we will create the trajectory (TGeogPointSeq) and the SOG evolution (TFloatSeq) for every ship (identified by the mmsi) using the instants we have created."
   ]
  },
  {
   "cell_type": "code",
   "execution_count": null,
   "metadata": {
    "ExecuteTime": {
     "end_time": "2024-02-03T19:00:18.427946600Z",
     "start_time": "2024-02-03T18:59:47.786832800Z"
    },
    "collapsed": false
   },
   "outputs": [],
   "source": [
    "%%time\n",
    "trajectories = (\n",
    "    ais.groupby(\"mmsi\")\n",
    "    .aggregate(\n",
    "        {\n",
    "            \"instant\": lambda x: TGeomPointSeq.from_instants(x, upper_inc=True),\n",
    "            \"sog\": lambda x: TFloatSeq.from_instants(x, upper_inc=True),\n",
    "        }\n",
    "    )\n",
    "    .rename({\"instant\": \"trajectory\"}, axis=1)\n",
    ")\n",
    "trajectories[\"distance\"] = trajectories[\"trajectory\"].apply(lambda t: t.length())\n",
    "trajectories.head()"
   ]
  },
  {
   "cell_type": "markdown",
   "metadata": {
    "collapsed": false
   },
   "source": [
    "Here we can see that PyMEOS has been able to reduce the number of points stored (and thus memory used) without losing any information."
   ]
  },
  {
   "cell_type": "markdown",
   "metadata": {
    "collapsed": false
   },
   "source": [
    "We can visualize the trajectories and the SOG evolutions by plotting them. We will plot only 100 of the trajectories."
   ]
  },
  {
   "cell_type": "markdown",
   "metadata": {
    "collapsed": false
   },
   "source": [
    "## Storing in MobilityDB ([MEOS Example](https://libmeos.org/tutorialprograms/meos_store_ais/))\n",
    "\n",
    "Now we will store the temporal objects we have created in MobilityDB.\n",
    "To connect to MobilityDB (PostgreSQL), `psycopg` is used. However, `asyncpg` and `psycopg2` are also supported."
   ]
  },
  {
   "cell_type": "markdown",
   "metadata": {
    "collapsed": false
   },
   "source": [
    "First, set up the connection parameters. Change any of the following values according to your configuration. If you are using the docker image, you don't need to change anything (except maybe the port)."
   ]
  },
  {
   "cell_type": "code",
   "execution_count": null,
   "metadata": {
    "ExecuteTime": {
     "end_time": "2024-02-03T19:01:31.835316300Z",
     "start_time": "2024-02-03T19:01:31.716322500Z"
    },
    "collapsed": false
   },
   "outputs": [],
   "source": [
    "from pymeos.db.psycopg import MobilityDB\n",
    "\n",
    "host = \"localhost\"\n",
    "port = 5432\n",
    "db = \"mobilitydb\"\n",
    "user = \"\"\n",
    "password = \"\"\n",
    "\n",
    "connection = MobilityDB.connect(\n",
    "    host=host, port=port, dbname=db, user=user, password=password\n",
    ")\n",
    "cursor = connection.cursor()"
   ]
  },
  {
   "cell_type": "markdown",
   "metadata": {
    "collapsed": false
   },
   "source": [
    "Now, we will create the table where we will write our objects."
   ]
  },
  {
   "cell_type": "code",
   "execution_count": null,
   "metadata": {
    "ExecuteTime": {
     "end_time": "2024-02-03T19:01:33.640159400Z",
     "start_time": "2024-02-03T19:01:33.607158500Z"
    },
    "collapsed": false
   },
   "outputs": [],
   "source": [
    "cursor.execute(\"DROP TABLE IF EXISTS public.PyMEOS_demo;\")\n",
    "cursor.execute(\n",
    "    \"CREATE TABLE public.PyMEOS_demo\"\n",
    "    \"(MMSI integer, trajectory public.tgeompoint, SOG public.tfloat);\"\n",
    ")\n",
    "connection.commit()"
   ]
  },
  {
   "cell_type": "markdown",
   "metadata": {
    "collapsed": false
   },
   "source": [
    "Let's insert now the rows of the DataFrame into the MobilityDB table. First, we'll create a SQL INSERT query with all the values, and then we will execute it in MobilityDB."
   ]
  },
  {
   "cell_type": "code",
   "execution_count": null,
   "metadata": {
    "ExecuteTime": {
     "end_time": "2024-02-03T19:01:42.605529200Z",
     "start_time": "2024-02-03T19:01:35.004396600Z"
    },
    "collapsed": false
   },
   "outputs": [],
   "source": [
    "query = \"INSERT INTO public.PyMEOS_demo(MMSI, trajectory, SOG) VALUES\"\n",
    "for mmsi, row in trajectories.iterrows():\n",
    "    query += f\"\\n({mmsi}, '{row.trajectory}', '{row.sog}'),\"\n",
    "query = query[:-1] + \";\""
   ]
  },
  {
   "cell_type": "code",
   "execution_count": null,
   "metadata": {
    "ExecuteTime": {
     "end_time": "2024-02-03T19:02:31.561016100Z",
     "start_time": "2024-02-03T19:01:42.608530900Z"
    },
    "collapsed": false
   },
   "outputs": [],
   "source": [
    "%%time\n",
    "cursor.execute(query)\n",
    "connection.commit()"
   ]
  },
  {
   "cell_type": "markdown",
   "metadata": {
    "collapsed": false
   },
   "source": [
    "Let's check how many rows we just added"
   ]
  },
  {
   "cell_type": "code",
   "execution_count": null,
   "metadata": {
    "ExecuteTime": {
     "end_time": "2024-02-03T19:02:31.570017700Z",
     "start_time": "2024-02-03T19:02:31.555016400Z"
    },
    "collapsed": false
   },
   "outputs": [],
   "source": [
    "cursor.execute(\"SELECT COUNT(*) FROM public.PyMEOS_demo;\")\n",
    "cursor.fetchone()[0]"
   ]
  },
  {
   "cell_type": "markdown",
   "metadata": {
    "collapsed": false
   },
   "source": [
    "Now, we will read one of the records that we just wrote"
   ]
  },
  {
   "cell_type": "code",
   "execution_count": null,
   "metadata": {
    "ExecuteTime": {
     "end_time": "2024-02-03T19:02:31.613014400Z",
     "start_time": "2024-02-03T19:02:31.567018600Z"
    },
    "collapsed": false
   },
   "outputs": [],
   "source": [
    "cursor.execute(\"SELECT * FROM public.PyMEOS_demo WHERE MMSI = 308654000 ;\")\n",
    "mmsi, trajectory, sog = cursor.fetchone()"
   ]
  },
  {
   "cell_type": "code",
   "execution_count": null,
   "metadata": {},
   "outputs": [],
   "source": [
    "trajectory"
   ]
  },
  {
   "cell_type": "markdown",
   "metadata": {
    "collapsed": false
   },
   "source": [
    "Finally, let's close the connection and wrap everything up"
   ]
  },
  {
   "cell_type": "code",
   "execution_count": null,
   "metadata": {
    "ExecuteTime": {
     "start_time": "2024-02-03T19:02:31.585019Z"
    },
    "collapsed": false
   },
   "outputs": [],
   "source": [
    "connection.commit()\n",
    "cursor.close()\n",
    "pymeos_finalize()"
   ]
  },
  {
   "cell_type": "code",
   "execution_count": null,
   "metadata": {},
   "outputs": [],
   "source": []
  }
 ],
 "metadata": {
  "kernelspec": {
   "display_name": "Python 3",
   "language": "python",
   "name": "python3"
  },
  "language_info": {
   "codemirror_mode": {
    "name": "ipython",
    "version": 3
   },
   "file_extension": ".py",
   "mimetype": "text/x-python",
   "name": "python",
   "nbconvert_exporter": "python",
   "pygments_lexer": "ipython3",
   "version": "3.11.6"
  }
 },
 "nbformat": 4,
 "nbformat_minor": 0
}
