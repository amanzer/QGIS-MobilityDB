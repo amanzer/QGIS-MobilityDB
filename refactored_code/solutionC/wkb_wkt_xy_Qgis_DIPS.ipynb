{
 "cells": [
  {
   "cell_type": "markdown",
   "metadata": {},
   "source": [
    "# Script to benchmark WKT vs WKT vs PointXY\n",
    "\n",
    "\n",
    "fetch timedelta tgeompoints, "
   ]
  },
  {
   "cell_type": "markdown",
   "metadata": {},
   "source": [
    "# WKB\n",
    "\n",
    "results Desktop:\n",
    "\n",
    "1. MMSI list fetched in 0.03388237953186035 seconds\n",
    "2. min/max ts fetched in 0.5566732883453369 seconds\n",
    "3. Time delta Tgeompoints fetched in 0.5069243907928467 seconds\n",
    "4. Vector Layer created in 0.00994873046875 seconds\n",
    "5. Features created in 0.043292999267578125 seconds\n",
    "6. Average FPS : 15.061229102429822\n",
    "7. On_new_frame average time : 0.06774496078491211\n",
    "8. Value_at_timestamp average time : 0.06359884262084961\n",
    "9. Updating geometries average time : 0.0041461181640625"
   ]
  },
  {
   "cell_type": "code",
   "execution_count": null,
   "metadata": {},
   "outputs": [],
   "source": [
    "from enum import Enum\n",
    "from datetime import timedelta\n",
    "from pymeos.db.psycopg import MobilityDB\n",
    "from pymeos import *\n",
    "from shapely.geometry import Point\n",
    "import time\n",
    "\n",
    "\n",
    "class Time_granularity(Enum):\n",
    "    # MILLISECOND = {\"timedelta\" : timedelta(milliseconds=1), \"qgs_unit\" : QgsUnitTypes.TemporalUnit.Milliseconds, \"name\" : \"MILLISECOND\"}\n",
    "    SECOND = {\"timedelta\" : timedelta(seconds=1), \"name\" : \"SECOND\", \"steps\" : 1}\n",
    "    MINUTE = {\"timedelta\" : timedelta(minutes=1), \"name\" : \"MINUTE\", \"steps\" : 1}\n",
    "    # HOUR = {\"timedelta\" : timedelta(hours=1), \"qgs_unit\" : QgsUnitTypes.TemporalUnit.Hours, \"name\" : \"HOUR\"}\n",
    "\n",
    "    @classmethod\n",
    "    def set_time_step(cls, steps):\n",
    "        Time_granularity.SECOND.value[\"timedelta\"] = timedelta(seconds=steps)\n",
    "        Time_granularity.SECOND.value[\"steps\"] = steps\n",
    "        Time_granularity.MINUTE.value[\"timedelta\"] = timedelta(minutes=steps)\n",
    "        Time_granularity.MINUTE.value[\"steps\"] = steps\n",
    "        return cls\n",
    "    \n",
    "SRID = 4326\n",
    "DATABASE_NAME = \"mobilitydb\"\n",
    "TPOINT_TABLE_NAME = \"PyMEOS_demo\"\n",
    "TPOINT_ID_COLUMN_NAME = \"MMSI\"\n",
    "TPOINT_COLUMN_NAME = \"trajectory\"\n",
    "GRANULARITY = Time_granularity.set_time_step(1).MINUTE\n",
    "\n",
    "connection_parameters = {\n",
    "                'host': \"localhost\",\n",
    "                'port': 5432,\n",
    "                'dbname': DATABASE_NAME,\n",
    "                'user': \"postgres\",\n",
    "                'password': \"postgres\",\n",
    "                'table_name': TPOINT_TABLE_NAME,\n",
    "                'id_column_name': TPOINT_ID_COLUMN_NAME,\n",
    "                'tpoint_column_name': TPOINT_COLUMN_NAME,\n",
    "            }\n",
    "\n",
    "\n",
    "######  MobilityDB connection ######\n",
    "now = time.time()\n",
    "pymeos_initialize()\n",
    "\n",
    "connection_params = {\n",
    "            \"host\": connection_parameters[\"host\"],\n",
    "            \"port\": connection_parameters[\"port\"],\n",
    "            \"dbname\": connection_parameters[\"dbname\"],\n",
    "            \"user\": connection_parameters[\"user\"],\n",
    "            \"password\": connection_parameters[\"password\"],\n",
    "            }\n",
    "\n",
    "\n",
    "table_name = connection_parameters[\"table_name\"]\n",
    "id_column_name = connection_parameters[\"id_column_name\"]\n",
    "tpoint_column_name = connection_parameters[\"tpoint_column_name\"]     \n",
    "connection = MobilityDB.connect(**connection_params)\n",
    "\n",
    "######  Fetching MMSI list  ######    \n",
    "cursor = connection.cursor()\n",
    "query = f\"\"\"\n",
    "        SELECT {id_column_name} FROM public.{table_name} ;\n",
    "        \"\"\"\n",
    "\n",
    "cursor.execute(query)\n",
    "                \n",
    "ids_list = cursor.fetchall()\n",
    "now_2 = time.time()\n",
    "print(f\"1. MMSI list fetched in {now_2 - now} seconds\")\n",
    "\n",
    "objects_count = len(ids_list)\n",
    "x_min,y_min, x_max, y_max = [-180, -90, 180, 90]\n",
    "ids_list = [ f\"'{id[0]}'\"  for id in ids_list]\n",
    "objects_id_str = ', '.join(map(str, ids_list))\n",
    "\n",
    "######  Fetching min/max timestamp of dataset ######\n",
    "\n",
    "cursor.execute(f\"SELECT MIN(startTimestamp({tpoint_column_name})) AS earliest_timestamp FROM public.{table_name};\")\n",
    "min_ts =cursor.fetchone()[0]\n",
    "\n",
    "cursor.execute(f\"SELECT MAX(endTimestamp({tpoint_column_name})) AS latest_timestamp FROM public.{table_name};\")\n",
    "max_ts  = cursor.fetchone()[0]\n",
    "\n",
    "\n",
    "end_ts = min_ts + (GRANULARITY.value[\"timedelta\"] * 25)\n",
    "\n",
    "now_3 = time.time()\n",
    "print(f\"2. min/max ts fetched in {now_3 - now_2} seconds\")\n",
    "\n",
    "######  Fetching Tgeompoints for subset 0 - 25 ######\n",
    "query = f\"\"\"WITH trajectories as (\n",
    "        SELECT \n",
    "            atStbox(\n",
    "                a.{tpoint_column_name}::tgeompoint,\n",
    "                stbox(\n",
    "                    ST_MakeEnvelope(\n",
    "                        {x_min}, {y_min}, -- xmin, ymin\n",
    "                        {x_max}, {y_max}, -- xmax, ymax\n",
    "                        {SRID} -- SRID\n",
    "                    ),\n",
    "                    tstzspan('[{min_ts}, {end_ts}]')\n",
    "                )\n",
    "            ) as trajectory\n",
    "        FROM public.{table_name} as a \n",
    "        WHERE a.{id_column_name} in ({objects_id_str}))\n",
    "    \n",
    "        SELECT\n",
    "                rs.trajectory\n",
    "        FROM trajectories as rs ;\"\"\"\n",
    "\n",
    "cursor.execute(query)\n",
    "# print(f\"query : {query}\\n\")\n",
    "rows = cursor.fetchall()\n",
    "now_4 = time.time()\n",
    "print(f\"3. Time delta Tgeompoints fetched in {now_4 - now_3} seconds\")\n",
    "\n",
    "######  Creating Vector Layer ######\n",
    "\n",
    "vlayer = QgsVectorLayer(\"Point\", \"Benchmarking\", \"memory\")\n",
    "pr = vlayer.dataProvider()\n",
    "pr.addAttributes([ QgsField(\"id\", QVariant.String) ,QgsField(\"start_time\", QVariant.DateTime), QgsField(\"end_time\", QVariant.DateTime)])\n",
    "vlayer.updateFields()\n",
    "tp = vlayer.temporalProperties()\n",
    "tp.setIsActive(True)\n",
    "tp.setMode(qgis.core.QgsVectorLayerTemporalProperties.ModeFeatureDateTimeStartAndEndFromFields)\n",
    "tp.setStartField(\"start_time\")\n",
    "tp.setEndField(\"end_time\")\n",
    "QgsProject.instance().addMapLayer(vlayer)\n",
    "\n",
    "iface.mapCanvas().setDestinationCrs(QgsCoordinateReferenceSystem(f\"EPSG:{SRID}\"))\n",
    "now_5 = time.time() \n",
    "print(f\"4. Vector Layer created in {now_5 - now_4} seconds\")\n",
    "\n",
    "######  Creating QgisFeatures  ######    \n",
    "\n",
    "\n",
    "features_list =[]\n",
    "vfields = vlayer.fields()\n",
    "start_datetime_obj = QDateTime(min_ts)\n",
    "end_datetime_obj = QDateTime(max_ts)\n",
    "\n",
    "\n",
    "geometries = {}\n",
    "for i in range(1, objects_count+1):\n",
    "    feat = QgsFeature(vfields)\n",
    "    feat.setAttributes([ids_list[i-1],start_datetime_obj, end_datetime_obj])\n",
    "    geom = QgsGeometry()\n",
    "    geometries[i] = geom\n",
    "    feat.setGeometry(geom)\n",
    "    features_list.append(feat)\n",
    "\n",
    "pr.addFeatures(features_list)\n",
    "now_6 = time.time()\n",
    "print(f\"5. Features created in {now_6 - now_5} seconds\")\n",
    "\n",
    "######  On_new_frame  performance ######\n",
    "\n",
    "on_new_frames_records = []\n",
    "value_at_timestamp_records = []\n",
    "updating_geometries_records = []\n",
    "\n",
    "empty_point_wkb = Point().wkb\n",
    "\n",
    "for frame in range(25):\n",
    "    now_7 = time.time()\n",
    "    timestamp = min_ts + GRANULARITY.value[\"timedelta\"]  * frame\n",
    "    \n",
    "    for i in range(1, objects_count+1):\n",
    "        try:\n",
    "            position = rows[i-1][0].value_at_timestamp(timestamp)\n",
    "            geometries[i].fromWkb(position.wkb) \n",
    "        except:\n",
    "            geometries[i].fromWkb(empty_point_wkb)\n",
    "\n",
    "    now_8 = time.time()\n",
    "    value_at_timestamp_records.append(now_8 - now_7)\n",
    "\n",
    "    vlayer.startEditing()\n",
    "    pr.changeGeometryValues(geometries) # Updating geometries for all features\n",
    "    vlayer.commitChanges()\n",
    "    iface.vectorLayerTools().stopEditing(vlayer)\n",
    "    now_9 = time.time()\n",
    "    updating_geometries_records.append(now_9 - now_8)\n",
    "    on_new_frames_records.append(now_9 - now_7)\n",
    "\n",
    "\n",
    "fps_record = [1/frame_time for frame_time in on_new_frames_records]\n",
    "\n",
    "average_fps = sum(fps_record)/len(fps_record)\n",
    "\n",
    "print(f\"6. Average FPS : {average_fps}\")\n",
    "print(f\"7. On_new_frame average time : {sum(on_new_frames_records) / len(on_new_frames_records)}\")\n",
    "print(f\"8. Value_at_timestamp average time : {sum(value_at_timestamp_records) / len(value_at_timestamp_records)}\")\n",
    "print(f\"9. Updating geometries average time : {sum(updating_geometries_records) / len(updating_geometries_records)}\")\n",
    "\n"
   ]
  },
  {
   "cell_type": "markdown",
   "metadata": {},
   "source": [
    "# WKT\n",
    "\n",
    "\n",
    "results Desktop:\n",
    "1. MMSI list fetched in 0.03459334373474121 seconds\n",
    "2. min/max ts fetched in 0.5492024421691895 seconds\n",
    "3. Time delta Tgeompoints fetched in 0.49392223358154297 seconds\n",
    "4. Vector Layer created in 0.01004338264465332 seconds\n",
    "5. Features created in 0.04014229774475098 seconds\n",
    "6. Average FPS : 12.501380429277749\n",
    "7. On_new_frame average time : 0.08231148719787598\n",
    "8. Value_at_timestamp average time : 0.07838180541992187\n",
    "9. Updating geometries average time : 0.003929681777954101"
   ]
  },
  {
   "cell_type": "code",
   "execution_count": null,
   "metadata": {},
   "outputs": [],
   "source": [
    "from enum import Enum\n",
    "from datetime import timedelta\n",
    "from pymeos.db.psycopg import MobilityDB\n",
    "from pymeos import *\n",
    "from shapely.geometry import Point\n",
    "import time\n",
    "\n",
    "\n",
    "class Time_granularity(Enum):\n",
    "    # MILLISECOND = {\"timedelta\" : timedelta(milliseconds=1), \"qgs_unit\" : QgsUnitTypes.TemporalUnit.Milliseconds, \"name\" : \"MILLISECOND\"}\n",
    "    SECOND = {\"timedelta\" : timedelta(seconds=1), \"name\" : \"SECOND\", \"steps\" : 1}\n",
    "    MINUTE = {\"timedelta\" : timedelta(minutes=1), \"name\" : \"MINUTE\", \"steps\" : 1}\n",
    "    # HOUR = {\"timedelta\" : timedelta(hours=1), \"qgs_unit\" : QgsUnitTypes.TemporalUnit.Hours, \"name\" : \"HOUR\"}\n",
    "\n",
    "    @classmethod\n",
    "    def set_time_step(cls, steps):\n",
    "        Time_granularity.SECOND.value[\"timedelta\"] = timedelta(seconds=steps)\n",
    "        Time_granularity.SECOND.value[\"steps\"] = steps\n",
    "        Time_granularity.MINUTE.value[\"timedelta\"] = timedelta(minutes=steps)\n",
    "        Time_granularity.MINUTE.value[\"steps\"] = steps\n",
    "        return cls\n",
    "    \n",
    "SRID = 4326\n",
    "DATABASE_NAME = \"mobilitydb\"\n",
    "TPOINT_TABLE_NAME = \"PyMEOS_demo\"\n",
    "TPOINT_ID_COLUMN_NAME = \"MMSI\"\n",
    "TPOINT_COLUMN_NAME = \"trajectory\"\n",
    "GRANULARITY = Time_granularity.set_time_step(1).MINUTE\n",
    "\n",
    "connection_parameters = {\n",
    "                'host': \"localhost\",\n",
    "                'port': 5432,\n",
    "                'dbname': DATABASE_NAME,\n",
    "                'user': \"postgres\",\n",
    "                'password': \"postgres\",\n",
    "                'table_name': TPOINT_TABLE_NAME,\n",
    "                'id_column_name': TPOINT_ID_COLUMN_NAME,\n",
    "                'tpoint_column_name': TPOINT_COLUMN_NAME,\n",
    "            }\n",
    "\n",
    "\n",
    "\n",
    "######  MobilityDB connection ######\n",
    "now = time.time()\n",
    "pymeos_initialize()\n",
    "\n",
    "connection_params = {\n",
    "            \"host\": connection_parameters[\"host\"],\n",
    "            \"port\": connection_parameters[\"port\"],\n",
    "            \"dbname\": connection_parameters[\"dbname\"],\n",
    "            \"user\": connection_parameters[\"user\"],\n",
    "            \"password\": connection_parameters[\"password\"],\n",
    "            }\n",
    "\n",
    "\n",
    "table_name = connection_parameters[\"table_name\"]\n",
    "id_column_name = connection_parameters[\"id_column_name\"]\n",
    "tpoint_column_name = connection_parameters[\"tpoint_column_name\"]     \n",
    "connection = MobilityDB.connect(**connection_params)\n",
    "\n",
    "######  Fetching MMSI list  ######    \n",
    "cursor = connection.cursor()\n",
    "query = f\"\"\"\n",
    "        SELECT {id_column_name} FROM public.{table_name} ;\n",
    "        \"\"\"\n",
    "\n",
    "cursor.execute(query)\n",
    "                \n",
    "ids_list = cursor.fetchall()\n",
    "now_2 = time.time()\n",
    "print(f\"1. MMSI list fetched in {now_2 - now} seconds\")\n",
    "\n",
    "objects_count = len(ids_list)\n",
    "x_min,y_min, x_max, y_max = [-180, -90, 180, 90]\n",
    "ids_list = [ f\"'{id[0]}'\"  for id in ids_list]\n",
    "objects_id_str = ', '.join(map(str, ids_list))\n",
    "\n",
    "######  Fetching min/max timestamp of dataset ######\n",
    "\n",
    "cursor.execute(f\"SELECT MIN(startTimestamp({tpoint_column_name})) AS earliest_timestamp FROM public.{table_name};\")\n",
    "min_ts =cursor.fetchone()[0]\n",
    "\n",
    "cursor.execute(f\"SELECT MAX(endTimestamp({tpoint_column_name})) AS latest_timestamp FROM public.{table_name};\")\n",
    "max_ts  = cursor.fetchone()[0]\n",
    "\n",
    "\n",
    "end_ts = min_ts + (GRANULARITY.value[\"timedelta\"] * 25)\n",
    "\n",
    "now_3 = time.time()\n",
    "print(f\"2. min/max ts fetched in {now_3 - now_2} seconds\")\n",
    "\n",
    "######  Fetching Tgeompoints for subset 0 - 25 ######\n",
    "query = f\"\"\"WITH trajectories as (\n",
    "        SELECT \n",
    "            atStbox(\n",
    "                a.{tpoint_column_name}::tgeompoint,\n",
    "                stbox(\n",
    "                    ST_MakeEnvelope(\n",
    "                        {x_min}, {y_min}, -- xmin, ymin\n",
    "                        {x_max}, {y_max}, -- xmax, ymax\n",
    "                        {SRID} -- SRID\n",
    "                    ),\n",
    "                    tstzspan('[{min_ts}, {end_ts}]')\n",
    "                )\n",
    "            ) as trajectory\n",
    "        FROM public.{table_name} as a \n",
    "        WHERE a.{id_column_name} in ({objects_id_str}))\n",
    "    \n",
    "        SELECT\n",
    "                rs.trajectory\n",
    "        FROM trajectories as rs ;\"\"\"\n",
    "\n",
    "cursor.execute(query)\n",
    "# print(f\"query : {query}\\n\")\n",
    "rows = cursor.fetchall()\n",
    "now_4 = time.time()\n",
    "print(f\"3. Time delta Tgeompoints fetched in {now_4 - now_3} seconds\")\n",
    "\n",
    "######  Creating Vector Layer ######\n",
    "\n",
    "vlayer = QgsVectorLayer(\"Point\", \"Benchmarking\", \"memory\")\n",
    "pr = vlayer.dataProvider()\n",
    "pr.addAttributes([ QgsField(\"id\", QVariant.String) ,QgsField(\"start_time\", QVariant.DateTime), QgsField(\"end_time\", QVariant.DateTime)])\n",
    "vlayer.updateFields()\n",
    "tp = vlayer.temporalProperties()\n",
    "tp.setIsActive(True)\n",
    "tp.setMode(qgis.core.QgsVectorLayerTemporalProperties.ModeFeatureDateTimeStartAndEndFromFields)\n",
    "tp.setStartField(\"start_time\")\n",
    "tp.setEndField(\"end_time\")\n",
    "QgsProject.instance().addMapLayer(vlayer)\n",
    "\n",
    "iface.mapCanvas().setDestinationCrs(QgsCoordinateReferenceSystem(f\"EPSG:{SRID}\"))\n",
    "now_5 = time.time() \n",
    "print(f\"4. Vector Layer created in {now_5 - now_4} seconds\")\n",
    "\n",
    "######  Creating QgisFeatures  ######    \n",
    "\n",
    "\n",
    "features_list =[]\n",
    "vfields = vlayer.fields()\n",
    "start_datetime_obj = QDateTime(min_ts)\n",
    "end_datetime_obj = QDateTime(max_ts)\n",
    "\n",
    "\n",
    "geometries = {}\n",
    "for i in range(1, objects_count+1):\n",
    "    feat = QgsFeature(vfields)\n",
    "    feat.setAttributes([ids_list[i-1],start_datetime_obj, end_datetime_obj])\n",
    "    geom = QgsGeometry()\n",
    "    geometries[i] = geom\n",
    "    feat.setGeometry(geom)\n",
    "    features_list.append(feat)\n",
    "\n",
    "pr.addFeatures(features_list)\n",
    "now_6 = time.time()\n",
    "print(f\"5. Features created in {now_6 - now_5} seconds\")\n",
    "\n",
    "######  On_new_frame  performance ######\n",
    "\n",
    "on_new_frames_records = []\n",
    "value_at_timestamp_records = []\n",
    "updating_geometries_records = []\n",
    "\n",
    "empty_point_wkt = Point().wkt\n",
    "\n",
    "for frame in range(25):\n",
    "    now_7 = time.time()\n",
    "    timestamp = min_ts + GRANULARITY.value[\"timedelta\"]  * frame\n",
    "    \n",
    "    for i in range(1, objects_count+1):\n",
    "        try:\n",
    "            position = rows[i-1][0].value_at_timestamp(timestamp)\n",
    "            geometries[i] = QgsGeometry().fromWkt(position.wkt) \n",
    "        except:\n",
    "            geometries[i]= QgsGeometry().fromWkt(empty_point_wkt)\n",
    "\n",
    "    now_8 = time.time()\n",
    "    value_at_timestamp_records.append(now_8 - now_7)\n",
    "\n",
    "    vlayer.startEditing()\n",
    "    pr.changeGeometryValues(geometries) # Updating geometries for all features\n",
    "    vlayer.commitChanges()\n",
    "    iface.vectorLayerTools().stopEditing(vlayer)\n",
    "    now_9 = time.time()\n",
    "    updating_geometries_records.append(now_9 - now_8)\n",
    "    on_new_frames_records.append(now_9 - now_7)\n",
    "\n",
    "\n",
    "fps_record = [1/frame_time for frame_time in on_new_frames_records]\n",
    "\n",
    "average_fps = sum(fps_record)/len(fps_record)\n",
    "\n",
    "print(f\"6. Average FPS : {average_fps}\")\n",
    "print(f\"7. On_new_frame average time : {sum(on_new_frames_records) / len(on_new_frames_records)}\")\n",
    "print(f\"8. Value_at_timestamp average time : {sum(value_at_timestamp_records) / len(value_at_timestamp_records)}\")\n",
    "print(f\"9. Updating geometries average time : {sum(updating_geometries_records) / len(updating_geometries_records)}\")\n",
    "\n"
   ]
  },
  {
   "cell_type": "markdown",
   "metadata": {},
   "source": [
    "# Point XY\n",
    "\n",
    "results Desktop:\n",
    "\n",
    "1. MMSI list fetched in 0.033403635025024414 seconds\n",
    "2. min/max ts fetched in 0.5576505661010742 seconds\n",
    "3. Time delta Tgeompoints fetched in 0.5065641403198242 seconds\n",
    "4. Vector Layer created in 0.012407302856445312 seconds\n",
    "5. Features created in 0.043254852294921875 seconds\n",
    "6. Average FPS : 14.252336723148323\n",
    "7. On_new_frame average time : 0.07167965888977051\n",
    "8. Value_at_timestamp average time : 0.06773480415344238\n",
    "9. Updating geometries average time : 0.003944854736328125\n"
   ]
  },
  {
   "cell_type": "code",
   "execution_count": null,
   "metadata": {},
   "outputs": [],
   "source": [
    "from enum import Enum\n",
    "from datetime import timedelta\n",
    "from pymeos.db.psycopg import MobilityDB\n",
    "from pymeos import *\n",
    "from shapely.geometry import Point\n",
    "import time\n",
    "\n",
    "\n",
    "class Time_granularity(Enum):\n",
    "    # MILLISECOND = {\"timedelta\" : timedelta(milliseconds=1), \"qgs_unit\" : QgsUnitTypes.TemporalUnit.Milliseconds, \"name\" : \"MILLISECOND\"}\n",
    "    SECOND = {\"timedelta\" : timedelta(seconds=1), \"name\" : \"SECOND\", \"steps\" : 1}\n",
    "    MINUTE = {\"timedelta\" : timedelta(minutes=1), \"name\" : \"MINUTE\", \"steps\" : 1}\n",
    "    # HOUR = {\"timedelta\" : timedelta(hours=1), \"qgs_unit\" : QgsUnitTypes.TemporalUnit.Hours, \"name\" : \"HOUR\"}\n",
    "\n",
    "    @classmethod\n",
    "    def set_time_step(cls, steps):\n",
    "        Time_granularity.SECOND.value[\"timedelta\"] = timedelta(seconds=steps)\n",
    "        Time_granularity.SECOND.value[\"steps\"] = steps\n",
    "        Time_granularity.MINUTE.value[\"timedelta\"] = timedelta(minutes=steps)\n",
    "        Time_granularity.MINUTE.value[\"steps\"] = steps\n",
    "        return cls\n",
    "    \n",
    "SRID = 4326\n",
    "DATABASE_NAME = \"mobilitydb\"\n",
    "TPOINT_TABLE_NAME = \"PyMEOS_demo\"\n",
    "TPOINT_ID_COLUMN_NAME = \"MMSI\"\n",
    "TPOINT_COLUMN_NAME = \"trajectory\"\n",
    "GRANULARITY = Time_granularity.set_time_step(1).MINUTE\n",
    "\n",
    "connection_parameters = {\n",
    "                'host': \"localhost\",\n",
    "                'port': 5432,\n",
    "                'dbname': DATABASE_NAME,\n",
    "                'user': \"postgres\",\n",
    "                'password': \"postgres\",\n",
    "                'table_name': TPOINT_TABLE_NAME,\n",
    "                'id_column_name': TPOINT_ID_COLUMN_NAME,\n",
    "                'tpoint_column_name': TPOINT_COLUMN_NAME,\n",
    "            }\n",
    "\n",
    "\n",
    "######  MobilityDB connection ######\n",
    "now = time.time()\n",
    "pymeos_initialize()\n",
    "\n",
    "connection_params = {\n",
    "            \"host\": connection_parameters[\"host\"],\n",
    "            \"port\": connection_parameters[\"port\"],\n",
    "            \"dbname\": connection_parameters[\"dbname\"],\n",
    "            \"user\": connection_parameters[\"user\"],\n",
    "            \"password\": connection_parameters[\"password\"],\n",
    "            }\n",
    "\n",
    "\n",
    "table_name = connection_parameters[\"table_name\"]\n",
    "id_column_name = connection_parameters[\"id_column_name\"]\n",
    "tpoint_column_name = connection_parameters[\"tpoint_column_name\"]     \n",
    "connection = MobilityDB.connect(**connection_params)\n",
    "\n",
    "######  Fetching MMSI list  ######    \n",
    "cursor = connection.cursor()\n",
    "query = f\"\"\"\n",
    "        SELECT {id_column_name} FROM public.{table_name} ;\n",
    "        \"\"\"\n",
    "\n",
    "cursor.execute(query)\n",
    "                \n",
    "ids_list = cursor.fetchall()\n",
    "now_2 = time.time()\n",
    "print(f\"1. MMSI list fetched in {now_2 - now} seconds\")\n",
    "\n",
    "objects_count = len(ids_list)\n",
    "x_min,y_min, x_max, y_max = [-180, -90, 180, 90]\n",
    "ids_list = [ f\"'{id[0]}'\"  for id in ids_list]\n",
    "objects_id_str = ', '.join(map(str, ids_list))\n",
    "\n",
    "######  Fetching min/max timestamp of dataset ######\n",
    "\n",
    "cursor.execute(f\"SELECT MIN(startTimestamp({tpoint_column_name})) AS earliest_timestamp FROM public.{table_name};\")\n",
    "min_ts =cursor.fetchone()[0]\n",
    "\n",
    "cursor.execute(f\"SELECT MAX(endTimestamp({tpoint_column_name})) AS latest_timestamp FROM public.{table_name};\")\n",
    "max_ts  = cursor.fetchone()[0]\n",
    "\n",
    "\n",
    "end_ts = min_ts + (GRANULARITY.value[\"timedelta\"] * 25)\n",
    "\n",
    "now_3 = time.time()\n",
    "print(f\"2. min/max ts fetched in {now_3 - now_2} seconds\")\n",
    "\n",
    "######  Fetching Tgeompoints for subset 0 - 25 ######\n",
    "query = f\"\"\"WITH trajectories as (\n",
    "        SELECT \n",
    "            atStbox(\n",
    "                a.{tpoint_column_name}::tgeompoint,\n",
    "                stbox(\n",
    "                    ST_MakeEnvelope(\n",
    "                        {x_min}, {y_min}, -- xmin, ymin\n",
    "                        {x_max}, {y_max}, -- xmax, ymax\n",
    "                        {SRID} -- SRID\n",
    "                    ),\n",
    "                    tstzspan('[{min_ts}, {end_ts}]')\n",
    "                )\n",
    "            ) as trajectory\n",
    "        FROM public.{table_name} as a \n",
    "        WHERE a.{id_column_name} in ({objects_id_str}))\n",
    "    \n",
    "        SELECT\n",
    "                rs.trajectory\n",
    "        FROM trajectories as rs ;\"\"\"\n",
    "\n",
    "cursor.execute(query)\n",
    "# print(f\"query : {query}\\n\")\n",
    "rows = cursor.fetchall()\n",
    "now_4 = time.time()\n",
    "print(f\"3. Time delta Tgeompoints fetched in {now_4 - now_3} seconds\")\n",
    "\n",
    "######  Creating Vector Layer ######\n",
    "\n",
    "vlayer = QgsVectorLayer(\"Point\", \"Benchmarking\", \"memory\")\n",
    "pr = vlayer.dataProvider()\n",
    "pr.addAttributes([ QgsField(\"id\", QVariant.String) ,QgsField(\"start_time\", QVariant.DateTime), QgsField(\"end_time\", QVariant.DateTime)])\n",
    "vlayer.updateFields()\n",
    "tp = vlayer.temporalProperties()\n",
    "tp.setIsActive(True)\n",
    "tp.setMode(qgis.core.QgsVectorLayerTemporalProperties.ModeFeatureDateTimeStartAndEndFromFields)\n",
    "tp.setStartField(\"start_time\")\n",
    "tp.setEndField(\"end_time\")\n",
    "QgsProject.instance().addMapLayer(vlayer)\n",
    "\n",
    "iface.mapCanvas().setDestinationCrs(QgsCoordinateReferenceSystem(f\"EPSG:{SRID}\"))\n",
    "now_5 = time.time() \n",
    "print(f\"4. Vector Layer created in {now_5 - now_4} seconds\")\n",
    "\n",
    "######  Creating QgisFeatures  ######    \n",
    "\n",
    "\n",
    "features_list =[]\n",
    "vfields = vlayer.fields()\n",
    "start_datetime_obj = QDateTime(min_ts)\n",
    "end_datetime_obj = QDateTime(max_ts)\n",
    "\n",
    "\n",
    "geometries = {}\n",
    "for i in range(1, objects_count+1):\n",
    "    feat = QgsFeature(vfields)\n",
    "    feat.setAttributes([ids_list[i-1],start_datetime_obj, end_datetime_obj])\n",
    "    geom = QgsGeometry()\n",
    "    geometries[i] = geom\n",
    "    feat.setGeometry(geom)\n",
    "    features_list.append(feat)\n",
    "\n",
    "pr.addFeatures(features_list)\n",
    "now_6 = time.time()\n",
    "print(f\"5. Features created in {now_6 - now_5} seconds\")\n",
    "\n",
    "######  On_new_frame  performance ######\n",
    "\n",
    "on_new_frames_records = []\n",
    "value_at_timestamp_records = []\n",
    "updating_geometries_records = []\n",
    "\n",
    "# empty_point_wkt = Point().wkt\n",
    "\n",
    "for frame in range(25):\n",
    "    now_7 = time.time()\n",
    "    timestamp = min_ts + GRANULARITY.value[\"timedelta\"]  * frame\n",
    "    \n",
    "    for i in range(1, objects_count+1):\n",
    "        try:\n",
    "            position = rows[i-1][0].value_at_timestamp(timestamp)\n",
    "            x, y = position.x, position.y\n",
    "            geometries[i] = QgsGeometry.fromPointXY(QgsPointXY(x,y))\n",
    "        except:\n",
    "            geometries[i] = QgsGeometry()\n",
    "\n",
    "    now_8 = time.time()\n",
    "    value_at_timestamp_records.append(now_8 - now_7)\n",
    "\n",
    "    vlayer.startEditing()\n",
    "    pr.changeGeometryValues(geometries) # Updating geometries for all features\n",
    "    vlayer.commitChanges()\n",
    "    iface.vectorLayerTools().stopEditing(vlayer)\n",
    "    now_9 = time.time()\n",
    "    updating_geometries_records.append(now_9 - now_8)\n",
    "    on_new_frames_records.append(now_9 - now_7)\n",
    "\n",
    "\n",
    "fps_record = [1/frame_time for frame_time in on_new_frames_records]\n",
    "\n",
    "average_fps = sum(fps_record)/len(fps_record)\n",
    "\n",
    "print(f\"6. Average FPS : {average_fps}\")\n",
    "print(f\"7. On_new_frame average time : {sum(on_new_frames_records) / len(on_new_frames_records)}\")\n",
    "print(f\"8. Value_at_timestamp average time : {sum(value_at_timestamp_records) / len(value_at_timestamp_records)}\")\n",
    "print(f\"9. Updating geometries average time : {sum(updating_geometries_records) / len(updating_geometries_records)}\")\n",
    "\n"
   ]
  },
  {
   "cell_type": "code",
   "execution_count": null,
   "metadata": {},
   "outputs": [],
   "source": []
  },
  {
   "cell_type": "markdown",
   "metadata": {},
   "source": [
    "# QGIS TASK Analysis\n",
    "\n",
    "## FPS DIPS"
   ]
  },
  {
   "cell_type": "code",
   "execution_count": 6,
   "metadata": {},
   "outputs": [
    {
     "data": {
      "text/plain": [
       "[46.65625486662662,\n",
       " 40.19765770255506,\n",
       " 37.239669714996005,\n",
       " 36.07631040236707,\n",
       " 35.140829612004325,\n",
       " 34.34969616562659,\n",
       " 33.69649642894443,\n",
       " 32.892632239344394,\n",
       " 33.236162507825064,\n",
       " 31.5084023828662,\n",
       " 31.610750192183048,\n",
       " 30.637273378036845,\n",
       " 31.913807009267572,\n",
       " 31.472229308921737,\n",
       " 31.86095834219562,\n",
       " 32.173543512445825,\n",
       " 31.91842139307647,\n",
       " 29.926181727373265,\n",
       " 30.321877304339026,\n",
       " 29.983086590082138,\n",
       " 30.77800933399865,\n",
       " 30.635483164122416,\n",
       " 30.029884514322944,\n",
       " 29.569003440302296,\n",
       " 30.185055378437312,\n",
       " 30.596151321068525,\n",
       " 30.73921200750469,\n",
       " 28.672728018484843,\n",
       " 30.95541532897893,\n",
       " 22.458737604146588,\n",
       " 27.521679790026248,\n",
       " 25.11845060216432,\n",
       " 24.62052853402834,\n",
       " 20.21361066800322,\n",
       " 16.102767678551547,\n",
       " 28.272077112331907,\n",
       " 27.646670313952185,\n",
       " 28.35694437871423,\n",
       " 27.179968376577932,\n",
       " 27.68736797634136,\n",
       " 28.17938364585503,\n",
       " 27.229198179658134,\n",
       " 26.76048106676875,\n",
       " 28.228123780167714,\n",
       " 27.169756565224713,\n",
       " 26.814885850003517,\n",
       " 28.110826642360227,\n",
       " 26.810772112170085,\n",
       " 26.970761286837757,\n",
       " 26.786800441943786,\n",
       " 26.95290972650627,\n",
       " 28.5565745487721,\n",
       " 26.92730027477466,\n",
       " 26.776198106522475,\n",
       " 27.38386205905972,\n",
       " 26.42397515293169,\n",
       " 27.26264884821382,\n",
       " 26.607526199599075,\n",
       " 27.433475047419712,\n",
       " 20.440974506679144,\n",
       " 26.175627351984872,\n",
       " 23.782087047243202,\n",
       " 21.9659170655578,\n",
       " 14.740078228507368,\n",
       " 26.916759184983153,\n",
       " 26.728420945304386,\n",
       " 26.627289406357328,\n",
       " 26.377943248138457,\n",
       " 26.588466487901666,\n",
       " 26.70000636577758,\n",
       " 26.45731118834802,\n",
       " 26.555808107988327,\n",
       " 26.36219304475717,\n",
       " 27.249364942211365,\n",
       " 26.278947665202654,\n",
       " 26.62019154486199,\n",
       " 25.66595071564506,\n",
       " 26.87760490093046,\n",
       " 26.31059812439231,\n",
       " 27.271334664074537,\n",
       " 26.206374297871278,\n",
       " 27.078019587209564,\n",
       " 26.40783740902108,\n",
       " 26.687264976298795,\n",
       " 26.374791702038017,\n",
       " 26.695248157435813,\n",
       " 26.142182221612796,\n",
       " 26.577852127848328,\n",
       " 26.427971040974878,\n",
       " 20.42345654365112,\n",
       " 24.34741015504821,\n",
       " 23.820715819125613,\n",
       " 24.191952750092284,\n",
       " 23.277764519799096,\n",
       " 22.54020560938516,\n",
       " 25.160037191445966,\n",
       " 25.01702274869079,\n",
       " 25.29584464145709,\n",
       " 25.324711238309153,\n",
       " 26.138272281978736,\n",
       " 24.97040560572956,\n",
       " 26.177587767202372,\n",
       " 24.850864147790897,\n",
       " 25.083149937804993,\n",
       " 25.755944193358225,\n",
       " 26.176934262836316,\n",
       " 24.8886146104686,\n",
       " 25.697242984928316,\n",
       " 25.14887365915373,\n",
       " 24.674698795180724,\n",
       " 25.010160759433287,\n",
       " 25.302559028992675,\n",
       " 25.245600096304322,\n",
       " 24.706675149030417,\n",
       " 24.730566037735848,\n",
       " 24.702746317531552,\n",
       " 26.075709818403368,\n",
       " 24.822773273362134,\n",
       " 25.185418255402702,\n",
       " 20.446754057123915,\n",
       " 23.247187150125818,\n",
       " 23.950754331266204,\n",
       " 23.893450000569665,\n",
       " 23.77844674614918,\n",
       " 26.405842357088893,\n",
       " 25.403704286942933,\n",
       " 25.32455833162261,\n",
       " 26.231614497013666,\n",
       " 25.23177987258694,\n",
       " 25.060519696236415,\n",
       " 25.75879137751029,\n",
       " 25.128232164681638,\n",
       " 25.111983906504456,\n",
       " 25.992005899522212,\n",
       " 25.050192312286487,\n",
       " 25.47792862566439,\n",
       " 25.26110890278129,\n",
       " 26.284876324645456,\n",
       " 25.67694935383749,\n",
       " 25.082699932423946,\n",
       " 26.19966268973702,\n",
       " 25.229199749771425,\n",
       " 25.377113849914387,\n",
       " 26.160933591971407,\n",
       " 24.85660779898068,\n",
       " 25.582511954718456,\n",
       " 25.558193384844127,\n",
       " 25.15490677046162,\n",
       " 25.526772564055747,\n",
       " 20.480200001953143,\n",
       " 23.44011579494459,\n",
       " 25.00479313222845,\n",
       " 23.712307005195523,\n",
       " 22.705419348552187,\n",
       " 22.249061087653036,\n",
       " 25.52599580074856,\n",
       " 25.573932819940612,\n",
       " 25.632697960655378,\n",
       " 24.80134345656236,\n",
       " 24.538712659279454,\n",
       " 24.633687091450486,\n",
       " 25.340470522843436,\n",
       " 26.132409564989846,\n",
       " 24.935223057167317,\n",
       " 25.547918671653246,\n",
       " 25.340776722492084,\n",
       " 25.247727628426617,\n",
       " 24.496720574235336,\n",
       " 25.513574013808206,\n",
       " 24.74165309926618,\n",
       " 24.774095994140648,\n",
       " 24.99346903751728,\n",
       " 24.179261761603073,\n",
       " 24.822185661699432,\n",
       " 24.96683829875889,\n",
       " 24.963569162644255,\n",
       " 24.718614820664538,\n",
       " 24.544887437603506,\n",
       " 24.747200358731696,\n",
       " 19.210054090199186,\n",
       " 23.270661340434977,\n",
       " 23.877399521803483,\n",
       " 23.085836319303404,\n",
       " 21.717066906914372,\n",
       " 23.39239941551126,\n",
       " 24.866923578585403,\n",
       " 24.47156568161265,\n",
       " 24.235005893637183,\n",
       " 24.478278124051638,\n",
       " 23.993776028557047,\n",
       " 23.850787007551634,\n",
       " 23.896717145819803,\n",
       " 23.753399366848456,\n",
       " 23.937222136616043,\n",
       " 24.496291364427467,\n",
       " 24.70827614239513,\n",
       " 24.43720431611084,\n",
       " 24.752896185828018,\n",
       " 24.69474700611142,\n",
       " 24.411176877993704,\n",
       " 24.871494731349213,\n",
       " 23.798009600217878,\n",
       " 24.105472476695134,\n",
       " 23.237784980193357,\n",
       " 23.75689744039966,\n",
       " 23.649600793901392,\n",
       " 23.954994831259175,\n",
       " 23.992678015742268,\n",
       " 24.39484918631568,\n",
       " 20.18093198931845,\n",
       " 25.000023841880648,\n",
       " 23.257757569036265,\n",
       " 22.999879360831752,\n",
       " 22.37940859469208,\n",
       " 24.704637821154684,\n",
       " 22.689451846562477,\n",
       " 24.541009888245274,\n",
       " 24.53354546624396,\n",
       " 24.45786659358217,\n",
       " 24.724880481493052,\n",
       " 24.159345659812224,\n",
       " 24.5259421688156,\n",
       " 24.895114524658858,\n",
       " 25.185569486477398,\n",
       " 24.347834163444904,\n",
       " 24.196279096599266,\n",
       " 24.2783530814603,\n",
       " 24.199769213016385,\n",
       " 23.40153544009998,\n",
       " 24.175638210187156,\n",
       " 24.030204591418734,\n",
       " 23.888823073768624,\n",
       " 24.231225627545566,\n",
       " 24.534837060478612,\n",
       " 24.16491329146742,\n",
       " 23.68231633983976,\n",
       " 23.46870785982464,\n",
       " 23.61046125440483,\n",
       " 23.87590438945529,\n",
       " 14.100538901421046,\n",
       " 23.151333837466673,\n",
       " 23.294312356642617,\n",
       " 23.368809302273753,\n",
       " 20.31661394934293,\n",
       " 24.955994002427587,\n",
       " 23.889095196327474,\n",
       " 23.44915803832994,\n",
       " 24.57595200009375,\n",
       " 24.11281726982667,\n",
       " 23.912793614595213,\n",
       " 24.26529053756971,\n",
       " 24.484994249887624,\n",
       " 24.3595709216357,\n",
       " 23.96060554127392,\n",
       " 23.995835073486923,\n",
       " 23.728538939364796,\n",
       " 24.303112125759778,\n",
       " 23.65733752975284,\n",
       " 23.9851318972271,\n",
       " 23.54009776794985,\n",
       " 23.758916028458785,\n",
       " 24.005311233717176,\n",
       " 24.17508083713263,\n",
       " 23.941594506504405,\n",
       " 23.670555038234713,\n",
       " 23.580594925535923,\n",
       " 24.030892986054614,\n",
       " 23.906660206902448,\n",
       " 24.50387628600973,\n",
       " 19.875015400362027,\n",
       " 23.11318800008817,\n",
       " 24.31184609409869,\n",
       " 23.00656577568853,\n",
       " 22.76271830328554,\n",
       " 25.713154200307752,\n",
       " 24.152250649253432,\n",
       " 23.857570276327316,\n",
       " 24.571344881926667,\n",
       " 24.257010832162212,\n",
       " 23.931895469588042,\n",
       " 23.93995468062397,\n",
       " 23.79476938787088,\n",
       " 23.739954832830534,\n",
       " 23.767128488454457,\n",
       " 23.557682370649953,\n",
       " 23.550407357705545,\n",
       " 23.640803075223484,\n",
       " 23.73914864474794,\n",
       " 23.445225771109794,\n",
       " 24.094117647058823,\n",
       " 24.127381500230097,\n",
       " 23.882973937899656,\n",
       " 24.056943257489287,\n",
       " 24.264869399207427,\n",
       " 24.399532288933745,\n",
       " 23.975397560334283,\n",
       " 23.855127855127854,\n",
       " 24.11628334866605,\n",
       " 24.041774858276156,\n",
       " 20.33966820714504,\n",
       " 23.988286969253295,\n",
       " 22.168391454635785,\n",
       " 20.6363851058805,\n",
       " 20.490805698317473,\n",
       " 23.81625225000142,\n",
       " 23.637205894784298,\n",
       " 23.553449089152945,\n",
       " 23.917020682104592,\n",
       " 23.3659452382942,\n",
       " 23.294053615759278,\n",
       " 23.68780002936758,\n",
       " 24.449312449359084,\n",
       " 22.94815973912996,\n",
       " 23.41329224860725,\n",
       " 23.800035181097538,\n",
       " 23.085836319303404,\n",
       " 23.273889520850094,\n",
       " 22.674609953616105,\n",
       " 23.72115803344701,\n",
       " 23.28151157885388,\n",
       " 23.07935774263484,\n",
       " 23.348125716703223,\n",
       " 23.363472293398097,\n",
       " 23.473042096191083,\n",
       " 23.28681120395303,\n",
       " 23.20846820825241,\n",
       " 23.667883644161048,\n",
       " 23.66668171353767,\n",
       " 23.498686208268204,\n",
       " 18.944975925273493,\n",
       " 21.77852317629771,\n",
       " 21.14341597185115,\n",
       " 22.503321064886848,\n",
       " 20.184622492143774,\n",
       " 22.15527641907096,\n",
       " 23.036639552701967,\n",
       " 22.194668162431604,\n",
       " 22.509480237207182,\n",
       " 22.82030718673319,\n",
       " 23.54736641178518,\n",
       " 22.832605689773434,\n",
       " 22.239505400404035,\n",
       " 23.0351213457599,\n",
       " 23.27944408676154,\n",
       " 22.491254035155453,\n",
       " 22.308585044651167,\n",
       " 23.298452992639913,\n",
       " 22.948410852925246,\n",
       " 22.347809870899336,\n",
       " 22.735819601040763,\n",
       " 22.08272260129728,\n",
       " 22.415168956653254,\n",
       " 21.92561305195586,\n",
       " 22.889300000545724,\n",
       " 23.422313804984558,\n",
       " 22.994709516839087,\n",
       " 23.206670465925626,\n",
       " 22.740133915259293,\n",
       " 23.396705509597307,\n",
       " 18.41513145185367,\n",
       " 22.272099234817148,\n",
       " 22.472334885315817,\n",
       " 21.680023156763017,\n",
       " 20.879441662269393,\n",
       " 23.19088797965277,\n",
       " 22.038398890278376,\n",
       " 22.52785700090771,\n",
       " 22.2436333937909,\n",
       " 22.356505516763498,\n",
       " 22.382633104044483,\n",
       " 23.304925684122797,\n",
       " 22.229133211437052,\n",
       " 21.359841926218657,\n",
       " 22.467760511246457,\n",
       " 21.3683298859827,\n",
       " 22.107048548704192,\n",
       " 22.298978170489224,\n",
       " 21.63004677403551,\n",
       " 21.99390675553085,\n",
       " 21.479180429450054,\n",
       " 22.189619142846563,\n",
       " 21.68114383781157,\n",
       " 23.15785289148511,\n",
       " 22.845912926014893,\n",
       " 21.358645448758754,\n",
       " 21.86400884088492,\n",
       " 21.364738002944186,\n",
       " 22.153521119321393,\n",
       " 21.484681620505782,\n",
       " 18.425971972059923,\n",
       " 21.868682708099794,\n",
       " 21.469724967879646,\n",
       " 21.523379449074262,\n",
       " 19.701927774228704,\n",
       " 22.092609467424452,\n",
       " 21.37181407767485,\n",
       " 21.81193380968725,\n",
       " 21.297694186465723,\n",
       " 21.96982903117667,\n",
       " 21.391215651074074,\n",
       " 22.056710138830457,\n",
       " 21.6783423524,\n",
       " 22.23561469543551,\n",
       " 21.87198982092759,\n",
       " 21.920342003626995,\n",
       " 21.573196448961536,\n",
       " 21.729330397616888,\n",
       " 21.45830157114134,\n",
       " 22.373917125421414,\n",
       " 21.20037808138859,\n",
       " 21.45314306173597,\n",
       " 20.990936616370142,\n",
       " 21.844309381331083,\n",
       " 21.618340755401615,\n",
       " 21.47522131596598,\n",
       " 21.326824902882013,\n",
       " 19.886794778790854,\n",
       " 20.10142961894401,\n",
       " 20.89618923779774,\n",
       " 18.154488084004953,\n",
       " 20.172972868981372,\n",
       " 21.163686271343803,\n",
       " 20.353091320234668,\n",
       " 19.218768328445748,\n",
       " 21.86400884088492,\n",
       " 21.40999673309376,\n",
       " 22.19443327336226,\n",
       " 21.418087116376448,\n",
       " 21.998867093255008,\n",
       " 21.635290719267115,\n",
       " 21.96085658935023,\n",
       " 21.248924712116683,\n",
       " 22.476429325488052,\n",
       " 21.41447848751423,\n",
       " 21.669942238341754,\n",
       " 21.586297760210805,\n",
       " 22.03457822653939,\n",
       " 20.822844887503226,\n",
       " 21.607983143491545,\n",
       " 21.36528215002496,\n",
       " 20.577461610165333,\n",
       " 21.53741559475211,\n",
       " 20.83473993234416,\n",
       " 20.74139423100698,\n",
       " 21.65841668517017,\n",
       " 20.920265349892762,\n",
       " 20.992932791447277,\n",
       " 22.214769579517707,\n",
       " 21.483581156874095,\n",
       " 17.892414405037155,\n",
       " 21.307539904290664,\n",
       " 18.624382229524212,\n",
       " 20.792084312384127,\n",
       " 18.83193024519246,\n",
       " 21.40333222769372,\n",
       " 21.117228879266943,\n",
       " 21.333550349429824,\n",
       " 21.139899297907835,\n",
       " 20.72335779045925]"
      ]
     },
     "execution_count": 6,
     "metadata": {},
     "output_type": "execute_result"
    }
   ],
   "source": [
    "import pickle \n",
    "\n",
    "with open(f'Solution_C_{30}_{0.1}_fps_record.pickle', 'rb') as f:\n",
    "    fps_record = pickle.load(f)\n",
    "fps_record"
   ]
  },
  {
   "cell_type": "code",
   "execution_count": 4,
   "metadata": {},
   "outputs": [
    {
     "data": {
      "text/plain": [
       "[[[datetime.datetime(2024, 7, 15, 23, 44, 58, 528332),\n",
       "   datetime.datetime(2024, 7, 15, 23, 44, 58, 529708),\n",
       "   datetime.datetime(2024, 7, 15, 23, 44, 58, 913993)]],\n",
       " [[datetime.datetime(2024, 7, 15, 23, 45, 7, 185121),\n",
       "   datetime.datetime(2024, 7, 15, 23, 45, 7, 188364),\n",
       "   datetime.datetime(2024, 7, 15, 23, 45, 7, 686329)]],\n",
       " [[datetime.datetime(2024, 7, 15, 23, 45, 9, 472405),\n",
       "   datetime.datetime(2024, 7, 15, 23, 45, 9, 475214),\n",
       "   datetime.datetime(2024, 7, 15, 23, 45, 9, 937501)]],\n",
       " [[datetime.datetime(2024, 7, 15, 23, 45, 11, 818701),\n",
       "   datetime.datetime(2024, 7, 15, 23, 45, 11, 821437),\n",
       "   datetime.datetime(2024, 7, 15, 23, 45, 12, 280125)]],\n",
       " [[datetime.datetime(2024, 7, 15, 23, 45, 14, 222730),\n",
       "   datetime.datetime(2024, 7, 15, 23, 45, 14, 225461),\n",
       "   datetime.datetime(2024, 7, 15, 23, 45, 14, 660672)]],\n",
       " [[datetime.datetime(2024, 7, 15, 23, 45, 16, 604545),\n",
       "   datetime.datetime(2024, 7, 15, 23, 45, 16, 607156),\n",
       "   datetime.datetime(2024, 7, 15, 23, 45, 17, 77975)]],\n",
       " [[datetime.datetime(2024, 7, 15, 23, 45, 19, 41000),\n",
       "   datetime.datetime(2024, 7, 15, 23, 45, 19, 43720),\n",
       "   datetime.datetime(2024, 7, 15, 23, 45, 19, 484283)]],\n",
       " [[datetime.datetime(2024, 7, 15, 23, 45, 21, 548579),\n",
       "   datetime.datetime(2024, 7, 15, 23, 45, 21, 551273),\n",
       "   datetime.datetime(2024, 7, 15, 23, 45, 21, 990084)]],\n",
       " [[datetime.datetime(2024, 7, 15, 23, 45, 24, 48336),\n",
       "   datetime.datetime(2024, 7, 15, 23, 45, 24, 51089),\n",
       "   datetime.datetime(2024, 7, 15, 23, 45, 24, 524721)]],\n",
       " [[datetime.datetime(2024, 7, 15, 23, 45, 26, 622679),\n",
       "   datetime.datetime(2024, 7, 15, 23, 45, 26, 626085),\n",
       "   datetime.datetime(2024, 7, 15, 23, 45, 27, 60953)]],\n",
       " [[datetime.datetime(2024, 7, 15, 23, 45, 29, 140130),\n",
       "   datetime.datetime(2024, 7, 15, 23, 45, 29, 143207),\n",
       "   datetime.datetime(2024, 7, 15, 23, 45, 29, 588102)]],\n",
       " [[datetime.datetime(2024, 7, 15, 23, 45, 31, 724662),\n",
       "   datetime.datetime(2024, 7, 15, 23, 45, 31, 727372),\n",
       "   datetime.datetime(2024, 7, 15, 23, 45, 32, 190940)]],\n",
       " [[datetime.datetime(2024, 7, 15, 23, 45, 34, 385110),\n",
       "   datetime.datetime(2024, 7, 15, 23, 45, 34, 388158),\n",
       "   datetime.datetime(2024, 7, 15, 23, 45, 34, 851053)]],\n",
       " [[datetime.datetime(2024, 7, 15, 23, 45, 37, 108552),\n",
       "   datetime.datetime(2024, 7, 15, 23, 45, 37, 111183),\n",
       "   datetime.datetime(2024, 7, 15, 23, 45, 37, 581768)]],\n",
       " [[datetime.datetime(2024, 7, 15, 23, 45, 39, 910691),\n",
       "   datetime.datetime(2024, 7, 15, 23, 45, 39, 913187),\n",
       "   datetime.datetime(2024, 7, 15, 23, 45, 40, 405070)]],\n",
       " [[datetime.datetime(2024, 7, 15, 23, 45, 42, 728562),\n",
       "   datetime.datetime(2024, 7, 15, 23, 45, 42, 731259),\n",
       "   datetime.datetime(2024, 7, 15, 23, 45, 43, 232146)]]]"
      ]
     },
     "execution_count": 4,
     "metadata": {},
     "output_type": "execute_result"
    }
   ],
   "source": [
    "with open(f'Solution_C_{30}_{0.1}_ts_record.pickle', 'rb') as f:\n",
    "    ts = pickle.load(f)\n",
    "ts"
   ]
  },
  {
   "cell_type": "code",
   "execution_count": 5,
   "metadata": {},
   "outputs": [
    {
     "data": {
      "text/plain": [
       "[datetime.datetime(2024, 7, 15, 23, 45, 5, 411164),\n",
       " datetime.datetime(2024, 7, 15, 23, 45, 5, 456178),\n",
       " datetime.datetime(2024, 7, 15, 23, 45, 5, 506663),\n",
       " datetime.datetime(2024, 7, 15, 23, 45, 5, 562727),\n",
       " datetime.datetime(2024, 7, 15, 23, 45, 5, 619775),\n",
       " datetime.datetime(2024, 7, 15, 23, 45, 5, 676659),\n",
       " datetime.datetime(2024, 7, 15, 23, 45, 5, 735669),\n",
       " datetime.datetime(2024, 7, 15, 23, 45, 5, 795469),\n",
       " datetime.datetime(2024, 7, 15, 23, 45, 5, 855431),\n",
       " datetime.datetime(2024, 7, 15, 23, 45, 5, 918814),\n",
       " datetime.datetime(2024, 7, 15, 23, 45, 5, 983268),\n",
       " datetime.datetime(2024, 7, 15, 23, 45, 6, 46287),\n",
       " datetime.datetime(2024, 7, 15, 23, 45, 6, 108366),\n",
       " datetime.datetime(2024, 7, 15, 23, 45, 6, 171393),\n",
       " datetime.datetime(2024, 7, 15, 23, 45, 6, 235211),\n",
       " datetime.datetime(2024, 7, 15, 23, 45, 6, 296276),\n",
       " datetime.datetime(2024, 7, 15, 23, 45, 6, 359037),\n",
       " datetime.datetime(2024, 7, 15, 23, 45, 6, 425350),\n",
       " datetime.datetime(2024, 7, 15, 23, 45, 6, 490062),\n",
       " datetime.datetime(2024, 7, 15, 23, 45, 6, 554663),\n",
       " datetime.datetime(2024, 7, 15, 23, 45, 6, 619649),\n",
       " datetime.datetime(2024, 7, 15, 23, 45, 6, 684128),\n",
       " datetime.datetime(2024, 7, 15, 23, 45, 6, 749125),\n",
       " datetime.datetime(2024, 7, 15, 23, 45, 6, 817587),\n",
       " datetime.datetime(2024, 7, 15, 23, 45, 6, 884838),\n",
       " datetime.datetime(2024, 7, 15, 23, 45, 6, 950028),\n",
       " datetime.datetime(2024, 7, 15, 23, 45, 7, 16236),\n",
       " datetime.datetime(2024, 7, 15, 23, 45, 7, 82592),\n",
       " datetime.datetime(2024, 7, 15, 23, 45, 7, 149652),\n",
       " datetime.datetime(2024, 7, 15, 23, 45, 7, 228544),\n",
       " datetime.datetime(2024, 7, 15, 23, 45, 7, 307568),\n",
       " datetime.datetime(2024, 7, 15, 23, 45, 7, 383100),\n",
       " datetime.datetime(2024, 7, 15, 23, 45, 7, 461829),\n",
       " datetime.datetime(2024, 7, 15, 23, 45, 7, 552629),\n",
       " datetime.datetime(2024, 7, 15, 23, 45, 7, 665776),\n",
       " datetime.datetime(2024, 7, 15, 23, 45, 7, 760386),\n",
       " datetime.datetime(2024, 7, 15, 23, 45, 7, 831868),\n",
       " datetime.datetime(2024, 7, 15, 23, 45, 7, 902788),\n",
       " datetime.datetime(2024, 7, 15, 23, 45, 7, 975779),\n",
       " datetime.datetime(2024, 7, 15, 23, 45, 8, 47787),\n",
       " datetime.datetime(2024, 7, 15, 23, 45, 8, 118692),\n",
       " datetime.datetime(2024, 7, 15, 23, 45, 8, 192330),\n",
       " datetime.datetime(2024, 7, 15, 23, 45, 8, 264619),\n",
       " datetime.datetime(2024, 7, 15, 23, 45, 8, 338825),\n",
       " datetime.datetime(2024, 7, 15, 23, 45, 8, 410090),\n",
       " datetime.datetime(2024, 7, 15, 23, 45, 8, 484410),\n",
       " datetime.datetime(2024, 7, 15, 23, 45, 8, 556905),\n",
       " datetime.datetime(2024, 7, 15, 23, 45, 8, 629249),\n",
       " datetime.datetime(2024, 7, 15, 23, 45, 8, 702651),\n",
       " datetime.datetime(2024, 7, 15, 23, 45, 8, 777142),\n",
       " datetime.datetime(2024, 7, 15, 23, 45, 8, 850693),\n",
       " datetime.datetime(2024, 7, 15, 23, 45, 8, 922752),\n",
       " datetime.datetime(2024, 7, 15, 23, 45, 8, 994359),\n",
       " datetime.datetime(2024, 7, 15, 23, 45, 9, 68652),\n",
       " datetime.datetime(2024, 7, 15, 23, 45, 9, 141821),\n",
       " datetime.datetime(2024, 7, 15, 23, 45, 9, 214963),\n",
       " datetime.datetime(2024, 7, 15, 23, 45, 9, 288510),\n",
       " datetime.datetime(2024, 7, 15, 23, 45, 9, 360678),\n",
       " datetime.datetime(2024, 7, 15, 23, 45, 9, 435571),\n",
       " datetime.datetime(2024, 7, 15, 23, 45, 9, 520066),\n",
       " datetime.datetime(2024, 7, 15, 23, 45, 9, 605089),\n",
       " datetime.datetime(2024, 7, 15, 23, 45, 9, 685631),\n",
       " datetime.datetime(2024, 7, 15, 23, 45, 9, 772422),\n",
       " datetime.datetime(2024, 7, 15, 23, 45, 9, 884878),\n",
       " datetime.datetime(2024, 7, 15, 23, 45, 9, 986630),\n",
       " datetime.datetime(2024, 7, 15, 23, 45, 10, 60863),\n",
       " datetime.datetime(2024, 7, 15, 23, 45, 10, 137285),\n",
       " datetime.datetime(2024, 7, 15, 23, 45, 10, 211294),\n",
       " datetime.datetime(2024, 7, 15, 23, 45, 10, 284797),\n",
       " datetime.datetime(2024, 7, 15, 23, 45, 10, 358792),\n",
       " datetime.datetime(2024, 7, 15, 23, 45, 10, 433527),\n",
       " datetime.datetime(2024, 7, 15, 23, 45, 10, 507286),\n",
       " datetime.datetime(2024, 7, 15, 23, 45, 10, 581459),\n",
       " datetime.datetime(2024, 7, 15, 23, 45, 10, 653663),\n",
       " datetime.datetime(2024, 7, 15, 23, 45, 10, 729729),\n",
       " datetime.datetime(2024, 7, 15, 23, 45, 10, 804870),\n",
       " datetime.datetime(2024, 7, 15, 23, 45, 10, 882731),\n",
       " datetime.datetime(2024, 7, 15, 23, 45, 10, 959038),\n",
       " datetime.datetime(2024, 7, 15, 23, 45, 11, 33399),\n",
       " datetime.datetime(2024, 7, 15, 23, 45, 11, 108132),\n",
       " datetime.datetime(2024, 7, 15, 23, 45, 11, 181551),\n",
       " datetime.datetime(2024, 7, 15, 23, 45, 11, 256404),\n",
       " datetime.datetime(2024, 7, 15, 23, 45, 11, 329611),\n",
       " datetime.datetime(2024, 7, 15, 23, 45, 11, 405414),\n",
       " datetime.datetime(2024, 7, 15, 23, 45, 11, 481428),\n",
       " datetime.datetime(2024, 7, 15, 23, 45, 11, 554878),\n",
       " datetime.datetime(2024, 7, 15, 23, 45, 11, 629905),\n",
       " datetime.datetime(2024, 7, 15, 23, 45, 11, 704433),\n",
       " datetime.datetime(2024, 7, 15, 23, 45, 11, 781353),\n",
       " datetime.datetime(2024, 7, 15, 23, 45, 11, 866559),\n",
       " datetime.datetime(2024, 7, 15, 23, 45, 11, 954268),\n",
       " datetime.datetime(2024, 7, 15, 23, 45, 12, 37801),\n",
       " datetime.datetime(2024, 7, 15, 23, 45, 12, 121098),\n",
       " datetime.datetime(2024, 7, 15, 23, 45, 12, 203768),\n",
       " datetime.datetime(2024, 7, 15, 23, 45, 12, 291431),\n",
       " datetime.datetime(2024, 7, 15, 23, 45, 12, 375606),\n",
       " datetime.datetime(2024, 7, 15, 23, 45, 12, 455039),\n",
       " datetime.datetime(2024, 7, 15, 23, 45, 12, 535115),\n",
       " datetime.datetime(2024, 7, 15, 23, 45, 12, 612634),\n",
       " datetime.datetime(2024, 7, 15, 23, 45, 12, 689125),\n",
       " datetime.datetime(2024, 7, 15, 23, 45, 12, 767117),\n",
       " datetime.datetime(2024, 7, 15, 23, 45, 12, 846102),\n",
       " datetime.datetime(2024, 7, 15, 23, 45, 12, 923909),\n",
       " datetime.datetime(2024, 7, 15, 23, 45, 13, 2839),\n",
       " datetime.datetime(2024, 7, 15, 23, 45, 13, 82049),\n",
       " datetime.datetime(2024, 7, 15, 23, 45, 13, 157966),\n",
       " datetime.datetime(2024, 7, 15, 23, 45, 13, 235615),\n",
       " datetime.datetime(2024, 7, 15, 23, 45, 13, 314370),\n",
       " datetime.datetime(2024, 7, 15, 23, 45, 13, 391030),\n",
       " datetime.datetime(2024, 7, 15, 23, 45, 13, 471770),\n",
       " datetime.datetime(2024, 7, 15, 23, 45, 13, 551312),\n",
       " datetime.datetime(2024, 7, 15, 23, 45, 13, 631025),\n",
       " datetime.datetime(2024, 7, 15, 23, 45, 13, 708808),\n",
       " datetime.datetime(2024, 7, 15, 23, 45, 13, 788143),\n",
       " datetime.datetime(2024, 7, 15, 23, 45, 13, 868293),\n",
       " datetime.datetime(2024, 7, 15, 23, 45, 13, 948116),\n",
       " datetime.datetime(2024, 7, 15, 23, 45, 14, 26192),\n",
       " datetime.datetime(2024, 7, 15, 23, 45, 14, 103521),\n",
       " datetime.datetime(2024, 7, 15, 23, 45, 14, 183154),\n",
       " datetime.datetime(2024, 7, 15, 23, 45, 14, 270422),\n",
       " datetime.datetime(2024, 7, 15, 23, 45, 14, 360504),\n",
       " datetime.datetime(2024, 7, 15, 23, 45, 14, 445314),\n",
       " datetime.datetime(2024, 7, 15, 23, 45, 14, 529204),\n",
       " datetime.datetime(2024, 7, 15, 23, 45, 14, 611806),\n",
       " datetime.datetime(2024, 7, 15, 23, 45, 14, 693033),\n",
       " datetime.datetime(2024, 7, 15, 23, 45, 14, 771139),\n",
       " datetime.datetime(2024, 7, 15, 23, 45, 14, 848630),\n",
       " datetime.datetime(2024, 7, 15, 23, 45, 14, 925162),\n",
       " datetime.datetime(2024, 7, 15, 23, 45, 15, 3492),\n",
       " datetime.datetime(2024, 7, 15, 23, 45, 15, 82902),\n",
       " datetime.datetime(2024, 7, 15, 23, 45, 15, 160171),\n",
       " datetime.datetime(2024, 7, 15, 23, 45, 15, 239074),\n",
       " datetime.datetime(2024, 7, 15, 23, 45, 15, 317625),\n",
       " datetime.datetime(2024, 7, 15, 23, 45, 15, 396102),\n",
       " datetime.datetime(2024, 7, 15, 23, 45, 15, 475269),\n",
       " datetime.datetime(2024, 7, 15, 23, 45, 15, 552240),\n",
       " datetime.datetime(2024, 7, 15, 23, 45, 15, 631077),\n",
       " datetime.datetime(2024, 7, 15, 23, 45, 15, 706904),\n",
       " datetime.datetime(2024, 7, 15, 23, 45, 15, 785881),\n",
       " datetime.datetime(2024, 7, 15, 23, 45, 15, 863600),\n",
       " datetime.datetime(2024, 7, 15, 23, 45, 15, 941371),\n",
       " datetime.datetime(2024, 7, 15, 23, 45, 16, 19366),\n",
       " datetime.datetime(2024, 7, 15, 23, 45, 16, 97112),\n",
       " datetime.datetime(2024, 7, 15, 23, 45, 16, 173621),\n",
       " datetime.datetime(2024, 7, 15, 23, 45, 16, 251356),\n",
       " datetime.datetime(2024, 7, 15, 23, 45, 16, 330825),\n",
       " datetime.datetime(2024, 7, 15, 23, 45, 16, 408928),\n",
       " datetime.datetime(2024, 7, 15, 23, 45, 16, 487189),\n",
       " datetime.datetime(2024, 7, 15, 23, 45, 16, 564950),\n",
       " datetime.datetime(2024, 7, 15, 23, 45, 16, 652232),\n",
       " datetime.datetime(2024, 7, 15, 23, 45, 16, 742243),\n",
       " datetime.datetime(2024, 7, 15, 23, 45, 16, 823544),\n",
       " datetime.datetime(2024, 7, 15, 23, 45, 16, 903414),\n",
       " datetime.datetime(2024, 7, 15, 23, 45, 16, 991135),\n",
       " datetime.datetime(2024, 7, 15, 23, 45, 17, 80198),\n",
       " datetime.datetime(2024, 7, 15, 23, 45, 17, 162988),\n",
       " datetime.datetime(2024, 7, 15, 23, 45, 17, 242625),\n",
       " datetime.datetime(2024, 7, 15, 23, 45, 17, 322142),\n",
       " datetime.datetime(2024, 7, 15, 23, 45, 17, 401283),\n",
       " datetime.datetime(2024, 7, 15, 23, 45, 17, 484427),\n",
       " datetime.datetime(2024, 7, 15, 23, 45, 17, 564381),\n",
       " datetime.datetime(2024, 7, 15, 23, 45, 17, 643257),\n",
       " datetime.datetime(2024, 7, 15, 23, 45, 17, 721388),\n",
       " datetime.datetime(2024, 7, 15, 23, 45, 17, 799045),\n",
       " datetime.datetime(2024, 7, 15, 23, 45, 17, 878248),\n",
       " datetime.datetime(2024, 7, 15, 23, 45, 17, 956377),\n",
       " datetime.datetime(2024, 7, 15, 23, 45, 18, 34915),\n",
       " datetime.datetime(2024, 7, 15, 23, 45, 18, 114318),\n",
       " datetime.datetime(2024, 7, 15, 23, 45, 18, 194400),\n",
       " datetime.datetime(2024, 7, 15, 23, 45, 18, 275991),\n",
       " datetime.datetime(2024, 7, 15, 23, 45, 18, 356175),\n",
       " datetime.datetime(2024, 7, 15, 23, 45, 18, 435258),\n",
       " datetime.datetime(2024, 7, 15, 23, 45, 18, 517296),\n",
       " datetime.datetime(2024, 7, 15, 23, 45, 18, 597777),\n",
       " datetime.datetime(2024, 7, 15, 23, 45, 18, 679619),\n",
       " datetime.datetime(2024, 7, 15, 23, 45, 18, 759802),\n",
       " datetime.datetime(2024, 7, 15, 23, 45, 18, 839770),\n",
       " datetime.datetime(2024, 7, 15, 23, 45, 18, 920214),\n",
       " datetime.datetime(2024, 7, 15, 23, 45, 19, 248),\n",
       " datetime.datetime(2024, 7, 15, 23, 45, 19, 91748),\n",
       " datetime.datetime(2024, 7, 15, 23, 45, 19, 184537),\n",
       " datetime.datetime(2024, 7, 15, 23, 45, 19, 266926),\n",
       " datetime.datetime(2024, 7, 15, 23, 45, 19, 350994),\n",
       " datetime.datetime(2024, 7, 15, 23, 45, 19, 440997),\n",
       " datetime.datetime(2024, 7, 15, 23, 45, 19, 531394),\n",
       " datetime.datetime(2024, 7, 15, 23, 45, 19, 613930),\n",
       " datetime.datetime(2024, 7, 15, 23, 45, 19, 695996),\n",
       " datetime.datetime(2024, 7, 15, 23, 45, 19, 776530),\n",
       " datetime.datetime(2024, 7, 15, 23, 45, 19, 858431),\n",
       " datetime.datetime(2024, 7, 15, 23, 45, 19, 940926),\n",
       " datetime.datetime(2024, 7, 15, 23, 45, 20, 25500),\n",
       " datetime.datetime(2024, 7, 15, 23, 45, 20, 107382),\n",
       " datetime.datetime(2024, 7, 15, 23, 45, 20, 189122),\n",
       " datetime.datetime(2024, 7, 15, 23, 45, 20, 273637),\n",
       " datetime.datetime(2024, 7, 15, 23, 45, 20, 355671),\n",
       " datetime.datetime(2024, 7, 15, 23, 45, 20, 436019),\n",
       " datetime.datetime(2024, 7, 15, 23, 45, 20, 516364),\n",
       " datetime.datetime(2024, 7, 15, 23, 45, 20, 596204),\n",
       " datetime.datetime(2024, 7, 15, 23, 45, 20, 675782),\n",
       " datetime.datetime(2024, 7, 15, 23, 45, 20, 756519),\n",
       " datetime.datetime(2024, 7, 15, 23, 45, 20, 835283),\n",
       " datetime.datetime(2024, 7, 15, 23, 45, 20, 917592),\n",
       " datetime.datetime(2024, 7, 15, 23, 45, 21, 1174),\n",
       " datetime.datetime(2024, 7, 15, 23, 45, 21, 86059),\n",
       " datetime.datetime(2024, 7, 15, 23, 45, 21, 171046),\n",
       " datetime.datetime(2024, 7, 15, 23, 45, 21, 256050),\n",
       " datetime.datetime(2024, 7, 15, 23, 45, 21, 340988),\n",
       " datetime.datetime(2024, 7, 15, 23, 45, 21, 425034),\n",
       " datetime.datetime(2024, 7, 15, 23, 45, 21, 506289),\n",
       " datetime.datetime(2024, 7, 15, 23, 45, 21, 596890),\n",
       " datetime.datetime(2024, 7, 15, 23, 45, 21, 687002),\n",
       " datetime.datetime(2024, 7, 15, 23, 45, 21, 767991),\n",
       " datetime.datetime(2024, 7, 15, 23, 45, 21, 853026),\n",
       " datetime.datetime(2024, 7, 15, 23, 45, 21, 940441),\n",
       " datetime.datetime(2024, 7, 15, 23, 45, 22, 23948),\n",
       " datetime.datetime(2024, 7, 15, 23, 45, 22, 107438),\n",
       " datetime.datetime(2024, 7, 15, 23, 45, 22, 191821),\n",
       " datetime.datetime(2024, 7, 15, 23, 45, 22, 272737),\n",
       " datetime.datetime(2024, 7, 15, 23, 45, 22, 354781),\n",
       " datetime.datetime(2024, 7, 15, 23, 45, 22, 435441),\n",
       " datetime.datetime(2024, 7, 15, 23, 45, 22, 516678),\n",
       " datetime.datetime(2024, 7, 15, 23, 45, 22, 598284),\n",
       " datetime.datetime(2024, 7, 15, 23, 45, 22, 679527),\n",
       " datetime.datetime(2024, 7, 15, 23, 45, 22, 759098),\n",
       " datetime.datetime(2024, 7, 15, 23, 45, 22, 841020),\n",
       " datetime.datetime(2024, 7, 15, 23, 45, 22, 924463),\n",
       " datetime.datetime(2024, 7, 15, 23, 45, 23, 6464),\n",
       " datetime.datetime(2024, 7, 15, 23, 45, 23, 88702),\n",
       " datetime.datetime(2024, 7, 15, 23, 45, 23, 174093),\n",
       " datetime.datetime(2024, 7, 15, 23, 45, 23, 257290),\n",
       " datetime.datetime(2024, 7, 15, 23, 45, 23, 340764),\n",
       " datetime.datetime(2024, 7, 15, 23, 45, 23, 425363),\n",
       " datetime.datetime(2024, 7, 15, 23, 45, 23, 506572),\n",
       " datetime.datetime(2024, 7, 15, 23, 45, 23, 588543),\n",
       " datetime.datetime(2024, 7, 15, 23, 45, 23, 668647),\n",
       " datetime.datetime(2024, 7, 15, 23, 45, 23, 752137),\n",
       " datetime.datetime(2024, 7, 15, 23, 45, 23, 837635),\n",
       " datetime.datetime(2024, 7, 15, 23, 45, 23, 921790),\n",
       " datetime.datetime(2024, 7, 15, 23, 45, 24, 5375),\n",
       " datetime.datetime(2024, 7, 15, 23, 45, 24, 118010),\n",
       " datetime.datetime(2024, 7, 15, 23, 45, 24, 232752),\n",
       " datetime.datetime(2024, 7, 15, 23, 45, 24, 318154),\n",
       " datetime.datetime(2024, 7, 15, 23, 45, 24, 401890),\n",
       " datetime.datetime(2024, 7, 15, 23, 45, 24, 492746),\n",
       " datetime.datetime(2024, 7, 15, 23, 45, 24, 583195),\n",
       " datetime.datetime(2024, 7, 15, 23, 45, 24, 665559),\n",
       " datetime.datetime(2024, 7, 15, 23, 45, 24, 750539),\n",
       " datetime.datetime(2024, 7, 15, 23, 45, 24, 836166),\n",
       " datetime.datetime(2024, 7, 15, 23, 45, 24, 916591),\n",
       " datetime.datetime(2024, 7, 15, 23, 45, 24, 998882),\n",
       " datetime.datetime(2024, 7, 15, 23, 45, 25, 80602),\n",
       " datetime.datetime(2024, 7, 15, 23, 45, 25, 162347),\n",
       " datetime.datetime(2024, 7, 15, 23, 45, 25, 243776),\n",
       " datetime.datetime(2024, 7, 15, 23, 45, 25, 328965),\n",
       " datetime.datetime(2024, 7, 15, 23, 45, 25, 411001),\n",
       " datetime.datetime(2024, 7, 15, 23, 45, 25, 493472),\n",
       " datetime.datetime(2024, 7, 15, 23, 45, 25, 576957),\n",
       " datetime.datetime(2024, 7, 15, 23, 45, 25, 659811),\n",
       " datetime.datetime(2024, 7, 15, 23, 45, 25, 745470),\n",
       " datetime.datetime(2024, 7, 15, 23, 45, 25, 829817),\n",
       " datetime.datetime(2024, 7, 15, 23, 45, 25, 913491),\n",
       " datetime.datetime(2024, 7, 15, 23, 45, 25, 997209),\n",
       " datetime.datetime(2024, 7, 15, 23, 45, 26, 80974),\n",
       " datetime.datetime(2024, 7, 15, 23, 45, 26, 162879),\n",
       " datetime.datetime(2024, 7, 15, 23, 45, 26, 245152),\n",
       " datetime.datetime(2024, 7, 15, 23, 45, 26, 329533),\n",
       " datetime.datetime(2024, 7, 15, 23, 45, 26, 412784),\n",
       " datetime.datetime(2024, 7, 15, 23, 45, 26, 496964),\n",
       " datetime.datetime(2024, 7, 15, 23, 45, 26, 580667),\n",
       " datetime.datetime(2024, 7, 15, 23, 45, 26, 671693),\n",
       " datetime.datetime(2024, 7, 15, 23, 45, 26, 763544),\n",
       " datetime.datetime(2024, 7, 15, 23, 45, 26, 846362),\n",
       " datetime.datetime(2024, 7, 15, 23, 45, 26, 930217),\n",
       " datetime.datetime(2024, 7, 15, 23, 45, 27, 17170),\n",
       " datetime.datetime(2024, 7, 15, 23, 45, 27, 97700),\n",
       " datetime.datetime(2024, 7, 15, 23, 45, 27, 176849),\n",
       " datetime.datetime(2024, 7, 15, 23, 45, 27, 259595),\n",
       " datetime.datetime(2024, 7, 15, 23, 45, 27, 344024),\n",
       " datetime.datetime(2024, 7, 15, 23, 45, 27, 424465),\n",
       " datetime.datetime(2024, 7, 15, 23, 45, 27, 507050),\n",
       " datetime.datetime(2024, 7, 15, 23, 45, 27, 589149),\n",
       " datetime.datetime(2024, 7, 15, 23, 45, 27, 673255),\n",
       " datetime.datetime(2024, 7, 15, 23, 45, 27, 757117),\n",
       " datetime.datetime(2024, 7, 15, 23, 45, 27, 841073),\n",
       " datetime.datetime(2024, 7, 15, 23, 45, 27, 926255),\n",
       " datetime.datetime(2024, 7, 15, 23, 45, 28, 9879),\n",
       " datetime.datetime(2024, 7, 15, 23, 45, 28, 94127),\n",
       " datetime.datetime(2024, 7, 15, 23, 45, 28, 177616),\n",
       " datetime.datetime(2024, 7, 15, 23, 45, 28, 262013),\n",
       " datetime.datetime(2024, 7, 15, 23, 45, 28, 344551),\n",
       " datetime.datetime(2024, 7, 15, 23, 45, 28, 429259),\n",
       " datetime.datetime(2024, 7, 15, 23, 45, 28, 511868),\n",
       " datetime.datetime(2024, 7, 15, 23, 45, 28, 597056),\n",
       " datetime.datetime(2024, 7, 15, 23, 45, 28, 680262),\n",
       " datetime.datetime(2024, 7, 15, 23, 45, 28, 762123),\n",
       " datetime.datetime(2024, 7, 15, 23, 45, 28, 844879),\n",
       " datetime.datetime(2024, 7, 15, 23, 45, 28, 929634),\n",
       " datetime.datetime(2024, 7, 15, 23, 45, 29, 12771),\n",
       " datetime.datetime(2024, 7, 15, 23, 45, 29, 96917),\n",
       " datetime.datetime(2024, 7, 15, 23, 45, 29, 188065),\n",
       " datetime.datetime(2024, 7, 15, 23, 45, 29, 280699),\n",
       " datetime.datetime(2024, 7, 15, 23, 45, 29, 366444),\n",
       " datetime.datetime(2024, 7, 15, 23, 45, 29, 459751),\n",
       " datetime.datetime(2024, 7, 15, 23, 45, 29, 556462),\n",
       " datetime.datetime(2024, 7, 15, 23, 45, 29, 645285),\n",
       " datetime.datetime(2024, 7, 15, 23, 45, 29, 729151),\n",
       " datetime.datetime(2024, 7, 15, 23, 45, 29, 813554),\n",
       " datetime.datetime(2024, 7, 15, 23, 45, 29, 897091),\n",
       " datetime.datetime(2024, 7, 15, 23, 45, 29, 982544),\n",
       " datetime.datetime(2024, 7, 15, 23, 45, 30, 66280),\n",
       " datetime.datetime(2024, 7, 15, 23, 45, 30, 149751),\n",
       " datetime.datetime(2024, 7, 15, 23, 45, 30, 231967),\n",
       " datetime.datetime(2024, 7, 15, 23, 45, 30, 314706),\n",
       " datetime.datetime(2024, 7, 15, 23, 45, 30, 399759),\n",
       " datetime.datetime(2024, 7, 15, 23, 45, 30, 485313),\n",
       " datetime.datetime(2024, 7, 15, 23, 45, 30, 571192),\n",
       " datetime.datetime(2024, 7, 15, 23, 45, 30, 656281),\n",
       " datetime.datetime(2024, 7, 15, 23, 45, 30, 743616),\n",
       " datetime.datetime(2024, 7, 15, 23, 45, 30, 829764),\n",
       " datetime.datetime(2024, 7, 15, 23, 45, 30, 913919),\n",
       " datetime.datetime(2024, 7, 15, 23, 45, 30, 998572),\n",
       " datetime.datetime(2024, 7, 15, 23, 45, 31, 85927),\n",
       " datetime.datetime(2024, 7, 15, 23, 45, 31, 170687),\n",
       " datetime.datetime(2024, 7, 15, 23, 45, 31, 255659),\n",
       " datetime.datetime(2024, 7, 15, 23, 45, 31, 342385),\n",
       " datetime.datetime(2024, 7, 15, 23, 45, 31, 426932),\n",
       " datetime.datetime(2024, 7, 15, 23, 45, 31, 511616),\n",
       " datetime.datetime(2024, 7, 15, 23, 45, 31, 597609),\n",
       " datetime.datetime(2024, 7, 15, 23, 45, 31, 682448),\n",
       " datetime.datetime(2024, 7, 15, 23, 45, 31, 776203),\n",
       " datetime.datetime(2024, 7, 15, 23, 45, 31, 871592),\n",
       " datetime.datetime(2024, 7, 15, 23, 45, 31, 964991),\n",
       " datetime.datetime(2024, 7, 15, 23, 45, 32, 55732),\n",
       " datetime.datetime(2024, 7, 15, 23, 45, 32, 148715),\n",
       " datetime.datetime(2024, 7, 15, 23, 45, 32, 245418),\n",
       " datetime.datetime(2024, 7, 15, 23, 45, 32, 334662),\n",
       " datetime.datetime(2024, 7, 15, 23, 45, 32, 422908),\n",
       " datetime.datetime(2024, 7, 15, 23, 45, 32, 511520),\n",
       " datetime.datetime(2024, 7, 15, 23, 45, 32, 598865),\n",
       " datetime.datetime(2024, 7, 15, 23, 45, 32, 686153),\n",
       " datetime.datetime(2024, 7, 15, 23, 45, 32, 770727),\n",
       " datetime.datetime(2024, 7, 15, 23, 45, 32, 858157),\n",
       " datetime.datetime(2024, 7, 15, 23, 45, 32, 946837),\n",
       " datetime.datetime(2024, 7, 15, 23, 45, 33, 34154),\n",
       " datetime.datetime(2024, 7, 15, 23, 45, 33, 120063),\n",
       " datetime.datetime(2024, 7, 15, 23, 45, 33, 208168),\n",
       " datetime.datetime(2024, 7, 15, 23, 45, 33, 294689),\n",
       " datetime.datetime(2024, 7, 15, 23, 45, 33, 383000),\n",
       " datetime.datetime(2024, 7, 15, 23, 45, 33, 470170),\n",
       " datetime.datetime(2024, 7, 15, 23, 45, 33, 557382),\n",
       " datetime.datetime(2024, 7, 15, 23, 45, 33, 644517),\n",
       " datetime.datetime(2024, 7, 15, 23, 45, 33, 736398),\n",
       " datetime.datetime(2024, 7, 15, 23, 45, 33, 825487),\n",
       " datetime.datetime(2024, 7, 15, 23, 45, 33, 913376),\n",
       " datetime.datetime(2024, 7, 15, 23, 45, 33, 997944),\n",
       " datetime.datetime(2024, 7, 15, 23, 45, 34, 82892),\n",
       " datetime.datetime(2024, 7, 15, 23, 45, 34, 168112),\n",
       " datetime.datetime(2024, 7, 15, 23, 45, 34, 255153),\n",
       " datetime.datetime(2024, 7, 15, 23, 45, 34, 341806),\n",
       " datetime.datetime(2024, 7, 15, 23, 45, 34, 438168),\n",
       " datetime.datetime(2024, 7, 15, 23, 45, 34, 538680),\n",
       " datetime.datetime(2024, 7, 15, 23, 45, 34, 627469),\n",
       " datetime.datetime(2024, 7, 15, 23, 45, 34, 717097),\n",
       " datetime.datetime(2024, 7, 15, 23, 45, 34, 810825),\n",
       " datetime.datetime(2024, 7, 15, 23, 45, 34, 902644),\n",
       " datetime.datetime(2024, 7, 15, 23, 45, 34, 992940),\n",
       " datetime.datetime(2024, 7, 15, 23, 45, 35, 83887),\n",
       " datetime.datetime(2024, 7, 15, 23, 45, 35, 172474),\n",
       " datetime.datetime(2024, 7, 15, 23, 45, 35, 259958),\n",
       " datetime.datetime(2024, 7, 15, 23, 45, 35, 348017),\n",
       " datetime.datetime(2024, 7, 15, 23, 45, 35, 433700),\n",
       " datetime.datetime(2024, 7, 15, 23, 45, 35, 520353),\n",
       " datetime.datetime(2024, 7, 15, 23, 45, 35, 609803),\n",
       " datetime.datetime(2024, 7, 15, 23, 45, 35, 699752),\n",
       " datetime.datetime(2024, 7, 15, 23, 45, 35, 790121),\n",
       " datetime.datetime(2024, 7, 15, 23, 45, 35, 880749),\n",
       " datetime.datetime(2024, 7, 15, 23, 45, 35, 969873),\n",
       " datetime.datetime(2024, 7, 15, 23, 45, 36, 59190),\n",
       " datetime.datetime(2024, 7, 15, 23, 45, 36, 150841),\n",
       " datetime.datetime(2024, 7, 15, 23, 45, 36, 242042),\n",
       " datetime.datetime(2024, 7, 15, 23, 45, 36, 332585),\n",
       " datetime.datetime(2024, 7, 15, 23, 45, 36, 423474),\n",
       " datetime.datetime(2024, 7, 15, 23, 45, 36, 512283),\n",
       " datetime.datetime(2024, 7, 15, 23, 45, 36, 599077),\n",
       " datetime.datetime(2024, 7, 15, 23, 45, 36, 690698),\n",
       " datetime.datetime(2024, 7, 15, 23, 45, 36, 785249),\n",
       " datetime.datetime(2024, 7, 15, 23, 45, 36, 878596),\n",
       " datetime.datetime(2024, 7, 15, 23, 45, 36, 970795),\n",
       " datetime.datetime(2024, 7, 15, 23, 45, 37, 61944),\n",
       " datetime.datetime(2024, 7, 15, 23, 45, 37, 161532),\n",
       " datetime.datetime(2024, 7, 15, 23, 45, 37, 259322),\n",
       " datetime.datetime(2024, 7, 15, 23, 45, 37, 349948),\n",
       " datetime.datetime(2024, 7, 15, 23, 45, 37, 441453),\n",
       " datetime.datetime(2024, 7, 15, 23, 45, 37, 538399),\n",
       " datetime.datetime(2024, 7, 15, 23, 45, 37, 635833),\n",
       " datetime.datetime(2024, 7, 15, 23, 45, 37, 730350),\n",
       " datetime.datetime(2024, 7, 15, 23, 45, 37, 821619),\n",
       " datetime.datetime(2024, 7, 15, 23, 45, 37, 914044),\n",
       " datetime.datetime(2024, 7, 15, 23, 45, 38, 4940),\n",
       " datetime.datetime(2024, 7, 15, 23, 45, 38, 98423),\n",
       " datetime.datetime(2024, 7, 15, 23, 45, 38, 188935),\n",
       " datetime.datetime(2024, 7, 15, 23, 45, 38, 281737),\n",
       " datetime.datetime(2024, 7, 15, 23, 45, 38, 372739),\n",
       " datetime.datetime(2024, 7, 15, 23, 45, 38, 462728),\n",
       " datetime.datetime(2024, 7, 15, 23, 45, 38, 552687),\n",
       " datetime.datetime(2024, 7, 15, 23, 45, 38, 645615),\n",
       " datetime.datetime(2024, 7, 15, 23, 45, 38, 737562),\n",
       " datetime.datetime(2024, 7, 15, 23, 45, 38, 830002),\n",
       " datetime.datetime(2024, 7, 15, 23, 45, 38, 920433),\n",
       " datetime.datetime(2024, 7, 15, 23, 45, 39, 10534),\n",
       " datetime.datetime(2024, 7, 15, 23, 45, 39, 103667),\n",
       " datetime.datetime(2024, 7, 15, 23, 45, 39, 198853),\n",
       " datetime.datetime(2024, 7, 15, 23, 45, 39, 293511),\n",
       " datetime.datetime(2024, 7, 15, 23, 45, 39, 385635),\n",
       " datetime.datetime(2024, 7, 15, 23, 45, 39, 478326),\n",
       " datetime.datetime(2024, 7, 15, 23, 45, 39, 570540),\n",
       " datetime.datetime(2024, 7, 15, 23, 45, 39, 668038),\n",
       " datetime.datetime(2024, 7, 15, 23, 45, 39, 766093),\n",
       " datetime.datetime(2024, 7, 15, 23, 45, 39, 862587),\n",
       " datetime.datetime(2024, 7, 15, 23, 45, 39, 964811),\n",
       " datetime.datetime(2024, 7, 15, 23, 45, 40, 66711),\n",
       " datetime.datetime(2024, 7, 15, 23, 45, 40, 162950),\n",
       " datetime.datetime(2024, 7, 15, 23, 45, 40, 258079),\n",
       " datetime.datetime(2024, 7, 15, 23, 45, 40, 358867),\n",
       " datetime.datetime(2024, 7, 15, 23, 45, 40, 455271),\n",
       " datetime.datetime(2024, 7, 15, 23, 45, 40, 546229),\n",
       " datetime.datetime(2024, 7, 15, 23, 45, 40, 636126),\n",
       " datetime.datetime(2024, 7, 15, 23, 45, 40, 730073),\n",
       " datetime.datetime(2024, 7, 15, 23, 45, 40, 821015),\n",
       " datetime.datetime(2024, 7, 15, 23, 45, 40, 911972),\n",
       " datetime.datetime(2024, 7, 15, 23, 45, 41, 3220),\n",
       " datetime.datetime(2024, 7, 15, 23, 45, 41, 94522),\n",
       " datetime.datetime(2024, 7, 15, 23, 45, 41, 187872),\n",
       " datetime.datetime(2024, 7, 15, 23, 45, 41, 278093),\n",
       " datetime.datetime(2024, 7, 15, 23, 45, 41, 369693),\n",
       " datetime.datetime(2024, 7, 15, 23, 45, 41, 462204),\n",
       " datetime.datetime(2024, 7, 15, 23, 45, 41, 552505),\n",
       " datetime.datetime(2024, 7, 15, 23, 45, 41, 647016),\n",
       " datetime.datetime(2024, 7, 15, 23, 45, 41, 741447),\n",
       " datetime.datetime(2024, 7, 15, 23, 45, 41, 833896),\n",
       " datetime.datetime(2024, 7, 15, 23, 45, 41, 928069),\n",
       " datetime.datetime(2024, 7, 15, 23, 45, 42, 21786),\n",
       " datetime.datetime(2024, 7, 15, 23, 45, 42, 115686),\n",
       " datetime.datetime(2024, 7, 15, 23, 45, 42, 211280),\n",
       " datetime.datetime(2024, 7, 15, 23, 45, 42, 305324),\n",
       " datetime.datetime(2024, 7, 15, 23, 45, 42, 398892),\n",
       " datetime.datetime(2024, 7, 15, 23, 45, 42, 495096),\n",
       " datetime.datetime(2024, 7, 15, 23, 45, 42, 588500),\n",
       " datetime.datetime(2024, 7, 15, 23, 45, 42, 681910),\n",
       " datetime.datetime(2024, 7, 15, 23, 45, 42, 783264),\n",
       " datetime.datetime(2024, 7, 15, 23, 45, 42, 884514),\n",
       " datetime.datetime(2024, 7, 15, 23, 45, 42, 984714),\n",
       " datetime.datetime(2024, 7, 15, 23, 45, 43, 84885),\n",
       " datetime.datetime(2024, 7, 15, 23, 45, 43, 188116),\n",
       " datetime.datetime(2024, 7, 15, 23, 45, 43, 287518),\n",
       " datetime.datetime(2024, 7, 15, 23, 45, 43, 382239),\n",
       " datetime.datetime(2024, 7, 15, 23, 45, 43, 475827),\n",
       " datetime.datetime(2024, 7, 15, 23, 45, 43, 568706),\n",
       " datetime.datetime(2024, 7, 15, 23, 45, 43, 663587)]"
      ]
     },
     "execution_count": 5,
     "metadata": {},
     "output_type": "execute_result"
    }
   ],
   "source": [
    "with open(f'Solution_C_{30}_{0.1}_fps_ts_record.pickle', 'rb') as f:\n",
    "    fps_ts = pickle.load(f)\n",
    "\n",
    "fps_ts"
   ]
  },
  {
   "cell_type": "code",
   "execution_count": 9,
   "metadata": {},
   "outputs": [
    {
     "data": {
      "text/plain": [
       "Text(0.5, 0, 'Timestamp')"
      ]
     },
     "execution_count": 9,
     "metadata": {},
     "output_type": "execute_result"
    },
    {
     "data": {
      "image/png": "[encoded data removed]",
      "text/plain": [
       "<Figure size 640x480 with 1 Axes>"
      ]
     },
     "metadata": {},
     "output_type": "display_data"
    }
   ],
   "source": [
    "# plot fps_record\n",
    "\n",
    "import matplotlib.pyplot as plt\n",
    "import numpy as np\n",
    "\n",
    "plt.plot(fps_record[:120])\n",
    "plt.xlabel('Timestamp')"
   ]
  },
  {
   "cell_type": "code",
   "execution_count": 27,
   "metadata": {},
   "outputs": [
    {
     "data": {
      "text/plain": [
       "[26.42397515293169,\n",
       " 27.26264884821382,\n",
       " 26.607526199599075,\n",
       " 27.433475047419712,\n",
       " 20.440974506679144,\n",
       " 26.175627351984872,\n",
       " 23.782087047243202,\n",
       " 21.9659170655578,\n",
       " 14.740078228507368,\n",
       " 26.916759184983153]"
      ]
     },
     "execution_count": 27,
     "metadata": {},
     "output_type": "execute_result"
    }
   ],
   "source": [
    "fps_record[55:65]"
   ]
  },
  {
   "cell_type": "code",
   "execution_count": 31,
   "metadata": {},
   "outputs": [],
   "source": [
    "index = 63"
   ]
  },
  {
   "cell_type": "code",
   "execution_count": 32,
   "metadata": {},
   "outputs": [
    {
     "data": {
      "text/plain": [
       "14.740078228507368"
      ]
     },
     "execution_count": 32,
     "metadata": {},
     "output_type": "execute_result"
    }
   ],
   "source": [
    "fps_record[index]"
   ]
  },
  {
   "cell_type": "code",
   "execution_count": 33,
   "metadata": {},
   "outputs": [
    {
     "data": {
      "text/plain": [
       "datetime.datetime(2024, 7, 15, 23, 45, 9, 884878)"
      ]
     },
     "execution_count": 33,
     "metadata": {},
     "output_type": "execute_result"
    }
   ],
   "source": [
    "fps_ts[index]"
   ]
  },
  {
   "cell_type": "code",
   "execution_count": 34,
   "metadata": {},
   "outputs": [
    {
     "data": {
      "text/plain": [
       "[[datetime.datetime(2024, 7, 15, 23, 45, 9, 472405),\n",
       "  datetime.datetime(2024, 7, 15, 23, 45, 9, 475214),\n",
       "  datetime.datetime(2024, 7, 15, 23, 45, 9, 937501)]]"
      ]
     },
     "execution_count": 34,
     "metadata": {},
     "output_type": "execute_result"
    }
   ],
   "source": [
    "tdelta = index // 30\n",
    "# [Qgis Task Init; Run before fetch, Run after fetch]\n",
    "\n",
    "ts[tdelta]"
   ]
  },
  {
   "cell_type": "markdown",
   "metadata": {},
   "source": [
    "## OVERHAD "
   ]
  },
  {
   "cell_type": "code",
   "execution_count": 2,
   "metadata": {},
   "outputs": [],
   "source": [
    "import pickle"
   ]
  },
  {
   "cell_type": "code",
   "execution_count": 2,
   "metadata": {},
   "outputs": [
    {
     "data": {
      "text/plain": [
       "[0.004481792449951172,\n",
       " 0.002469778060913086,\n",
       " 0.007851600646972656,\n",
       " 0.0041882991790771484,\n",
       " 0.030503511428833008,\n",
       " 0.03114771842956543,\n",
       " 0.010891199111938477,\n",
       " 0.016581058502197266,\n",
       " 0.004328012466430664,\n",
       " 0.0045735836029052734,\n",
       " 0.004176616668701172,\n",
       " 0.004448652267456055,\n",
       " 0.006395578384399414,\n",
       " 0.0043561458587646484,\n",
       " 0.003988027572631836,\n",
       " 0.0045719146728515625,\n",
       " 0.006986856460571289]"
      ]
     },
     "execution_count": 2,
     "metadata": {},
     "output_type": "execute_result"
    }
   ],
   "source": [
    "with open(f\"Solution_C_{30}_{0.1}_qgis_overhead.pickle\", 'rb') as f:\n",
    "    qgis_overheads = pickle.load(f)\n",
    "qgis_overheads"
   ]
  },
  {
   "cell_type": "code",
   "execution_count": 4,
   "metadata": {},
   "outputs": [
    {
     "data": {
      "text/plain": [
       "[0.5053145885467529,\n",
       " 0.48077940940856934,\n",
       " 0.5522422790527344,\n",
       " 0.5050716400146484,\n",
       " 0.488055944442749,\n",
       " 0.46993517875671387,\n",
       " 0.46329593658447266,\n",
       " 0.5552237033843994,\n",
       " 0.5214548110961914,\n",
       " 0.4783284664154053,\n",
       " 0.4411914348602295,\n",
       " 0.44612550735473633,\n",
       " 0.4579133987426758,\n",
       " 0.45871663093566895,\n",
       " 0.5327856540679932,\n",
       " 0.4842231273651123,\n",
       " 0.5702841281890869]"
      ]
     },
     "execution_count": 4,
     "metadata": {},
     "output_type": "execute_result"
    }
   ],
   "source": [
    "with open(f\"Solution_C_{30}_{0.1}_qgis_time.pickle\", 'rb') as f:\n",
    "    qgis_task = pickle.load(f)\n",
    "qgis_task"
   ]
  },
  {
   "cell_type": "code",
   "execution_count": 5,
   "metadata": {},
   "outputs": [
    {
     "data": {
      "application/vnd.plotly.v1+json": {
       "config": {
        "plotlyServerURL": "https://plot.ly"
       },
       "data": [
        {
         "mode": "lines",
         "name": "QGIS Task",
         "type": "scatter",
         "x": [
          0,
          1,
          2,
          3,
          4,
          5,
          6,
          7,
          8,
          9,
          10,
          11,
          12,
          13,
          14,
          15,
          16
         ],
         "y": [
          0.5053145885467529,
          0.48077940940856934,
          0.5522422790527344,
          0.5050716400146484,
          0.488055944442749,
          0.46993517875671387,
          0.46329593658447266,
          0.5552237033843994,
          0.5214548110961914,
          0.4783284664154053,
          0.4411914348602295,
          0.44612550735473633,
          0.4579133987426758,
          0.45871663093566895,
          0.5327856540679932,
          0.4842231273651123,
          0.5702841281890869
         ]
        },
        {
         "mode": "lines",
         "name": "QGIS Overheads",
         "type": "scatter",
         "x": [
          0,
          1,
          2,
          3,
          4,
          5,
          6,
          7,
          8,
          9,
          10,
          11,
          12,
          13,
          14,
          15,
          16
         ],
         "y": [
          0.004481792449951172,
          0.002469778060913086,
          0.007851600646972656,
          0.0041882991790771484,
          0.030503511428833008,
          0.03114771842956543,
          0.010891199111938477,
          0.016581058502197266,
          0.004328012466430664,
          0.0045735836029052734,
          0.004176616668701172,
          0.004448652267456055,
          0.006395578384399414,
          0.0043561458587646484,
          0.003988027572631836,
          0.0045719146728515625,
          0.006986856460571289
         ]
        }
       ],
       "layout": {
        "template": {
         "data": {
          "bar": [
           {
            "error_x": {
             "color": "#2a3f5f"
            },
            "error_y": {
             "color": "#2a3f5f"
            },
            "marker": {
             "line": {
              "color": "#E5ECF6",
              "width": 0.5
             },
             "pattern": {
              "fillmode": "overlay",
              "size": 10,
              "solidity": 0.2
             }
            },
            "type": "bar"
           }
          ],
          "barpolar": [
           {
            "marker": {
             "line": {
              "color": "#E5ECF6",
              "width": 0.5
             },
             "pattern": {
              "fillmode": "overlay",
              "size": 10,
              "solidity": 0.2
             }
            },
            "type": "barpolar"
           }
          ],
          "carpet": [
           {
            "aaxis": {
             "endlinecolor": "#2a3f5f",
             "gridcolor": "white",
             "linecolor": "white",
             "minorgridcolor": "white",
             "startlinecolor": "#2a3f5f"
            },
            "baxis": {
             "endlinecolor": "#2a3f5f",
             "gridcolor": "white",
             "linecolor": "white",
             "minorgridcolor": "white",
             "startlinecolor": "#2a3f5f"
            },
            "type": "carpet"
           }
          ],
          "choropleth": [
           {
            "colorbar": {
             "outlinewidth": 0,
             "ticks": ""
            },
            "type": "choropleth"
           }
          ],
          "contour": [
           {
            "colorbar": {
             "outlinewidth": 0,
             "ticks": ""
            },
            "colorscale": [
             [
              0,
              "#0d0887"
             ],
             [
              0.1111111111111111,
              "#46039f"
             ],
             [
              0.2222222222222222,
              "#7201a8"
             ],
             [
              0.3333333333333333,
              "#9c179e"
             ],
             [
              0.4444444444444444,
              "#bd3786"
             ],
             [
              0.5555555555555556,
              "#d8576b"
             ],
             [
              0.6666666666666666,
              "#ed7953"
             ],
             [
              0.7777777777777778,
              "#fb9f3a"
             ],
             [
              0.8888888888888888,
              "#fdca26"
             ],
             [
              1,
              "#f0f921"
             ]
            ],
            "type": "contour"
           }
          ],
          "contourcarpet": [
           {
            "colorbar": {
             "outlinewidth": 0,
             "ticks": ""
            },
            "type": "contourcarpet"
           }
          ],
          "heatmap": [
           {
            "colorbar": {
             "outlinewidth": 0,
             "ticks": ""
            },
            "colorscale": [
             [
              0,
              "#0d0887"
             ],
             [
              0.1111111111111111,
              "#46039f"
             ],
             [
              0.2222222222222222,
              "#7201a8"
             ],
             [
              0.3333333333333333,
              "#9c179e"
             ],
             [
              0.4444444444444444,
              "#bd3786"
             ],
             [
              0.5555555555555556,
              "#d8576b"
             ],
             [
              0.6666666666666666,
              "#ed7953"
             ],
             [
              0.7777777777777778,
              "#fb9f3a"
             ],
             [
              0.8888888888888888,
              "#fdca26"
             ],
             [
              1,
              "#f0f921"
             ]
            ],
            "type": "heatmap"
           }
          ],
          "heatmapgl": [
           {
            "colorbar": {
             "outlinewidth": 0,
             "ticks": ""
            },
            "colorscale": [
             [
              0,
              "#0d0887"
             ],
             [
              0.1111111111111111,
              "#46039f"
             ],
             [
              0.2222222222222222,
              "#7201a8"
             ],
             [
              0.3333333333333333,
              "#9c179e"
             ],
             [
              0.4444444444444444,
              "#bd3786"
             ],
             [
              0.5555555555555556,
              "#d8576b"
             ],
             [
              0.6666666666666666,
              "#ed7953"
             ],
             [
              0.7777777777777778,
              "#fb9f3a"
             ],
             [
              0.8888888888888888,
              "#fdca26"
             ],
             [
              1,
              "#f0f921"
             ]
            ],
            "type": "heatmapgl"
           }
          ],
          "histogram": [
           {
            "marker": {
             "pattern": {
              "fillmode": "overlay",
              "size": 10,
              "solidity": 0.2
             }
            },
            "type": "histogram"
           }
          ],
          "histogram2d": [
           {
            "colorbar": {
             "outlinewidth": 0,
             "ticks": ""
            },
            "colorscale": [
             [
              0,
              "#0d0887"
             ],
             [
              0.1111111111111111,
              "#46039f"
             ],
             [
              0.2222222222222222,
              "#7201a8"
             ],
             [
              0.3333333333333333,
              "#9c179e"
             ],
             [
              0.4444444444444444,
              "#bd3786"
             ],
             [
              0.5555555555555556,
              "#d8576b"
             ],
             [
              0.6666666666666666,
              "#ed7953"
             ],
             [
              0.7777777777777778,
              "#fb9f3a"
             ],
             [
              0.8888888888888888,
              "#fdca26"
             ],
             [
              1,
              "#f0f921"
             ]
            ],
            "type": "histogram2d"
           }
          ],
          "histogram2dcontour": [
           {
            "colorbar": {
             "outlinewidth": 0,
             "ticks": ""
            },
            "colorscale": [
             [
              0,
              "#0d0887"
             ],
             [
              0.1111111111111111,
              "#46039f"
             ],
             [
              0.2222222222222222,
              "#7201a8"
             ],
             [
              0.3333333333333333,
              "#9c179e"
             ],
             [
              0.4444444444444444,
              "#bd3786"
             ],
             [
              0.5555555555555556,
              "#d8576b"
             ],
             [
              0.6666666666666666,
              "#ed7953"
             ],
             [
              0.7777777777777778,
              "#fb9f3a"
             ],
             [
              0.8888888888888888,
              "#fdca26"
             ],
             [
              1,
              "#f0f921"
             ]
            ],
            "type": "histogram2dcontour"
           }
          ],
          "mesh3d": [
           {
            "colorbar": {
             "outlinewidth": 0,
             "ticks": ""
            },
            "type": "mesh3d"
           }
          ],
          "parcoords": [
           {
            "line": {
             "colorbar": {
              "outlinewidth": 0,
              "ticks": ""
             }
            },
            "type": "parcoords"
           }
          ],
          "pie": [
           {
            "automargin": true,
            "type": "pie"
           }
          ],
          "scatter": [
           {
            "fillpattern": {
             "fillmode": "overlay",
             "size": 10,
             "solidity": 0.2
            },
            "type": "scatter"
           }
          ],
          "scatter3d": [
           {
            "line": {
             "colorbar": {
              "outlinewidth": 0,
              "ticks": ""
             }
            },
            "marker": {
             "colorbar": {
              "outlinewidth": 0,
              "ticks": ""
             }
            },
            "type": "scatter3d"
           }
          ],
          "scattercarpet": [
           {
            "marker": {
             "colorbar": {
              "outlinewidth": 0,
              "ticks": ""
             }
            },
            "type": "scattercarpet"
           }
          ],
          "scattergeo": [
           {
            "marker": {
             "colorbar": {
              "outlinewidth": 0,
              "ticks": ""
             }
            },
            "type": "scattergeo"
           }
          ],
          "scattergl": [
           {
            "marker": {
             "colorbar": {
              "outlinewidth": 0,
              "ticks": ""
             }
            },
            "type": "scattergl"
           }
          ],
          "scattermapbox": [
           {
            "marker": {
             "colorbar": {
              "outlinewidth": 0,
              "ticks": ""
             }
            },
            "type": "scattermapbox"
           }
          ],
          "scatterpolar": [
           {
            "marker": {
             "colorbar": {
              "outlinewidth": 0,
              "ticks": ""
             }
            },
            "type": "scatterpolar"
           }
          ],
          "scatterpolargl": [
           {
            "marker": {
             "colorbar": {
              "outlinewidth": 0,
              "ticks": ""
             }
            },
            "type": "scatterpolargl"
           }
          ],
          "scatterternary": [
           {
            "marker": {
             "colorbar": {
              "outlinewidth": 0,
              "ticks": ""
             }
            },
            "type": "scatterternary"
           }
          ],
          "surface": [
           {
            "colorbar": {
             "outlinewidth": 0,
             "ticks": ""
            },
            "colorscale": [
             [
              0,
              "#0d0887"
             ],
             [
              0.1111111111111111,
              "#46039f"
             ],
             [
              0.2222222222222222,
              "#7201a8"
             ],
             [
              0.3333333333333333,
              "#9c179e"
             ],
             [
              0.4444444444444444,
              "#bd3786"
             ],
             [
              0.5555555555555556,
              "#d8576b"
             ],
             [
              0.6666666666666666,
              "#ed7953"
             ],
             [
              0.7777777777777778,
              "#fb9f3a"
             ],
             [
              0.8888888888888888,
              "#fdca26"
             ],
             [
              1,
              "#f0f921"
             ]
            ],
            "type": "surface"
           }
          ],
          "table": [
           {
            "cells": {
             "fill": {
              "color": "#EBF0F8"
             },
             "line": {
              "color": "white"
             }
            },
            "header": {
             "fill": {
              "color": "#C8D4E3"
             },
             "line": {
              "color": "white"
             }
            },
            "type": "table"
           }
          ]
         },
         "layout": {
          "annotationdefaults": {
           "arrowcolor": "#2a3f5f",
           "arrowhead": 0,
           "arrowwidth": 1
          },
          "autotypenumbers": "strict",
          "coloraxis": {
           "colorbar": {
            "outlinewidth": 0,
            "ticks": ""
           }
          },
          "colorscale": {
           "diverging": [
            [
             0,
             "#8e0152"
            ],
            [
             0.1,
             "#c51b7d"
            ],
            [
             0.2,
             "#de77ae"
            ],
            [
             0.3,
             "#f1b6da"
            ],
            [
             0.4,
             "#fde0ef"
            ],
            [
             0.5,
             "#f7f7f7"
            ],
            [
             0.6,
             "#e6f5d0"
            ],
            [
             0.7,
             "#b8e186"
            ],
            [
             0.8,
             "#7fbc41"
            ],
            [
             0.9,
             "#4d9221"
            ],
            [
             1,
             "#276419"
            ]
           ],
           "sequential": [
            [
             0,
             "#0d0887"
            ],
            [
             0.1111111111111111,
             "#46039f"
            ],
            [
             0.2222222222222222,
             "#7201a8"
            ],
            [
             0.3333333333333333,
             "#9c179e"
            ],
            [
             0.4444444444444444,
             "#bd3786"
            ],
            [
             0.5555555555555556,
             "#d8576b"
            ],
            [
             0.6666666666666666,
             "#ed7953"
            ],
            [
             0.7777777777777778,
             "#fb9f3a"
            ],
            [
             0.8888888888888888,
             "#fdca26"
            ],
            [
             1,
             "#f0f921"
            ]
           ],
           "sequentialminus": [
            [
             0,
             "#0d0887"
            ],
            [
             0.1111111111111111,
             "#46039f"
            ],
            [
             0.2222222222222222,
             "#7201a8"
            ],
            [
             0.3333333333333333,
             "#9c179e"
            ],
            [
             0.4444444444444444,
             "#bd3786"
            ],
            [
             0.5555555555555556,
             "#d8576b"
            ],
            [
             0.6666666666666666,
             "#ed7953"
            ],
            [
             0.7777777777777778,
             "#fb9f3a"
            ],
            [
             0.8888888888888888,
             "#fdca26"
            ],
            [
             1,
             "#f0f921"
            ]
           ]
          },
          "colorway": [
           "#636efa",
           "#EF553B",
           "#00cc96",
           "#ab63fa",
           "#FFA15A",
           "#19d3f3",
           "#FF6692",
           "#B6E880",
           "#FF97FF",
           "#FECB52"
          ],
          "font": {
           "color": "#2a3f5f"
          },
          "geo": {
           "bgcolor": "white",
           "lakecolor": "white",
           "landcolor": "#E5ECF6",
           "showlakes": true,
           "showland": true,
           "subunitcolor": "white"
          },
          "hoverlabel": {
           "align": "left"
          },
          "hovermode": "closest",
          "mapbox": {
           "style": "light"
          },
          "paper_bgcolor": "white",
          "plot_bgcolor": "#E5ECF6",
          "polar": {
           "angularaxis": {
            "gridcolor": "white",
            "linecolor": "white",
            "ticks": ""
           },
           "bgcolor": "#E5ECF6",
           "radialaxis": {
            "gridcolor": "white",
            "linecolor": "white",
            "ticks": ""
           }
          },
          "scene": {
           "xaxis": {
            "backgroundcolor": "#E5ECF6",
            "gridcolor": "white",
            "gridwidth": 2,
            "linecolor": "white",
            "showbackground": true,
            "ticks": "",
            "zerolinecolor": "white"
           },
           "yaxis": {
            "backgroundcolor": "#E5ECF6",
            "gridcolor": "white",
            "gridwidth": 2,
            "linecolor": "white",
            "showbackground": true,
            "ticks": "",
            "zerolinecolor": "white"
           },
           "zaxis": {
            "backgroundcolor": "#E5ECF6",
            "gridcolor": "white",
            "gridwidth": 2,
            "linecolor": "white",
            "showbackground": true,
            "ticks": "",
            "zerolinecolor": "white"
           }
          },
          "shapedefaults": {
           "line": {
            "color": "#2a3f5f"
           }
          },
          "ternary": {
           "aaxis": {
            "gridcolor": "white",
            "linecolor": "white",
            "ticks": ""
           },
           "baxis": {
            "gridcolor": "white",
            "linecolor": "white",
            "ticks": ""
           },
           "bgcolor": "#E5ECF6",
           "caxis": {
            "gridcolor": "white",
            "linecolor": "white",
            "ticks": ""
           }
          },
          "title": {
           "x": 0.05
          },
          "xaxis": {
           "automargin": true,
           "gridcolor": "white",
           "linecolor": "white",
           "ticks": "",
           "title": {
            "standoff": 15
           },
           "zerolinecolor": "white",
           "zerolinewidth": 2
          },
          "yaxis": {
           "automargin": true,
           "gridcolor": "white",
           "linecolor": "white",
           "ticks": "",
           "title": {
            "standoff": 15
           },
           "zerolinecolor": "white",
           "zerolinewidth": 2
          }
         }
        },
        "title": {
         "text": "QGIS Task and Overheads"
        },
        "xaxis": {
         "title": {
          "text": "Index"
         }
        },
        "yaxis": {
         "title": {
          "text": "Time (s)"
         }
        }
       }
      }
     },
     "metadata": {},
     "output_type": "display_data"
    }
   ],
   "source": [
    "import plotly.graph_objects as go\n",
    "\n",
    "# Create the figure\n",
    "fig = go.Figure()\n",
    "\n",
    "# Add the qgis_task trace\n",
    "fig.add_trace(go.Scatter(\n",
    "    x=list(range(len(qgis_task))),\n",
    "    y=qgis_task,\n",
    "    mode='lines',\n",
    "    name='QGIS Task'\n",
    "))\n",
    "\n",
    "# Add the qgis_overheads trace\n",
    "fig.add_trace(go.Scatter(\n",
    "    x=list(range(len(qgis_overheads))),\n",
    "    y=qgis_overheads,\n",
    "    mode='lines',\n",
    "    name='QGIS Overheads'\n",
    "))\n",
    "\n",
    "# Set the layout\n",
    "fig.update_layout(\n",
    "    title='QGIS Task and Overheads, 582 boats',\n",
    "    xaxis_title='Index',\n",
    "    yaxis_title='Time (s)'\n",
    ")\n",
    "\n",
    "# Show the figure\n",
    "fig.show()"
   ]
  },
  {
   "cell_type": "code",
   "execution_count": 3,
   "metadata": {},
   "outputs": [
    {
     "data": {
      "text/plain": [
       "[0.0035550594329833984,\n",
       " 0.0035614967346191406,\n",
       " 0.004779815673828125,\n",
       " 0.12932133674621582,\n",
       " 0.004241228103637695,\n",
       " 0.08974385261535645,\n",
       " 0.06737875938415527,\n",
       " 0.11027145385742188,\n",
       " 0.0043299198150634766,\n",
       " 0.08992743492126465,\n",
       " 0.07818770408630371,\n",
       " 0.004372835159301758,\n",
       " 0.18305015563964844,\n",
       " 0.005124807357788086,\n",
       " 0.1979503631591797,\n",
       " 0.004601716995239258,\n",
       " 0.0054514408111572266]"
      ]
     },
     "execution_count": 3,
     "metadata": {},
     "output_type": "execute_result"
    }
   ],
   "source": [
    "with open(f\"Solution_C_{30}_{0.5}_qgis_overhead.pickle\", 'rb') as f:\n",
    "    qgis_overheads = pickle.load(f)\n",
    "qgis_overheads"
   ]
  },
  {
   "cell_type": "code",
   "execution_count": 4,
   "metadata": {},
   "outputs": [
    {
     "data": {
      "text/plain": [
       "[0.5053145885467529,\n",
       " 0.48077940940856934,\n",
       " 0.5522422790527344,\n",
       " 0.5050716400146484,\n",
       " 0.488055944442749,\n",
       " 0.46993517875671387,\n",
       " 0.46329593658447266,\n",
       " 0.5552237033843994,\n",
       " 0.5214548110961914,\n",
       " 0.4783284664154053,\n",
       " 0.4411914348602295,\n",
       " 0.44612550735473633,\n",
       " 0.4579133987426758,\n",
       " 0.45871663093566895,\n",
       " 0.5327856540679932,\n",
       " 0.4842231273651123,\n",
       " 0.5702841281890869]"
      ]
     },
     "execution_count": 4,
     "metadata": {},
     "output_type": "execute_result"
    }
   ],
   "source": [
    "with open(f\"Solution_C_{30}_{0.1}_qgis_time.pickle\", 'rb') as f:\n",
    "    qgis_task = pickle.load(f)\n",
    "qgis_task"
   ]
  },
  {
   "cell_type": "code",
   "execution_count": 5,
   "metadata": {},
   "outputs": [
    {
     "data": {
      "application/vnd.plotly.v1+json": {
       "config": {
        "plotlyServerURL": "https://plot.ly"
       },
       "data": [
        {
         "mode": "lines",
         "name": "QGIS Task",
         "type": "scatter",
         "x": [
          0,
          1,
          2,
          3,
          4,
          5,
          6,
          7,
          8,
          9,
          10,
          11,
          12,
          13,
          14,
          15,
          16
         ],
         "y": [
          0.5053145885467529,
          0.48077940940856934,
          0.5522422790527344,
          0.5050716400146484,
          0.488055944442749,
          0.46993517875671387,
          0.46329593658447266,
          0.5552237033843994,
          0.5214548110961914,
          0.4783284664154053,
          0.4411914348602295,
          0.44612550735473633,
          0.4579133987426758,
          0.45871663093566895,
          0.5327856540679932,
          0.4842231273651123,
          0.5702841281890869
         ]
        },
        {
         "mode": "lines",
         "name": "QGIS Overheads",
         "type": "scatter",
         "x": [
          0,
          1,
          2,
          3,
          4,
          5,
          6,
          7,
          8,
          9,
          10,
          11,
          12,
          13,
          14,
          15,
          16
         ],
         "y": [
          0.0035550594329833984,
          0.0035614967346191406,
          0.004779815673828125,
          0.12932133674621582,
          0.004241228103637695,
          0.08974385261535645,
          0.06737875938415527,
          0.11027145385742188,
          0.0043299198150634766,
          0.08992743492126465,
          0.07818770408630371,
          0.004372835159301758,
          0.18305015563964844,
          0.005124807357788086,
          0.1979503631591797,
          0.004601716995239258,
          0.0054514408111572266
         ]
        }
       ],
       "layout": {
        "template": {
         "data": {
          "bar": [
           {
            "error_x": {
             "color": "#2a3f5f"
            },
            "error_y": {
             "color": "#2a3f5f"
            },
            "marker": {
             "line": {
              "color": "#E5ECF6",
              "width": 0.5
             },
             "pattern": {
              "fillmode": "overlay",
              "size": 10,
              "solidity": 0.2
             }
            },
            "type": "bar"
           }
          ],
          "barpolar": [
           {
            "marker": {
             "line": {
              "color": "#E5ECF6",
              "width": 0.5
             },
             "pattern": {
              "fillmode": "overlay",
              "size": 10,
              "solidity": 0.2
             }
            },
            "type": "barpolar"
           }
          ],
          "carpet": [
           {
            "aaxis": {
             "endlinecolor": "#2a3f5f",
             "gridcolor": "white",
             "linecolor": "white",
             "minorgridcolor": "white",
             "startlinecolor": "#2a3f5f"
            },
            "baxis": {
             "endlinecolor": "#2a3f5f",
             "gridcolor": "white",
             "linecolor": "white",
             "minorgridcolor": "white",
             "startlinecolor": "#2a3f5f"
            },
            "type": "carpet"
           }
          ],
          "choropleth": [
           {
            "colorbar": {
             "outlinewidth": 0,
             "ticks": ""
            },
            "type": "choropleth"
           }
          ],
          "contour": [
           {
            "colorbar": {
             "outlinewidth": 0,
             "ticks": ""
            },
            "colorscale": [
             [
              0,
              "#0d0887"
             ],
             [
              0.1111111111111111,
              "#46039f"
             ],
             [
              0.2222222222222222,
              "#7201a8"
             ],
             [
              0.3333333333333333,
              "#9c179e"
             ],
             [
              0.4444444444444444,
              "#bd3786"
             ],
             [
              0.5555555555555556,
              "#d8576b"
             ],
             [
              0.6666666666666666,
              "#ed7953"
             ],
             [
              0.7777777777777778,
              "#fb9f3a"
             ],
             [
              0.8888888888888888,
              "#fdca26"
             ],
             [
              1,
              "#f0f921"
             ]
            ],
            "type": "contour"
           }
          ],
          "contourcarpet": [
           {
            "colorbar": {
             "outlinewidth": 0,
             "ticks": ""
            },
            "type": "contourcarpet"
           }
          ],
          "heatmap": [
           {
            "colorbar": {
             "outlinewidth": 0,
             "ticks": ""
            },
            "colorscale": [
             [
              0,
              "#0d0887"
             ],
             [
              0.1111111111111111,
              "#46039f"
             ],
             [
              0.2222222222222222,
              "#7201a8"
             ],
             [
              0.3333333333333333,
              "#9c179e"
             ],
             [
              0.4444444444444444,
              "#bd3786"
             ],
             [
              0.5555555555555556,
              "#d8576b"
             ],
             [
              0.6666666666666666,
              "#ed7953"
             ],
             [
              0.7777777777777778,
              "#fb9f3a"
             ],
             [
              0.8888888888888888,
              "#fdca26"
             ],
             [
              1,
              "#f0f921"
             ]
            ],
            "type": "heatmap"
           }
          ],
          "heatmapgl": [
           {
            "colorbar": {
             "outlinewidth": 0,
             "ticks": ""
            },
            "colorscale": [
             [
              0,
              "#0d0887"
             ],
             [
              0.1111111111111111,
              "#46039f"
             ],
             [
              0.2222222222222222,
              "#7201a8"
             ],
             [
              0.3333333333333333,
              "#9c179e"
             ],
             [
              0.4444444444444444,
              "#bd3786"
             ],
             [
              0.5555555555555556,
              "#d8576b"
             ],
             [
              0.6666666666666666,
              "#ed7953"
             ],
             [
              0.7777777777777778,
              "#fb9f3a"
             ],
             [
              0.8888888888888888,
              "#fdca26"
             ],
             [
              1,
              "#f0f921"
             ]
            ],
            "type": "heatmapgl"
           }
          ],
          "histogram": [
           {
            "marker": {
             "pattern": {
              "fillmode": "overlay",
              "size": 10,
              "solidity": 0.2
             }
            },
            "type": "histogram"
           }
          ],
          "histogram2d": [
           {
            "colorbar": {
             "outlinewidth": 0,
             "ticks": ""
            },
            "colorscale": [
             [
              0,
              "#0d0887"
             ],
             [
              0.1111111111111111,
              "#46039f"
             ],
             [
              0.2222222222222222,
              "#7201a8"
             ],
             [
              0.3333333333333333,
              "#9c179e"
             ],
             [
              0.4444444444444444,
              "#bd3786"
             ],
             [
              0.5555555555555556,
              "#d8576b"
             ],
             [
              0.6666666666666666,
              "#ed7953"
             ],
             [
              0.7777777777777778,
              "#fb9f3a"
             ],
             [
              0.8888888888888888,
              "#fdca26"
             ],
             [
              1,
              "#f0f921"
             ]
            ],
            "type": "histogram2d"
           }
          ],
          "histogram2dcontour": [
           {
            "colorbar": {
             "outlinewidth": 0,
             "ticks": ""
            },
            "colorscale": [
             [
              0,
              "#0d0887"
             ],
             [
              0.1111111111111111,
              "#46039f"
             ],
             [
              0.2222222222222222,
              "#7201a8"
             ],
             [
              0.3333333333333333,
              "#9c179e"
             ],
             [
              0.4444444444444444,
              "#bd3786"
             ],
             [
              0.5555555555555556,
              "#d8576b"
             ],
             [
              0.6666666666666666,
              "#ed7953"
             ],
             [
              0.7777777777777778,
              "#fb9f3a"
             ],
             [
              0.8888888888888888,
              "#fdca26"
             ],
             [
              1,
              "#f0f921"
             ]
            ],
            "type": "histogram2dcontour"
           }
          ],
          "mesh3d": [
           {
            "colorbar": {
             "outlinewidth": 0,
             "ticks": ""
            },
            "type": "mesh3d"
           }
          ],
          "parcoords": [
           {
            "line": {
             "colorbar": {
              "outlinewidth": 0,
              "ticks": ""
             }
            },
            "type": "parcoords"
           }
          ],
          "pie": [
           {
            "automargin": true,
            "type": "pie"
           }
          ],
          "scatter": [
           {
            "fillpattern": {
             "fillmode": "overlay",
             "size": 10,
             "solidity": 0.2
            },
            "type": "scatter"
           }
          ],
          "scatter3d": [
           {
            "line": {
             "colorbar": {
              "outlinewidth": 0,
              "ticks": ""
             }
            },
            "marker": {
             "colorbar": {
              "outlinewidth": 0,
              "ticks": ""
             }
            },
            "type": "scatter3d"
           }
          ],
          "scattercarpet": [
           {
            "marker": {
             "colorbar": {
              "outlinewidth": 0,
              "ticks": ""
             }
            },
            "type": "scattercarpet"
           }
          ],
          "scattergeo": [
           {
            "marker": {
             "colorbar": {
              "outlinewidth": 0,
              "ticks": ""
             }
            },
            "type": "scattergeo"
           }
          ],
          "scattergl": [
           {
            "marker": {
             "colorbar": {
              "outlinewidth": 0,
              "ticks": ""
             }
            },
            "type": "scattergl"
           }
          ],
          "scattermapbox": [
           {
            "marker": {
             "colorbar": {
              "outlinewidth": 0,
              "ticks": ""
             }
            },
            "type": "scattermapbox"
           }
          ],
          "scatterpolar": [
           {
            "marker": {
             "colorbar": {
              "outlinewidth": 0,
              "ticks": ""
             }
            },
            "type": "scatterpolar"
           }
          ],
          "scatterpolargl": [
           {
            "marker": {
             "colorbar": {
              "outlinewidth": 0,
              "ticks": ""
             }
            },
            "type": "scatterpolargl"
           }
          ],
          "scatterternary": [
           {
            "marker": {
             "colorbar": {
              "outlinewidth": 0,
              "ticks": ""
             }
            },
            "type": "scatterternary"
           }
          ],
          "surface": [
           {
            "colorbar": {
             "outlinewidth": 0,
             "ticks": ""
            },
            "colorscale": [
             [
              0,
              "#0d0887"
             ],
             [
              0.1111111111111111,
              "#46039f"
             ],
             [
              0.2222222222222222,
              "#7201a8"
             ],
             [
              0.3333333333333333,
              "#9c179e"
             ],
             [
              0.4444444444444444,
              "#bd3786"
             ],
             [
              0.5555555555555556,
              "#d8576b"
             ],
             [
              0.6666666666666666,
              "#ed7953"
             ],
             [
              0.7777777777777778,
              "#fb9f3a"
             ],
             [
              0.8888888888888888,
              "#fdca26"
             ],
             [
              1,
              "#f0f921"
             ]
            ],
            "type": "surface"
           }
          ],
          "table": [
           {
            "cells": {
             "fill": {
              "color": "#EBF0F8"
             },
             "line": {
              "color": "white"
             }
            },
            "header": {
             "fill": {
              "color": "#C8D4E3"
             },
             "line": {
              "color": "white"
             }
            },
            "type": "table"
           }
          ]
         },
         "layout": {
          "annotationdefaults": {
           "arrowcolor": "#2a3f5f",
           "arrowhead": 0,
           "arrowwidth": 1
          },
          "autotypenumbers": "strict",
          "coloraxis": {
           "colorbar": {
            "outlinewidth": 0,
            "ticks": ""
           }
          },
          "colorscale": {
           "diverging": [
            [
             0,
             "#8e0152"
            ],
            [
             0.1,
             "#c51b7d"
            ],
            [
             0.2,
             "#de77ae"
            ],
            [
             0.3,
             "#f1b6da"
            ],
            [
             0.4,
             "#fde0ef"
            ],
            [
             0.5,
             "#f7f7f7"
            ],
            [
             0.6,
             "#e6f5d0"
            ],
            [
             0.7,
             "#b8e186"
            ],
            [
             0.8,
             "#7fbc41"
            ],
            [
             0.9,
             "#4d9221"
            ],
            [
             1,
             "#276419"
            ]
           ],
           "sequential": [
            [
             0,
             "#0d0887"
            ],
            [
             0.1111111111111111,
             "#46039f"
            ],
            [
             0.2222222222222222,
             "#7201a8"
            ],
            [
             0.3333333333333333,
             "#9c179e"
            ],
            [
             0.4444444444444444,
             "#bd3786"
            ],
            [
             0.5555555555555556,
             "#d8576b"
            ],
            [
             0.6666666666666666,
             "#ed7953"
            ],
            [
             0.7777777777777778,
             "#fb9f3a"
            ],
            [
             0.8888888888888888,
             "#fdca26"
            ],
            [
             1,
             "#f0f921"
            ]
           ],
           "sequentialminus": [
            [
             0,
             "#0d0887"
            ],
            [
             0.1111111111111111,
             "#46039f"
            ],
            [
             0.2222222222222222,
             "#7201a8"
            ],
            [
             0.3333333333333333,
             "#9c179e"
            ],
            [
             0.4444444444444444,
             "#bd3786"
            ],
            [
             0.5555555555555556,
             "#d8576b"
            ],
            [
             0.6666666666666666,
             "#ed7953"
            ],
            [
             0.7777777777777778,
             "#fb9f3a"
            ],
            [
             0.8888888888888888,
             "#fdca26"
            ],
            [
             1,
             "#f0f921"
            ]
           ]
          },
          "colorway": [
           "#636efa",
           "#EF553B",
           "#00cc96",
           "#ab63fa",
           "#FFA15A",
           "#19d3f3",
           "#FF6692",
           "#B6E880",
           "#FF97FF",
           "#FECB52"
          ],
          "font": {
           "color": "#2a3f5f"
          },
          "geo": {
           "bgcolor": "white",
           "lakecolor": "white",
           "landcolor": "#E5ECF6",
           "showlakes": true,
           "showland": true,
           "subunitcolor": "white"
          },
          "hoverlabel": {
           "align": "left"
          },
          "hovermode": "closest",
          "mapbox": {
           "style": "light"
          },
          "paper_bgcolor": "white",
          "plot_bgcolor": "#E5ECF6",
          "polar": {
           "angularaxis": {
            "gridcolor": "white",
            "linecolor": "white",
            "ticks": ""
           },
           "bgcolor": "#E5ECF6",
           "radialaxis": {
            "gridcolor": "white",
            "linecolor": "white",
            "ticks": ""
           }
          },
          "scene": {
           "xaxis": {
            "backgroundcolor": "#E5ECF6",
            "gridcolor": "white",
            "gridwidth": 2,
            "linecolor": "white",
            "showbackground": true,
            "ticks": "",
            "zerolinecolor": "white"
           },
           "yaxis": {
            "backgroundcolor": "#E5ECF6",
            "gridcolor": "white",
            "gridwidth": 2,
            "linecolor": "white",
            "showbackground": true,
            "ticks": "",
            "zerolinecolor": "white"
           },
           "zaxis": {
            "backgroundcolor": "#E5ECF6",
            "gridcolor": "white",
            "gridwidth": 2,
            "linecolor": "white",
            "showbackground": true,
            "ticks": "",
            "zerolinecolor": "white"
           }
          },
          "shapedefaults": {
           "line": {
            "color": "#2a3f5f"
           }
          },
          "ternary": {
           "aaxis": {
            "gridcolor": "white",
            "linecolor": "white",
            "ticks": ""
           },
           "baxis": {
            "gridcolor": "white",
            "linecolor": "white",
            "ticks": ""
           },
           "bgcolor": "#E5ECF6",
           "caxis": {
            "gridcolor": "white",
            "linecolor": "white",
            "ticks": ""
           }
          },
          "title": {
           "x": 0.05
          },
          "xaxis": {
           "automargin": true,
           "gridcolor": "white",
           "linecolor": "white",
           "ticks": "",
           "title": {
            "standoff": 15
           },
           "zerolinecolor": "white",
           "zerolinewidth": 2
          },
          "yaxis": {
           "automargin": true,
           "gridcolor": "white",
           "linecolor": "white",
           "ticks": "",
           "title": {
            "standoff": 15
           },
           "zerolinecolor": "white",
           "zerolinewidth": 2
          }
         }
        },
        "title": {
         "text": "QGIS Task and Overheads, 2910 boats"
        },
        "xaxis": {
         "title": {
          "text": "Index"
         }
        },
        "yaxis": {
         "title": {
          "text": "Time (s)"
         }
        }
       }
      }
     },
     "metadata": {},
     "output_type": "display_data"
    }
   ],
   "source": [
    "import plotly.graph_objects as go\n",
    "\n",
    "# Create the figure\n",
    "fig = go.Figure()\n",
    "\n",
    "# Add the qgis_task trace\n",
    "fig.add_trace(go.Scatter(\n",
    "    x=list(range(len(qgis_task))),\n",
    "    y=qgis_task,\n",
    "    mode='lines',\n",
    "    name='QGIS Task'\n",
    "))\n",
    "\n",
    "# Add the qgis_overheads trace\n",
    "fig.add_trace(go.Scatter(\n",
    "    x=list(range(len(qgis_overheads))),\n",
    "    y=qgis_overheads,\n",
    "    mode='lines',\n",
    "    name='QGIS Overheads'\n",
    "))\n",
    "\n",
    "# Set the layout\n",
    "fig.update_layout(\n",
    "    title='QGIS Task and Overheads, 2910 boats',\n",
    "    xaxis_title='Index',\n",
    "    yaxis_title='Time (s)'\n",
    ")\n",
    "\n",
    "# Show the figure\n",
    "fig.show()"
   ]
  },
  {
   "cell_type": "code",
   "execution_count": null,
   "metadata": {},
   "outputs": [],
   "source": []
  }
 ],
 "metadata": {
  "kernelspec": {
   "display_name": ".venv",
   "language": "python",
   "name": "python3"
  },
  "language_info": {
   "codemirror_mode": {
    "name": "ipython",
    "version": 3
   },
   "file_extension": ".py",
   "mimetype": "text/x-python",
   "name": "python",
   "nbconvert_exporter": "python",
   "pygments_lexer": "ipython3",
   "version": "3.11.6"
  }
 },
 "nbformat": 4,
 "nbformat_minor": 2
}
