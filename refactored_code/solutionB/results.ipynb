{
 "cells": [
  {
   "cell_type": "code",
   "execution_count": 2,
   "metadata": {},
   "outputs": [],
   "source": [
    "import pickle"
   ]
  },
  {
   "cell_type": "code",
   "execution_count": 4,
   "metadata": {},
   "outputs": [],
   "source": [
    "import numpy as np\n",
    "\n",
    "\n",
    "matrix = np.random.rand(10, 8)"
   ]
  },
  {
   "cell_type": "code",
   "execution_count": 11,
   "metadata": {},
   "outputs": [
    {
     "data": {
      "text/plain": [
       "array([0.1288884 , 0.95361869])"
      ]
     },
     "execution_count": 11,
     "metadata": {},
     "output_type": "execute_result"
    }
   ],
   "source": [
    "matrix[0, 1] "
   ]
  },
  {
   "cell_type": "code",
   "execution_count": 5,
   "metadata": {},
   "outputs": [
    {
     "name": "stdout",
     "output_type": "stream",
     "text": [
      "          0         1         2         3         4         5         6  \\\n",
      "0  0.554640  0.128888  0.741054  0.076359  0.146011  0.893803  0.162219   \n",
      "1  0.337978  0.953619  0.051420  0.130987  0.433983  0.052882  0.789258   \n",
      "2  0.458214  0.667968  0.048589  0.808221  0.780597  0.052399  0.268746   \n",
      "3  0.374137  0.448794  0.050937  0.770947  0.692394  0.645147  0.820416   \n",
      "4  0.654577  0.688568  0.503156  0.873659  0.105978  0.378684  0.787956   \n",
      "5  0.786865  0.316857  0.807260  0.978104  0.044591  0.398069  0.773654   \n",
      "6  0.331090  0.107793  0.122672  0.113571  0.385604  0.470430  0.224483   \n",
      "7  0.299053  0.228422  0.259740  0.660747  0.954105  0.182296  0.671882   \n",
      "8  0.951035  0.585852  0.473845  0.484235  0.962852  0.103446  0.313577   \n",
      "9  0.969862  0.017124  0.716521  0.116185  0.902016  0.700247  0.579585   \n",
      "\n",
      "          7  \n",
      "0  0.202347  \n",
      "1  0.772554  \n",
      "2  0.203302  \n",
      "3  0.702310  \n",
      "4  0.121462  \n",
      "5  0.090788  \n",
      "6  0.270009  \n",
      "7  0.219266  \n",
      "8  0.217315  \n",
      "9  0.860450  \n"
     ]
    }
   ],
   "source": [
    "import pandas as pd\n",
    "\n",
    "df = pd.DataFrame(matrix)\n",
    "print(df)"
   ]
  },
  {
   "cell_type": "markdown",
   "metadata": {},
   "source": [
    "# Laptop"
   ]
  }
 ],
 "metadata": {
  "kernelspec": {
   "display_name": ".venv",
   "language": "python",
   "name": "python3"
  },
  "language_info": {
   "codemirror_mode": {
    "name": "ipython",
    "version": 3
   },
   "file_extension": ".py",
   "mimetype": "text/x-python",
   "name": "python",
   "nbconvert_exporter": "python",
   "pygments_lexer": "ipython3",
   "version": "3.12.3"
  }
 },
 "nbformat": 4,
 "nbformat_minor": 2
}
