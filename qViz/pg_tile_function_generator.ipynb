{
 "cells": [
  {
   "cell_type": "code",
   "execution_count": 9,
   "metadata": {},
   "outputs": [],
   "source": [
    "import psycopg\n",
    "\n",
    "connection_params = {\n",
    "        \"host\": \"localhost\",\n",
    "        \"port\": 5432,\n",
    "        \"dbname\": \"mobilitydb\",\n",
    "        \"user\": \"postgres\",\n",
    "        \"password\": \"postgres\"\n",
    "        }"
   ]
  },
  {
   "cell_type": "code",
   "execution_count": 10,
   "metadata": {},
   "outputs": [],
   "source": [
    "# Define the base function template\n",
    "base_function_template = \"\"\"\n",
    "CREATE OR REPLACE FUNCTION public.psi{index}(\n",
    "            z integer, x integer, y integer, p_start text, p_end text)\n",
    "RETURNS bytea\n",
    "AS $$\n",
    "    WITH bounds AS (\n",
    "        SELECT ST_TileEnvelope(z,x,y) as geom\n",
    "    ),\n",
    "    trips_ AS (\n",
    "        SELECT * FROM pymeos_demo LIMIT 100\n",
    "    )\n",
    "    ,\n",
    "    vals AS (\n",
    "        SELECT mmsi, numInstants(trip) as size, asMVTGeom(transform(attime(trip,span(p_start::timestamptz, p_end::timestamptz, true, true)),3857), transform((bounds.geom)::stbox,3857))\n",
    "            as geom_times\n",
    "        FROM (\n",
    "            SELECT mmsi, trajectory::tgeompoint AS trip\n",
    "            FROM trips_\n",
    "        ) as ego, bounds\n",
    "    ),\n",
    "    mvtgeom AS (\n",
    "        SELECT (geom_times).geom, (geom_times).times, size, mmsi\n",
    "        FROM vals\n",
    "    )\n",
    "SELECT ST_AsMVT(mvtgeom) FROM mvtgeom\n",
    "$$\n",
    "LANGUAGE 'sql'\n",
    "STABLE\n",
    "PARALLEL SAFE;\n",
    "\"\"\"\n",
    "\n",
    "conn = psycopg.connect(**connection_params)\n",
    "cursor = conn.cursor()\n",
    "\n",
    "# Generate 60 copies of the function\n",
    "for i in range(30):\n",
    "    # Generate the function with the current index\n",
    "    function_code = base_function_template.format(index=i*48)\n",
    "    # Execute the function creation SQL\n",
    "    cursor.execute(function_code)\n",
    "    \n",
    "# Commit the changes\n",
    "conn.commit()\n",
    "\n",
    "cursor.close()\n",
    "conn.close()"
   ]
  },
  {
   "cell_type": "code",
   "execution_count": null,
   "metadata": {},
   "outputs": [],
   "source": []
  },
  {
   "cell_type": "code",
   "execution_count": null,
   "metadata": {},
   "outputs": [],
   "source": []
  }
 ],
 "metadata": {
  "kernelspec": {
   "display_name": "pymeos",
   "language": "python",
   "name": "python3"
  },
  "language_info": {
   "codemirror_mode": {
    "name": "ipython",
    "version": 3
   },
   "file_extension": ".py",
   "mimetype": "text/x-python",
   "name": "python",
   "nbconvert_exporter": "python",
   "pygments_lexer": "ipython3",
   "version": "3.11.6"
  }
 },
 "nbformat": 4,
 "nbformat_minor": 2
}
