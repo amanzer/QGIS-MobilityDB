{
 "cells": [
  {
   "cell_type": "code",
   "execution_count": 10,
   "metadata": {},
   "outputs": [],
   "source": [
    "import requests\n",
    "\n",
    "def get_tiles_list():\n",
    "    url = 'http://localhost:5000/tiles'\n",
    "    response = requests.get(url)\n",
    "    if response.status_code == 200:\n",
    "        tiles_list = response.json()\n",
    "        return tiles_list\n",
    "    else:\n",
    "        print(\"Failed to fetch tiles list.\")\n",
    "        return None\n",
    "\n",
    "\n",
    "def get_pg_tile_data(x, y, z, mmsi, pstart, pend):\n",
    "    url = f\"http://localhost:7800/public.vector_tile/{z}/{x}/{y}.pbf?mmsi_={mmsi}&p_start={pstart}&p_end={pend}\"\n",
    "\n",
    "    response = requests.get(url, timeout=60)  # Timeout set to 60 seconds\n",
    "\n",
    "    if response.status_code == 200:\n",
    "        return response.content\n",
    "    else:\n",
    "        print(\"Failed to fetch tiles list.\")\n",
    "        return None\n"
   ]
  },
  {
   "cell_type": "code",
   "execution_count": 11,
   "metadata": {},
   "outputs": [],
   "source": [
    "tiles_list = get_tiles_list()"
   ]
  },
  {
   "cell_type": "code",
   "execution_count": 12,
   "metadata": {},
   "outputs": [
    {
     "name": "stdout",
     "output_type": "stream",
     "text": [
      "List of Tiles:\n",
      "2024-05-08 14:37:34: [[267, 155, 9], [267, 156, 9], [267, 157, 9], [267, 158, 9], [267, 159, 9]]\n"
     ]
    }
   ],
   "source": [
    "print(\"List of Tiles:\")\n",
    "for key, value in tiles_list.items():\n",
    "    coords= value    \n",
    "    print(f\"{key}: {value}\")"
   ]
  },
  {
   "cell_type": "code",
   "execution_count": 13,
   "metadata": {},
   "outputs": [
    {
     "name": "stdout",
     "output_type": "stream",
     "text": [
      "Fetching tile 267, 155, 9\n",
      "Fetching tile 267, 156, 9\n",
      "Fetching tile 267, 157, 9\n",
      "Fetching tile 267, 158, 9\n",
      "Fetching tile 267, 159, 9\n"
     ]
    }
   ],
   "source": [
    "for c in coords:\n",
    "    x, y, z = c\n",
    "    print(f\"Fetching tile {x}, {y}, {z}\")"
   ]
  },
  {
   "cell_type": "code",
   "execution_count": 17,
   "metadata": {},
   "outputs": [],
   "source": [
    "\n",
    "mmsi = '219020398'\n",
    "pstart = '2023-06-01 00:00:00'\n",
    "pend = '2023-06-01 01:00:00'\n",
    "\n",
    "tile_data = get_pg_tile_data(267, 155, 9, mmsi, pstart, pend)"
   ]
  },
  {
   "cell_type": "code",
   "execution_count": 18,
   "metadata": {},
   "outputs": [
    {
     "name": "stdout",
     "output_type": "stream",
     "text": [
      "Collecting mapbox-vector-tile\n",
      "  Obtaining dependency information for mapbox-vector-tile from https://files.pythonhosted.org/packages/cb/c7/978648500967556ecd75cfce5d598b269c0f3671ab096fe022e76813a5d3/mapbox_vector_tile-2.0.1-py3-none-any.whl.metadata\n",
      "  Downloading mapbox_vector_tile-2.0.1-py3-none-any.whl.metadata (16 kB)\n",
      "Collecting protobuf<5.0,>=4.21 (from mapbox-vector-tile)\n",
      "  Obtaining dependency information for protobuf<5.0,>=4.21 from https://files.pythonhosted.org/packages/15/db/7f731524fe0e56c6b2eb57d05b55d3badd80ef7d1f1ed59db191b2fdd8ab/protobuf-4.25.3-cp37-abi3-manylinux2014_x86_64.whl.metadata\n",
      "  Downloading protobuf-4.25.3-cp37-abi3-manylinux2014_x86_64.whl.metadata (541 bytes)\n",
      "Collecting pyclipper<2.0.0,>=1.3.0 (from mapbox-vector-tile)\n",
      "  Obtaining dependency information for pyclipper<2.0.0,>=1.3.0 from https://files.pythonhosted.org/packages/43/64/9c8e0c7d96d32c63e38f92da92e4e38685e30773644d9dcb73d2325beb47/pyclipper-1.3.0.post5-cp311-cp311-manylinux_2_17_x86_64.manylinux2014_x86_64.whl.metadata\n",
      "  Downloading pyclipper-1.3.0.post5-cp311-cp311-manylinux_2_17_x86_64.manylinux2014_x86_64.whl.metadata (9.0 kB)\n",
      "Requirement already satisfied: shapely<3.0.0,>=2.0.0 in /home/ali/pymeos/lib/python3.11/site-packages (from mapbox-vector-tile) (2.0.3)\n",
      "Requirement already satisfied: numpy<2,>=1.14 in /home/ali/pymeos/lib/python3.11/site-packages (from shapely<3.0.0,>=2.0.0->mapbox-vector-tile) (1.26.4)\n",
      "Downloading mapbox_vector_tile-2.0.1-py3-none-any.whl (30 kB)\n",
      "Downloading protobuf-4.25.3-cp37-abi3-manylinux2014_x86_64.whl (294 kB)\n",
      "\u001b[2K   \u001b[90m━━━━━━━━━━━━━━━━━━━━━━━━━━━━━━━━━━━━━━━━\u001b[0m \u001b[32m294.6/294.6 kB\u001b[0m \u001b[31m1.1 MB/s\u001b[0m eta \u001b[36m0:00:00\u001b[0mta \u001b[36m0:00:01\u001b[0m\n",
      "\u001b[?25hDownloading pyclipper-1.3.0.post5-cp311-cp311-manylinux_2_17_x86_64.manylinux2014_x86_64.whl (971 kB)\n",
      "\u001b[2K   \u001b[90m━━━━━━━━━━━━━━━━━━━━━━━━━━━━━━━━━━━━━━━━\u001b[0m \u001b[32m971.5/971.5 kB\u001b[0m \u001b[31m2.4 MB/s\u001b[0m eta \u001b[36m0:00:00\u001b[0m00:01\u001b[0m00:01\u001b[0m\n",
      "\u001b[?25hInstalling collected packages: pyclipper, protobuf, mapbox-vector-tile\n",
      "  Attempting uninstall: protobuf\n",
      "    Found existing installation: protobuf 5.26.1\n",
      "    Uninstalling protobuf-5.26.1:\n",
      "      Successfully uninstalled protobuf-5.26.1\n",
      "Successfully installed mapbox-vector-tile-2.0.1 protobuf-4.25.3 pyclipper-1.3.0.post5\n"
     ]
    }
   ],
   "source": [
    "!pip install mapbox-vector-tile\n"
   ]
  },
  {
   "cell_type": "code",
   "execution_count": 15,
   "metadata": {},
   "outputs": [],
   "source": [
    "import mapbox_vector_tile\n",
    "\n",
    "def decode_mvt_bytea(mvt_bytea):\n",
    "    try:\n",
    "        # Decode the MVT bytea data\n",
    "        decoded_mvt = mapbox_vector_tile.decode(mvt_bytea)\n",
    "        return decoded_mvt\n",
    "    except Exception as e:\n",
    "        print(f\"Error decoding MVT bytea: {e}\")\n",
    "        return None"
   ]
  },
  {
   "cell_type": "code",
   "execution_count": 18,
   "metadata": {},
   "outputs": [
    {
     "data": {
      "text/plain": [
       "{'default': {'extent': 4096,\n",
       "  'version': 2,\n",
       "  'features': [{'geometry': {'type': 'LineString',\n",
       "     'coordinates': [[4352, 909],\n",
       "      [4350, 908],\n",
       "      [4346, 905],\n",
       "      [4341, 904],\n",
       "      [4337, 902],\n",
       "      [4324, 896],\n",
       "      [4321, 896],\n",
       "      [4294, 885]]},\n",
       "    'properties': {'times': '{1685573768,1685573777,1685573798,1685573820,1685573834,1685573887,1685573897,1685574000}',\n",
       "     'size': 6036,\n",
       "     'mmsi': 219020398},\n",
       "    'id': 0,\n",
       "    'type': 'Feature'}],\n",
       "  'type': 'FeatureCollection'}}"
      ]
     },
     "execution_count": 18,
     "metadata": {},
     "output_type": "execute_result"
    }
   ],
   "source": [
    "decode_mvt_bytea(tile_data)"
   ]
  },
  {
   "cell_type": "code",
   "execution_count": null,
   "metadata": {},
   "outputs": [],
   "source": []
  }
 ],
 "metadata": {
  "kernelspec": {
   "display_name": "pymeos",
   "language": "python",
   "name": "python3"
  },
  "language_info": {
   "codemirror_mode": {
    "name": "ipython",
    "version": 3
   },
   "file_extension": ".py",
   "mimetype": "text/x-python",
   "name": "python",
   "nbconvert_exporter": "python",
   "pygments_lexer": "ipython3",
   "version": "3.11.6"
  }
 },
 "nbformat": 4,
 "nbformat_minor": 2
}
